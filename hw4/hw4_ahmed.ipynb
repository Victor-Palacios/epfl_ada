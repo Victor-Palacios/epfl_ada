{
 "cells": [
  {
   "cell_type": "markdown",
   "metadata": {},
   "source": [
    "# Homework 4"
   ]
  },
  {
   "cell_type": "markdown",
   "metadata": {},
   "source": [
    "## Deadline\n",
    "\n",
    "Wednesday, November 22, 2017, 11:59PM\n",
    "\n",
    "## Important notes\n",
    "\n",
    "- When you push your Notebook to GitHub, all the cells must already have been evaluated.\n",
    "- Don't forget to add a textual description of your thought process and of any assumptions you've made.\n",
    "- Please write all your comments in English, and use meaningful variable names in your code.\n",
    "\n",
    "## Question 1: Propensity score matching\n",
    "\n",
    "In this exercise, you will apply [propensity score matching](http://www.stewartschultz.com/statistics/books/Design%20of%20observational%20studies.pdf), which we discussed in lecture 5 (\"Observational studies\"), in order to draw conclusions from an observational study.\n",
    "\n",
    "We will work with a by-now classic dataset from Robert LaLonde's study \"[Evaluating the Econometric Evaluations of Training Programs](http://people.hbs.edu/nashraf/LaLonde_1986.pdf)\" (1986).\n",
    "The study investigated the effect of a job training program (\"National Supported Work Demonstration\") on the real earnings of an individual, a couple of years after completion of the program.\n",
    "Your task is to determine the effectiveness of the \"treatment\" represented by the job training program.\n",
    "\n",
    "#### Dataset description\n",
    "\n",
    "- `treat`: 1 if the subject participated in the job training program, 0 otherwise\n",
    "- `age`: the subject's age\n",
    "- `educ`: years of education\n",
    "- `race`: categorical variable with three possible values: Black, Hispanic, or White\n",
    "- `married`: 1 if the subject was married at the time of the training program, 0 otherwise\n",
    "- `nodegree`: 1 if the subject has earned no school degree, 0 otherwise\n",
    "- `re74`: real earnings in 1974 (pre-treatment)\n",
    "- `re75`: real earnings in 1975 (pre-treatment)\n",
    "- `re78`: real earnings in 1978 (outcome)\n",
    "\n",
    "If you want to brush up your knowledge on propensity scores and observational studies, we highly recommend Rosenbaum's excellent book on the [\"Design of Observational Studies\"](http://www.stewartschultz.com/statistics/books/Design%20of%20observational%20studies.pdf). Even just reading the first chapter (18 pages) will help you a lot.\n",
    "\n",
    "#### 1. A naive analysis\n",
    "\n",
    "Compare the distribution of the outcome variable (`re78`) between the two groups, using plots and numbers.\n",
    "To summarize and compare the distributions, you may use the techniques we discussed in lectures 4 (\"Read the stats carefully\") and 6 (\"Data visualization\").\n",
    "\n",
    "What might a naive \"researcher\" conclude from this superficial analysis?\n",
    "\n",
    "#### 2. A closer look at the data\n",
    "\n",
    "You're not naive, of course (and even if you are, you've learned certain things in ADA), so you aren't content with a superficial analysis such as the above.\n",
    "You're aware of the dangers of observational studies, so you take a closer look at the data before jumping to conclusions.\n",
    "\n",
    "For each feature in the dataset, compare its distribution in the treated group with its distribution in the control group, using plots and numbers.\n",
    "As above, you may use the techniques we discussed in class for summarizing and comparing the distributions.\n",
    "\n",
    "What do you observe?\n",
    "Describe what your observations mean for the conclusions drawn by the naive \"researcher\" from his superficial analysis.\n",
    "\n",
    "#### 3. A propsensity score model\n",
    "\n",
    "Use logistic regression to estimate propensity scores for all points in the dataset.\n",
    "You may use `sklearn` to fit the logistic regression model and apply it to each data point to obtain propensity scores:\n",
    "\n",
    "```python\n",
    "from sklearn import linear_model\n",
    "logistic = linear_model.LogisticRegression()\n",
    "```\n",
    "\n",
    "Recall that the propensity score of a data point represents its probability of receiving the treatment, based on its pre-treatment features (in this case, age, education, pre-treatment income, etc.).\n",
    "To brush up on propensity scores, you may read chapter 3.3 of the above-cited book by Rosenbaum or [this article](https://drive.google.com/file/d/0B4jctQY-uqhzTlpBaTBJRTJFVFE/view).\n",
    "\n",
    "Note: you do not need a train/test split here. Train and apply the model on the entire dataset. If you're wondering why this is the right thing to do in this situation, recall that the propensity score model is not used in order to make predictions about unseen data. Its sole purpose is to balance the dataset across treatment groups.\n",
    "(See p. 74 of Rosenbaum's book for an explanation why slight overfitting is even good for propensity scores.\n",
    "If you want even more information, read [this article](https://drive.google.com/file/d/0B4jctQY-uqhzTlpBaTBJRTJFVFE/view).)\n",
    "\n",
    "#### 4. Balancing the dataset via matching\n",
    "\n",
    "Use the propensity scores to match each data point from the treated group with exactly one data point from the control group, while ensuring that each data point from the control group is matched with at most one data point from the treated group.\n",
    "(Hint: you may explore the `networkx` package in Python for predefined matching functions.)\n",
    "\n",
    "Your matching should maximize the similarity between matched subjects, as captured by their propensity scores.\n",
    "In other words, the sum (over all matched pairs) of absolute propensity-score differences between the two matched subjects should be minimized.\n",
    "\n",
    "After matching, you have as many treated as you have control subjects.\n",
    "Compare the outcomes (`re78`) between the two groups (treated and control).\n",
    "\n",
    "Also, compare again the feature-value distributions between the two groups, as you've done in part 2 above, but now only for the matched subjects.\n",
    "What do you observe?\n",
    "Are you closer to being able to draw valid conclusions now than you were before?\n",
    "\n",
    "\n",
    "#### 5. Balancing the groups further\n",
    "\n",
    "Based on your comparison of feature-value distributions from part 4, are you fully satisfied with your matching?\n",
    "Would you say your dataset is sufficiently balanced?\n",
    "If not, in what ways could the \"balanced\" dataset you have obtained still not allow you to draw valid conclusions?\n",
    "\n",
    "Improve your matching by explicitly making sure that you match only subjects that have the same value for the problematic feature.\n",
    "Argue with numbers and plots that the two groups (treated and control) are now better balanced than after part 4.\n",
    "\n",
    "\n",
    "#### 6. A less naive analysis\n",
    "\n",
    "Compare the outcomes (`re78`) between treated and control subjects, as you've done in part 1, but now only for the matched dataset you've obtained from part 5.\n",
    "What do you conclude about the effectiveness of the job training program?\n",
    "\n",
    "\n",
    "___\n",
    "\n",
    "## Question 2: Applied ML\n",
    "\n",
    "We are going to build a classifier of news to directly assign them to 20 news categories. Note that the pipeline that you will build in this exercise could be of great help during your project if you plan to work with text!\n",
    "\n",
    "1. Load the 20newsgroup dataset. It is, again, a classic dataset that can directly be loaded using sklearn ([link](http://scikit-learn.org/stable/datasets/twenty_newsgroups.html)).  \n",
    "[TF-IDF](https://en.wikipedia.org/wiki/Tf%E2%80%93idf), short for term frequency–inverse document frequency, is of great help when if comes to compute textual features. Indeed, it gives more importance to terms that are more specific to the considered articles (TF) but reduces the importance of terms that are very frequent in the entire corpus (IDF). Compute TF-IDF features for every article using [TfidfVectorizer](http://scikit-learn.org/stable/modules/generated/sklearn.feature_extraction.text.TfidfVectorizer.html). Then, split your dataset into a training, a testing and a validation set (10% for validation and 10% for testing). Each observation should be paired with its corresponding label (the article category).\n",
    "\n",
    "\n",
    "2. Train a random forest on your training set. Try to fine-tune the parameters of your predictor on your validation set using a simple grid search on the number of estimator \"n_estimators\" and the max depth of the trees \"max_depth\". Then, display a confusion matrix of your classification pipeline. Lastly, once you assessed your model, inspect the `feature_importances_` attribute of your random forest and discuss the obtained results.\n",
    "\n",
    "\n"
   ]
  },
  {
   "cell_type": "code",
   "execution_count": 64,
   "metadata": {},
   "outputs": [],
   "source": [
    "import pandas as pd\n",
    "import numpy as np\n",
    "import matplotlib.pyplot as plt\n",
    "from sklearn import linear_model\n",
    "import networkx as nx\n",
    "from networkx.algorithms import bipartite\n",
    "\n",
    "%matplotlib inline"
   ]
  },
  {
   "cell_type": "code",
   "execution_count": 65,
   "metadata": {},
   "outputs": [
    {
     "data": {
      "text/html": [
       "<div>\n",
       "<style>\n",
       "    .dataframe thead tr:only-child th {\n",
       "        text-align: right;\n",
       "    }\n",
       "\n",
       "    .dataframe thead th {\n",
       "        text-align: left;\n",
       "    }\n",
       "\n",
       "    .dataframe tbody tr th {\n",
       "        vertical-align: top;\n",
       "    }\n",
       "</style>\n",
       "<table border=\"1\" class=\"dataframe\">\n",
       "  <thead>\n",
       "    <tr style=\"text-align: right;\">\n",
       "      <th></th>\n",
       "      <th>id</th>\n",
       "      <th>treat</th>\n",
       "      <th>age</th>\n",
       "      <th>educ</th>\n",
       "      <th>black</th>\n",
       "      <th>hispan</th>\n",
       "      <th>married</th>\n",
       "      <th>nodegree</th>\n",
       "      <th>re74</th>\n",
       "      <th>re75</th>\n",
       "      <th>re78</th>\n",
       "    </tr>\n",
       "  </thead>\n",
       "  <tbody>\n",
       "    <tr>\n",
       "      <th>0</th>\n",
       "      <td>NSW1</td>\n",
       "      <td>1</td>\n",
       "      <td>37</td>\n",
       "      <td>11</td>\n",
       "      <td>1</td>\n",
       "      <td>0</td>\n",
       "      <td>1</td>\n",
       "      <td>1</td>\n",
       "      <td>0.0</td>\n",
       "      <td>0.0</td>\n",
       "      <td>9930.0460</td>\n",
       "    </tr>\n",
       "    <tr>\n",
       "      <th>1</th>\n",
       "      <td>NSW2</td>\n",
       "      <td>1</td>\n",
       "      <td>22</td>\n",
       "      <td>9</td>\n",
       "      <td>0</td>\n",
       "      <td>1</td>\n",
       "      <td>0</td>\n",
       "      <td>1</td>\n",
       "      <td>0.0</td>\n",
       "      <td>0.0</td>\n",
       "      <td>3595.8940</td>\n",
       "    </tr>\n",
       "    <tr>\n",
       "      <th>2</th>\n",
       "      <td>NSW3</td>\n",
       "      <td>1</td>\n",
       "      <td>30</td>\n",
       "      <td>12</td>\n",
       "      <td>1</td>\n",
       "      <td>0</td>\n",
       "      <td>0</td>\n",
       "      <td>0</td>\n",
       "      <td>0.0</td>\n",
       "      <td>0.0</td>\n",
       "      <td>24909.4500</td>\n",
       "    </tr>\n",
       "    <tr>\n",
       "      <th>3</th>\n",
       "      <td>NSW4</td>\n",
       "      <td>1</td>\n",
       "      <td>27</td>\n",
       "      <td>11</td>\n",
       "      <td>1</td>\n",
       "      <td>0</td>\n",
       "      <td>0</td>\n",
       "      <td>1</td>\n",
       "      <td>0.0</td>\n",
       "      <td>0.0</td>\n",
       "      <td>7506.1460</td>\n",
       "    </tr>\n",
       "    <tr>\n",
       "      <th>4</th>\n",
       "      <td>NSW5</td>\n",
       "      <td>1</td>\n",
       "      <td>33</td>\n",
       "      <td>8</td>\n",
       "      <td>1</td>\n",
       "      <td>0</td>\n",
       "      <td>0</td>\n",
       "      <td>1</td>\n",
       "      <td>0.0</td>\n",
       "      <td>0.0</td>\n",
       "      <td>289.7899</td>\n",
       "    </tr>\n",
       "  </tbody>\n",
       "</table>\n",
       "</div>"
      ],
      "text/plain": [
       "     id  treat  age  educ  black  hispan  married  nodegree  re74  re75  \\\n",
       "0  NSW1      1   37    11      1       0        1         1   0.0   0.0   \n",
       "1  NSW2      1   22     9      0       1        0         1   0.0   0.0   \n",
       "2  NSW3      1   30    12      1       0        0         0   0.0   0.0   \n",
       "3  NSW4      1   27    11      1       0        0         1   0.0   0.0   \n",
       "4  NSW5      1   33     8      1       0        0         1   0.0   0.0   \n",
       "\n",
       "         re78  \n",
       "0   9930.0460  \n",
       "1   3595.8940  \n",
       "2  24909.4500  \n",
       "3   7506.1460  \n",
       "4    289.7899  "
      ]
     },
     "execution_count": 65,
     "metadata": {},
     "output_type": "execute_result"
    }
   ],
   "source": [
    "data_lalonde = pd.read_csv(r'lalonde.csv')\n",
    "data_lalonde.head()"
   ]
  },
  {
   "cell_type": "markdown",
   "metadata": {},
   "source": [
    "First let's do a little describe to see what we have here"
   ]
  },
  {
   "cell_type": "code",
   "execution_count": 66,
   "metadata": {},
   "outputs": [
    {
     "data": {
      "text/html": [
       "<div>\n",
       "<style>\n",
       "    .dataframe thead tr:only-child th {\n",
       "        text-align: right;\n",
       "    }\n",
       "\n",
       "    .dataframe thead th {\n",
       "        text-align: left;\n",
       "    }\n",
       "\n",
       "    .dataframe tbody tr th {\n",
       "        vertical-align: top;\n",
       "    }\n",
       "</style>\n",
       "<table border=\"1\" class=\"dataframe\">\n",
       "  <thead>\n",
       "    <tr style=\"text-align: right;\">\n",
       "      <th></th>\n",
       "      <th>treat</th>\n",
       "      <th>age</th>\n",
       "      <th>educ</th>\n",
       "      <th>black</th>\n",
       "      <th>hispan</th>\n",
       "      <th>married</th>\n",
       "      <th>nodegree</th>\n",
       "      <th>re74</th>\n",
       "      <th>re75</th>\n",
       "      <th>re78</th>\n",
       "    </tr>\n",
       "  </thead>\n",
       "  <tbody>\n",
       "    <tr>\n",
       "      <th>count</th>\n",
       "      <td>614.000000</td>\n",
       "      <td>614.000000</td>\n",
       "      <td>614.000000</td>\n",
       "      <td>614.000000</td>\n",
       "      <td>614.000000</td>\n",
       "      <td>614.000000</td>\n",
       "      <td>614.000000</td>\n",
       "      <td>614.000000</td>\n",
       "      <td>614.000000</td>\n",
       "      <td>614.000000</td>\n",
       "    </tr>\n",
       "    <tr>\n",
       "      <th>mean</th>\n",
       "      <td>0.301303</td>\n",
       "      <td>27.363192</td>\n",
       "      <td>10.268730</td>\n",
       "      <td>0.395765</td>\n",
       "      <td>0.117264</td>\n",
       "      <td>0.415309</td>\n",
       "      <td>0.630293</td>\n",
       "      <td>4557.546569</td>\n",
       "      <td>2184.938207</td>\n",
       "      <td>6792.834483</td>\n",
       "    </tr>\n",
       "    <tr>\n",
       "      <th>std</th>\n",
       "      <td>0.459198</td>\n",
       "      <td>9.881187</td>\n",
       "      <td>2.628325</td>\n",
       "      <td>0.489413</td>\n",
       "      <td>0.321997</td>\n",
       "      <td>0.493177</td>\n",
       "      <td>0.483119</td>\n",
       "      <td>6477.964479</td>\n",
       "      <td>3295.679043</td>\n",
       "      <td>7470.730792</td>\n",
       "    </tr>\n",
       "    <tr>\n",
       "      <th>min</th>\n",
       "      <td>0.000000</td>\n",
       "      <td>16.000000</td>\n",
       "      <td>0.000000</td>\n",
       "      <td>0.000000</td>\n",
       "      <td>0.000000</td>\n",
       "      <td>0.000000</td>\n",
       "      <td>0.000000</td>\n",
       "      <td>0.000000</td>\n",
       "      <td>0.000000</td>\n",
       "      <td>0.000000</td>\n",
       "    </tr>\n",
       "    <tr>\n",
       "      <th>25%</th>\n",
       "      <td>0.000000</td>\n",
       "      <td>20.000000</td>\n",
       "      <td>9.000000</td>\n",
       "      <td>0.000000</td>\n",
       "      <td>0.000000</td>\n",
       "      <td>0.000000</td>\n",
       "      <td>0.000000</td>\n",
       "      <td>0.000000</td>\n",
       "      <td>0.000000</td>\n",
       "      <td>238.283425</td>\n",
       "    </tr>\n",
       "    <tr>\n",
       "      <th>50%</th>\n",
       "      <td>0.000000</td>\n",
       "      <td>25.000000</td>\n",
       "      <td>11.000000</td>\n",
       "      <td>0.000000</td>\n",
       "      <td>0.000000</td>\n",
       "      <td>0.000000</td>\n",
       "      <td>1.000000</td>\n",
       "      <td>1042.330000</td>\n",
       "      <td>601.548400</td>\n",
       "      <td>4759.018500</td>\n",
       "    </tr>\n",
       "    <tr>\n",
       "      <th>75%</th>\n",
       "      <td>1.000000</td>\n",
       "      <td>32.000000</td>\n",
       "      <td>12.000000</td>\n",
       "      <td>1.000000</td>\n",
       "      <td>0.000000</td>\n",
       "      <td>1.000000</td>\n",
       "      <td>1.000000</td>\n",
       "      <td>7888.498250</td>\n",
       "      <td>3248.987500</td>\n",
       "      <td>10893.592500</td>\n",
       "    </tr>\n",
       "    <tr>\n",
       "      <th>max</th>\n",
       "      <td>1.000000</td>\n",
       "      <td>55.000000</td>\n",
       "      <td>18.000000</td>\n",
       "      <td>1.000000</td>\n",
       "      <td>1.000000</td>\n",
       "      <td>1.000000</td>\n",
       "      <td>1.000000</td>\n",
       "      <td>35040.070000</td>\n",
       "      <td>25142.240000</td>\n",
       "      <td>60307.930000</td>\n",
       "    </tr>\n",
       "  </tbody>\n",
       "</table>\n",
       "</div>"
      ],
      "text/plain": [
       "            treat         age        educ       black      hispan     married  \\\n",
       "count  614.000000  614.000000  614.000000  614.000000  614.000000  614.000000   \n",
       "mean     0.301303   27.363192   10.268730    0.395765    0.117264    0.415309   \n",
       "std      0.459198    9.881187    2.628325    0.489413    0.321997    0.493177   \n",
       "min      0.000000   16.000000    0.000000    0.000000    0.000000    0.000000   \n",
       "25%      0.000000   20.000000    9.000000    0.000000    0.000000    0.000000   \n",
       "50%      0.000000   25.000000   11.000000    0.000000    0.000000    0.000000   \n",
       "75%      1.000000   32.000000   12.000000    1.000000    0.000000    1.000000   \n",
       "max      1.000000   55.000000   18.000000    1.000000    1.000000    1.000000   \n",
       "\n",
       "         nodegree          re74          re75          re78  \n",
       "count  614.000000    614.000000    614.000000    614.000000  \n",
       "mean     0.630293   4557.546569   2184.938207   6792.834483  \n",
       "std      0.483119   6477.964479   3295.679043   7470.730792  \n",
       "min      0.000000      0.000000      0.000000      0.000000  \n",
       "25%      0.000000      0.000000      0.000000    238.283425  \n",
       "50%      1.000000   1042.330000    601.548400   4759.018500  \n",
       "75%      1.000000   7888.498250   3248.987500  10893.592500  \n",
       "max      1.000000  35040.070000  25142.240000  60307.930000  "
      ]
     },
     "execution_count": 66,
     "metadata": {},
     "output_type": "execute_result"
    }
   ],
   "source": [
    "data_lalonde.describe()"
   ]
  },
  {
   "cell_type": "markdown",
   "metadata": {},
   "source": [
    "Nothing really special to say here. These value do not mean much by themselves. They just show some basic information. Let's answer question 1 now:"
   ]
  },
  {
   "cell_type": "code",
   "execution_count": 67,
   "metadata": {
    "collapsed": true
   },
   "outputs": [],
   "source": [
    "index_treat = data_lalonde[\"treat\"] == 1\n",
    "index_no_treat = data_lalonde[\"treat\"] == 0\n",
    "data_lalonde_treat = data_lalonde[index_treat]\n",
    "data_lalonde_no_treat = data_lalonde[index_no_treat]"
   ]
  },
  {
   "cell_type": "markdown",
   "metadata": {},
   "source": [
    "Just checking of there are no \"outliers\":"
   ]
  },
  {
   "cell_type": "code",
   "execution_count": 68,
   "metadata": {},
   "outputs": [
    {
     "data": {
      "text/plain": [
       "True"
      ]
     },
     "execution_count": 68,
     "metadata": {},
     "output_type": "execute_result"
    }
   ],
   "source": [
    "data_lalonde_treat.shape[0] + data_lalonde_no_treat.shape[0] == data_lalonde.shape[0]"
   ]
  },
  {
   "cell_type": "code",
   "execution_count": 69,
   "metadata": {},
   "outputs": [
    {
     "name": "stdout",
     "output_type": "stream",
     "text": [
      "Populating the interactive namespace from numpy and matplotlib\n"
     ]
    },
    {
     "name": "stderr",
     "output_type": "stream",
     "text": [
      "C:\\Users\\Ahmed Kulovic\\AppData\\Local\\conda\\conda\\envs\\ada\\lib\\site-packages\\IPython\\core\\magics\\pylab.py:160: UserWarning: pylab import has clobbered these variables: ['logistic']\n",
      "`%matplotlib` prevents importing * from pylab and numpy\n",
      "  \"\\n`%matplotlib` prevents importing * from pylab and numpy\"\n"
     ]
    },
    {
     "data": {
      "text/plain": [
       "<matplotlib.axes._subplots.AxesSubplot at 0x243345216a0>"
      ]
     },
     "execution_count": 69,
     "metadata": {},
     "output_type": "execute_result"
    },
    {
     "data": {
      "image/png": "[encoded data removed]",
      "text/plain": [
       "<matplotlib.figure.Figure at 0x24334519b70>"
      ]
     },
     "metadata": {},
     "output_type": "display_data"
    }
   ],
   "source": [
    "%pylab inline\n",
    "pylab.rcParams['figure.figsize'] = (18, 9)\n",
    "plt.figure()\n",
    "\n",
    "data_lalonde_treat.re78.plot.hist(bins=20)"
   ]
  },
  {
   "cell_type": "code",
   "execution_count": 70,
   "metadata": {},
   "outputs": [
    {
     "data": {
      "text/plain": [
       "<matplotlib.axes._subplots.AxesSubplot at 0x243355bcc50>"
      ]
     },
     "execution_count": 70,
     "metadata": {},
     "output_type": "execute_result"
    },
    {
     "data": {
      "image/png": "[encoded data removed]",
      "text/plain": [
       "<matplotlib.figure.Figure at 0x243355cb630>"
      ]
     },
     "metadata": {},
     "output_type": "display_data"
    }
   ],
   "source": [
    "data_lalonde_no_treat.re78.plot.hist(bins=20)"
   ]
  },
  {
   "cell_type": "markdown",
   "metadata": {},
   "source": [
    "Maybe not informative enough. We see that there are a few \"outliers\" in the treat case but generally speaking there are still more people on the left. Let's try to put everything on the same histogram so as to make the information clearer with respect to the scale."
   ]
  },
  {
   "cell_type": "code",
   "execution_count": 71,
   "metadata": {},
   "outputs": [
    {
     "data": {
      "image/png": "[encoded data removed]",
      "text/plain": [
       "<matplotlib.figure.Figure at 0x24335948e10>"
      ]
     },
     "metadata": {},
     "output_type": "display_data"
    }
   ],
   "source": [
    "bins = np.linspace(0, 65000, 66)\n",
    "\n",
    "plt.hist(data_lalonde_treat.re78.tolist(), bins, alpha=0.5, label=\"treat\")\n",
    "plt.hist(data_lalonde_no_treat.re78.tolist(), bins, alpha=0.5, label=\"no treat\")\n",
    "\n",
    "plt.legend(loc=\"upper right\")\n",
    "plt.show()"
   ]
  },
  {
   "cell_type": "markdown",
   "metadata": {},
   "source": [
    "This doesn't tell us much about the data to be honest. We clearly see that there are some outliers who make a lot of money on the far right but they are a minority so we cannot say something about that. Let's describe the two dataframes:"
   ]
  },
  {
   "cell_type": "code",
   "execution_count": 72,
   "metadata": {},
   "outputs": [
    {
     "data": {
      "text/html": [
       "<div>\n",
       "<style>\n",
       "    .dataframe thead tr:only-child th {\n",
       "        text-align: right;\n",
       "    }\n",
       "\n",
       "    .dataframe thead th {\n",
       "        text-align: left;\n",
       "    }\n",
       "\n",
       "    .dataframe tbody tr th {\n",
       "        vertical-align: top;\n",
       "    }\n",
       "</style>\n",
       "<table border=\"1\" class=\"dataframe\">\n",
       "  <thead>\n",
       "    <tr style=\"text-align: right;\">\n",
       "      <th></th>\n",
       "      <th>treat</th>\n",
       "      <th>age</th>\n",
       "      <th>educ</th>\n",
       "      <th>black</th>\n",
       "      <th>hispan</th>\n",
       "      <th>married</th>\n",
       "      <th>nodegree</th>\n",
       "      <th>re74</th>\n",
       "      <th>re75</th>\n",
       "      <th>re78</th>\n",
       "    </tr>\n",
       "  </thead>\n",
       "  <tbody>\n",
       "    <tr>\n",
       "      <th>count</th>\n",
       "      <td>185.0</td>\n",
       "      <td>185.000000</td>\n",
       "      <td>185.000000</td>\n",
       "      <td>185.000000</td>\n",
       "      <td>185.000000</td>\n",
       "      <td>185.000000</td>\n",
       "      <td>185.000000</td>\n",
       "      <td>185.000000</td>\n",
       "      <td>185.000000</td>\n",
       "      <td>185.000000</td>\n",
       "    </tr>\n",
       "    <tr>\n",
       "      <th>mean</th>\n",
       "      <td>1.0</td>\n",
       "      <td>25.816216</td>\n",
       "      <td>10.345946</td>\n",
       "      <td>0.843243</td>\n",
       "      <td>0.059459</td>\n",
       "      <td>0.189189</td>\n",
       "      <td>0.708108</td>\n",
       "      <td>2095.573689</td>\n",
       "      <td>1532.055314</td>\n",
       "      <td>6349.143530</td>\n",
       "    </tr>\n",
       "    <tr>\n",
       "      <th>std</th>\n",
       "      <td>0.0</td>\n",
       "      <td>7.155019</td>\n",
       "      <td>2.010650</td>\n",
       "      <td>0.364558</td>\n",
       "      <td>0.237124</td>\n",
       "      <td>0.392722</td>\n",
       "      <td>0.455867</td>\n",
       "      <td>4886.620353</td>\n",
       "      <td>3219.250870</td>\n",
       "      <td>7867.402218</td>\n",
       "    </tr>\n",
       "    <tr>\n",
       "      <th>min</th>\n",
       "      <td>1.0</td>\n",
       "      <td>17.000000</td>\n",
       "      <td>4.000000</td>\n",
       "      <td>0.000000</td>\n",
       "      <td>0.000000</td>\n",
       "      <td>0.000000</td>\n",
       "      <td>0.000000</td>\n",
       "      <td>0.000000</td>\n",
       "      <td>0.000000</td>\n",
       "      <td>0.000000</td>\n",
       "    </tr>\n",
       "    <tr>\n",
       "      <th>25%</th>\n",
       "      <td>1.0</td>\n",
       "      <td>20.000000</td>\n",
       "      <td>9.000000</td>\n",
       "      <td>1.000000</td>\n",
       "      <td>0.000000</td>\n",
       "      <td>0.000000</td>\n",
       "      <td>0.000000</td>\n",
       "      <td>0.000000</td>\n",
       "      <td>0.000000</td>\n",
       "      <td>485.229800</td>\n",
       "    </tr>\n",
       "    <tr>\n",
       "      <th>50%</th>\n",
       "      <td>1.0</td>\n",
       "      <td>25.000000</td>\n",
       "      <td>11.000000</td>\n",
       "      <td>1.000000</td>\n",
       "      <td>0.000000</td>\n",
       "      <td>0.000000</td>\n",
       "      <td>1.000000</td>\n",
       "      <td>0.000000</td>\n",
       "      <td>0.000000</td>\n",
       "      <td>4232.309000</td>\n",
       "    </tr>\n",
       "    <tr>\n",
       "      <th>75%</th>\n",
       "      <td>1.0</td>\n",
       "      <td>29.000000</td>\n",
       "      <td>12.000000</td>\n",
       "      <td>1.000000</td>\n",
       "      <td>0.000000</td>\n",
       "      <td>0.000000</td>\n",
       "      <td>1.000000</td>\n",
       "      <td>1291.468000</td>\n",
       "      <td>1817.284000</td>\n",
       "      <td>9642.999000</td>\n",
       "    </tr>\n",
       "    <tr>\n",
       "      <th>max</th>\n",
       "      <td>1.0</td>\n",
       "      <td>48.000000</td>\n",
       "      <td>16.000000</td>\n",
       "      <td>1.000000</td>\n",
       "      <td>1.000000</td>\n",
       "      <td>1.000000</td>\n",
       "      <td>1.000000</td>\n",
       "      <td>35040.070000</td>\n",
       "      <td>25142.240000</td>\n",
       "      <td>60307.930000</td>\n",
       "    </tr>\n",
       "  </tbody>\n",
       "</table>\n",
       "</div>"
      ],
      "text/plain": [
       "       treat         age        educ       black      hispan     married  \\\n",
       "count  185.0  185.000000  185.000000  185.000000  185.000000  185.000000   \n",
       "mean     1.0   25.816216   10.345946    0.843243    0.059459    0.189189   \n",
       "std      0.0    7.155019    2.010650    0.364558    0.237124    0.392722   \n",
       "min      1.0   17.000000    4.000000    0.000000    0.000000    0.000000   \n",
       "25%      1.0   20.000000    9.000000    1.000000    0.000000    0.000000   \n",
       "50%      1.0   25.000000   11.000000    1.000000    0.000000    0.000000   \n",
       "75%      1.0   29.000000   12.000000    1.000000    0.000000    0.000000   \n",
       "max      1.0   48.000000   16.000000    1.000000    1.000000    1.000000   \n",
       "\n",
       "         nodegree          re74          re75          re78  \n",
       "count  185.000000    185.000000    185.000000    185.000000  \n",
       "mean     0.708108   2095.573689   1532.055314   6349.143530  \n",
       "std      0.455867   4886.620353   3219.250870   7867.402218  \n",
       "min      0.000000      0.000000      0.000000      0.000000  \n",
       "25%      0.000000      0.000000      0.000000    485.229800  \n",
       "50%      1.000000      0.000000      0.000000   4232.309000  \n",
       "75%      1.000000   1291.468000   1817.284000   9642.999000  \n",
       "max      1.000000  35040.070000  25142.240000  60307.930000  "
      ]
     },
     "execution_count": 72,
     "metadata": {},
     "output_type": "execute_result"
    }
   ],
   "source": [
    "data_lalonde_treat.describe()"
   ]
  },
  {
   "cell_type": "code",
   "execution_count": 73,
   "metadata": {},
   "outputs": [
    {
     "data": {
      "text/html": [
       "<div>\n",
       "<style>\n",
       "    .dataframe thead tr:only-child th {\n",
       "        text-align: right;\n",
       "    }\n",
       "\n",
       "    .dataframe thead th {\n",
       "        text-align: left;\n",
       "    }\n",
       "\n",
       "    .dataframe tbody tr th {\n",
       "        vertical-align: top;\n",
       "    }\n",
       "</style>\n",
       "<table border=\"1\" class=\"dataframe\">\n",
       "  <thead>\n",
       "    <tr style=\"text-align: right;\">\n",
       "      <th></th>\n",
       "      <th>treat</th>\n",
       "      <th>age</th>\n",
       "      <th>educ</th>\n",
       "      <th>black</th>\n",
       "      <th>hispan</th>\n",
       "      <th>married</th>\n",
       "      <th>nodegree</th>\n",
       "      <th>re74</th>\n",
       "      <th>re75</th>\n",
       "      <th>re78</th>\n",
       "    </tr>\n",
       "  </thead>\n",
       "  <tbody>\n",
       "    <tr>\n",
       "      <th>count</th>\n",
       "      <td>429.0</td>\n",
       "      <td>429.000000</td>\n",
       "      <td>429.000000</td>\n",
       "      <td>429.000000</td>\n",
       "      <td>429.000000</td>\n",
       "      <td>429.000000</td>\n",
       "      <td>429.000000</td>\n",
       "      <td>429.000000</td>\n",
       "      <td>429.000000</td>\n",
       "      <td>429.000000</td>\n",
       "    </tr>\n",
       "    <tr>\n",
       "      <th>mean</th>\n",
       "      <td>0.0</td>\n",
       "      <td>28.030303</td>\n",
       "      <td>10.235431</td>\n",
       "      <td>0.202797</td>\n",
       "      <td>0.142191</td>\n",
       "      <td>0.512821</td>\n",
       "      <td>0.596737</td>\n",
       "      <td>5619.236506</td>\n",
       "      <td>2466.484443</td>\n",
       "      <td>6984.169742</td>\n",
       "    </tr>\n",
       "    <tr>\n",
       "      <th>std</th>\n",
       "      <td>0.0</td>\n",
       "      <td>10.786653</td>\n",
       "      <td>2.855238</td>\n",
       "      <td>0.402552</td>\n",
       "      <td>0.349654</td>\n",
       "      <td>0.500419</td>\n",
       "      <td>0.491126</td>\n",
       "      <td>6788.750796</td>\n",
       "      <td>3291.996183</td>\n",
       "      <td>7294.161791</td>\n",
       "    </tr>\n",
       "    <tr>\n",
       "      <th>min</th>\n",
       "      <td>0.0</td>\n",
       "      <td>16.000000</td>\n",
       "      <td>0.000000</td>\n",
       "      <td>0.000000</td>\n",
       "      <td>0.000000</td>\n",
       "      <td>0.000000</td>\n",
       "      <td>0.000000</td>\n",
       "      <td>0.000000</td>\n",
       "      <td>0.000000</td>\n",
       "      <td>0.000000</td>\n",
       "    </tr>\n",
       "    <tr>\n",
       "      <th>25%</th>\n",
       "      <td>0.0</td>\n",
       "      <td>19.000000</td>\n",
       "      <td>9.000000</td>\n",
       "      <td>0.000000</td>\n",
       "      <td>0.000000</td>\n",
       "      <td>0.000000</td>\n",
       "      <td>0.000000</td>\n",
       "      <td>0.000000</td>\n",
       "      <td>0.000000</td>\n",
       "      <td>220.181300</td>\n",
       "    </tr>\n",
       "    <tr>\n",
       "      <th>50%</th>\n",
       "      <td>0.0</td>\n",
       "      <td>25.000000</td>\n",
       "      <td>11.000000</td>\n",
       "      <td>0.000000</td>\n",
       "      <td>0.000000</td>\n",
       "      <td>1.000000</td>\n",
       "      <td>1.000000</td>\n",
       "      <td>2547.047000</td>\n",
       "      <td>1086.726000</td>\n",
       "      <td>4975.505000</td>\n",
       "    </tr>\n",
       "    <tr>\n",
       "      <th>75%</th>\n",
       "      <td>0.0</td>\n",
       "      <td>35.000000</td>\n",
       "      <td>12.000000</td>\n",
       "      <td>0.000000</td>\n",
       "      <td>0.000000</td>\n",
       "      <td>1.000000</td>\n",
       "      <td>1.000000</td>\n",
       "      <td>9277.128000</td>\n",
       "      <td>3881.419000</td>\n",
       "      <td>11688.820000</td>\n",
       "    </tr>\n",
       "    <tr>\n",
       "      <th>max</th>\n",
       "      <td>0.0</td>\n",
       "      <td>55.000000</td>\n",
       "      <td>18.000000</td>\n",
       "      <td>1.000000</td>\n",
       "      <td>1.000000</td>\n",
       "      <td>1.000000</td>\n",
       "      <td>1.000000</td>\n",
       "      <td>25862.320000</td>\n",
       "      <td>18347.230000</td>\n",
       "      <td>25564.670000</td>\n",
       "    </tr>\n",
       "  </tbody>\n",
       "</table>\n",
       "</div>"
      ],
      "text/plain": [
       "       treat         age        educ       black      hispan     married  \\\n",
       "count  429.0  429.000000  429.000000  429.000000  429.000000  429.000000   \n",
       "mean     0.0   28.030303   10.235431    0.202797    0.142191    0.512821   \n",
       "std      0.0   10.786653    2.855238    0.402552    0.349654    0.500419   \n",
       "min      0.0   16.000000    0.000000    0.000000    0.000000    0.000000   \n",
       "25%      0.0   19.000000    9.000000    0.000000    0.000000    0.000000   \n",
       "50%      0.0   25.000000   11.000000    0.000000    0.000000    1.000000   \n",
       "75%      0.0   35.000000   12.000000    0.000000    0.000000    1.000000   \n",
       "max      0.0   55.000000   18.000000    1.000000    1.000000    1.000000   \n",
       "\n",
       "         nodegree          re74          re75          re78  \n",
       "count  429.000000    429.000000    429.000000    429.000000  \n",
       "mean     0.596737   5619.236506   2466.484443   6984.169742  \n",
       "std      0.491126   6788.750796   3291.996183   7294.161791  \n",
       "min      0.000000      0.000000      0.000000      0.000000  \n",
       "25%      0.000000      0.000000      0.000000    220.181300  \n",
       "50%      1.000000   2547.047000   1086.726000   4975.505000  \n",
       "75%      1.000000   9277.128000   3881.419000  11688.820000  \n",
       "max      1.000000  25862.320000  18347.230000  25564.670000  "
      ]
     },
     "execution_count": 73,
     "metadata": {},
     "output_type": "execute_result"
    }
   ],
   "source": [
    "data_lalonde_no_treat.describe()"
   ]
  },
  {
   "cell_type": "markdown",
   "metadata": {},
   "source": [
    "Now we see that the value has nothing special to do with treat or no treat. Somehow we see that the selection was far from uniform at random. In the treat group there are more people with no degree than with degree. The \"black\" variable is interesting also. We intuitively make associate the fact that there are a lot more black people to more difficult social conditions. We can also note that there is a three years difference in mean age between the two groups so, in a sense, we guess that people in the no treat group have more experience on average and this should imply the higher mean salary in the no treat group. We can also say that the age parameter has a lot of impact on the nodegree and the married parameters. Somehow, being 3 years older implies a higher probability of being married and a higher probability of having a degree.\n",
    "\n",
    "Now we want to measure the propensity scores using logistic regression in order to be able to improve our analysis."
   ]
  },
  {
   "cell_type": "code",
   "execution_count": 74,
   "metadata": {},
   "outputs": [
    {
     "data": {
      "text/plain": [
       "LogisticRegression(C=1.0, class_weight=None, dual=False, fit_intercept=True,\n",
       "          intercept_scaling=1, max_iter=100, multi_class='ovr', n_jobs=1,\n",
       "          penalty='l2', random_state=None, solver='liblinear', tol=0.0001,\n",
       "          verbose=0, warm_start=False)"
      ]
     },
     "execution_count": 74,
     "metadata": {},
     "output_type": "execute_result"
    }
   ],
   "source": [
    "logistic = linear_model.LogisticRegression()\n",
    "\n",
    "# We won't include re78 since this is the salary after the subject is treated\n",
    "features = [\"age\", \"educ\", \"black\", \"hispan\", \"married\", \"nodegree\", \"re74\", \"re75\"]\n",
    "X = data_lalonde[features]\n",
    "y = data_lalonde.treat\n",
    "\n",
    "logistic.fit(X, y)"
   ]
  },
  {
   "cell_type": "markdown",
   "metadata": {},
   "source": [
    "Now let's take a look at the score:"
   ]
  },
  {
   "cell_type": "code",
   "execution_count": 75,
   "metadata": {},
   "outputs": [
    {
     "data": {
      "text/plain": [
       "0.80781758957654726"
      ]
     },
     "execution_count": 75,
     "metadata": {},
     "output_type": "execute_result"
    }
   ],
   "source": [
    "logistic.score(X, y)"
   ]
  },
  {
   "cell_type": "markdown",
   "metadata": {},
   "source": [
    "Not bad for a start. We are really far from 0.5 which could mean that we are really far from a randomized experiment. Bad this score is not really informative, what we want here is the propensity score measure."
   ]
  },
  {
   "cell_type": "code",
   "execution_count": 76,
   "metadata": {
    "collapsed": true
   },
   "outputs": [],
   "source": [
    "propensity = [b for [a,b] in logistic.predict_proba(X)]"
   ]
  },
  {
   "cell_type": "markdown",
   "metadata": {},
   "source": [
    "Now we have our propensity scores for all \"nodes\""
   ]
  },
  {
   "cell_type": "code",
   "execution_count": 77,
   "metadata": {},
   "outputs": [
    {
     "data": {
      "text/plain": [
       "[0.4433504229538332,\n",
       " 0.14465953271343432,\n",
       " 0.72235463272580003,\n",
       " 0.66415051683598725,\n",
       " 0.69828561078482354]"
      ]
     },
     "execution_count": 77,
     "metadata": {},
     "output_type": "execute_result"
    }
   ],
   "source": [
    "propensity[:5]"
   ]
  },
  {
   "cell_type": "markdown",
   "metadata": {},
   "source": [
    "What we want now is to do matching : for example, if we take the first person in our dataset (the one with propensity score 0.443...), we would like to match them with another person whose propensity score is very close to 0.44 but which is in the opposite group."
   ]
  },
  {
   "cell_type": "markdown",
   "metadata": {},
   "source": [
    "Now we want to separate the dataset into the treat and no treat groups:"
   ]
  },
  {
   "cell_type": "code",
   "execution_count": 78,
   "metadata": {
    "collapsed": true
   },
   "outputs": [],
   "source": [
    "data_propensity = data_lalonde.copy()\n",
    "data_propensity[\"propensity\"] = propensity\n",
    "\n",
    "data_treat_propensity = data_propensity[data_propensity.treat == 1]\n",
    "data_no_treat_propensity = data_propensity[data_propensity.treat == 0]"
   ]
  },
  {
   "cell_type": "markdown",
   "metadata": {},
   "source": [
    "Now let's go and create a bipartite graph. So our first strategy (we will find another one if this one doesn't work) is that the weight of the edge between the two nodes is the absolute difference in propensity scores between them. And then we will use networkx to find a min-weight matching"
   ]
  },
  {
   "cell_type": "code",
   "execution_count": 79,
   "metadata": {},
   "outputs": [
    {
     "data": {
      "text/plain": [
       "range(0, 20)"
      ]
     },
     "execution_count": 79,
     "metadata": {},
     "output_type": "execute_result"
    }
   ],
   "source": [
    "range(20)"
   ]
  },
  {
   "cell_type": "code",
   "execution_count": 80,
   "metadata": {},
   "outputs": [
    {
     "ename": "KeyboardInterrupt",
     "evalue": "",
     "output_type": "error",
     "traceback": [
      "\u001b[1;31m---------------------------------------------------------------------------\u001b[0m",
      "\u001b[1;31mKeyboardInterrupt\u001b[0m                         Traceback (most recent call last)",
      "\u001b[1;32m<ipython-input-80-621384be7ea9>\u001b[0m in \u001b[0;36m<module>\u001b[1;34m()\u001b[0m\n\u001b[0;32m      7\u001b[0m     \u001b[1;32mfor\u001b[0m \u001b[0mj\u001b[0m\u001b[1;33m,\u001b[0m \u001b[0mrow_j\u001b[0m \u001b[1;32min\u001b[0m \u001b[0mdata_no_treat_propensity\u001b[0m\u001b[1;33m.\u001b[0m\u001b[0miterrows\u001b[0m\u001b[1;33m(\u001b[0m\u001b[1;33m)\u001b[0m\u001b[1;33m:\u001b[0m\u001b[1;33m\u001b[0m\u001b[0m\n\u001b[0;32m      8\u001b[0m         \u001b[1;31m# Since the method we use is based on max matching we use negative value to get min matching\u001b[0m\u001b[1;33m\u001b[0m\u001b[1;33m\u001b[0m\u001b[0m\n\u001b[1;32m----> 9\u001b[1;33m         \u001b[0mG\u001b[0m\u001b[1;33m.\u001b[0m\u001b[0madd_edge\u001b[0m\u001b[1;33m(\u001b[0m\u001b[0mi\u001b[0m\u001b[1;33m,\u001b[0m \u001b[0mj\u001b[0m\u001b[1;33m,\u001b[0m \u001b[0mweight\u001b[0m\u001b[1;33m=\u001b[0m\u001b[1;33m-\u001b[0m\u001b[0mabs\u001b[0m\u001b[1;33m(\u001b[0m\u001b[0mrow_i\u001b[0m\u001b[1;33m[\u001b[0m\u001b[1;34m\"propensity\"\u001b[0m\u001b[1;33m]\u001b[0m \u001b[1;33m-\u001b[0m \u001b[0mrow_j\u001b[0m\u001b[1;33m[\u001b[0m\u001b[1;34m\"propensity\"\u001b[0m\u001b[1;33m]\u001b[0m\u001b[1;33m)\u001b[0m\u001b[1;33m)\u001b[0m\u001b[1;33m\u001b[0m\u001b[0m\n\u001b[0m",
      "\u001b[1;32m~\\AppData\\Local\\conda\\conda\\envs\\ada\\lib\\site-packages\\networkx\\classes\\graph.py\u001b[0m in \u001b[0;36madd_edge\u001b[1;34m(self, u, v, **attr)\u001b[0m\n\u001b[0;32m    870\u001b[0m         \"\"\"\n\u001b[0;32m    871\u001b[0m         \u001b[1;31m# add nodes\u001b[0m\u001b[1;33m\u001b[0m\u001b[1;33m\u001b[0m\u001b[0m\n\u001b[1;32m--> 872\u001b[1;33m         \u001b[1;32mif\u001b[0m \u001b[0mu\u001b[0m \u001b[1;32mnot\u001b[0m \u001b[1;32min\u001b[0m \u001b[0mself\u001b[0m\u001b[1;33m.\u001b[0m\u001b[0m_node\u001b[0m\u001b[1;33m:\u001b[0m\u001b[1;33m\u001b[0m\u001b[0m\n\u001b[0m\u001b[0;32m    873\u001b[0m             \u001b[0mself\u001b[0m\u001b[1;33m.\u001b[0m\u001b[0m_adj\u001b[0m\u001b[1;33m[\u001b[0m\u001b[0mu\u001b[0m\u001b[1;33m]\u001b[0m \u001b[1;33m=\u001b[0m \u001b[0mself\u001b[0m\u001b[1;33m.\u001b[0m\u001b[0madjlist_inner_dict_factory\u001b[0m\u001b[1;33m(\u001b[0m\u001b[1;33m)\u001b[0m\u001b[1;33m\u001b[0m\u001b[0m\n\u001b[0;32m    874\u001b[0m             \u001b[0mself\u001b[0m\u001b[1;33m.\u001b[0m\u001b[0m_node\u001b[0m\u001b[1;33m[\u001b[0m\u001b[0mu\u001b[0m\u001b[1;33m]\u001b[0m \u001b[1;33m=\u001b[0m \u001b[1;33m{\u001b[0m\u001b[1;33m}\u001b[0m\u001b[1;33m\u001b[0m\u001b[0m\n",
      "\u001b[1;31mKeyboardInterrupt\u001b[0m: "
     ]
    }
   ],
   "source": [
    "G = nx.Graph()\n",
    "\n",
    "G.add_nodes_from(range(data_treat_propensity.shape[0]), bipartite=0)\n",
    "G.add_nodes_from(range(data_no_treat_propensity.shape[0]), bipartite=1)\n",
    "\n",
    "for i, row_i in data_treat_propensity.iterrows():\n",
    "    for j, row_j in data_no_treat_propensity.iterrows():\n",
    "        # Since the method we use is based on max matching we use negative value to get min matching\n",
    "        G.add_edge(i, j, weight=-abs(row_i[\"propensity\"] - row_j[\"propensity\"]))"
   ]
  },
  {
   "cell_type": "markdown",
   "metadata": {},
   "source": [
    "Now let us compute the matching (it takes around a minute):"
   ]
  },
  {
   "cell_type": "code",
   "execution_count": null,
   "metadata": {
    "collapsed": true
   },
   "outputs": [],
   "source": [
    "matching_propensity_max_card = nx.max_weight_matching(G, maxcardinality=True)"
   ]
  },
  {
   "cell_type": "markdown",
   "metadata": {},
   "source": [
    "We can also compute the min weight matching without max cardinality:"
   ]
  },
  {
   "cell_type": "code",
   "execution_count": null,
   "metadata": {},
   "outputs": [],
   "source": [
    "matching_propensity = nx.max_weight_matching(G)\n",
    "matching_propensity"
   ]
  },
  {
   "cell_type": "markdown",
   "metadata": {},
   "source": [
    "But the problem, as we can see, is that we end up with too few datapoints in the end:"
   ]
  },
  {
   "cell_type": "code",
   "execution_count": null,
   "metadata": {},
   "outputs": [],
   "source": [
    "def observe_matching(matching, verbose):\n",
    "    sum_differences = 0\n",
    "    for (a, b) in matching.items():\n",
    "        if a < data_treat_propensity.shape[0] / 2:\n",
    "            propensity_score_a = data_propensity.loc[a][\"propensity\"]\n",
    "            propensity_score_b = data_propensity.loc[b][\"propensity\"]\n",
    "            diff = abs(propensity_score_a - propensity_score_b)\n",
    "            if verbose:\n",
    "                print(\"Difference between {} and {} is {}\".format(a, b, diff))\n",
    "            sum_differences += diff\n",
    "    print(\"Mean difference in prop score is {}\".format(sum_differences / len(matching) / 2))\n",
    "    \n",
    "observe_matching(matching_propensity, True)"
   ]
  },
  {
   "cell_type": "markdown",
   "metadata": {},
   "source": [
    "Here we see the problem with using min matching without max cardinality. The algorithm will compute the \"real\" min matching and it will only match the points with the same propensity scores for that. We will continue with the matchings we obtained from max cardinality matchings:"
   ]
  },
  {
   "cell_type": "code",
   "execution_count": null,
   "metadata": {},
   "outputs": [],
   "source": [
    "observe_matching(matching_propensity_max_card, False)"
   ]
  },
  {
   "cell_type": "markdown",
   "metadata": {},
   "source": [
    "This matching takes into account all datapoints from the treat (the smallest) group. So it has 185 matchings. In general those matchings are pretty good, very similar points are matched with each other. But if we inspect the values we see that there are some \"outliers\" matchings since all points have to be matched."
   ]
  },
  {
   "cell_type": "code",
   "execution_count": null,
   "metadata": {},
   "outputs": [],
   "source": [
    "propensity_differences_matchings = list(filter(lambda x : x[0] < 185, \n",
    "                                               map(lambda matching: (matching[0], abs(data_propensity.loc[matching[0]][\"propensity\"] - data_propensity.loc[matching[1]][\"propensity\"])), \n",
    "                                                   matching_propensity_max_card.items())))\n",
    "propensity_differences_matchings = [prop for (index, prop) in propensity_differences_matchings]\n",
    "plt.hist(propensity_differences_matchings)"
   ]
  },
  {
   "cell_type": "markdown",
   "metadata": {},
   "source": [
    "Looking at this histogram we see that there are some bothering matchings where the differences in propensity scores are more than 0.5. A third alternative may be to apply a threshold after the matching to get rid of those values but let's already see how far we can go with our 185-matchings set\n",
    "\n",
    "Now let's look at the re78 values for both groups but we will take into account only the matched datapoints"
   ]
  },
  {
   "cell_type": "code",
   "execution_count": null,
   "metadata": {
    "collapsed": true
   },
   "outputs": [],
   "source": [
    "group_treat = [a for (a, b) in matching_propensity_max_card.items() if a < data_treat_propensity.shape[0]]\n",
    "group_no_treat = [b for (a, b) in matching_propensity_max_card.items() if a < data_treat_propensity.shape[0]]"
   ]
  },
  {
   "cell_type": "code",
   "execution_count": null,
   "metadata": {},
   "outputs": [],
   "source": [
    "bins = np.linspace(0, 65000, 66)\n",
    "plt.hist(data_lalonde.loc[group_treat].re78.tolist(), bins, alpha=0.5, label=\"treat\")\n",
    "plt.hist(data_lalonde.loc[group_no_treat].re78.tolist(), bins, alpha=0.5, label=\"no treat\")\n",
    "plt.legend(loc=\"upper right\")\n",
    "plt.show()                   "
   ]
  },
  {
   "cell_type": "markdown",
   "metadata": {},
   "source": [
    "So this is our distribution. Maybe we can argue we see things in a better way on this histogram. The numer of samples is exactly the same for both groups (the number of samples in the treat group) and the two groups were obtained using the min matching method on the bipartite graph. Here we clearly see that the \"extreme\" outliers belong to the treat group. But however, there are not so many of them. We can also see that the first bin (the least salary) contains more people from the non treated than the treated group (however, if we look at the re78 column in out dataset we see that there are a lot of 0 values so either the dataset has errors or those people are simply unemployed). So the only thing we might try to guess from this is that the treat works well on a few people: the blue outliers. (but maybe those people anyway had more determination and this determination is what caused them to take the treat so the variable is something that we do not have in our dataset: the determination)"
   ]
  },
  {
   "cell_type": "markdown",
   "metadata": {},
   "source": [
    "Now let's tweak things to see if we can get better insights. The first thing we want to try is to simply remove the matchings where the difference is too big. We will end up with much less datapoints but we might get something out of it:"
   ]
  },
  {
   "cell_type": "code",
   "execution_count": null,
   "metadata": {
    "collapsed": true
   },
   "outputs": [],
   "source": [
    "def filter_matching(matching, threshold=0.4):\n",
    "    def difference_matching(x, y):\n",
    "        return abs(data_propensity.loc[x][\"propensity\"] - data_propensity.loc[y][\"propensity\"])\n",
    "\n",
    "    matching_propensity_max_card_pairs = filter(lambda x : x[0] < 185, matching_propensity_max_card.items())\n",
    "    matching_propensity_max_card_pairs = map(lambda x : (x[0], x[1], difference_matching(x[0], x[1])), matching_propensity_max_card_pairs)\n",
    "    matching_propensity_max_card_pairs = filter(lambda x : x[2] <= threshold, matching_propensity_max_card_pairs)\n",
    "    return list(matching_propensity_max_card_pairs)\n",
    "\n",
    "def plot_matching_hist(matching, threshold=0.4):\n",
    "    bins = np.linspace(0, 65000, 66)\n",
    "    matchings = filter_matching(matching, threshold)\n",
    "    group_treat = [a for (a, b, prop) in matchings]\n",
    "    group_no_treat = [b for (a, b, prop) in matchings]\n",
    "    plt.hist(data_lalonde.loc[group_treat].re78.tolist(), bins, alpha=0.5, label=\"treat\")\n",
    "    plt.hist(data_lalonde.loc[group_no_treat].re78.tolist(), bins, alpha=0.5, label=\"no treat\")\n",
    "    plt.legend(loc=\"upper right\")\n",
    "    plt.show() "
   ]
  },
  {
   "cell_type": "markdown",
   "metadata": {},
   "source": [
    "Let's see what we get with the threshold at 0.4:"
   ]
  },
  {
   "cell_type": "code",
   "execution_count": null,
   "metadata": {},
   "outputs": [],
   "source": [
    "plot_matching_hist(matching_propensity_max_card, 0.4)"
   ]
  },
  {
   "cell_type": "markdown",
   "metadata": {},
   "source": [
    "And at 0.2:"
   ]
  },
  {
   "cell_type": "code",
   "execution_count": null,
   "metadata": {},
   "outputs": [],
   "source": [
    "plot_matching_hist(matching_propensity_max_card, 0.2)"
   ]
  },
  {
   "cell_type": "markdown",
   "metadata": {},
   "source": [
    "At 0.1 (very similar propensity scores):"
   ]
  },
  {
   "cell_type": "code",
   "execution_count": null,
   "metadata": {},
   "outputs": [],
   "source": [
    "plot_matching_hist(matching_propensity_max_card, 0.1)"
   ]
  },
  {
   "cell_type": "markdown",
   "metadata": {},
   "source": [
    "At 0.05 (very very similar propensity scores)"
   ]
  },
  {
   "cell_type": "code",
   "execution_count": null,
   "metadata": {},
   "outputs": [],
   "source": [
    "plot_matching_hist(matching_propensity_max_card, 0.05)"
   ]
  },
  {
   "cell_type": "markdown",
   "metadata": {},
   "source": [
    "At 0 (Exactly the same propensity scores) :"
   ]
  },
  {
   "cell_type": "code",
   "execution_count": null,
   "metadata": {},
   "outputs": [],
   "source": [
    "plot_matching_hist(matching_propensity_max_card, 0)"
   ]
  },
  {
   "cell_type": "markdown",
   "metadata": {},
   "source": [
    "The general thing we always see no matter the threshold is that the treat group always has those outliers who have really big salaries (except in the threshold 0 case where they do not appear)."
   ]
  },
  {
   "cell_type": "markdown",
   "metadata": {},
   "source": [
    "Now we might try to get rid of some columns to see if we can get better insights."
   ]
  },
  {
   "cell_type": "markdown",
   "metadata": {},
   "source": [
    "## Question 2: Applied ML"
   ]
  },
  {
   "cell_type": "code",
   "execution_count": 3,
   "metadata": {},
   "outputs": [
    {
     "name": "stdout",
     "output_type": "stream",
     "text": [
      "['alt.atheism',\n",
      " 'comp.graphics',\n",
      " 'comp.os.ms-windows.misc',\n",
      " 'comp.sys.ibm.pc.hardware',\n",
      " 'comp.sys.mac.hardware',\n",
      " 'comp.windows.x',\n",
      " 'misc.forsale',\n",
      " 'rec.autos',\n",
      " 'rec.motorcycles',\n",
      " 'rec.sport.baseball',\n",
      " 'rec.sport.hockey',\n",
      " 'sci.crypt',\n",
      " 'sci.electronics',\n",
      " 'sci.med',\n",
      " 'sci.space',\n",
      " 'soc.religion.christian',\n",
      " 'talk.politics.guns',\n",
      " 'talk.politics.mideast',\n",
      " 'talk.politics.misc',\n",
      " 'talk.religion.misc']\n"
     ]
    }
   ],
   "source": [
    "from sklearn.datasets import fetch_20newsgroups\n",
    "from pprint import pprint\n",
    "\n",
    "categories = ['alt.atheism', 'talk.religion.misc', 'comp.graphics', 'sci.space']\n",
    "newsgroup_train = fetch_20newsgroups(subset=\"train\")\n",
    "pprint(list(newsgroup_train.target_names))"
   ]
  },
  {
   "cell_type": "code",
   "execution_count": null,
   "metadata": {},
   "outputs": [],
   "source": [
    "from sklearn.feature_extraction.text import TfidfVectorizer\n",
    "vectorizer = TfidfVectorizer()\n",
    "vectors = vectorizer.fit_transform(newsgroup_train.data)\n",
    "vectors.shape"
   ]
  },
  {
   "cell_type": "code",
   "execution_count": null,
   "metadata": {},
   "outputs": [],
   "source": [
    "vectors_test.shape"
   ]
  },
  {
   "cell_type": "code",
   "execution_count": null,
   "metadata": {},
   "outputs": [],
   "source": [
    "from sklearn.naive_bayes import MultinomialNB\n",
    "from sklearn import metrics\n",
    "newsgroup_test = fetch_20newsgroups(subset=\"test\")\n",
    "vectors_test = vectorizer.transform(newsgroup_test.data)\n",
    "clf = MultinomialNB(alpha=.01)\n",
    "clf.fit(vectors, newsgroup_train.target)\n",
    "pred = clf.predict(vectors_test)\n",
    "metrics.f1_score(newsgroup_test.target, pred, average=\"macro\")"
   ]
  },
  {
   "cell_type": "code",
   "execution_count": 4,
   "metadata": {},
   "outputs": [],
   "source": [
    "newsgroup = fetch_20newsgroups(subset=\"all\", remove=('headers', 'footers', 'quotes'))"
   ]
  },
  {
   "cell_type": "code",
   "execution_count": null,
   "metadata": {},
   "outputs": [],
   "source": [
    "newsgroup.target_names"
   ]
  },
  {
   "cell_type": "code",
   "execution_count": null,
   "metadata": {},
   "outputs": [],
   "source": [
    "newsgroup.target"
   ]
  },
  {
   "cell_type": "code",
   "execution_count": 5,
   "metadata": {},
   "outputs": [
    {
     "data": {
      "text/plain": [
       "(18846, 134410)"
      ]
     },
     "execution_count": 5,
     "metadata": {},
     "output_type": "execute_result"
    }
   ],
   "source": [
    "from sklearn.feature_extraction.text import TfidfVectorizer\n",
    "vectorizer = TfidfVectorizer()\n",
    "vectors = vectorizer.fit_transform(newsgroup.data)\n",
    "vectors.shape"
   ]
  },
  {
   "cell_type": "code",
   "execution_count": null,
   "metadata": {},
   "outputs": [],
   "source": [
    "newsgroup.filenames"
   ]
  },
  {
   "cell_type": "code",
   "execution_count": 6,
   "metadata": {},
   "outputs": [],
   "source": [
    "X = vectors\n",
    "y = newsgroup.target"
   ]
  },
  {
   "cell_type": "code",
   "execution_count": 7,
   "metadata": {},
   "outputs": [],
   "source": [
    "from sklearn.model_selection import train_test_split\n",
    "X_fit, X_test, y_fit, y_test = train_test_split(X, y, test_size=0.1)\n",
    "\n",
    "# Here we put 0.11111111 because 0.1111111... * 0.9 = 0.1 which will give 80% / 10% / 10%\n",
    "X_train, X_val, y_train, y_val = train_test_split(X_fit, y_fit, test_size=0.111111112)"
   ]
  },
  {
   "cell_type": "markdown",
   "metadata": {},
   "source": [
    "Let's make a little preview depending on the number of estimators:"
   ]
  },
  {
   "cell_type": "code",
   "execution_count": null,
   "metadata": {},
   "outputs": [],
   "source": [
    "from sklearn.ensemble import RandomForestClassifier\n",
    "\n",
    "clf = RandomForestClassifier(n_estimators=10)\n",
    "clf.fit(X_train, y_train)\n",
    "clf.score(X_test, y_test)"
   ]
  },
  {
   "cell_type": "code",
   "execution_count": null,
   "metadata": {},
   "outputs": [],
   "source": [
    "from sklearn.ensemble import RandomForestClassifier\n",
    "\n",
    "clf = RandomForestClassifier(n_estimators=100)\n",
    "clf.fit(X_train, y_train)\n",
    "clf.score(X_test, y_test)"
   ]
  },
  {
   "cell_type": "code",
   "execution_count": null,
   "metadata": {},
   "outputs": [],
   "source": [
    "from sklearn.ensemble import RandomForestClassifier\n",
    "\n",
    "clf = RandomForestClassifier(n_estimators=200)\n",
    "clf.fit(X_train, y_train)\n",
    "clf.score(X_test, y_test)"
   ]
  },
  {
   "cell_type": "markdown",
   "metadata": {},
   "source": [
    "As if the score increases depending on the number of estimators. Let's perform a grid search on the number of trees to see what is happening with more details:"
   ]
  },
  {
   "cell_type": "code",
   "execution_count": 81,
   "metadata": {},
   "outputs": [
    {
     "ename": "KeyboardInterrupt",
     "evalue": "",
     "output_type": "error",
     "traceback": [
      "\u001b[1;31m---------------------------------------------------------------------------\u001b[0m",
      "\u001b[1;31mKeyboardInterrupt\u001b[0m                         Traceback (most recent call last)",
      "\u001b[1;32m<ipython-input-81-8f1309842009>\u001b[0m in \u001b[0;36m<module>\u001b[1;34m()\u001b[0m\n\u001b[0;32m      2\u001b[0m \u001b[1;33m\u001b[0m\u001b[0m\n\u001b[0;32m      3\u001b[0m \u001b[0mclf\u001b[0m \u001b[1;33m=\u001b[0m \u001b[0mRandomForestClassifier\u001b[0m\u001b[1;33m(\u001b[0m\u001b[0mn_estimators\u001b[0m\u001b[1;33m=\u001b[0m\u001b[1;36m100\u001b[0m\u001b[1;33m,\u001b[0m \u001b[0mmax_depth\u001b[0m\u001b[1;33m=\u001b[0m\u001b[1;36m200\u001b[0m\u001b[1;33m)\u001b[0m\u001b[1;33m\u001b[0m\u001b[0m\n\u001b[1;32m----> 4\u001b[1;33m \u001b[0mclf\u001b[0m\u001b[1;33m.\u001b[0m\u001b[0mfit\u001b[0m\u001b[1;33m(\u001b[0m\u001b[0mX_train\u001b[0m\u001b[1;33m,\u001b[0m \u001b[0my_train\u001b[0m\u001b[1;33m)\u001b[0m\u001b[1;33m\u001b[0m\u001b[0m\n\u001b[0m\u001b[0;32m      5\u001b[0m \u001b[0mclf\u001b[0m\u001b[1;33m.\u001b[0m\u001b[0mscore\u001b[0m\u001b[1;33m(\u001b[0m\u001b[0mX_test\u001b[0m\u001b[1;33m,\u001b[0m \u001b[0my_test\u001b[0m\u001b[1;33m)\u001b[0m\u001b[1;33m\u001b[0m\u001b[0m\n",
      "\u001b[1;32m~\\AppData\\Local\\conda\\conda\\envs\\ada\\lib\\site-packages\\sklearn\\ensemble\\forest.py\u001b[0m in \u001b[0;36mfit\u001b[1;34m(self, X, y, sample_weight)\u001b[0m\n\u001b[0;32m    326\u001b[0m                     \u001b[0mt\u001b[0m\u001b[1;33m,\u001b[0m \u001b[0mself\u001b[0m\u001b[1;33m,\u001b[0m \u001b[0mX\u001b[0m\u001b[1;33m,\u001b[0m \u001b[0my\u001b[0m\u001b[1;33m,\u001b[0m \u001b[0msample_weight\u001b[0m\u001b[1;33m,\u001b[0m \u001b[0mi\u001b[0m\u001b[1;33m,\u001b[0m \u001b[0mlen\u001b[0m\u001b[1;33m(\u001b[0m\u001b[0mtrees\u001b[0m\u001b[1;33m)\u001b[0m\u001b[1;33m,\u001b[0m\u001b[1;33m\u001b[0m\u001b[0m\n\u001b[0;32m    327\u001b[0m                     verbose=self.verbose, class_weight=self.class_weight)\n\u001b[1;32m--> 328\u001b[1;33m                 for i, t in enumerate(trees))\n\u001b[0m\u001b[0;32m    329\u001b[0m \u001b[1;33m\u001b[0m\u001b[0m\n\u001b[0;32m    330\u001b[0m             \u001b[1;31m# Collect newly grown trees\u001b[0m\u001b[1;33m\u001b[0m\u001b[1;33m\u001b[0m\u001b[0m\n",
      "\u001b[1;32m~\\AppData\\Local\\conda\\conda\\envs\\ada\\lib\\site-packages\\sklearn\\externals\\joblib\\parallel.py\u001b[0m in \u001b[0;36m__call__\u001b[1;34m(self, iterable)\u001b[0m\n\u001b[0;32m    777\u001b[0m             \u001b[1;31m# was dispatched. In particular this covers the edge\u001b[0m\u001b[1;33m\u001b[0m\u001b[1;33m\u001b[0m\u001b[0m\n\u001b[0;32m    778\u001b[0m             \u001b[1;31m# case of Parallel used with an exhausted iterator.\u001b[0m\u001b[1;33m\u001b[0m\u001b[1;33m\u001b[0m\u001b[0m\n\u001b[1;32m--> 779\u001b[1;33m             \u001b[1;32mwhile\u001b[0m \u001b[0mself\u001b[0m\u001b[1;33m.\u001b[0m\u001b[0mdispatch_one_batch\u001b[0m\u001b[1;33m(\u001b[0m\u001b[0miterator\u001b[0m\u001b[1;33m)\u001b[0m\u001b[1;33m:\u001b[0m\u001b[1;33m\u001b[0m\u001b[0m\n\u001b[0m\u001b[0;32m    780\u001b[0m                 \u001b[0mself\u001b[0m\u001b[1;33m.\u001b[0m\u001b[0m_iterating\u001b[0m \u001b[1;33m=\u001b[0m \u001b[1;32mTrue\u001b[0m\u001b[1;33m\u001b[0m\u001b[0m\n\u001b[0;32m    781\u001b[0m             \u001b[1;32melse\u001b[0m\u001b[1;33m:\u001b[0m\u001b[1;33m\u001b[0m\u001b[0m\n",
      "\u001b[1;32m~\\AppData\\Local\\conda\\conda\\envs\\ada\\lib\\site-packages\\sklearn\\externals\\joblib\\parallel.py\u001b[0m in \u001b[0;36mdispatch_one_batch\u001b[1;34m(self, iterator)\u001b[0m\n\u001b[0;32m    623\u001b[0m                 \u001b[1;32mreturn\u001b[0m \u001b[1;32mFalse\u001b[0m\u001b[1;33m\u001b[0m\u001b[0m\n\u001b[0;32m    624\u001b[0m             \u001b[1;32melse\u001b[0m\u001b[1;33m:\u001b[0m\u001b[1;33m\u001b[0m\u001b[0m\n\u001b[1;32m--> 625\u001b[1;33m                 \u001b[0mself\u001b[0m\u001b[1;33m.\u001b[0m\u001b[0m_dispatch\u001b[0m\u001b[1;33m(\u001b[0m\u001b[0mtasks\u001b[0m\u001b[1;33m)\u001b[0m\u001b[1;33m\u001b[0m\u001b[0m\n\u001b[0m\u001b[0;32m    626\u001b[0m                 \u001b[1;32mreturn\u001b[0m \u001b[1;32mTrue\u001b[0m\u001b[1;33m\u001b[0m\u001b[0m\n\u001b[0;32m    627\u001b[0m \u001b[1;33m\u001b[0m\u001b[0m\n",
      "\u001b[1;32m~\\AppData\\Local\\conda\\conda\\envs\\ada\\lib\\site-packages\\sklearn\\externals\\joblib\\parallel.py\u001b[0m in \u001b[0;36m_dispatch\u001b[1;34m(self, batch)\u001b[0m\n\u001b[0;32m    586\u001b[0m         \u001b[0mdispatch_timestamp\u001b[0m \u001b[1;33m=\u001b[0m \u001b[0mtime\u001b[0m\u001b[1;33m.\u001b[0m\u001b[0mtime\u001b[0m\u001b[1;33m(\u001b[0m\u001b[1;33m)\u001b[0m\u001b[1;33m\u001b[0m\u001b[0m\n\u001b[0;32m    587\u001b[0m         \u001b[0mcb\u001b[0m \u001b[1;33m=\u001b[0m \u001b[0mBatchCompletionCallBack\u001b[0m\u001b[1;33m(\u001b[0m\u001b[0mdispatch_timestamp\u001b[0m\u001b[1;33m,\u001b[0m \u001b[0mlen\u001b[0m\u001b[1;33m(\u001b[0m\u001b[0mbatch\u001b[0m\u001b[1;33m)\u001b[0m\u001b[1;33m,\u001b[0m \u001b[0mself\u001b[0m\u001b[1;33m)\u001b[0m\u001b[1;33m\u001b[0m\u001b[0m\n\u001b[1;32m--> 588\u001b[1;33m         \u001b[0mjob\u001b[0m \u001b[1;33m=\u001b[0m \u001b[0mself\u001b[0m\u001b[1;33m.\u001b[0m\u001b[0m_backend\u001b[0m\u001b[1;33m.\u001b[0m\u001b[0mapply_async\u001b[0m\u001b[1;33m(\u001b[0m\u001b[0mbatch\u001b[0m\u001b[1;33m,\u001b[0m \u001b[0mcallback\u001b[0m\u001b[1;33m=\u001b[0m\u001b[0mcb\u001b[0m\u001b[1;33m)\u001b[0m\u001b[1;33m\u001b[0m\u001b[0m\n\u001b[0m\u001b[0;32m    589\u001b[0m         \u001b[0mself\u001b[0m\u001b[1;33m.\u001b[0m\u001b[0m_jobs\u001b[0m\u001b[1;33m.\u001b[0m\u001b[0mappend\u001b[0m\u001b[1;33m(\u001b[0m\u001b[0mjob\u001b[0m\u001b[1;33m)\u001b[0m\u001b[1;33m\u001b[0m\u001b[0m\n\u001b[0;32m    590\u001b[0m \u001b[1;33m\u001b[0m\u001b[0m\n",
      "\u001b[1;32m~\\AppData\\Local\\conda\\conda\\envs\\ada\\lib\\site-packages\\sklearn\\externals\\joblib\\_parallel_backends.py\u001b[0m in \u001b[0;36mapply_async\u001b[1;34m(self, func, callback)\u001b[0m\n\u001b[0;32m    109\u001b[0m     \u001b[1;32mdef\u001b[0m \u001b[0mapply_async\u001b[0m\u001b[1;33m(\u001b[0m\u001b[0mself\u001b[0m\u001b[1;33m,\u001b[0m \u001b[0mfunc\u001b[0m\u001b[1;33m,\u001b[0m \u001b[0mcallback\u001b[0m\u001b[1;33m=\u001b[0m\u001b[1;32mNone\u001b[0m\u001b[1;33m)\u001b[0m\u001b[1;33m:\u001b[0m\u001b[1;33m\u001b[0m\u001b[0m\n\u001b[0;32m    110\u001b[0m         \u001b[1;34m\"\"\"Schedule a func to be run\"\"\"\u001b[0m\u001b[1;33m\u001b[0m\u001b[0m\n\u001b[1;32m--> 111\u001b[1;33m         \u001b[0mresult\u001b[0m \u001b[1;33m=\u001b[0m \u001b[0mImmediateResult\u001b[0m\u001b[1;33m(\u001b[0m\u001b[0mfunc\u001b[0m\u001b[1;33m)\u001b[0m\u001b[1;33m\u001b[0m\u001b[0m\n\u001b[0m\u001b[0;32m    112\u001b[0m         \u001b[1;32mif\u001b[0m \u001b[0mcallback\u001b[0m\u001b[1;33m:\u001b[0m\u001b[1;33m\u001b[0m\u001b[0m\n\u001b[0;32m    113\u001b[0m             \u001b[0mcallback\u001b[0m\u001b[1;33m(\u001b[0m\u001b[0mresult\u001b[0m\u001b[1;33m)\u001b[0m\u001b[1;33m\u001b[0m\u001b[0m\n",
      "\u001b[1;32m~\\AppData\\Local\\conda\\conda\\envs\\ada\\lib\\site-packages\\sklearn\\externals\\joblib\\_parallel_backends.py\u001b[0m in \u001b[0;36m__init__\u001b[1;34m(self, batch)\u001b[0m\n\u001b[0;32m    330\u001b[0m         \u001b[1;31m# Don't delay the application, to avoid keeping the input\u001b[0m\u001b[1;33m\u001b[0m\u001b[1;33m\u001b[0m\u001b[0m\n\u001b[0;32m    331\u001b[0m         \u001b[1;31m# arguments in memory\u001b[0m\u001b[1;33m\u001b[0m\u001b[1;33m\u001b[0m\u001b[0m\n\u001b[1;32m--> 332\u001b[1;33m         \u001b[0mself\u001b[0m\u001b[1;33m.\u001b[0m\u001b[0mresults\u001b[0m \u001b[1;33m=\u001b[0m \u001b[0mbatch\u001b[0m\u001b[1;33m(\u001b[0m\u001b[1;33m)\u001b[0m\u001b[1;33m\u001b[0m\u001b[0m\n\u001b[0m\u001b[0;32m    333\u001b[0m \u001b[1;33m\u001b[0m\u001b[0m\n\u001b[0;32m    334\u001b[0m     \u001b[1;32mdef\u001b[0m \u001b[0mget\u001b[0m\u001b[1;33m(\u001b[0m\u001b[0mself\u001b[0m\u001b[1;33m)\u001b[0m\u001b[1;33m:\u001b[0m\u001b[1;33m\u001b[0m\u001b[0m\n",
      "\u001b[1;32m~\\AppData\\Local\\conda\\conda\\envs\\ada\\lib\\site-packages\\sklearn\\externals\\joblib\\parallel.py\u001b[0m in \u001b[0;36m__call__\u001b[1;34m(self)\u001b[0m\n\u001b[0;32m    129\u001b[0m \u001b[1;33m\u001b[0m\u001b[0m\n\u001b[0;32m    130\u001b[0m     \u001b[1;32mdef\u001b[0m \u001b[0m__call__\u001b[0m\u001b[1;33m(\u001b[0m\u001b[0mself\u001b[0m\u001b[1;33m)\u001b[0m\u001b[1;33m:\u001b[0m\u001b[1;33m\u001b[0m\u001b[0m\n\u001b[1;32m--> 131\u001b[1;33m         \u001b[1;32mreturn\u001b[0m \u001b[1;33m[\u001b[0m\u001b[0mfunc\u001b[0m\u001b[1;33m(\u001b[0m\u001b[1;33m*\u001b[0m\u001b[0margs\u001b[0m\u001b[1;33m,\u001b[0m \u001b[1;33m**\u001b[0m\u001b[0mkwargs\u001b[0m\u001b[1;33m)\u001b[0m \u001b[1;32mfor\u001b[0m \u001b[0mfunc\u001b[0m\u001b[1;33m,\u001b[0m \u001b[0margs\u001b[0m\u001b[1;33m,\u001b[0m \u001b[0mkwargs\u001b[0m \u001b[1;32min\u001b[0m \u001b[0mself\u001b[0m\u001b[1;33m.\u001b[0m\u001b[0mitems\u001b[0m\u001b[1;33m]\u001b[0m\u001b[1;33m\u001b[0m\u001b[0m\n\u001b[0m\u001b[0;32m    132\u001b[0m \u001b[1;33m\u001b[0m\u001b[0m\n\u001b[0;32m    133\u001b[0m     \u001b[1;32mdef\u001b[0m \u001b[0m__len__\u001b[0m\u001b[1;33m(\u001b[0m\u001b[0mself\u001b[0m\u001b[1;33m)\u001b[0m\u001b[1;33m:\u001b[0m\u001b[1;33m\u001b[0m\u001b[0m\n",
      "\u001b[1;32m~\\AppData\\Local\\conda\\conda\\envs\\ada\\lib\\site-packages\\sklearn\\externals\\joblib\\parallel.py\u001b[0m in \u001b[0;36m<listcomp>\u001b[1;34m(.0)\u001b[0m\n\u001b[0;32m    129\u001b[0m \u001b[1;33m\u001b[0m\u001b[0m\n\u001b[0;32m    130\u001b[0m     \u001b[1;32mdef\u001b[0m \u001b[0m__call__\u001b[0m\u001b[1;33m(\u001b[0m\u001b[0mself\u001b[0m\u001b[1;33m)\u001b[0m\u001b[1;33m:\u001b[0m\u001b[1;33m\u001b[0m\u001b[0m\n\u001b[1;32m--> 131\u001b[1;33m         \u001b[1;32mreturn\u001b[0m \u001b[1;33m[\u001b[0m\u001b[0mfunc\u001b[0m\u001b[1;33m(\u001b[0m\u001b[1;33m*\u001b[0m\u001b[0margs\u001b[0m\u001b[1;33m,\u001b[0m \u001b[1;33m**\u001b[0m\u001b[0mkwargs\u001b[0m\u001b[1;33m)\u001b[0m \u001b[1;32mfor\u001b[0m \u001b[0mfunc\u001b[0m\u001b[1;33m,\u001b[0m \u001b[0margs\u001b[0m\u001b[1;33m,\u001b[0m \u001b[0mkwargs\u001b[0m \u001b[1;32min\u001b[0m \u001b[0mself\u001b[0m\u001b[1;33m.\u001b[0m\u001b[0mitems\u001b[0m\u001b[1;33m]\u001b[0m\u001b[1;33m\u001b[0m\u001b[0m\n\u001b[0m\u001b[0;32m    132\u001b[0m \u001b[1;33m\u001b[0m\u001b[0m\n\u001b[0;32m    133\u001b[0m     \u001b[1;32mdef\u001b[0m \u001b[0m__len__\u001b[0m\u001b[1;33m(\u001b[0m\u001b[0mself\u001b[0m\u001b[1;33m)\u001b[0m\u001b[1;33m:\u001b[0m\u001b[1;33m\u001b[0m\u001b[0m\n",
      "\u001b[1;32m~\\AppData\\Local\\conda\\conda\\envs\\ada\\lib\\site-packages\\sklearn\\ensemble\\forest.py\u001b[0m in \u001b[0;36m_parallel_build_trees\u001b[1;34m(tree, forest, X, y, sample_weight, tree_idx, n_trees, verbose, class_weight)\u001b[0m\n\u001b[0;32m    119\u001b[0m             \u001b[0mcurr_sample_weight\u001b[0m \u001b[1;33m*=\u001b[0m \u001b[0mcompute_sample_weight\u001b[0m\u001b[1;33m(\u001b[0m\u001b[1;34m'balanced'\u001b[0m\u001b[1;33m,\u001b[0m \u001b[0my\u001b[0m\u001b[1;33m,\u001b[0m \u001b[0mindices\u001b[0m\u001b[1;33m)\u001b[0m\u001b[1;33m\u001b[0m\u001b[0m\n\u001b[0;32m    120\u001b[0m \u001b[1;33m\u001b[0m\u001b[0m\n\u001b[1;32m--> 121\u001b[1;33m         \u001b[0mtree\u001b[0m\u001b[1;33m.\u001b[0m\u001b[0mfit\u001b[0m\u001b[1;33m(\u001b[0m\u001b[0mX\u001b[0m\u001b[1;33m,\u001b[0m \u001b[0my\u001b[0m\u001b[1;33m,\u001b[0m \u001b[0msample_weight\u001b[0m\u001b[1;33m=\u001b[0m\u001b[0mcurr_sample_weight\u001b[0m\u001b[1;33m,\u001b[0m \u001b[0mcheck_input\u001b[0m\u001b[1;33m=\u001b[0m\u001b[1;32mFalse\u001b[0m\u001b[1;33m)\u001b[0m\u001b[1;33m\u001b[0m\u001b[0m\n\u001b[0m\u001b[0;32m    122\u001b[0m     \u001b[1;32melse\u001b[0m\u001b[1;33m:\u001b[0m\u001b[1;33m\u001b[0m\u001b[0m\n\u001b[0;32m    123\u001b[0m         \u001b[0mtree\u001b[0m\u001b[1;33m.\u001b[0m\u001b[0mfit\u001b[0m\u001b[1;33m(\u001b[0m\u001b[0mX\u001b[0m\u001b[1;33m,\u001b[0m \u001b[0my\u001b[0m\u001b[1;33m,\u001b[0m \u001b[0msample_weight\u001b[0m\u001b[1;33m=\u001b[0m\u001b[0msample_weight\u001b[0m\u001b[1;33m,\u001b[0m \u001b[0mcheck_input\u001b[0m\u001b[1;33m=\u001b[0m\u001b[1;32mFalse\u001b[0m\u001b[1;33m)\u001b[0m\u001b[1;33m\u001b[0m\u001b[0m\n",
      "\u001b[1;32m~\\AppData\\Local\\conda\\conda\\envs\\ada\\lib\\site-packages\\sklearn\\tree\\tree.py\u001b[0m in \u001b[0;36mfit\u001b[1;34m(self, X, y, sample_weight, check_input, X_idx_sorted)\u001b[0m\n\u001b[0;32m    788\u001b[0m             \u001b[0msample_weight\u001b[0m\u001b[1;33m=\u001b[0m\u001b[0msample_weight\u001b[0m\u001b[1;33m,\u001b[0m\u001b[1;33m\u001b[0m\u001b[0m\n\u001b[0;32m    789\u001b[0m             \u001b[0mcheck_input\u001b[0m\u001b[1;33m=\u001b[0m\u001b[0mcheck_input\u001b[0m\u001b[1;33m,\u001b[0m\u001b[1;33m\u001b[0m\u001b[0m\n\u001b[1;32m--> 790\u001b[1;33m             X_idx_sorted=X_idx_sorted)\n\u001b[0m\u001b[0;32m    791\u001b[0m         \u001b[1;32mreturn\u001b[0m \u001b[0mself\u001b[0m\u001b[1;33m\u001b[0m\u001b[0m\n\u001b[0;32m    792\u001b[0m \u001b[1;33m\u001b[0m\u001b[0m\n",
      "\u001b[1;32m~\\AppData\\Local\\conda\\conda\\envs\\ada\\lib\\site-packages\\sklearn\\tree\\tree.py\u001b[0m in \u001b[0;36mfit\u001b[1;34m(self, X, y, sample_weight, check_input, X_idx_sorted)\u001b[0m\n\u001b[0;32m    360\u001b[0m                                            min_impurity_split)\n\u001b[0;32m    361\u001b[0m \u001b[1;33m\u001b[0m\u001b[0m\n\u001b[1;32m--> 362\u001b[1;33m         \u001b[0mbuilder\u001b[0m\u001b[1;33m.\u001b[0m\u001b[0mbuild\u001b[0m\u001b[1;33m(\u001b[0m\u001b[0mself\u001b[0m\u001b[1;33m.\u001b[0m\u001b[0mtree_\u001b[0m\u001b[1;33m,\u001b[0m \u001b[0mX\u001b[0m\u001b[1;33m,\u001b[0m \u001b[0my\u001b[0m\u001b[1;33m,\u001b[0m \u001b[0msample_weight\u001b[0m\u001b[1;33m,\u001b[0m \u001b[0mX_idx_sorted\u001b[0m\u001b[1;33m)\u001b[0m\u001b[1;33m\u001b[0m\u001b[0m\n\u001b[0m\u001b[0;32m    363\u001b[0m \u001b[1;33m\u001b[0m\u001b[0m\n\u001b[0;32m    364\u001b[0m         \u001b[1;32mif\u001b[0m \u001b[0mself\u001b[0m\u001b[1;33m.\u001b[0m\u001b[0mn_outputs_\u001b[0m \u001b[1;33m==\u001b[0m \u001b[1;36m1\u001b[0m\u001b[1;33m:\u001b[0m\u001b[1;33m\u001b[0m\u001b[0m\n",
      "\u001b[1;31mKeyboardInterrupt\u001b[0m: "
     ]
    }
   ],
   "source": [
    "from sklearn.ensemble import RandomForestClassifier\n",
    "\n",
    "clf = RandomForestClassifier(n_estimators=100, max_depth=200)\n",
    "clf.fit(X_train, y_train)\n",
    "clf.score(X_test, y_test)"
   ]
  },
  {
   "cell_type": "code",
   "execution_count": 82,
   "metadata": {
    "collapsed": true
   },
   "outputs": [],
   "source": [
    "fit_total = X_fit.shape[0]\n",
    "n_val = int(fit_total * 0.1111111)\n",
    "n_train = fit_total - n_val\n",
    "ps_array = [0] * n_train + [1] * n_val"
   ]
  },
  {
   "cell_type": "code",
   "execution_count": 83,
   "metadata": {},
   "outputs": [
    {
     "name": "stdout",
     "output_type": "stream",
     "text": [
      "Fitting 2 folds for each of 100 candidates, totalling 200 fits\n",
      "[CV] n_estimators=1, max_depth=1 .....................................\n",
      "[CV] ...................... n_estimators=1, max_depth=1, total=   0.0s\n",
      "[CV] n_estimators=1, max_depth=1 .....................................\n"
     ]
    },
    {
     "name": "stderr",
     "output_type": "stream",
     "text": [
      "[Parallel(n_jobs=1)]: Done   1 out of   1 | elapsed:    0.0s remaining:    0.0s\n"
     ]
    },
    {
     "name": "stdout",
     "output_type": "stream",
     "text": [
      "[CV] ...................... n_estimators=1, max_depth=1, total=   0.0s\n",
      "[CV] n_estimators=2, max_depth=1 .....................................\n",
      "[CV] ...................... n_estimators=2, max_depth=1, total=   0.0s\n",
      "[CV] n_estimators=2, max_depth=1 .....................................\n",
      "[CV] ...................... n_estimators=2, max_depth=1, total=   0.0s\n",
      "[CV] n_estimators=4, max_depth=1 .....................................\n",
      "[CV] ...................... n_estimators=4, max_depth=1, total=   0.0s\n",
      "[CV] n_estimators=4, max_depth=1 .....................................\n",
      "[CV] ...................... n_estimators=4, max_depth=1, total=   0.0s\n",
      "[CV] n_estimators=10, max_depth=1 ....................................\n",
      "[CV] ..................... n_estimators=10, max_depth=1, total=   0.0s\n",
      "[CV] n_estimators=10, max_depth=1 ....................................\n",
      "[CV] ..................... n_estimators=10, max_depth=1, total=   0.0s\n",
      "[CV] n_estimators=21, max_depth=1 ....................................\n",
      "[CV] ..................... n_estimators=21, max_depth=1, total=   0.1s\n",
      "[CV] n_estimators=21, max_depth=1 ....................................\n",
      "[CV] ..................... n_estimators=21, max_depth=1, total=   0.1s\n",
      "[CV] n_estimators=46, max_depth=1 ....................................\n",
      "[CV] ..................... n_estimators=46, max_depth=1, total=   0.3s\n",
      "[CV] n_estimators=46, max_depth=1 ....................................\n",
      "[CV] ..................... n_estimators=46, max_depth=1, total=   0.2s\n",
      "[CV] n_estimators=100, max_depth=1 ...................................\n",
      "[CV] .................... n_estimators=100, max_depth=1, total=   0.7s\n",
      "[CV] n_estimators=100, max_depth=1 ...................................\n",
      "[CV] .................... n_estimators=100, max_depth=1, total=   0.5s\n",
      "[CV] n_estimators=215, max_depth=1 ...................................\n",
      "[CV] .................... n_estimators=215, max_depth=1, total=   1.5s\n",
      "[CV] n_estimators=215, max_depth=1 ...................................\n",
      "[CV] .................... n_estimators=215, max_depth=1, total=   1.0s\n",
      "[CV] n_estimators=464, max_depth=1 ...................................\n",
      "[CV] .................... n_estimators=464, max_depth=1, total=   3.3s\n",
      "[CV] n_estimators=464, max_depth=1 ...................................\n",
      "[CV] .................... n_estimators=464, max_depth=1, total=   2.3s\n",
      "[CV] n_estimators=1000, max_depth=1 ..................................\n",
      "[CV] ................... n_estimators=1000, max_depth=1, total=   7.1s\n",
      "[CV] n_estimators=1000, max_depth=1 ..................................\n",
      "[CV] ................... n_estimators=1000, max_depth=1, total=   5.0s\n",
      "[CV] n_estimators=1, max_depth=2 .....................................\n",
      "[CV] ...................... n_estimators=1, max_depth=2, total=   0.0s\n",
      "[CV] n_estimators=1, max_depth=2 .....................................\n",
      "[CV] ...................... n_estimators=1, max_depth=2, total=   0.0s\n",
      "[CV] n_estimators=2, max_depth=2 .....................................\n",
      "[CV] ...................... n_estimators=2, max_depth=2, total=   0.0s\n",
      "[CV] n_estimators=2, max_depth=2 .....................................\n",
      "[CV] ...................... n_estimators=2, max_depth=2, total=   0.0s\n",
      "[CV] n_estimators=4, max_depth=2 .....................................\n",
      "[CV] ...................... n_estimators=4, max_depth=2, total=   0.0s\n",
      "[CV] n_estimators=4, max_depth=2 .....................................\n",
      "[CV] ...................... n_estimators=4, max_depth=2, total=   0.0s\n",
      "[CV] n_estimators=10, max_depth=2 ....................................\n",
      "[CV] ..................... n_estimators=10, max_depth=2, total=   0.1s\n",
      "[CV] n_estimators=10, max_depth=2 ....................................\n",
      "[CV] ..................... n_estimators=10, max_depth=2, total=   0.0s\n",
      "[CV] n_estimators=21, max_depth=2 ....................................\n",
      "[CV] ..................... n_estimators=21, max_depth=2, total=   0.1s\n",
      "[CV] n_estimators=21, max_depth=2 ....................................\n",
      "[CV] ..................... n_estimators=21, max_depth=2, total=   0.1s\n",
      "[CV] n_estimators=46, max_depth=2 ....................................\n",
      "[CV] ..................... n_estimators=46, max_depth=2, total=   0.3s\n",
      "[CV] n_estimators=46, max_depth=2 ....................................\n",
      "[CV] ..................... n_estimators=46, max_depth=2, total=   0.3s\n",
      "[CV] n_estimators=100, max_depth=2 ...................................\n",
      "[CV] .................... n_estimators=100, max_depth=2, total=   0.7s\n",
      "[CV] n_estimators=100, max_depth=2 ...................................\n",
      "[CV] .................... n_estimators=100, max_depth=2, total=   0.7s\n",
      "[CV] n_estimators=215, max_depth=2 ...................................\n",
      "[CV] .................... n_estimators=215, max_depth=2, total=   1.6s\n",
      "[CV] n_estimators=215, max_depth=2 ...................................\n",
      "[CV] .................... n_estimators=215, max_depth=2, total=   1.6s\n",
      "[CV] n_estimators=464, max_depth=2 ...................................\n",
      "[CV] .................... n_estimators=464, max_depth=2, total=   3.4s\n",
      "[CV] n_estimators=464, max_depth=2 ...................................\n",
      "[CV] .................... n_estimators=464, max_depth=2, total=   3.6s\n",
      "[CV] n_estimators=1000, max_depth=2 ..................................\n",
      "[CV] ................... n_estimators=1000, max_depth=2, total=   7.4s\n",
      "[CV] n_estimators=1000, max_depth=2 ..................................\n",
      "[CV] ................... n_estimators=1000, max_depth=2, total=   7.7s\n",
      "[CV] n_estimators=1, max_depth=4 .....................................\n",
      "[CV] ...................... n_estimators=1, max_depth=4, total=   0.0s\n",
      "[CV] n_estimators=1, max_depth=4 .....................................\n",
      "[CV] ...................... n_estimators=1, max_depth=4, total=   0.0s\n",
      "[CV] n_estimators=2, max_depth=4 .....................................\n",
      "[CV] ...................... n_estimators=2, max_depth=4, total=   0.0s\n",
      "[CV] n_estimators=2, max_depth=4 .....................................\n",
      "[CV] ...................... n_estimators=2, max_depth=4, total=   0.0s\n",
      "[CV] n_estimators=4, max_depth=4 .....................................\n",
      "[CV] ...................... n_estimators=4, max_depth=4, total=   0.0s\n",
      "[CV] n_estimators=4, max_depth=4 .....................................\n",
      "[CV] ...................... n_estimators=4, max_depth=4, total=   0.0s\n",
      "[CV] n_estimators=10, max_depth=4 ....................................\n",
      "[CV] ..................... n_estimators=10, max_depth=4, total=   0.1s\n",
      "[CV] n_estimators=10, max_depth=4 ....................................\n",
      "[CV] ..................... n_estimators=10, max_depth=4, total=   0.1s\n",
      "[CV] n_estimators=21, max_depth=4 ....................................\n",
      "[CV] ..................... n_estimators=21, max_depth=4, total=   0.1s\n",
      "[CV] n_estimators=21, max_depth=4 ....................................\n",
      "[CV] ..................... n_estimators=21, max_depth=4, total=   0.2s\n",
      "[CV] n_estimators=46, max_depth=4 ....................................\n",
      "[CV] ..................... n_estimators=46, max_depth=4, total=   0.4s\n",
      "[CV] n_estimators=46, max_depth=4 ....................................\n",
      "[CV] ..................... n_estimators=46, max_depth=4, total=   0.6s\n",
      "[CV] n_estimators=100, max_depth=4 ...................................\n",
      "[CV] .................... n_estimators=100, max_depth=4, total=   0.8s\n",
      "[CV] n_estimators=100, max_depth=4 ...................................\n",
      "[CV] .................... n_estimators=100, max_depth=4, total=   1.3s\n",
      "[CV] n_estimators=215, max_depth=4 ...................................\n",
      "[CV] .................... n_estimators=215, max_depth=4, total=   1.7s\n",
      "[CV] n_estimators=215, max_depth=4 ...................................\n",
      "[CV] .................... n_estimators=215, max_depth=4, total=   2.8s\n",
      "[CV] n_estimators=464, max_depth=4 ...................................\n",
      "[CV] .................... n_estimators=464, max_depth=4, total=   3.8s\n",
      "[CV] n_estimators=464, max_depth=4 ...................................\n",
      "[CV] .................... n_estimators=464, max_depth=4, total=   6.2s\n",
      "[CV] n_estimators=1000, max_depth=4 ..................................\n",
      "[CV] ................... n_estimators=1000, max_depth=4, total=   8.1s\n",
      "[CV] n_estimators=1000, max_depth=4 ..................................\n"
     ]
    },
    {
     "name": "stdout",
     "output_type": "stream",
     "text": [
      "[CV] ................... n_estimators=1000, max_depth=4, total=  13.3s\n",
      "[CV] n_estimators=1, max_depth=10 ....................................\n",
      "[CV] ..................... n_estimators=1, max_depth=10, total=   0.0s\n",
      "[CV] n_estimators=1, max_depth=10 ....................................\n",
      "[CV] ..................... n_estimators=1, max_depth=10, total=   0.0s\n",
      "[CV] n_estimators=2, max_depth=10 ....................................\n",
      "[CV] ..................... n_estimators=2, max_depth=10, total=   0.0s\n",
      "[CV] n_estimators=2, max_depth=10 ....................................\n",
      "[CV] ..................... n_estimators=2, max_depth=10, total=   0.0s\n",
      "[CV] n_estimators=4, max_depth=10 ....................................\n",
      "[CV] ..................... n_estimators=4, max_depth=10, total=   0.0s\n",
      "[CV] n_estimators=4, max_depth=10 ....................................\n",
      "[CV] ..................... n_estimators=4, max_depth=10, total=   0.1s\n",
      "[CV] n_estimators=10, max_depth=10 ...................................\n",
      "[CV] .................... n_estimators=10, max_depth=10, total=   0.1s\n",
      "[CV] n_estimators=10, max_depth=10 ...................................\n",
      "[CV] .................... n_estimators=10, max_depth=10, total=   0.3s\n",
      "[CV] n_estimators=21, max_depth=10 ...................................\n",
      "[CV] .................... n_estimators=21, max_depth=10, total=   0.2s\n",
      "[CV] n_estimators=21, max_depth=10 ...................................\n",
      "[CV] .................... n_estimators=21, max_depth=10, total=   0.7s\n",
      "[CV] n_estimators=46, max_depth=10 ...................................\n",
      "[CV] .................... n_estimators=46, max_depth=10, total=   0.5s\n",
      "[CV] n_estimators=46, max_depth=10 ...................................\n",
      "[CV] .................... n_estimators=46, max_depth=10, total=   1.6s\n",
      "[CV] n_estimators=100, max_depth=10 ..................................\n",
      "[CV] ................... n_estimators=100, max_depth=10, total=   1.2s\n",
      "[CV] n_estimators=100, max_depth=10 ..................................\n",
      "[CV] ................... n_estimators=100, max_depth=10, total=   3.4s\n",
      "[CV] n_estimators=215, max_depth=10 ..................................\n",
      "[CV] ................... n_estimators=215, max_depth=10, total=   2.7s\n",
      "[CV] n_estimators=215, max_depth=10 ..................................\n",
      "[CV] ................... n_estimators=215, max_depth=10, total=   7.5s\n",
      "[CV] n_estimators=464, max_depth=10 ..................................\n",
      "[CV] ................... n_estimators=464, max_depth=10, total=   5.6s\n",
      "[CV] n_estimators=464, max_depth=10 ..................................\n",
      "[CV] ................... n_estimators=464, max_depth=10, total=  16.1s\n",
      "[CV] n_estimators=1000, max_depth=10 .................................\n",
      "[CV] .................. n_estimators=1000, max_depth=10, total=  11.8s\n",
      "[CV] n_estimators=1000, max_depth=10 .................................\n",
      "[CV] .................. n_estimators=1000, max_depth=10, total=  34.4s\n",
      "[CV] n_estimators=1, max_depth=21 ....................................\n",
      "[CV] ..................... n_estimators=1, max_depth=21, total=   0.0s\n",
      "[CV] n_estimators=1, max_depth=21 ....................................\n",
      "[CV] ..................... n_estimators=1, max_depth=21, total=   0.0s\n",
      "[CV] n_estimators=2, max_depth=21 ....................................\n",
      "[CV] ..................... n_estimators=2, max_depth=21, total=   0.0s\n",
      "[CV] n_estimators=2, max_depth=21 ....................................\n",
      "[CV] ..................... n_estimators=2, max_depth=21, total=   0.1s\n",
      "[CV] n_estimators=4, max_depth=21 ....................................\n",
      "[CV] ..................... n_estimators=4, max_depth=21, total=   0.1s\n",
      "[CV] n_estimators=4, max_depth=21 ....................................\n",
      "[CV] ..................... n_estimators=4, max_depth=21, total=   0.3s\n",
      "[CV] n_estimators=10, max_depth=21 ...................................\n",
      "[CV] .................... n_estimators=10, max_depth=21, total=   0.2s\n",
      "[CV] n_estimators=10, max_depth=21 ...................................\n",
      "[CV] .................... n_estimators=10, max_depth=21, total=   0.9s\n",
      "[CV] n_estimators=21, max_depth=21 ...................................\n",
      "[CV] .................... n_estimators=21, max_depth=21, total=   0.4s\n",
      "[CV] n_estimators=21, max_depth=21 ...................................\n",
      "[CV] .................... n_estimators=21, max_depth=21, total=   1.8s\n",
      "[CV] n_estimators=46, max_depth=21 ...................................\n",
      "[CV] .................... n_estimators=46, max_depth=21, total=   1.1s\n",
      "[CV] n_estimators=46, max_depth=21 ...................................\n",
      "[CV] .................... n_estimators=46, max_depth=21, total=   4.3s\n",
      "[CV] n_estimators=100, max_depth=21 ..................................\n",
      "[CV] ................... n_estimators=100, max_depth=21, total=   2.2s\n",
      "[CV] n_estimators=100, max_depth=21 ..................................\n",
      "[CV] ................... n_estimators=100, max_depth=21, total=   8.8s\n",
      "[CV] n_estimators=215, max_depth=21 ..................................\n",
      "[CV] ................... n_estimators=215, max_depth=21, total=   4.9s\n",
      "[CV] n_estimators=215, max_depth=21 ..................................\n",
      "[CV] ................... n_estimators=215, max_depth=21, total=  19.2s\n",
      "[CV] n_estimators=464, max_depth=21 ..................................\n",
      "[CV] ................... n_estimators=464, max_depth=21, total=  10.7s\n",
      "[CV] n_estimators=464, max_depth=21 ..................................\n",
      "[CV] ................... n_estimators=464, max_depth=21, total=  41.4s\n",
      "[CV] n_estimators=1000, max_depth=21 .................................\n",
      "[CV] .................. n_estimators=1000, max_depth=21, total=  22.7s\n",
      "[CV] n_estimators=1000, max_depth=21 .................................\n",
      "[CV] .................. n_estimators=1000, max_depth=21, total= 1.5min\n",
      "[CV] n_estimators=1, max_depth=46 ....................................\n",
      "[CV] ..................... n_estimators=1, max_depth=46, total=   0.0s\n",
      "[CV] n_estimators=1, max_depth=46 ....................................\n",
      "[CV] ..................... n_estimators=1, max_depth=46, total=   0.2s\n",
      "[CV] n_estimators=2, max_depth=46 ....................................\n",
      "[CV] ..................... n_estimators=2, max_depth=46, total=   0.1s\n",
      "[CV] n_estimators=2, max_depth=46 ....................................\n",
      "[CV] ..................... n_estimators=2, max_depth=46, total=   0.6s\n",
      "[CV] n_estimators=4, max_depth=46 ....................................\n",
      "[CV] ..................... n_estimators=4, max_depth=46, total=   0.2s\n",
      "[CV] n_estimators=4, max_depth=46 ....................................\n",
      "[CV] ..................... n_estimators=4, max_depth=46, total=   1.0s\n",
      "[CV] n_estimators=10, max_depth=46 ...................................\n",
      "[CV] .................... n_estimators=10, max_depth=46, total=   0.5s\n",
      "[CV] n_estimators=10, max_depth=46 ...................................\n",
      "[CV] .................... n_estimators=10, max_depth=46, total=   2.8s\n",
      "[CV] n_estimators=21, max_depth=46 ...................................\n",
      "[CV] .................... n_estimators=21, max_depth=46, total=   1.1s\n",
      "[CV] n_estimators=21, max_depth=46 ...................................\n",
      "[CV] .................... n_estimators=21, max_depth=46, total=   5.4s\n",
      "[CV] n_estimators=46, max_depth=46 ...................................\n",
      "[CV] .................... n_estimators=46, max_depth=46, total=   2.3s\n",
      "[CV] n_estimators=46, max_depth=46 ...................................\n",
      "[CV] .................... n_estimators=46, max_depth=46, total=  12.8s\n",
      "[CV] n_estimators=100, max_depth=46 ..................................\n",
      "[CV] ................... n_estimators=100, max_depth=46, total=   5.2s\n",
      "[CV] n_estimators=100, max_depth=46 ..................................\n",
      "[CV] ................... n_estimators=100, max_depth=46, total=  26.5s\n",
      "[CV] n_estimators=215, max_depth=46 ..................................\n",
      "[CV] ................... n_estimators=215, max_depth=46, total=  11.2s\n",
      "[CV] n_estimators=215, max_depth=46 ..................................\n",
      "[CV] ................... n_estimators=215, max_depth=46, total=61.0min\n",
      "[CV] n_estimators=464, max_depth=46 ..................................\n",
      "[CV] ................... n_estimators=464, max_depth=46, total=  26.8s\n",
      "[CV] n_estimators=464, max_depth=46 ..................................\n"
     ]
    },
    {
     "name": "stdout",
     "output_type": "stream",
     "text": [
      "[CV] ................... n_estimators=464, max_depth=46, total= 2.3min\n",
      "[CV] n_estimators=1000, max_depth=46 .................................\n",
      "[CV] .................. n_estimators=1000, max_depth=46, total=  53.1s\n",
      "[CV] n_estimators=1000, max_depth=46 .................................\n",
      "[CV] .................. n_estimators=1000, max_depth=46, total= 4.5min\n",
      "[CV] n_estimators=1, max_depth=100 ...................................\n",
      "[CV] .................... n_estimators=1, max_depth=100, total=   0.1s\n",
      "[CV] n_estimators=1, max_depth=100 ...................................\n",
      "[CV] .................... n_estimators=1, max_depth=100, total=   0.6s\n",
      "[CV] n_estimators=2, max_depth=100 ...................................\n",
      "[CV] .................... n_estimators=2, max_depth=100, total=   0.2s\n",
      "[CV] n_estimators=2, max_depth=100 ...................................\n",
      "[CV] .................... n_estimators=2, max_depth=100, total=   1.5s\n",
      "[CV] n_estimators=4, max_depth=100 ...................................\n",
      "[CV] .................... n_estimators=4, max_depth=100, total=   0.5s\n",
      "[CV] n_estimators=4, max_depth=100 ...................................\n",
      "[CV] .................... n_estimators=4, max_depth=100, total=   3.5s\n",
      "[CV] n_estimators=10, max_depth=100 ..................................\n",
      "[CV] ................... n_estimators=10, max_depth=100, total=   1.3s\n",
      "[CV] n_estimators=10, max_depth=100 ..................................\n",
      "[CV] ................... n_estimators=10, max_depth=100, total=   6.8s\n",
      "[CV] n_estimators=21, max_depth=100 ..................................\n",
      "[CV] ................... n_estimators=21, max_depth=100, total=   2.4s\n",
      "[CV] n_estimators=21, max_depth=100 ..................................\n",
      "[CV] ................... n_estimators=21, max_depth=100, total=  15.1s\n",
      "[CV] n_estimators=46, max_depth=100 ..................................\n",
      "[CV] ................... n_estimators=46, max_depth=100, total=   5.3s\n",
      "[CV] n_estimators=46, max_depth=100 ..................................\n",
      "[CV] ................... n_estimators=46, max_depth=100, total=  37.4s\n",
      "[CV] n_estimators=100, max_depth=100 .................................\n",
      "[CV] .................. n_estimators=100, max_depth=100, total=  11.8s\n",
      "[CV] n_estimators=100, max_depth=100 .................................\n",
      "[CV] .................. n_estimators=100, max_depth=100, total= 1.3min\n",
      "[CV] n_estimators=215, max_depth=100 .................................\n",
      "[CV] .................. n_estimators=215, max_depth=100, total=  24.5s\n",
      "[CV] n_estimators=215, max_depth=100 .................................\n",
      "[CV] .................. n_estimators=215, max_depth=100, total= 2.6min\n",
      "[CV] n_estimators=464, max_depth=100 .................................\n",
      "[CV] .................. n_estimators=464, max_depth=100, total=  51.5s\n",
      "[CV] n_estimators=464, max_depth=100 .................................\n",
      "[CV] .................. n_estimators=464, max_depth=100, total= 5.6min\n",
      "[CV] n_estimators=1000, max_depth=100 ................................\n",
      "[CV] ................. n_estimators=1000, max_depth=100, total= 1.8min\n",
      "[CV] n_estimators=1000, max_depth=100 ................................\n",
      "[CV] ................. n_estimators=1000, max_depth=100, total=10.9min\n",
      "[CV] n_estimators=1, max_depth=215 ...................................\n",
      "[CV] .................... n_estimators=1, max_depth=215, total=   0.1s\n",
      "[CV] n_estimators=1, max_depth=215 ...................................\n",
      "[CV] .................... n_estimators=1, max_depth=215, total=   1.2s\n",
      "[CV] n_estimators=2, max_depth=215 ...................................\n",
      "[CV] .................... n_estimators=2, max_depth=215, total=   0.3s\n",
      "[CV] n_estimators=2, max_depth=215 ...................................\n",
      "[CV] .................... n_estimators=2, max_depth=215, total=   2.0s\n",
      "[CV] n_estimators=4, max_depth=215 ...................................\n",
      "[CV] .................... n_estimators=4, max_depth=215, total=   0.6s\n",
      "[CV] n_estimators=4, max_depth=215 ...................................\n",
      "[CV] .................... n_estimators=4, max_depth=215, total=   4.3s\n",
      "[CV] n_estimators=10, max_depth=215 ..................................\n",
      "[CV] ................... n_estimators=10, max_depth=215, total=   1.4s\n",
      "[CV] n_estimators=10, max_depth=215 ..................................\n",
      "[CV] ................... n_estimators=10, max_depth=215, total=  11.0s\n",
      "[CV] n_estimators=21, max_depth=215 ..................................\n",
      "[CV] ................... n_estimators=21, max_depth=215, total=   3.1s\n",
      "[CV] n_estimators=21, max_depth=215 ..................................\n",
      "[CV] ................... n_estimators=21, max_depth=215, total=  23.1s\n",
      "[CV] n_estimators=46, max_depth=215 ..................................\n",
      "[CV] ................... n_estimators=46, max_depth=215, total=   6.9s\n",
      "[CV] n_estimators=46, max_depth=215 ..................................\n",
      "[CV] ................... n_estimators=46, max_depth=215, total=  49.9s\n",
      "[CV] n_estimators=100, max_depth=215 .................................\n",
      "[CV] .................. n_estimators=100, max_depth=215, total=  28.4s\n",
      "[CV] n_estimators=100, max_depth=215 .................................\n",
      "[CV] .................. n_estimators=100, max_depth=215, total= 1.8min\n",
      "[CV] n_estimators=215, max_depth=215 .................................\n",
      "[CV] .................. n_estimators=215, max_depth=215, total=  32.2s\n",
      "[CV] n_estimators=215, max_depth=215 .................................\n",
      "[CV] .................. n_estimators=215, max_depth=215, total= 3.9min\n",
      "[CV] n_estimators=464, max_depth=215 .................................\n",
      "[CV] .................. n_estimators=464, max_depth=215, total= 1.2min\n",
      "[CV] n_estimators=464, max_depth=215 .................................\n",
      "[CV] .................. n_estimators=464, max_depth=215, total= 9.7min\n",
      "[CV] n_estimators=1000, max_depth=215 ................................\n",
      "[CV] ................. n_estimators=1000, max_depth=215, total= 2.8min\n",
      "[CV] n_estimators=1000, max_depth=215 ................................\n",
      "[CV] ................. n_estimators=1000, max_depth=215, total=20.9min\n",
      "[CV] n_estimators=1, max_depth=464 ...................................\n",
      "[CV] .................... n_estimators=1, max_depth=464, total=   0.2s\n",
      "[CV] n_estimators=1, max_depth=464 ...................................\n",
      "[CV] .................... n_estimators=1, max_depth=464, total=   1.4s\n",
      "[CV] n_estimators=2, max_depth=464 ...................................\n",
      "[CV] .................... n_estimators=2, max_depth=464, total=   0.3s\n",
      "[CV] n_estimators=2, max_depth=464 ...................................\n",
      "[CV] .................... n_estimators=2, max_depth=464, total=   2.7s\n",
      "[CV] n_estimators=4, max_depth=464 ...................................\n",
      "[CV] .................... n_estimators=4, max_depth=464, total=   0.7s\n",
      "[CV] n_estimators=4, max_depth=464 ...................................\n",
      "[CV] .................... n_estimators=4, max_depth=464, total=   6.0s\n",
      "[CV] n_estimators=10, max_depth=464 ..................................\n",
      "[CV] ................... n_estimators=10, max_depth=464, total=   1.8s\n",
      "[CV] n_estimators=10, max_depth=464 ..................................\n",
      "[CV] ................... n_estimators=10, max_depth=464, total=  15.0s\n",
      "[CV] n_estimators=21, max_depth=464 ..................................\n",
      "[CV] ................... n_estimators=21, max_depth=464, total=   4.0s\n",
      "[CV] n_estimators=21, max_depth=464 ..................................\n",
      "[CV] ................... n_estimators=21, max_depth=464, total=  31.5s\n",
      "[CV] n_estimators=46, max_depth=464 ..................................\n",
      "[CV] ................... n_estimators=46, max_depth=464, total=   8.1s\n",
      "[CV] n_estimators=46, max_depth=464 ..................................\n",
      "[CV] ................... n_estimators=46, max_depth=464, total= 1.2min\n",
      "[CV] n_estimators=100, max_depth=464 .................................\n",
      "[CV] .................. n_estimators=100, max_depth=464, total=  17.8s\n",
      "[CV] n_estimators=100, max_depth=464 .................................\n",
      "[CV] .................. n_estimators=100, max_depth=464, total= 2.5min\n",
      "[CV] n_estimators=215, max_depth=464 .................................\n",
      "[CV] .................. n_estimators=215, max_depth=464, total=  39.4s\n",
      "[CV] n_estimators=215, max_depth=464 .................................\n"
     ]
    },
    {
     "name": "stdout",
     "output_type": "stream",
     "text": [
      "[CV] .................. n_estimators=215, max_depth=464, total= 5.4min\n",
      "[CV] n_estimators=464, max_depth=464 .................................\n",
      "[CV] .................. n_estimators=464, max_depth=464, total= 1.4min\n",
      "[CV] n_estimators=464, max_depth=464 .................................\n",
      "[CV] .................. n_estimators=464, max_depth=464, total=11.7min\n",
      "[CV] n_estimators=1000, max_depth=464 ................................\n",
      "[CV] ................. n_estimators=1000, max_depth=464, total= 3.1min\n",
      "[CV] n_estimators=1000, max_depth=464 ................................\n",
      "[CV] ................. n_estimators=1000, max_depth=464, total=25.1min\n",
      "[CV] n_estimators=1, max_depth=1000 ..................................\n",
      "[CV] ................... n_estimators=1, max_depth=1000, total=   0.1s\n",
      "[CV] n_estimators=1, max_depth=1000 ..................................\n",
      "[CV] ................... n_estimators=1, max_depth=1000, total=   1.3s\n",
      "[CV] n_estimators=2, max_depth=1000 ..................................\n",
      "[CV] ................... n_estimators=2, max_depth=1000, total=   0.3s\n",
      "[CV] n_estimators=2, max_depth=1000 ..................................\n",
      "[CV] ................... n_estimators=2, max_depth=1000, total=   2.8s\n",
      "[CV] n_estimators=4, max_depth=1000 ..................................\n",
      "[CV] ................... n_estimators=4, max_depth=1000, total=   0.6s\n",
      "[CV] n_estimators=4, max_depth=1000 ..................................\n",
      "[CV] ................... n_estimators=4, max_depth=1000, total=   5.1s\n",
      "[CV] n_estimators=10, max_depth=1000 .................................\n",
      "[CV] .................. n_estimators=10, max_depth=1000, total=   1.6s\n",
      "[CV] n_estimators=10, max_depth=1000 .................................\n",
      "[CV] .................. n_estimators=10, max_depth=1000, total=  13.1s\n",
      "[CV] n_estimators=21, max_depth=1000 .................................\n",
      "[CV] .................. n_estimators=21, max_depth=1000, total=   3.4s\n",
      "[CV] n_estimators=21, max_depth=1000 .................................\n",
      "[CV] .................. n_estimators=21, max_depth=1000, total=  27.2s\n",
      "[CV] n_estimators=46, max_depth=1000 .................................\n",
      "[CV] .................. n_estimators=46, max_depth=1000, total=   7.2s\n",
      "[CV] n_estimators=46, max_depth=1000 .................................\n",
      "[CV] .................. n_estimators=46, max_depth=1000, total= 1.0min\n",
      "[CV] n_estimators=100, max_depth=1000 ................................\n",
      "[CV] ................. n_estimators=100, max_depth=1000, total=  16.3s\n",
      "[CV] n_estimators=100, max_depth=1000 ................................\n",
      "[CV] ................. n_estimators=100, max_depth=1000, total= 2.2min\n",
      "[CV] n_estimators=215, max_depth=1000 ................................\n",
      "[CV] ................. n_estimators=215, max_depth=1000, total=  34.9s\n",
      "[CV] n_estimators=215, max_depth=1000 ................................\n",
      "[CV] ................. n_estimators=215, max_depth=1000, total= 4.7min\n",
      "[CV] n_estimators=464, max_depth=1000 ................................\n",
      "[CV] ................. n_estimators=464, max_depth=1000, total= 1.3min\n",
      "[CV] n_estimators=464, max_depth=1000 ................................\n",
      "[CV] ................. n_estimators=464, max_depth=1000, total=10.1min\n",
      "[CV] n_estimators=1000, max_depth=1000 ...............................\n",
      "[CV] ................ n_estimators=1000, max_depth=1000, total= 2.7min\n",
      "[CV] n_estimators=1000, max_depth=1000 ...............................\n",
      "[CV] ................ n_estimators=1000, max_depth=1000, total=53.9min\n"
     ]
    },
    {
     "name": "stderr",
     "output_type": "stream",
     "text": [
      "[Parallel(n_jobs=1)]: Done 200 out of 200 | elapsed: 278.3min finished\n"
     ]
    },
    {
     "data": {
      "text/plain": [
       "GridSearchCV(cv=PredefinedSplit(test_fold=array([0, 0, ..., 1, 1])),\n",
       "       error_score='raise',\n",
       "       estimator=RandomForestClassifier(bootstrap=True, class_weight=None, criterion='gini',\n",
       "            max_depth=None, max_features='auto', max_leaf_nodes=None,\n",
       "            min_impurity_decrease=0.0, min_impurity_split=None,\n",
       "            min_samples_leaf=1, min_samples_split=2,\n",
       "            min_weight_fraction_leaf=0.0, n_estimators=10, n_jobs=1,\n",
       "            oob_score=False, random_state=None, verbose=0,\n",
       "            warm_start=False),\n",
       "       fit_params=None, iid=True, n_jobs=1,\n",
       "       param_grid={'n_estimators': array([   1,    2,    4,   10,   21,   46,  100,  215,  464, 1000]), 'max_depth': array([   1,    2,    4,   10,   21,   46,  100,  215,  464, 1000])},\n",
       "       pre_dispatch='2*n_jobs', refit=True, return_train_score='warn',\n",
       "       scoring=None, verbose=2)"
      ]
     },
     "execution_count": 83,
     "metadata": {},
     "output_type": "execute_result"
    }
   ],
   "source": [
    "from sklearn.model_selection import GridSearchCV, PredefinedSplit\n",
    "n_estimators_space = np.logspace(0, 3, num=10, dtype='int')\n",
    "max_depth_space = np.logspace(0, 3, num=10, dtype='int')\n",
    "rfc = RandomForestClassifier()\n",
    "clf_grid = GridSearchCV(rfc, param_grid={'n_estimators':n_estimators_space, 'max_depth':max_depth_space}, verbose=2, cv=PredefinedSplit(ps_array))\n",
    "clf_grid.fit(X_fit, y_fit)"
   ]
  },
  {
   "cell_type": "code",
   "execution_count": 85,
   "metadata": {
    "collapsed": true
   },
   "outputs": [],
   "source": [
    "import pickle\n",
    "pickle.dump(clf_grid, open(\"models/clf_grid.sav\", \"wb\"))"
   ]
  },
  {
   "cell_type": "code",
   "execution_count": 8,
   "metadata": {},
   "outputs": [],
   "source": [
    "import pickle\n",
    "from sklearn.model_selection import GridSearchCV, PredefinedSplit\n",
    "from sklearn.ensemble import RandomForestClassifier\n"
   ]
  },
  {
   "cell_type": "code",
   "execution_count": 9,
   "metadata": {},
   "outputs": [],
   "source": [
    "clf_test = pickle.load(open(\"models/clf_grid.sav\", \"rb\"))"
   ]
  },
  {
   "cell_type": "code",
   "execution_count": 12,
   "metadata": {},
   "outputs": [
    {
     "data": {
      "text/plain": [
       "'0.19.1'"
      ]
     },
     "execution_count": 12,
     "metadata": {},
     "output_type": "execute_result"
    }
   ],
   "source": [
    "import sklearn\n",
    "sklearn.__version__"
   ]
  },
  {
   "cell_type": "code",
   "execution_count": 10,
   "metadata": {},
   "outputs": [],
   "source": [
    "from sklearn import metrics\n",
    "cm = metrics.confusion_matrix(clf_test.predict(X_test), y_test)"
   ]
  },
  {
   "cell_type": "code",
   "execution_count": 26,
   "metadata": {},
   "outputs": [
    {
     "data": {
      "text/plain": [
       "array([10,  3, 17, ...,  3,  1,  7])"
      ]
     },
     "execution_count": 26,
     "metadata": {},
     "output_type": "execute_result"
    }
   ],
   "source": [
    "newsgroup.target"
   ]
  },
  {
   "cell_type": "code",
   "execution_count": 13,
   "metadata": {},
   "outputs": [
    {
     "name": "stderr",
     "output_type": "stream",
     "text": [
      "/home/ahmed/python_libs/anaconda3/envs/ada/lib/python3.5/site-packages/sklearn/utils/deprecation.py:122: FutureWarning: You are accessing a training score ('mean_train_score'), which will not be available by default any more in 0.21. If you need training scores, please set return_train_score=True\n",
      "  warnings.warn(*warn_args, **warn_kwargs)\n",
      "/home/ahmed/python_libs/anaconda3/envs/ada/lib/python3.5/site-packages/sklearn/utils/deprecation.py:122: FutureWarning: You are accessing a training score ('split0_train_score'), which will not be available by default any more in 0.21. If you need training scores, please set return_train_score=True\n",
      "  warnings.warn(*warn_args, **warn_kwargs)\n",
      "/home/ahmed/python_libs/anaconda3/envs/ada/lib/python3.5/site-packages/sklearn/utils/deprecation.py:122: FutureWarning: You are accessing a training score ('split1_train_score'), which will not be available by default any more in 0.21. If you need training scores, please set return_train_score=True\n",
      "  warnings.warn(*warn_args, **warn_kwargs)\n",
      "/home/ahmed/python_libs/anaconda3/envs/ada/lib/python3.5/site-packages/sklearn/utils/deprecation.py:122: FutureWarning: You are accessing a training score ('std_train_score'), which will not be available by default any more in 0.21. If you need training scores, please set return_train_score=True\n",
      "  warnings.warn(*warn_args, **warn_kwargs)\n"
     ]
    },
    {
     "data": {
      "text/html": [
       "<div>\n",
       "<style>\n",
       "    .dataframe thead tr:only-child th {\n",
       "        text-align: right;\n",
       "    }\n",
       "\n",
       "    .dataframe thead th {\n",
       "        text-align: left;\n",
       "    }\n",
       "\n",
       "    .dataframe tbody tr th {\n",
       "        vertical-align: top;\n",
       "    }\n",
       "</style>\n",
       "<table border=\"1\" class=\"dataframe\">\n",
       "  <thead>\n",
       "    <tr style=\"text-align: right;\">\n",
       "      <th></th>\n",
       "      <th>mean_fit_time</th>\n",
       "      <th>mean_score_time</th>\n",
       "      <th>mean_test_score</th>\n",
       "      <th>mean_train_score</th>\n",
       "      <th>param_max_depth</th>\n",
       "      <th>param_n_estimators</th>\n",
       "      <th>params</th>\n",
       "      <th>rank_test_score</th>\n",
       "      <th>split0_test_score</th>\n",
       "      <th>split0_train_score</th>\n",
       "      <th>split1_test_score</th>\n",
       "      <th>split1_train_score</th>\n",
       "      <th>std_fit_time</th>\n",
       "      <th>std_score_time</th>\n",
       "      <th>std_test_score</th>\n",
       "      <th>std_train_score</th>\n",
       "    </tr>\n",
       "  </thead>\n",
       "  <tbody>\n",
       "    <tr>\n",
       "      <th>69</th>\n",
       "      <td>377.444108</td>\n",
       "      <td>5.381742</td>\n",
       "      <td>0.582395</td>\n",
       "      <td>0.965539</td>\n",
       "      <td>100</td>\n",
       "      <td>1000</td>\n",
       "      <td>{'n_estimators': 1000, 'max_depth': 100}</td>\n",
       "      <td>1</td>\n",
       "      <td>0.571201</td>\n",
       "      <td>0.970276</td>\n",
       "      <td>0.671975</td>\n",
       "      <td>0.960801</td>\n",
       "      <td>275.955846</td>\n",
       "      <td>3.926427</td>\n",
       "      <td>0.031666</td>\n",
       "      <td>0.004737</td>\n",
       "    </tr>\n",
       "    <tr>\n",
       "      <th>70</th>\n",
       "      <td>0.716710</td>\n",
       "      <td>0.042907</td>\n",
       "      <td>0.151937</td>\n",
       "      <td>0.647320</td>\n",
       "      <td>215</td>\n",
       "      <td>1</td>\n",
       "      <td>{'n_estimators': 1, 'max_depth': 215}</td>\n",
       "      <td>77</td>\n",
       "      <td>0.136964</td>\n",
       "      <td>0.659766</td>\n",
       "      <td>0.271762</td>\n",
       "      <td>0.634874</td>\n",
       "      <td>0.545633</td>\n",
       "      <td>0.027280</td>\n",
       "      <td>0.042358</td>\n",
       "      <td>0.012446</td>\n",
       "    </tr>\n",
       "    <tr>\n",
       "      <th>71</th>\n",
       "      <td>1.220232</td>\n",
       "      <td>0.045130</td>\n",
       "      <td>0.157656</td>\n",
       "      <td>0.689376</td>\n",
       "      <td>215</td>\n",
       "      <td>2</td>\n",
       "      <td>{'n_estimators': 2, 'max_depth': 215}</td>\n",
       "      <td>75</td>\n",
       "      <td>0.144657</td>\n",
       "      <td>0.687898</td>\n",
       "      <td>0.261677</td>\n",
       "      <td>0.690854</td>\n",
       "      <td>0.905039</td>\n",
       "      <td>0.034081</td>\n",
       "      <td>0.036771</td>\n",
       "      <td>0.001478</td>\n",
       "    </tr>\n",
       "    <tr>\n",
       "      <th>72</th>\n",
       "      <td>2.505547</td>\n",
       "      <td>0.057139</td>\n",
       "      <td>0.213902</td>\n",
       "      <td>0.885768</td>\n",
       "      <td>215</td>\n",
       "      <td>4</td>\n",
       "      <td>{'n_estimators': 4, 'max_depth': 215}</td>\n",
       "      <td>58</td>\n",
       "      <td>0.197917</td>\n",
       "      <td>0.892251</td>\n",
       "      <td>0.341826</td>\n",
       "      <td>0.879286</td>\n",
       "      <td>1.918933</td>\n",
       "      <td>0.042095</td>\n",
       "      <td>0.045220</td>\n",
       "      <td>0.006482</td>\n",
       "    </tr>\n",
       "    <tr>\n",
       "      <th>73</th>\n",
       "      <td>6.205317</td>\n",
       "      <td>0.092561</td>\n",
       "      <td>0.322976</td>\n",
       "      <td>0.963847</td>\n",
       "      <td>215</td>\n",
       "      <td>10</td>\n",
       "      <td>{'n_estimators': 10, 'max_depth': 215}</td>\n",
       "      <td>43</td>\n",
       "      <td>0.303376</td>\n",
       "      <td>0.970807</td>\n",
       "      <td>0.479830</td>\n",
       "      <td>0.956888</td>\n",
       "      <td>4.841328</td>\n",
       "      <td>0.066189</td>\n",
       "      <td>0.055447</td>\n",
       "      <td>0.006959</td>\n",
       "    </tr>\n",
       "    <tr>\n",
       "      <th>74</th>\n",
       "      <td>13.021948</td>\n",
       "      <td>0.157917</td>\n",
       "      <td>0.395260</td>\n",
       "      <td>0.972537</td>\n",
       "      <td>215</td>\n",
       "      <td>21</td>\n",
       "      <td>{'n_estimators': 21, 'max_depth': 215}</td>\n",
       "      <td>38</td>\n",
       "      <td>0.373814</td>\n",
       "      <td>0.974522</td>\n",
       "      <td>0.566879</td>\n",
       "      <td>0.970551</td>\n",
       "      <td>10.094939</td>\n",
       "      <td>0.107452</td>\n",
       "      <td>0.060667</td>\n",
       "      <td>0.001986</td>\n",
       "    </tr>\n",
       "    <tr>\n",
       "      <th>75</th>\n",
       "      <td>28.241802</td>\n",
       "      <td>0.300488</td>\n",
       "      <td>0.470432</td>\n",
       "      <td>0.973465</td>\n",
       "      <td>215</td>\n",
       "      <td>46</td>\n",
       "      <td>{'n_estimators': 46, 'max_depth': 215}</td>\n",
       "      <td>27</td>\n",
       "      <td>0.451814</td>\n",
       "      <td>0.974522</td>\n",
       "      <td>0.619427</td>\n",
       "      <td>0.972408</td>\n",
       "      <td>21.724622</td>\n",
       "      <td>0.218189</td>\n",
       "      <td>0.052669</td>\n",
       "      <td>0.001057</td>\n",
       "    </tr>\n",
       "    <tr>\n",
       "      <th>76</th>\n",
       "      <td>68.616554</td>\n",
       "      <td>0.656379</td>\n",
       "      <td>0.524203</td>\n",
       "      <td>0.973101</td>\n",
       "      <td>215</td>\n",
       "      <td>100</td>\n",
       "      <td>{'n_estimators': 100, 'max_depth': 215}</td>\n",
       "      <td>17</td>\n",
       "      <td>0.506931</td>\n",
       "      <td>0.974522</td>\n",
       "      <td>0.662420</td>\n",
       "      <td>0.971679</td>\n",
       "      <td>41.233220</td>\n",
       "      <td>0.472809</td>\n",
       "      <td>0.048859</td>\n",
       "      <td>0.001422</td>\n",
       "    </tr>\n",
       "    <tr>\n",
       "      <th>77</th>\n",
       "      <td>132.024186</td>\n",
       "      <td>1.288007</td>\n",
       "      <td>0.556807</td>\n",
       "      <td>0.973697</td>\n",
       "      <td>215</td>\n",
       "      <td>215</td>\n",
       "      <td>{'n_estimators': 215, 'max_depth': 215}</td>\n",
       "      <td>11</td>\n",
       "      <td>0.542150</td>\n",
       "      <td>0.974522</td>\n",
       "      <td>0.674098</td>\n",
       "      <td>0.972873</td>\n",
       "      <td>101.841258</td>\n",
       "      <td>0.875164</td>\n",
       "      <td>0.041462</td>\n",
       "      <td>0.000825</td>\n",
       "    </tr>\n",
       "    <tr>\n",
       "      <th>78</th>\n",
       "      <td>324.337766</td>\n",
       "      <td>2.893135</td>\n",
       "      <td>0.570367</td>\n",
       "      <td>0.973830</td>\n",
       "      <td>215</td>\n",
       "      <td>464</td>\n",
       "      <td>{'n_estimators': 464, 'max_depth': 215}</td>\n",
       "      <td>8</td>\n",
       "      <td>0.556543</td>\n",
       "      <td>0.974522</td>\n",
       "      <td>0.680998</td>\n",
       "      <td>0.973138</td>\n",
       "      <td>255.475284</td>\n",
       "      <td>1.853367</td>\n",
       "      <td>0.039107</td>\n",
       "      <td>0.000692</td>\n",
       "    </tr>\n",
       "    <tr>\n",
       "      <th>79</th>\n",
       "      <td>704.003063</td>\n",
       "      <td>6.104645</td>\n",
       "      <td>0.580508</td>\n",
       "      <td>0.973830</td>\n",
       "      <td>215</td>\n",
       "      <td>1000</td>\n",
       "      <td>{'n_estimators': 1000, 'max_depth': 215}</td>\n",
       "      <td>2</td>\n",
       "      <td>0.567686</td>\n",
       "      <td>0.974522</td>\n",
       "      <td>0.683121</td>\n",
       "      <td>0.973138</td>\n",
       "      <td>547.156450</td>\n",
       "      <td>4.141820</td>\n",
       "      <td>0.036273</td>\n",
       "      <td>0.000692</td>\n",
       "    </tr>\n",
       "    <tr>\n",
       "      <th>80</th>\n",
       "      <td>0.869854</td>\n",
       "      <td>0.042362</td>\n",
       "      <td>0.181180</td>\n",
       "      <td>0.696306</td>\n",
       "      <td>464</td>\n",
       "      <td>1</td>\n",
       "      <td>{'n_estimators': 1, 'max_depth': 464}</td>\n",
       "      <td>64</td>\n",
       "      <td>0.169861</td>\n",
       "      <td>0.681529</td>\n",
       "      <td>0.271762</td>\n",
       "      <td>0.711083</td>\n",
       "      <td>0.610165</td>\n",
       "      <td>0.031333</td>\n",
       "      <td>0.032020</td>\n",
       "      <td>0.014777</td>\n",
       "    </tr>\n",
       "    <tr>\n",
       "      <th>81</th>\n",
       "      <td>1.579726</td>\n",
       "      <td>0.046123</td>\n",
       "      <td>0.166087</td>\n",
       "      <td>0.692193</td>\n",
       "      <td>464</td>\n",
       "      <td>2</td>\n",
       "      <td>{'n_estimators': 2, 'max_depth': 464}</td>\n",
       "      <td>72</td>\n",
       "      <td>0.151953</td>\n",
       "      <td>0.675690</td>\n",
       "      <td>0.279193</td>\n",
       "      <td>0.708695</td>\n",
       "      <td>1.209743</td>\n",
       "      <td>0.033589</td>\n",
       "      <td>0.039982</td>\n",
       "      <td>0.016503</td>\n",
       "    </tr>\n",
       "    <tr>\n",
       "      <th>82</th>\n",
       "      <td>3.371251</td>\n",
       "      <td>0.058657</td>\n",
       "      <td>0.214374</td>\n",
       "      <td>0.898337</td>\n",
       "      <td>464</td>\n",
       "      <td>4</td>\n",
       "      <td>{'n_estimators': 4, 'max_depth': 464}</td>\n",
       "      <td>57</td>\n",
       "      <td>0.197519</td>\n",
       "      <td>0.890658</td>\n",
       "      <td>0.349257</td>\n",
       "      <td>0.906016</td>\n",
       "      <td>2.671390</td>\n",
       "      <td>0.042112</td>\n",
       "      <td>0.047680</td>\n",
       "      <td>0.007679</td>\n",
       "    </tr>\n",
       "    <tr>\n",
       "      <th>83</th>\n",
       "      <td>8.411028</td>\n",
       "      <td>0.095755</td>\n",
       "      <td>0.317021</td>\n",
       "      <td>0.971574</td>\n",
       "      <td>464</td>\n",
       "      <td>10</td>\n",
       "      <td>{'n_estimators': 10, 'max_depth': 464}</td>\n",
       "      <td>45</td>\n",
       "      <td>0.297208</td>\n",
       "      <td>0.971338</td>\n",
       "      <td>0.475584</td>\n",
       "      <td>0.971811</td>\n",
       "      <td>6.630244</td>\n",
       "      <td>0.066679</td>\n",
       "      <td>0.056051</td>\n",
       "      <td>0.000237</td>\n",
       "    </tr>\n",
       "    <tr>\n",
       "      <th>84</th>\n",
       "      <td>17.679275</td>\n",
       "      <td>0.164954</td>\n",
       "      <td>0.410176</td>\n",
       "      <td>0.974261</td>\n",
       "      <td>464</td>\n",
       "      <td>21</td>\n",
       "      <td>{'n_estimators': 21, 'max_depth': 464}</td>\n",
       "      <td>34</td>\n",
       "      <td>0.392319</td>\n",
       "      <td>0.974522</td>\n",
       "      <td>0.553079</td>\n",
       "      <td>0.974000</td>\n",
       "      <td>13.860091</td>\n",
       "      <td>0.112313</td>\n",
       "      <td>0.050515</td>\n",
       "      <td>0.000261</td>\n",
       "    </tr>\n",
       "    <tr>\n",
       "      <th>85</th>\n",
       "      <td>38.743477</td>\n",
       "      <td>0.322878</td>\n",
       "      <td>0.460055</td>\n",
       "      <td>0.974328</td>\n",
       "      <td>464</td>\n",
       "      <td>46</td>\n",
       "      <td>{'n_estimators': 46, 'max_depth': 464}</td>\n",
       "      <td>29</td>\n",
       "      <td>0.440539</td>\n",
       "      <td>0.974522</td>\n",
       "      <td>0.616242</td>\n",
       "      <td>0.974133</td>\n",
       "      <td>31.042849</td>\n",
       "      <td>0.207562</td>\n",
       "      <td>0.055211</td>\n",
       "      <td>0.000195</td>\n",
       "    </tr>\n",
       "    <tr>\n",
       "      <th>86</th>\n",
       "      <td>83.512448</td>\n",
       "      <td>0.647754</td>\n",
       "      <td>0.522375</td>\n",
       "      <td>0.974328</td>\n",
       "      <td>464</td>\n",
       "      <td>100</td>\n",
       "      <td>{'n_estimators': 100, 'max_depth': 464}</td>\n",
       "      <td>19</td>\n",
       "      <td>0.507395</td>\n",
       "      <td>0.974522</td>\n",
       "      <td>0.642251</td>\n",
       "      <td>0.974133</td>\n",
       "      <td>66.684539</td>\n",
       "      <td>0.426637</td>\n",
       "      <td>0.042375</td>\n",
       "      <td>0.000195</td>\n",
       "    </tr>\n",
       "    <tr>\n",
       "      <th>87</th>\n",
       "      <td>179.509913</td>\n",
       "      <td>1.371666</td>\n",
       "      <td>0.551618</td>\n",
       "      <td>0.974328</td>\n",
       "      <td>464</td>\n",
       "      <td>215</td>\n",
       "      <td>{'n_estimators': 215, 'max_depth': 464}</td>\n",
       "      <td>14</td>\n",
       "      <td>0.537441</td>\n",
       "      <td>0.974522</td>\n",
       "      <td>0.665074</td>\n",
       "      <td>0.974133</td>\n",
       "      <td>142.327253</td>\n",
       "      <td>0.938506</td>\n",
       "      <td>0.040106</td>\n",
       "      <td>0.000195</td>\n",
       "    </tr>\n",
       "    <tr>\n",
       "      <th>88</th>\n",
       "      <td>390.102616</td>\n",
       "      <td>2.944901</td>\n",
       "      <td>0.570957</td>\n",
       "      <td>0.974328</td>\n",
       "      <td>464</td>\n",
       "      <td>464</td>\n",
       "      <td>{'n_estimators': 464, 'max_depth': 464}</td>\n",
       "      <td>7</td>\n",
       "      <td>0.556676</td>\n",
       "      <td>0.974522</td>\n",
       "      <td>0.685244</td>\n",
       "      <td>0.974133</td>\n",
       "      <td>310.778650</td>\n",
       "      <td>1.923183</td>\n",
       "      <td>0.040400</td>\n",
       "      <td>0.000195</td>\n",
       "    </tr>\n",
       "    <tr>\n",
       "      <th>89</th>\n",
       "      <td>839.968199</td>\n",
       "      <td>6.218472</td>\n",
       "      <td>0.576499</td>\n",
       "      <td>0.974328</td>\n",
       "      <td>464</td>\n",
       "      <td>1000</td>\n",
       "      <td>{'n_estimators': 1000, 'max_depth': 464}</td>\n",
       "      <td>3</td>\n",
       "      <td>0.564038</td>\n",
       "      <td>0.974522</td>\n",
       "      <td>0.676221</td>\n",
       "      <td>0.974133</td>\n",
       "      <td>666.931300</td>\n",
       "      <td>4.239684</td>\n",
       "      <td>0.035251</td>\n",
       "      <td>0.000195</td>\n",
       "    </tr>\n",
       "    <tr>\n",
       "      <th>90</th>\n",
       "      <td>0.765545</td>\n",
       "      <td>0.042560</td>\n",
       "      <td>0.172926</td>\n",
       "      <td>0.693421</td>\n",
       "      <td>1000</td>\n",
       "      <td>1</td>\n",
       "      <td>{'n_estimators': 1, 'max_depth': 1000}</td>\n",
       "      <td>68</td>\n",
       "      <td>0.162632</td>\n",
       "      <td>0.680467</td>\n",
       "      <td>0.255308</td>\n",
       "      <td>0.706374</td>\n",
       "      <td>0.584882</td>\n",
       "      <td>0.026690</td>\n",
       "      <td>0.029122</td>\n",
       "      <td>0.012953</td>\n",
       "    </tr>\n",
       "    <tr>\n",
       "      <th>91</th>\n",
       "      <td>1.634699</td>\n",
       "      <td>0.039956</td>\n",
       "      <td>0.171511</td>\n",
       "      <td>0.689672</td>\n",
       "      <td>1000</td>\n",
       "      <td>2</td>\n",
       "      <td>{'n_estimators': 2, 'max_depth': 1000}</td>\n",
       "      <td>69</td>\n",
       "      <td>0.162698</td>\n",
       "      <td>0.672505</td>\n",
       "      <td>0.242038</td>\n",
       "      <td>0.706838</td>\n",
       "      <td>1.292210</td>\n",
       "      <td>0.027650</td>\n",
       "      <td>0.024931</td>\n",
       "      <td>0.017166</td>\n",
       "    </tr>\n",
       "    <tr>\n",
       "      <th>92</th>\n",
       "      <td>2.908173</td>\n",
       "      <td>0.051590</td>\n",
       "      <td>0.197512</td>\n",
       "      <td>0.899631</td>\n",
       "      <td>1000</td>\n",
       "      <td>4</td>\n",
       "      <td>{'n_estimators': 4, 'max_depth': 1000}</td>\n",
       "      <td>60</td>\n",
       "      <td>0.184122</td>\n",
       "      <td>0.894904</td>\n",
       "      <td>0.304671</td>\n",
       "      <td>0.904358</td>\n",
       "      <td>2.258620</td>\n",
       "      <td>0.048462</td>\n",
       "      <td>0.037880</td>\n",
       "      <td>0.004727</td>\n",
       "    </tr>\n",
       "    <tr>\n",
       "      <th>93</th>\n",
       "      <td>7.347855</td>\n",
       "      <td>0.089241</td>\n",
       "      <td>0.303107</td>\n",
       "      <td>0.970049</td>\n",
       "      <td>1000</td>\n",
       "      <td>10</td>\n",
       "      <td>{'n_estimators': 10, 'max_depth': 1000}</td>\n",
       "      <td>47</td>\n",
       "      <td>0.282019</td>\n",
       "      <td>0.970276</td>\n",
       "      <td>0.471868</td>\n",
       "      <td>0.969822</td>\n",
       "      <td>5.820292</td>\n",
       "      <td>0.061237</td>\n",
       "      <td>0.059656</td>\n",
       "      <td>0.000227</td>\n",
       "    </tr>\n",
       "    <tr>\n",
       "      <th>94</th>\n",
       "      <td>15.214570</td>\n",
       "      <td>0.157892</td>\n",
       "      <td>0.402571</td>\n",
       "      <td>0.974062</td>\n",
       "      <td>1000</td>\n",
       "      <td>21</td>\n",
       "      <td>{'n_estimators': 21, 'max_depth': 1000}</td>\n",
       "      <td>36</td>\n",
       "      <td>0.382569</td>\n",
       "      <td>0.973992</td>\n",
       "      <td>0.562633</td>\n",
       "      <td>0.974133</td>\n",
       "      <td>11.995245</td>\n",
       "      <td>0.108730</td>\n",
       "      <td>0.056581</td>\n",
       "      <td>0.000071</td>\n",
       "    </tr>\n",
       "    <tr>\n",
       "      <th>95</th>\n",
       "      <td>33.657006</td>\n",
       "      <td>0.309425</td>\n",
       "      <td>0.475562</td>\n",
       "      <td>0.974328</td>\n",
       "      <td>1000</td>\n",
       "      <td>46</td>\n",
       "      <td>{'n_estimators': 46, 'max_depth': 1000}</td>\n",
       "      <td>26</td>\n",
       "      <td>0.458314</td>\n",
       "      <td>0.974522</td>\n",
       "      <td>0.613588</td>\n",
       "      <td>0.974133</td>\n",
       "      <td>26.844601</td>\n",
       "      <td>0.210150</td>\n",
       "      <td>0.048792</td>\n",
       "      <td>0.000195</td>\n",
       "    </tr>\n",
       "    <tr>\n",
       "      <th>96</th>\n",
       "      <td>72.520111</td>\n",
       "      <td>0.615893</td>\n",
       "      <td>0.523672</td>\n",
       "      <td>0.974328</td>\n",
       "      <td>1000</td>\n",
       "      <td>100</td>\n",
       "      <td>{'n_estimators': 100, 'max_depth': 1000}</td>\n",
       "      <td>18</td>\n",
       "      <td>0.508656</td>\n",
       "      <td>0.974522</td>\n",
       "      <td>0.643843</td>\n",
       "      <td>0.974133</td>\n",
       "      <td>57.193478</td>\n",
       "      <td>0.416003</td>\n",
       "      <td>0.042480</td>\n",
       "      <td>0.000195</td>\n",
       "    </tr>\n",
       "    <tr>\n",
       "      <th>97</th>\n",
       "      <td>156.554372</td>\n",
       "      <td>1.334744</td>\n",
       "      <td>0.554095</td>\n",
       "      <td>0.974328</td>\n",
       "      <td>1000</td>\n",
       "      <td>215</td>\n",
       "      <td>{'n_estimators': 215, 'max_depth': 1000}</td>\n",
       "      <td>13</td>\n",
       "      <td>0.540028</td>\n",
       "      <td>0.974522</td>\n",
       "      <td>0.666667</td>\n",
       "      <td>0.974133</td>\n",
       "      <td>123.785718</td>\n",
       "      <td>0.919893</td>\n",
       "      <td>0.039794</td>\n",
       "      <td>0.000195</td>\n",
       "    </tr>\n",
       "    <tr>\n",
       "      <th>98</th>\n",
       "      <td>337.463849</td>\n",
       "      <td>2.747738</td>\n",
       "      <td>0.571429</td>\n",
       "      <td>0.974328</td>\n",
       "      <td>1000</td>\n",
       "      <td>464</td>\n",
       "      <td>{'n_estimators': 464, 'max_depth': 1000}</td>\n",
       "      <td>6</td>\n",
       "      <td>0.558201</td>\n",
       "      <td>0.974522</td>\n",
       "      <td>0.677282</td>\n",
       "      <td>0.974133</td>\n",
       "      <td>266.908679</td>\n",
       "      <td>1.849762</td>\n",
       "      <td>0.037419</td>\n",
       "      <td>0.000195</td>\n",
       "    </tr>\n",
       "    <tr>\n",
       "      <th>99</th>\n",
       "      <td>1692.178601</td>\n",
       "      <td>6.381766</td>\n",
       "      <td>0.576145</td>\n",
       "      <td>0.974328</td>\n",
       "      <td>1000</td>\n",
       "      <td>1000</td>\n",
       "      <td>{'n_estimators': 1000, 'max_depth': 1000}</td>\n",
       "      <td>4</td>\n",
       "      <td>0.563176</td>\n",
       "      <td>0.974522</td>\n",
       "      <td>0.679936</td>\n",
       "      <td>0.974133</td>\n",
       "      <td>1539.788550</td>\n",
       "      <td>3.550188</td>\n",
       "      <td>0.036690</td>\n",
       "      <td>0.000195</td>\n",
       "    </tr>\n",
       "  </tbody>\n",
       "</table>\n",
       "</div>"
      ],
      "text/plain": [
       "    mean_fit_time  mean_score_time  mean_test_score  mean_train_score  \\\n",
       "69     377.444108         5.381742         0.582395          0.965539   \n",
       "70       0.716710         0.042907         0.151937          0.647320   \n",
       "71       1.220232         0.045130         0.157656          0.689376   \n",
       "72       2.505547         0.057139         0.213902          0.885768   \n",
       "73       6.205317         0.092561         0.322976          0.963847   \n",
       "74      13.021948         0.157917         0.395260          0.972537   \n",
       "75      28.241802         0.300488         0.470432          0.973465   \n",
       "76      68.616554         0.656379         0.524203          0.973101   \n",
       "77     132.024186         1.288007         0.556807          0.973697   \n",
       "78     324.337766         2.893135         0.570367          0.973830   \n",
       "79     704.003063         6.104645         0.580508          0.973830   \n",
       "80       0.869854         0.042362         0.181180          0.696306   \n",
       "81       1.579726         0.046123         0.166087          0.692193   \n",
       "82       3.371251         0.058657         0.214374          0.898337   \n",
       "83       8.411028         0.095755         0.317021          0.971574   \n",
       "84      17.679275         0.164954         0.410176          0.974261   \n",
       "85      38.743477         0.322878         0.460055          0.974328   \n",
       "86      83.512448         0.647754         0.522375          0.974328   \n",
       "87     179.509913         1.371666         0.551618          0.974328   \n",
       "88     390.102616         2.944901         0.570957          0.974328   \n",
       "89     839.968199         6.218472         0.576499          0.974328   \n",
       "90       0.765545         0.042560         0.172926          0.693421   \n",
       "91       1.634699         0.039956         0.171511          0.689672   \n",
       "92       2.908173         0.051590         0.197512          0.899631   \n",
       "93       7.347855         0.089241         0.303107          0.970049   \n",
       "94      15.214570         0.157892         0.402571          0.974062   \n",
       "95      33.657006         0.309425         0.475562          0.974328   \n",
       "96      72.520111         0.615893         0.523672          0.974328   \n",
       "97     156.554372         1.334744         0.554095          0.974328   \n",
       "98     337.463849         2.747738         0.571429          0.974328   \n",
       "99    1692.178601         6.381766         0.576145          0.974328   \n",
       "\n",
       "   param_max_depth param_n_estimators  \\\n",
       "69             100               1000   \n",
       "70             215                  1   \n",
       "71             215                  2   \n",
       "72             215                  4   \n",
       "73             215                 10   \n",
       "74             215                 21   \n",
       "75             215                 46   \n",
       "76             215                100   \n",
       "77             215                215   \n",
       "78             215                464   \n",
       "79             215               1000   \n",
       "80             464                  1   \n",
       "81             464                  2   \n",
       "82             464                  4   \n",
       "83             464                 10   \n",
       "84             464                 21   \n",
       "85             464                 46   \n",
       "86             464                100   \n",
       "87             464                215   \n",
       "88             464                464   \n",
       "89             464               1000   \n",
       "90            1000                  1   \n",
       "91            1000                  2   \n",
       "92            1000                  4   \n",
       "93            1000                 10   \n",
       "94            1000                 21   \n",
       "95            1000                 46   \n",
       "96            1000                100   \n",
       "97            1000                215   \n",
       "98            1000                464   \n",
       "99            1000               1000   \n",
       "\n",
       "                                       params  rank_test_score  \\\n",
       "69   {'n_estimators': 1000, 'max_depth': 100}                1   \n",
       "70      {'n_estimators': 1, 'max_depth': 215}               77   \n",
       "71      {'n_estimators': 2, 'max_depth': 215}               75   \n",
       "72      {'n_estimators': 4, 'max_depth': 215}               58   \n",
       "73     {'n_estimators': 10, 'max_depth': 215}               43   \n",
       "74     {'n_estimators': 21, 'max_depth': 215}               38   \n",
       "75     {'n_estimators': 46, 'max_depth': 215}               27   \n",
       "76    {'n_estimators': 100, 'max_depth': 215}               17   \n",
       "77    {'n_estimators': 215, 'max_depth': 215}               11   \n",
       "78    {'n_estimators': 464, 'max_depth': 215}                8   \n",
       "79   {'n_estimators': 1000, 'max_depth': 215}                2   \n",
       "80      {'n_estimators': 1, 'max_depth': 464}               64   \n",
       "81      {'n_estimators': 2, 'max_depth': 464}               72   \n",
       "82      {'n_estimators': 4, 'max_depth': 464}               57   \n",
       "83     {'n_estimators': 10, 'max_depth': 464}               45   \n",
       "84     {'n_estimators': 21, 'max_depth': 464}               34   \n",
       "85     {'n_estimators': 46, 'max_depth': 464}               29   \n",
       "86    {'n_estimators': 100, 'max_depth': 464}               19   \n",
       "87    {'n_estimators': 215, 'max_depth': 464}               14   \n",
       "88    {'n_estimators': 464, 'max_depth': 464}                7   \n",
       "89   {'n_estimators': 1000, 'max_depth': 464}                3   \n",
       "90     {'n_estimators': 1, 'max_depth': 1000}               68   \n",
       "91     {'n_estimators': 2, 'max_depth': 1000}               69   \n",
       "92     {'n_estimators': 4, 'max_depth': 1000}               60   \n",
       "93    {'n_estimators': 10, 'max_depth': 1000}               47   \n",
       "94    {'n_estimators': 21, 'max_depth': 1000}               36   \n",
       "95    {'n_estimators': 46, 'max_depth': 1000}               26   \n",
       "96   {'n_estimators': 100, 'max_depth': 1000}               18   \n",
       "97   {'n_estimators': 215, 'max_depth': 1000}               13   \n",
       "98   {'n_estimators': 464, 'max_depth': 1000}                6   \n",
       "99  {'n_estimators': 1000, 'max_depth': 1000}                4   \n",
       "\n",
       "    split0_test_score  split0_train_score  split1_test_score  \\\n",
       "69           0.571201            0.970276           0.671975   \n",
       "70           0.136964            0.659766           0.271762   \n",
       "71           0.144657            0.687898           0.261677   \n",
       "72           0.197917            0.892251           0.341826   \n",
       "73           0.303376            0.970807           0.479830   \n",
       "74           0.373814            0.974522           0.566879   \n",
       "75           0.451814            0.974522           0.619427   \n",
       "76           0.506931            0.974522           0.662420   \n",
       "77           0.542150            0.974522           0.674098   \n",
       "78           0.556543            0.974522           0.680998   \n",
       "79           0.567686            0.974522           0.683121   \n",
       "80           0.169861            0.681529           0.271762   \n",
       "81           0.151953            0.675690           0.279193   \n",
       "82           0.197519            0.890658           0.349257   \n",
       "83           0.297208            0.971338           0.475584   \n",
       "84           0.392319            0.974522           0.553079   \n",
       "85           0.440539            0.974522           0.616242   \n",
       "86           0.507395            0.974522           0.642251   \n",
       "87           0.537441            0.974522           0.665074   \n",
       "88           0.556676            0.974522           0.685244   \n",
       "89           0.564038            0.974522           0.676221   \n",
       "90           0.162632            0.680467           0.255308   \n",
       "91           0.162698            0.672505           0.242038   \n",
       "92           0.184122            0.894904           0.304671   \n",
       "93           0.282019            0.970276           0.471868   \n",
       "94           0.382569            0.973992           0.562633   \n",
       "95           0.458314            0.974522           0.613588   \n",
       "96           0.508656            0.974522           0.643843   \n",
       "97           0.540028            0.974522           0.666667   \n",
       "98           0.558201            0.974522           0.677282   \n",
       "99           0.563176            0.974522           0.679936   \n",
       "\n",
       "    split1_train_score  std_fit_time  std_score_time  std_test_score  \\\n",
       "69            0.960801    275.955846        3.926427        0.031666   \n",
       "70            0.634874      0.545633        0.027280        0.042358   \n",
       "71            0.690854      0.905039        0.034081        0.036771   \n",
       "72            0.879286      1.918933        0.042095        0.045220   \n",
       "73            0.956888      4.841328        0.066189        0.055447   \n",
       "74            0.970551     10.094939        0.107452        0.060667   \n",
       "75            0.972408     21.724622        0.218189        0.052669   \n",
       "76            0.971679     41.233220        0.472809        0.048859   \n",
       "77            0.972873    101.841258        0.875164        0.041462   \n",
       "78            0.973138    255.475284        1.853367        0.039107   \n",
       "79            0.973138    547.156450        4.141820        0.036273   \n",
       "80            0.711083      0.610165        0.031333        0.032020   \n",
       "81            0.708695      1.209743        0.033589        0.039982   \n",
       "82            0.906016      2.671390        0.042112        0.047680   \n",
       "83            0.971811      6.630244        0.066679        0.056051   \n",
       "84            0.974000     13.860091        0.112313        0.050515   \n",
       "85            0.974133     31.042849        0.207562        0.055211   \n",
       "86            0.974133     66.684539        0.426637        0.042375   \n",
       "87            0.974133    142.327253        0.938506        0.040106   \n",
       "88            0.974133    310.778650        1.923183        0.040400   \n",
       "89            0.974133    666.931300        4.239684        0.035251   \n",
       "90            0.706374      0.584882        0.026690        0.029122   \n",
       "91            0.706838      1.292210        0.027650        0.024931   \n",
       "92            0.904358      2.258620        0.048462        0.037880   \n",
       "93            0.969822      5.820292        0.061237        0.059656   \n",
       "94            0.974133     11.995245        0.108730        0.056581   \n",
       "95            0.974133     26.844601        0.210150        0.048792   \n",
       "96            0.974133     57.193478        0.416003        0.042480   \n",
       "97            0.974133    123.785718        0.919893        0.039794   \n",
       "98            0.974133    266.908679        1.849762        0.037419   \n",
       "99            0.974133   1539.788550        3.550188        0.036690   \n",
       "\n",
       "    std_train_score  \n",
       "69         0.004737  \n",
       "70         0.012446  \n",
       "71         0.001478  \n",
       "72         0.006482  \n",
       "73         0.006959  \n",
       "74         0.001986  \n",
       "75         0.001057  \n",
       "76         0.001422  \n",
       "77         0.000825  \n",
       "78         0.000692  \n",
       "79         0.000692  \n",
       "80         0.014777  \n",
       "81         0.016503  \n",
       "82         0.007679  \n",
       "83         0.000237  \n",
       "84         0.000261  \n",
       "85         0.000195  \n",
       "86         0.000195  \n",
       "87         0.000195  \n",
       "88         0.000195  \n",
       "89         0.000195  \n",
       "90         0.012953  \n",
       "91         0.017166  \n",
       "92         0.004727  \n",
       "93         0.000227  \n",
       "94         0.000071  \n",
       "95         0.000195  \n",
       "96         0.000195  \n",
       "97         0.000195  \n",
       "98         0.000195  \n",
       "99         0.000195  "
      ]
     },
     "execution_count": 13,
     "metadata": {},
     "output_type": "execute_result"
    }
   ],
   "source": [
    "import pandas as pd\n",
    "pd.DataFrame.from_dict(clf_test.cv_results_)[69:100]"
   ]
  },
  {
   "cell_type": "code",
   "execution_count": 16,
   "metadata": {},
   "outputs": [],
   "source": [
    "import matplotlib.pyplot as plt\n",
    "import numpy as np\n",
    "import itertools\n",
    "\n",
    "def plot_confusion_matrix(cm, classes,\n",
    "                          normalize=False,\n",
    "                          title='Confusion matrix',\n",
    "                          cmap=plt.cm.Blues):\n",
    "    \"\"\"\n",
    "    This function prints and plots the confusion matrix.\n",
    "    Normalization can be applied by setting `normalize=True`.\n",
    "    \"\"\"\n",
    "    if normalize:\n",
    "        cm = cm.astype('float') / cm.sum(axis=1)[:, np.newaxis]\n",
    "        print(\"Normalized confusion matrix\")\n",
    "    else:\n",
    "        print('Confusion matrix, without normalization')\n",
    "\n",
    "    plt.imshow(cm, interpolation='nearest', cmap=cmap)\n",
    "    plt.title(title)\n",
    "    plt.colorbar()\n",
    "    tick_marks = np.arange(len(classes))\n",
    "    plt.xticks(tick_marks, classes, rotation=90)\n",
    "    plt.yticks(tick_marks, classes)\n",
    "\n",
    "    fmt = '.2f' if normalize else 'd'\n",
    "    thresh = cm.max() / 2.\n",
    "    for i, j in itertools.product(range(cm.shape[0]), range(cm.shape[1])):\n",
    "        plt.text(j, i, format(cm[i, j], fmt),\n",
    "                 horizontalalignment=\"center\",\n",
    "                 color=\"white\" if cm[i, j] > thresh else \"black\")\n",
    "\n",
    "    plt.tight_layout()\n",
    "    plt.ylabel('True label')\n",
    "    plt.xlabel('Predicted label')"
   ]
  },
  {
   "cell_type": "code",
   "execution_count": 17,
   "metadata": {},
   "outputs": [
    {
     "name": "stdout",
     "output_type": "stream",
     "text": [
      "Confusion matrix, without normalization\n",
      "[[ 65   1   0   0   0   0   0   0   0   0   0   0   0   0   0   0   0   0\n",
      "    0   0]\n",
      " [  0  77   0   0   0   1   1   1   0   0   0   1   3   0   1   0   0   0\n",
      "    1   0]\n",
      " [  0   0  76   1   0   1   0   0   0   0   0   0   0   0   0   0   1   0\n",
      "    1   0]\n",
      " [  0   1   2  97   1   0   0   0   0   0   0   0   1   0   0   0   0   0\n",
      "    0   0]\n",
      " [  0   0   0   1  81   0   0   0   0   0   0   0   1   0   0   0   0   0\n",
      "    0   0]\n",
      " [  0   0   0   0   0 106   0   0   0   1   0   0   1   0   0   0   0   0\n",
      "    0   0]\n",
      " [  0   0   0   1   0   0  99   0   0   0   0   0   1   0   0   0   0   0\n",
      "    0   0]\n",
      " [  0   0   0   0   0   0   0  90   1   0   0   0   0   0   0   0   0   0\n",
      "    0   0]\n",
      " [  7   4   4   3   5   3   6   5 100   5   6   4   3   2   7   3   2   4\n",
      "    5   8]\n",
      " [  0   0   0   0   0   0   0   0   0  77   0   0   0   1   0   0   1   0\n",
      "    0   0]\n",
      " [  1   0   0   0   0   0   0   0   0   1  97   0   0   0   0   0   0   0\n",
      "    0   0]\n",
      " [  0   0   0   0   0   0   0   0   0   0   0  97   0   0   0   0   0   0\n",
      "    0   0]\n",
      " [  0   0   0   1   0   0   0   0   0   0   0   0  89   0   0   0   0   0\n",
      "    0   0]\n",
      " [  0   0   0   0   0   0   0   0   0   1   0   0   1 100   1   0   0   0\n",
      "    0   0]\n",
      " [  0   0   0   0   0   0   0   0   0   0   0   0   1   0  92   1   1   0\n",
      "    0   0]\n",
      " [  2   0   0   0   0   0   0   0   0   0   0   0   0   0   0  93   0   0\n",
      "    1   2]\n",
      " [  0   0   0   0   0   0   0   0   0   0   0   0   0   0   0   0  91   0\n",
      "    2   2]\n",
      " [  0   0   0   0   0   0   0   0   0   0   0   0   0   0   0   0   0  99\n",
      "    0   0]\n",
      " [  0   0   0   0   0   0   0   0   0   0   0   0   0   0   0   0   1   0\n",
      "   80   0]\n",
      " [  0   0   0   0   0   0   0   0   0   0   0   0   0   0   0   0   0   0\n",
      "    0  46]]\n"
     ]
    },
    {
     "data": {
      "image/png": "[encoded data removed]",
      "text/plain": [
       "<matplotlib.figure.Figure at 0x7fdade0dd6a0>"
      ]
     },
     "metadata": {},
     "output_type": "display_data"
    }
   ],
   "source": [
    "plt.figure(figsize=(18, 9))\n",
    "plot_confusion_matrix(cm, newsgroup.target_names, normalize=False, title=\"Confusion matrix\")\n",
    "plt.show()"
   ]
  },
  {
   "cell_type": "code",
   "execution_count": 73,
   "metadata": {},
   "outputs": [
    {
     "data": {
      "text/plain": [
       "RandomForestClassifier(bootstrap=True, class_weight=None, criterion='gini',\n",
       "            max_depth=100, max_features='auto', max_leaf_nodes=None,\n",
       "            min_impurity_decrease=0.0, min_impurity_split=None,\n",
       "            min_samples_leaf=1, min_samples_split=2,\n",
       "            min_weight_fraction_leaf=0.0, n_estimators=1000, n_jobs=1,\n",
       "            oob_score=False, random_state=None, verbose=0,\n",
       "            warm_start=False)"
      ]
     },
     "execution_count": 73,
     "metadata": {},
     "output_type": "execute_result"
    }
   ],
   "source": [
    "rfclf = RandomForestClassifier(max_depth=100, n_estimators=1000)\n",
    "rfclf.fit(X_train, y_train)"
   ]
  },
  {
   "cell_type": "code",
   "execution_count": 20,
   "metadata": {},
   "outputs": [],
   "source": [
    "pickle.dump(rfclf, open(r'models/rfclf_md100_ne1000.sav', 'wb'))"
   ]
  },
  {
   "cell_type": "code",
   "execution_count": 76,
   "metadata": {},
   "outputs": [
    {
     "data": {
      "text/plain": [
       "0.6880636604774536"
      ]
     },
     "execution_count": 76,
     "metadata": {},
     "output_type": "execute_result"
    }
   ],
   "source": [
    "rfclf.score(X_val, y_val)"
   ]
  },
  {
   "cell_type": "code",
   "execution_count": 25,
   "metadata": {},
   "outputs": [
    {
     "data": {
      "text/plain": [
       "0.92944297082228122"
      ]
     },
     "execution_count": 25,
     "metadata": {},
     "output_type": "execute_result"
    }
   ],
   "source": [
    "clf_test.score(X_test, y_test)"
   ]
  },
  {
   "cell_type": "code",
   "execution_count": 32,
   "metadata": {},
   "outputs": [
    {
     "data": {
      "text/plain": [
       "GridSearchCV(cv=PredefinedSplit(test_fold=array([0, 0, ..., 1, 1], dtype=int32)),\n",
       "       error_score='raise',\n",
       "       estimator=RandomForestClassifier(bootstrap=True, class_weight=None, criterion='gini',\n",
       "            max_depth=None, max_features='auto', max_leaf_nodes=None,\n",
       "            min_impurity_decrease=0.0, min_impurity_split=None,\n",
       "            min_samples_leaf=1, min_samples_split=2,\n",
       "            min_weight_fraction_leaf=0.0, n_estimators=10, n_jobs=1,\n",
       "            oob_score=False, random_state=None, verbose=0,\n",
       "            warm_start=False),\n",
       "       fit_params=None, iid=True, n_jobs=1,\n",
       "       param_grid={'n_estimators': array([   1,    2,    4,   10,   21,   46,  100,  215,  464, 1000], dtype=int32), 'max_depth': array([   1,    2,    4,   10,   21,   46,  100,  215,  464, 1000], dtype=int32)},\n",
       "       pre_dispatch='2*n_jobs', refit=True, return_train_score='warn',\n",
       "       scoring=None, verbose=2)"
      ]
     },
     "execution_count": 32,
     "metadata": {},
     "output_type": "execute_result"
    }
   ],
   "source": [
    "clf_test"
   ]
  },
  {
   "cell_type": "markdown",
   "metadata": {},
   "source": [
    "## Question 2: Applied ML\n",
    "Now let's do some applied machine learning ! We have a dataset which consists of articles and we also have the labels for those articles (all kinds of subjects such as computer graphics, motorcycles, religion, etc.) and we simply want to construct a classifier for this. We will start by dividing the dataset into 80% training set, 10% validation set and 10% test set. And then we will train a random forest classifier on this dataset. We will have to find the optimal parameters for our classifier and for this we will perform a grid search.\n",
    "\n",
    "Let's start by importing our libraries:"
   ]
  },
  {
   "cell_type": "code",
   "execution_count": 44,
   "metadata": {},
   "outputs": [],
   "source": [
    "# General tools:\n",
    "import matplotlib.pyplot as plt\n",
    "import numpy as np\n",
    "import itertools\n",
    "import pandas as pd\n",
    "import pickle\n",
    "\n",
    "# sklearn tools:\n",
    "from sklearn.model_selection import GridSearchCV, PredefinedSplit\n",
    "from sklearn.ensemble import RandomForestClassifier\n",
    "from sklearn.model_selection import train_test_split\n",
    "from sklearn.feature_extraction.text import TfidfVectorizer\n",
    "from sklearn.datasets import fetch_20newsgroups"
   ]
  },
  {
   "cell_type": "markdown",
   "metadata": {},
   "source": [
    "Now we can import our newsgroup dataset as required in the exercise. We will remove the headers, footers and quotes since they contain some information which make classification much more \"obvious\" for our model. If you want to have more detail on this you can take a look at [sklearn info on newsgroup](http://scikit-learn.org/stable/datasets/twenty_newsgroups.html). Basically, removing the headers, footers and quotes allow us to perform our exeperiments in a much more \"realistic\" setting."
   ]
  },
  {
   "cell_type": "code",
   "execution_count": 45,
   "metadata": {},
   "outputs": [],
   "source": [
    "newsgroup = fetch_20newsgroups(subset=\"all\", remove=('headers', 'footers', 'quotes'))"
   ]
  },
  {
   "cell_type": "markdown",
   "metadata": {},
   "source": [
    "Now we have to vectorize our data. That is, we want to represent each article as a vector so that we can use it for ML classification:"
   ]
  },
  {
   "cell_type": "code",
   "execution_count": 43,
   "metadata": {},
   "outputs": [
    {
     "data": {
      "text/plain": [
       "(18846, 134410)"
      ]
     },
     "execution_count": 43,
     "metadata": {},
     "output_type": "execute_result"
    }
   ],
   "source": [
    "from sklearn.feature_extraction.text import TfidfVectorizer\n",
    "vectorizer = TfidfVectorizer()\n",
    "vectors = vectorizer.fit_transform(newsgroup.data)\n",
    "vectors.shape"
   ]
  },
  {
   "cell_type": "markdown",
   "metadata": {},
   "source": [
    "We prefer to name our features 'X' and our labels 'y' since this is much more usual and easier to read"
   ]
  },
  {
   "cell_type": "code",
   "execution_count": 46,
   "metadata": {},
   "outputs": [],
   "source": [
    "X = vectors\n",
    "y = newsgroup.target"
   ]
  },
  {
   "cell_type": "markdown",
   "metadata": {},
   "source": [
    "Now we divide our dataset into training, validation ant testing sets. Notice that we do this by dividing it recursively two times: once into a \"fitting\" and a test set. And secondly, we divide the \"fitting\" set into a training and validation set."
   ]
  },
  {
   "cell_type": "code",
   "execution_count": 47,
   "metadata": {},
   "outputs": [],
   "source": [
    "X_fit, X_test, y_fit, y_test = train_test_split(X, y, test_size=0.1)\n",
    "# Here we put 0.11111111 because 0.1111111... * 0.9 = 0.1 which will give 80% / 10% / 10%\n",
    "X_train, X_val, y_train, y_val = train_test_split(X_fit, y_fit, test_size=0.111111112)"
   ]
  },
  {
   "cell_type": "markdown",
   "metadata": {},
   "source": [
    "Now we will fit a grid search classifier on random forests. We will use a predefined split instead of using the basic K-fold cross-validation. In this predefined split we will take 11.11% of the fitting set (11.11% of 90 % is 10%) as our validation set and the rest as our training set. We will try to fit on a number of estimators which will be between 1 and 1000 and a max depth which will also be between 1 and 1000. For that we will use a logarithmic space and take 10 different values between 1 and 1000. Those values will be: "
   ]
  },
  {
   "cell_type": "code",
   "execution_count": 35,
   "metadata": {},
   "outputs": [
    {
     "data": {
      "text/plain": [
       "[1, 2, 4, 10, 21, 46, 100, 215, 464, 1000]"
      ]
     },
     "execution_count": 35,
     "metadata": {},
     "output_type": "execute_result"
    }
   ],
   "source": [
    "list(np.logspace(0, 3, num=10, dtype='int'))"
   ]
  },
  {
   "cell_type": "markdown",
   "metadata": {},
   "source": [
    "Now let's fit ! Don't run this cell, the training takes at least 3 hours ! But if you want to run it, then change the variable 'fitting_grid_search' to True (we put this mechanism in case we run all cells by inadvertance)."
   ]
  },
  {
   "cell_type": "code",
   "execution_count": null,
   "metadata": {},
   "outputs": [],
   "source": [
    "fitting_grid_search = False\n",
    "\n",
    "fit_total = X_fit.shape[0]\n",
    "n_val = int(fit_total * 0.1111111)\n",
    "n_train = fit_total - n_val\n",
    "\n",
    "# we use a predefined split instead of cross-validation\n",
    "ps_array = [0] * n_train + [1] * n_val\n",
    "\n",
    "n_estimators_space = np.logspace(0, 3, num=10, dtype='int')\n",
    "max_depth_space = np.logspace(0, 3, num=10, dtype='int')\n",
    "\n",
    "rfc = RandomForestClassifier()\n",
    "\n",
    "if fitting_grid_search:\n",
    "    clf_grid = GridSearchCV(rfc, param_grid={'n_estimators':n_estimators_space, 'max_depth':max_depth_space}, cv=PredefinedSplit(ps_array))\n",
    "    clf_grid.fit(X_fit, y_fit)"
   ]
  },
  {
   "cell_type": "markdown",
   "metadata": {},
   "source": [
    "We don't want to lose our classifier ! So let's save it:"
   ]
  },
  {
   "cell_type": "code",
   "execution_count": null,
   "metadata": {},
   "outputs": [],
   "source": [
    "if fitting_grid_search:\n",
    "    pickle.dump(clf_grid, open(\"models/clf_grid.sav\", \"wb\"))"
   ]
  },
  {
   "cell_type": "markdown",
   "metadata": {},
   "source": [
    "Now let's load it again:"
   ]
  },
  {
   "cell_type": "code",
   "execution_count": 48,
   "metadata": {},
   "outputs": [],
   "source": [
    "clf_grid_loaded = pickle.load(open(\"models/clf_grid.sav\", \"rb\"))"
   ]
  },
  {
   "cell_type": "markdown",
   "metadata": {},
   "source": [
    "And our score is:"
   ]
  },
  {
   "cell_type": "code",
   "execution_count": 49,
   "metadata": {},
   "outputs": [
    {
     "data": {
      "text/plain": [
       "0.92413793103448272"
      ]
     },
     "execution_count": 49,
     "metadata": {},
     "output_type": "execute_result"
    }
   ],
   "source": [
    "clf_grid_loaded.score(X_test, y_test)"
   ]
  },
  {
   "cell_type": "markdown",
   "metadata": {},
   "source": [
    "Now let's display the confusion matrix for our classifier:"
   ]
  },
  {
   "cell_type": "code",
   "execution_count": 38,
   "metadata": {},
   "outputs": [
    {
     "name": "stdout",
     "output_type": "stream",
     "text": [
      "Confusion matrix, without normalization\n"
     ]
    },
    {
     "data": {
      "image/png": "[encoded data removed]",
      "text/plain": [
       "<matplotlib.figure.Figure at 0x7fdae36889e8>"
      ]
     },
     "metadata": {},
     "output_type": "display_data"
    }
   ],
   "source": [
    "def plot_confusion_matrix(cm, classes,\n",
    "                          normalize=False,\n",
    "                          title='Confusion matrix',\n",
    "                          cmap=plt.cm.Blues):\n",
    "    \"\"\"\n",
    "    This function prints and plots the confusion matrix.\n",
    "    Normalization can be applied by setting `normalize=True`.\n",
    "    \"\"\"\n",
    "    if normalize:\n",
    "        cm = cm.astype('float') / cm.sum(axis=1)[:, np.newaxis]\n",
    "        print(\"Normalized confusion matrix\")\n",
    "    else:\n",
    "        print('Confusion matrix, without normalization')\n",
    "\n",
    "    plt.imshow(cm, interpolation='nearest', cmap=cmap)\n",
    "    plt.title(title)\n",
    "    plt.colorbar()\n",
    "    tick_marks = np.arange(len(classes))\n",
    "    plt.xticks(tick_marks, classes, rotation=90)\n",
    "    plt.yticks(tick_marks, classes)\n",
    "\n",
    "    fmt = '.2f' if normalize else 'd'\n",
    "    thresh = cm.max() / 2.\n",
    "    for i, j in itertools.product(range(cm.shape[0]), range(cm.shape[1])):\n",
    "        plt.text(j, i, format(cm[i, j], fmt),\n",
    "                 horizontalalignment=\"center\",\n",
    "                 color=\"white\" if cm[i, j] > thresh else \"black\")\n",
    "\n",
    "    plt.tight_layout()\n",
    "    plt.ylabel('True label')\n",
    "    plt.xlabel('Predicted label')\n",
    "    \n",
    "cm = metrics.confusion_matrix(clf_grid_loaded.predict(X_test), y_test)\n",
    "plt.figure(figsize=(18, 9))\n",
    "plot_confusion_matrix(cm, newsgroup.target_names)\n",
    "plt.show()"
   ]
  },
  {
   "cell_type": "markdown",
   "metadata": {},
   "source": [
    "We can see some quite interesting things here. First of all we see that the motorcycle articles are more easily predicted and confused with other labels, which is surprising (maybe there is a problem in the motorcycle articles). And otherwise we don't see much confusion: sometimes religion and politics are a little confused and also religion and atheism (which is not surprising). And also some technical stuff such as the confusion between computer graphics and electronics which is also not surprising. But otherwise our classifier is doing pretty well !\n",
    "\n",
    "Now let's look at the feature importance parameters:"
   ]
  },
  {
   "cell_type": "code",
   "execution_count": 67,
   "metadata": {},
   "outputs": [
    {
     "data": {
      "text/plain": [
       "0.92413793103448272"
      ]
     },
     "execution_count": 67,
     "metadata": {},
     "output_type": "execute_result"
    }
   ],
   "source": [
    "clf_grid_loaded.best_estimator_.score(X_test, y_test)"
   ]
  },
  {
   "cell_type": "code",
   "execution_count": 51,
   "metadata": {},
   "outputs": [],
   "source": [
    "rfc_gs = clf_grid_loaded.best_estimator_"
   ]
  },
  {
   "cell_type": "code",
   "execution_count": 52,
   "metadata": {},
   "outputs": [
    {
     "data": {
      "text/plain": [
       "array([  6.19776989e-04,   2.38747236e-04,   2.87686364e-06, ...,\n",
       "         1.29530032e-06,   1.20560711e-06,   4.30910494e-07])"
      ]
     },
     "execution_count": 52,
     "metadata": {},
     "output_type": "execute_result"
    }
   ],
   "source": [
    "rfc_gs.feature_importances_"
   ]
  },
  {
   "cell_type": "code",
   "execution_count": 53,
   "metadata": {},
   "outputs": [],
   "source": [
    "sorted_index = np.argsort(rfc_gs.feature_importances_)[::-1]"
   ]
  },
  {
   "cell_type": "code",
   "execution_count": 57,
   "metadata": {},
   "outputs": [],
   "source": [
    "feature_names = vectorizer.get_feature_names()"
   ]
  },
  {
   "cell_type": "markdown",
   "metadata": {},
   "source": [
    "We sort the words according to their importance:"
   ]
  },
  {
   "cell_type": "code",
   "execution_count": 61,
   "metadata": {},
   "outputs": [
    {
     "data": {
      "text/plain": [
       "array(['windows', 'bike', 'sale', 'car', 'the', 'of', 'god', 'space',\n",
       "       'that', 'to', 'game', 'hockey', 'is', 'israel', 'in', 'clipper',\n",
       "       'for', 'and', 'mac', 'it', 'graphics', 'shipping', 'apple', 'team',\n",
       "       'encryption', 'not', 'you', 'be', 'this', 'have', 'on', 'he',\n",
       "       'offer', 'gun', 'with', 'church', 'cars', 'key', 'they', 'window',\n",
       "       'but', 'my', 'are', 'if', 'was', 'can', 'or', 'jesus', 'israeli',\n",
       "       'as', 'who', 'government', 'motif', 'dod', 'there', 'any', 'an',\n",
       "       'baseball', 'christ', 'games', 'thanks', 'arab', 'card', 'from',\n",
       "       'people', 'would', 'drive', 'what', 'use', 'at', 'do', 'his', 'dos',\n",
       "       'by', 'christian', 'we', 'jews', 'season', 'condition', 'about',\n",
       "       'all', 'me', 'nsa', 'one', 'bible', 'file', 'were', 'so', 'chip',\n",
       "       'has', 'nhl', 'orbit', 'ride', 'players', 'christians', 'will',\n",
       "       'know', 'bikes', 'like', 'nasa'],\n",
       "      dtype='<U10')"
      ]
     },
     "execution_count": 61,
     "metadata": {},
     "output_type": "execute_result"
    }
   ],
   "source": [
    "np.array([feature_names[i] for i in sorted_index[:100]])"
   ]
  },
  {
   "cell_type": "markdown",
   "metadata": {},
   "source": [
    "If we don't take into account the stop words we can see that most of these words are directly related to one or more topics from the news dataset. For example, windows is obvious (Windows OS), then we have bike for motorcycles, saled for 'misc.forsale', car for autos, god for religion and atheism, space for science, game for sports or computer graphics, hockey for hockey and so on."
   ]
  },
  {
   "cell_type": "markdown",
   "metadata": {},
   "source": [
    "### Problem\n",
    "I don't know why this is happening but there is something strange. If I take the best parameters from the grid search we get:"
   ]
  },
  {
   "cell_type": "code",
   "execution_count": 78,
   "metadata": {},
   "outputs": [
    {
     "data": {
      "text/plain": [
       "{'max_depth': 100, 'n_estimators': 1000}"
      ]
     },
     "execution_count": 78,
     "metadata": {},
     "output_type": "execute_result"
    }
   ],
   "source": [
    "clf_grid_loaded.best_params_"
   ]
  },
  {
   "cell_type": "markdown",
   "metadata": {},
   "source": [
    "And for those params we get a score of:"
   ]
  },
  {
   "cell_type": "code",
   "execution_count": 79,
   "metadata": {},
   "outputs": [
    {
     "data": {
      "text/plain": [
       "0.92413793103448272"
      ]
     },
     "execution_count": 79,
     "metadata": {},
     "output_type": "execute_result"
    }
   ],
   "source": [
    "clf_grid_loaded.score(X_test, y_test)"
   ]
  },
  {
   "cell_type": "markdown",
   "metadata": {},
   "source": [
    "But if we take a random forest with the exact same parameters we get:"
   ]
  },
  {
   "cell_type": "code",
   "execution_count": null,
   "metadata": {},
   "outputs": [],
   "source": [
    "rfclf = RandomForestClassifier(max_depth=100, n_estimators=1000)\n",
    "rfclf.fit(X_train, y_train)"
   ]
  },
  {
   "cell_type": "code",
   "execution_count": 80,
   "metadata": {},
   "outputs": [
    {
     "data": {
      "text/plain": [
       "0.65198938992042443"
      ]
     },
     "execution_count": 80,
     "metadata": {},
     "output_type": "execute_result"
    }
   ],
   "source": [
    "rfclf.score(X_test, y_test)"
   ]
  },
  {
   "cell_type": "markdown",
   "metadata": {},
   "source": [
    "This is really strange... I guess I did something wrong in the code but I can't figure out where. Let's look at the details of the grid search:"
   ]
  },
  {
   "cell_type": "code",
   "execution_count": 83,
   "metadata": {},
   "outputs": [
    {
     "name": "stderr",
     "output_type": "stream",
     "text": [
      "/home/ahmed/python_libs/anaconda3/envs/ada/lib/python3.5/site-packages/sklearn/utils/deprecation.py:122: FutureWarning: You are accessing a training score ('mean_train_score'), which will not be available by default any more in 0.21. If you need training scores, please set return_train_score=True\n",
      "  warnings.warn(*warn_args, **warn_kwargs)\n",
      "/home/ahmed/python_libs/anaconda3/envs/ada/lib/python3.5/site-packages/sklearn/utils/deprecation.py:122: FutureWarning: You are accessing a training score ('split0_train_score'), which will not be available by default any more in 0.21. If you need training scores, please set return_train_score=True\n",
      "  warnings.warn(*warn_args, **warn_kwargs)\n",
      "/home/ahmed/python_libs/anaconda3/envs/ada/lib/python3.5/site-packages/sklearn/utils/deprecation.py:122: FutureWarning: You are accessing a training score ('split1_train_score'), which will not be available by default any more in 0.21. If you need training scores, please set return_train_score=True\n",
      "  warnings.warn(*warn_args, **warn_kwargs)\n",
      "/home/ahmed/python_libs/anaconda3/envs/ada/lib/python3.5/site-packages/sklearn/utils/deprecation.py:122: FutureWarning: You are accessing a training score ('std_train_score'), which will not be available by default any more in 0.21. If you need training scores, please set return_train_score=True\n",
      "  warnings.warn(*warn_args, **warn_kwargs)\n"
     ]
    },
    {
     "data": {
      "text/html": [
       "<div>\n",
       "<style>\n",
       "    .dataframe thead tr:only-child th {\n",
       "        text-align: right;\n",
       "    }\n",
       "\n",
       "    .dataframe thead th {\n",
       "        text-align: left;\n",
       "    }\n",
       "\n",
       "    .dataframe tbody tr th {\n",
       "        vertical-align: top;\n",
       "    }\n",
       "</style>\n",
       "<table border=\"1\" class=\"dataframe\">\n",
       "  <thead>\n",
       "    <tr style=\"text-align: right;\">\n",
       "      <th></th>\n",
       "      <th>mean_fit_time</th>\n",
       "      <th>mean_score_time</th>\n",
       "      <th>mean_test_score</th>\n",
       "      <th>mean_train_score</th>\n",
       "      <th>param_max_depth</th>\n",
       "      <th>param_n_estimators</th>\n",
       "      <th>params</th>\n",
       "      <th>rank_test_score</th>\n",
       "      <th>split0_test_score</th>\n",
       "      <th>split0_train_score</th>\n",
       "      <th>split1_test_score</th>\n",
       "      <th>split1_train_score</th>\n",
       "      <th>std_fit_time</th>\n",
       "      <th>std_score_time</th>\n",
       "      <th>std_test_score</th>\n",
       "      <th>std_train_score</th>\n",
       "    </tr>\n",
       "  </thead>\n",
       "  <tbody>\n",
       "    <tr>\n",
       "      <th>69</th>\n",
       "      <td>377.444108</td>\n",
       "      <td>5.381742</td>\n",
       "      <td>0.582395</td>\n",
       "      <td>0.965539</td>\n",
       "      <td>100</td>\n",
       "      <td>1000</td>\n",
       "      <td>{'n_estimators': 1000, 'max_depth': 100}</td>\n",
       "      <td>1</td>\n",
       "      <td>0.571201</td>\n",
       "      <td>0.970276</td>\n",
       "      <td>0.671975</td>\n",
       "      <td>0.960801</td>\n",
       "      <td>275.955846</td>\n",
       "      <td>3.926427</td>\n",
       "      <td>0.031666</td>\n",
       "      <td>0.004737</td>\n",
       "    </tr>\n",
       "  </tbody>\n",
       "</table>\n",
       "</div>"
      ],
      "text/plain": [
       "    mean_fit_time  mean_score_time  mean_test_score  mean_train_score  \\\n",
       "69     377.444108         5.381742         0.582395          0.965539   \n",
       "\n",
       "   param_max_depth param_n_estimators  \\\n",
       "69             100               1000   \n",
       "\n",
       "                                      params  rank_test_score  \\\n",
       "69  {'n_estimators': 1000, 'max_depth': 100}                1   \n",
       "\n",
       "    split0_test_score  split0_train_score  split1_test_score  \\\n",
       "69           0.571201            0.970276           0.671975   \n",
       "\n",
       "    split1_train_score  std_fit_time  std_score_time  std_test_score  \\\n",
       "69            0.960801    275.955846        3.926427        0.031666   \n",
       "\n",
       "    std_train_score  \n",
       "69         0.004737  "
      ]
     },
     "execution_count": 83,
     "metadata": {},
     "output_type": "execute_result"
    }
   ],
   "source": [
    "pd.DataFrame.from_dict(clf_grid_loaded.cv_results_).query('rank_test_score==1')"
   ]
  },
  {
   "cell_type": "markdown",
   "metadata": {},
   "source": [
    "We get a validation score of 0.671 and a training score of 0.960 but how do we get the test score of 0.924 in the X_test and y_test ?? Probably I did something wrong somewhere in the code..."
   ]
  },
  {
   "cell_type": "code",
   "execution_count": null,
   "metadata": {},
   "outputs": [],
   "source": []
  }
 ],
 "metadata": {
  "kernelspec": {
   "display_name": "Python 3",
   "language": "python",
   "name": "python3"
  },
  "language_info": {
   "codemirror_mode": {
    "name": "ipython",
    "version": 3
   },
   "file_extension": ".py",
   "mimetype": "text/x-python",
   "name": "python",
   "nbconvert_exporter": "python",
   "pygments_lexer": "ipython3",
   "version": "3.5.4"
  }
 },
 "nbformat": 4,
 "nbformat_minor": 2
}
