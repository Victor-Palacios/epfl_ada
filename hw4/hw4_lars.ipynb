{
 "cells": [
  {
   "cell_type": "markdown",
   "metadata": {},
   "source": [
    "# Homework 4"
   ]
  },
  {
   "cell_type": "markdown",
   "metadata": {},
   "source": [
    "## Question 2: Applied ML\n",
    "\n",
    "\n",
    "### Loading the data\n",
    "First we load the data and vectorize it.\n",
    "The library functions contained in sklearn make this very straightforward."
   ]
  },
  {
   "cell_type": "code",
   "execution_count": 1,
   "metadata": {
    "collapsed": true
   },
   "outputs": [],
   "source": [
    "import numpy as np\n",
    "import matplotlib.pyplot as plt"
   ]
  },
  {
   "cell_type": "code",
   "execution_count": 2,
   "metadata": {},
   "outputs": [],
   "source": [
    "# we use the builtin function for loading data\n",
    "# sklearn already has a split in train/test, you can specify which data you want with the \"subset\" parameter\n",
    "# since we will perform that split ourselves, we load all data\n",
    "# we also remove all metadata\n",
    "\n",
    "from sklearn.datasets import fetch_20newsgroups\n",
    "newsgroups = fetch_20newsgroups(subset=\"all\", remove=('headers', 'footers', 'quotes'))"
   ]
  },
  {
   "cell_type": "code",
   "execution_count": 3,
   "metadata": {},
   "outputs": [
    {
     "data": {
      "text/plain": [
       "dict_keys(['target', 'data', 'DESCR', 'description', 'target_names', 'filenames'])"
      ]
     },
     "execution_count": 3,
     "metadata": {},
     "output_type": "execute_result"
    }
   ],
   "source": [
    "# the newsgroups are an sklearn \"bunch\"\n",
    "# it resembles a dictionary\n",
    "newsgroups.keys()"
   ]
  },
  {
   "cell_type": "code",
   "execution_count": 4,
   "metadata": {},
   "outputs": [
    {
     "data": {
      "text/plain": [
       "\"\\n\\nI am sure some bashers of Pens fans are pretty confused about the lack\\nof any kind of posts about the recent Pens massacre of the Devils. Actually,\\nI am  bit puzzled too and a bit relieved. However, I am going to put an end\\nto non-PIttsburghers' relief with a bit of praise for the Pens. Man, they\\nare killing those Devils worse than I thought. Jagr just showed you why\\nhe is much better than his regular season stats. He is also a lot\\nfo fun to watch in the playoffs. Bowman should let JAgr have a lot of\\nfun in the next couple of games since the Pens are going to beat the pulp out of Jersey anyway. I was very disappointed not to see the Islanders lose the final\\nregular season game.          PENS RULE!!!\\n\\n\""
      ]
     },
     "execution_count": 4,
     "metadata": {},
     "output_type": "execute_result"
    }
   ],
   "source": [
    "# data contains the text for each article\n",
    "newsgroups.data[0]"
   ]
  },
  {
   "cell_type": "code",
   "execution_count": 5,
   "metadata": {},
   "outputs": [
    {
     "data": {
      "text/plain": [
       "18846"
      ]
     },
     "execution_count": 5,
     "metadata": {},
     "output_type": "execute_result"
    }
   ],
   "source": [
    "# check how many articles we have\n",
    "len(newsgroups.data)"
   ]
  },
  {
   "cell_type": "code",
   "execution_count": 6,
   "metadata": {},
   "outputs": [
    {
     "name": "stdout",
     "output_type": "stream",
     "text": [
      "<class 'scipy.sparse.csr.csr_matrix'>\n",
      "(18846, 134410)\n"
     ]
    }
   ],
   "source": [
    "from sklearn.feature_extraction.text import TfidfVectorizer\n",
    "\n",
    "# this will create a vector for every article\n",
    "# the output is a matrix\n",
    "matrix = TfidfVectorizer().fit_transform(newsgroups.data)\n",
    "\n",
    "print(type(matrix))\n",
    "print(matrix.shape)"
   ]
  },
  {
   "cell_type": "markdown",
   "metadata": {},
   "source": [
    "### Splitting the data\n",
    "\n",
    "We split the data into separate sets for training, testing and evaluating.\n",
    "Following the usual naming convention in machine learning, we call these datasets\n",
    "\n",
    " - X_train, y_train\n",
    " - X_test, y_test\n",
    " - X_val, y_val\n",
    " \n",
    "where X is the data and y contains the labels"
   ]
  },
  {
   "cell_type": "code",
   "execution_count": 7,
   "metadata": {
    "collapsed": true
   },
   "outputs": [],
   "source": [
    "# renaming\n",
    "X = matrix\n",
    "y = newsgroups.target"
   ]
  },
  {
   "cell_type": "code",
   "execution_count": 8,
   "metadata": {
    "collapsed": true
   },
   "outputs": [],
   "source": [
    "# now we do the split into train, test, val\n",
    "# it's 0.8, 0.1, 0.1\n",
    "\n",
    "num_samples = len(y)\n",
    "num_train = int(0.8 * num_samples)\n",
    "num_test = int(0.1 * num_samples)\n",
    "num_val = int(0.1 * num_samples)\n",
    "\n",
    "X_train = X[:num_train]\n",
    "X_test = X[num_train : -num_val]\n",
    "X_val = X[-num_val:]\n",
    "\n",
    "\n",
    "y_train = y[:num_train]\n",
    "y_test = y[num_train : -num_val]\n",
    "y_val = y[-num_val:]"
   ]
  },
  {
   "cell_type": "code",
   "execution_count": 9,
   "metadata": {},
   "outputs": [
    {
     "data": {
      "image/png": "[encoded data removed]",
      "text/plain": [
       "<matplotlib.figure.Figure at 0x7f06696a2748>"
      ]
     },
     "metadata": {},
     "output_type": "display_data"
    }
   ],
   "source": [
    "# we know whether the data is ordered\n",
    "# it would be possible that we have all articles from category 1 first, then category 2, etc\n",
    "# this would mean that our split is broken\n",
    "# we take a look at the labels\n",
    "# the scatterplot shows that there is no order, the labels don't increase linearly\n",
    "plt.figure(figsize=(10,1))\n",
    "plt.scatter(np.arange(len(y)), y)\n",
    "plt.show()"
   ]
  },
  {
   "cell_type": "markdown",
   "metadata": {},
   "source": [
    "### Fitting a RandomForest\n",
    "\n",
    "Before we start the grid search, we fit a random forest, to see how the syntax looks.\n",
    "\n",
    "We also want to check whether the classifier actually works, or if we have made some mistake. There are 20 categories. If the classifier is just guessing randomly, we would see an accuracy of about 1/20 = 5%. If the classifier does better than that, it is able to \"learn\" the data. That would mean we can continue to search for a good parametrization."
   ]
  },
  {
   "cell_type": "code",
   "execution_count": 10,
   "metadata": {},
   "outputs": [
    {
     "data": {
      "text/plain": [
       "RandomForestClassifier(bootstrap=True, class_weight=None, criterion='gini',\n",
       "            max_depth=None, max_features='auto', max_leaf_nodes=None,\n",
       "            min_impurity_split=1e-07, min_samples_leaf=1,\n",
       "            min_samples_split=2, min_weight_fraction_leaf=0.0,\n",
       "            n_estimators=10, n_jobs=1, oob_score=False, random_state=None,\n",
       "            verbose=0, warm_start=False)"
      ]
     },
     "execution_count": 10,
     "metadata": {},
     "output_type": "execute_result"
    }
   ],
   "source": [
    "from sklearn.ensemble import RandomForestClassifier\n",
    "\n",
    "random_forest = RandomForestClassifier()\n",
    "random_forest.fit(X_train, y_train)"
   ]
  },
  {
   "cell_type": "code",
   "execution_count": 11,
   "metadata": {},
   "outputs": [],
   "source": [
    "# use the classifier to predict labels for the test set\n",
    "pred_test = random_forest.predict(X_test)"
   ]
  },
  {
   "cell_type": "code",
   "execution_count": 12,
   "metadata": {},
   "outputs": [
    {
     "name": "stdout",
     "output_type": "stream",
     "text": [
      "the accuracy on the test set is:  0.45652173913\n"
     ]
    }
   ],
   "source": [
    "# compute the accuracy\n",
    "comparison = pred_test == y_test\n",
    "hits = comparison.sum()\n",
    "accuracy = hits / len(comparison)\n",
    "print(\"the accuracy on the test set is: \",accuracy)"
   ]
  },
  {
   "cell_type": "markdown",
   "metadata": {},
   "source": [
    "This random forest is able to achieve 46% test accuracy. And this is for top-1 results. It would probably do much better if we would compute something like the top-2 or top-3 accuracy.\n",
    "\n",
    "The number of estimators is 10 by default. I would like to get the max depth that was used in this tree. Then we can use these parameters as the center of our grid search."
   ]
  },
  {
   "cell_type": "code",
   "execution_count": 13,
   "metadata": {},
   "outputs": [
    {
     "name": "stdout",
     "output_type": "stream",
     "text": [
      "max depth is:  609\n",
      "avg depth is:  496.2\n"
     ]
    }
   ],
   "source": [
    "# unfortunately, we are apparently not supposed to read the depth\n",
    "# it is necessary to use properties with _ in their name\n",
    "depths = [estimator.tree_.max_depth for estimator in random_forest.estimators_]\n",
    "\n",
    "\n",
    "max_depth = max(depths)\n",
    "avg_depth = sum(depths)/len(depths)\n",
    "\n",
    "print(\"max depth is: \", max_depth)\n",
    "print(\"avg depth is: \", avg_depth)"
   ]
  },
  {
   "cell_type": "markdown",
   "metadata": {},
   "source": [
    "### Gridsearch\n",
    "\n",
    "We use the parameters given above to set up our gridsearch.\n",
    "The number of estimators is 10 by default. It seems reasonable to look at numbers from 5 to 15.\n",
    "That means 50% above and 50% below.\n",
    "\n",
    "So far the maximum depth was 550. We are changing the number of estimators, but I don't expect the maximum depth to go much higher than this. So I'm limiting it to 700."
   ]
  },
  {
   "cell_type": "code",
   "execution_count": 14,
   "metadata": {},
   "outputs": [],
   "source": [
    "n_estimators = np.arange(10)+5\n",
    "max_depths = 7 * np.logspace(1, 2, num=10)"
   ]
  },
  {
   "cell_type": "code",
   "execution_count": 15,
   "metadata": {},
   "outputs": [
    {
     "data": {
      "text/plain": [
       "array([ 5,  6,  7,  8,  9, 10, 11, 12, 13, 14])"
      ]
     },
     "execution_count": 15,
     "metadata": {},
     "output_type": "execute_result"
    }
   ],
   "source": [
    "n_estimators"
   ]
  },
  {
   "cell_type": "code",
   "execution_count": 16,
   "metadata": {},
   "outputs": [
    {
     "data": {
      "text/plain": [
       "array([  70.        ,   90.40847655,  116.7670376 ,  150.8104283 ,\n",
       "        194.77915815,  251.56695647,  324.91121835,  419.63897522,\n",
       "        541.98457788,  700.        ])"
      ]
     },
     "execution_count": 16,
     "metadata": {},
     "output_type": "execute_result"
    }
   ],
   "source": [
    "max_depths"
   ]
  },
  {
   "cell_type": "code",
   "execution_count": 22,
   "metadata": {
    "collapsed": true
   },
   "outputs": [],
   "source": [
    "from sklearn.model_selection import GridSearchCV, PredefinedSplit\n",
    "from scipy.sparse import vstack"
   ]
  },
  {
   "cell_type": "code",
   "execution_count": 35,
   "metadata": {},
   "outputs": [],
   "source": [
    "train_indices = [0] * X_train.shape[0]\n",
    "test_indices = [1] * X_test.shape[0]\n",
    "indices = train_indices + test_indices\n",
    "\n",
    "X_joint = vstack([X_train, X_test])\n",
    "y_joint = np.concatenate([y_train, y_test])\n",
    "\n",
    "pds = PredefinedSplit(indices)"
   ]
  },
  {
   "cell_type": "code",
   "execution_count": null,
   "metadata": {},
   "outputs": [],
   "source": [
    "rerun = True\n",
    "\n",
    "if rerun:\n",
    "    \n",
    "    rfc = RandomForestClassifier()\n",
    "    clf_grid = GridSearchCV(rfc, param_grid={'n_estimators':n_estimators, 'max_depth':max_depths}, cv=pds)\n",
    "    clf_grid.fit(X_joint, y_joint)"
   ]
  }
 ],
 "metadata": {
  "kernelspec": {
   "display_name": "Python 3",
   "language": "python",
   "name": "python3"
  },
  "language_info": {
   "codemirror_mode": {
    "name": "ipython",
    "version": 3
   },
   "file_extension": ".py",
   "mimetype": "text/x-python",
   "name": "python",
   "nbconvert_exporter": "python",
   "pygments_lexer": "ipython3",
   "version": "3.5.2"
  }
 },
 "nbformat": 4,
 "nbformat_minor": 2
}
