{
 "cells": [
  {
   "cell_type": "markdown",
   "metadata": {},
   "source": [
    "# Homework 4"
   ]
  },
  {
   "cell_type": "markdown",
   "metadata": {},
   "source": [
    "## Question 2: Applied ML\n",
    "\n",
    "\n",
    "## Loading the data\n",
    "First we load the data and vectorize it.\n",
    "The library functions contained in sklearn make this very straightforward."
   ]
  },
  {
   "cell_type": "code",
   "execution_count": 1,
   "metadata": {
    "collapsed": true
   },
   "outputs": [],
   "source": [
    "import numpy as np\n",
    "import matplotlib.pyplot as plt"
   ]
  },
  {
   "cell_type": "code",
   "execution_count": 2,
   "metadata": {
    "collapsed": true
   },
   "outputs": [],
   "source": [
    "# we use the builtin function for loading data\n",
    "# sklearn already has a split in train/test, you can specify which data you want with the \"subset\" parameter\n",
    "# since we will perform that split ourselves, we load all data\n",
    "# we do not remove any metadata, this leads to much worse classification results\n",
    "\n",
    "from sklearn.datasets import fetch_20newsgroups\n",
    "newsgroups = fetch_20newsgroups(subset=\"all\")"
   ]
  },
  {
   "cell_type": "code",
   "execution_count": 3,
   "metadata": {},
   "outputs": [
    {
     "data": {
      "text/plain": [
       "dict_keys(['description', 'data', 'filenames', 'DESCR', 'target_names', 'target'])"
      ]
     },
     "execution_count": 3,
     "metadata": {},
     "output_type": "execute_result"
    }
   ],
   "source": [
    "# the newsgroups are an sklearn \"bunch\"\n",
    "# it resembles a dictionary\n",
    "newsgroups.keys()"
   ]
  },
  {
   "cell_type": "code",
   "execution_count": 4,
   "metadata": {},
   "outputs": [
    {
     "data": {
      "text/plain": [
       "\"From: Mamatha Devineni Ratnam <mr47+@andrew.cmu.edu>\\nSubject: Pens fans reactions\\nOrganization: Post Office, Carnegie Mellon, Pittsburgh, PA\\nLines: 12\\nNNTP-Posting-Host: po4.andrew.cmu.edu\\n\\n\\n\\nI am sure some bashers of Pens fans are pretty confused about the lack\\nof any kind of posts about the recent Pens massacre of the Devils. Actually,\\nI am  bit puzzled too and a bit relieved. However, I am going to put an end\\nto non-PIttsburghers' relief with a bit of praise for the Pens. Man, they\\nare killing those Devils worse than I thought. Jagr just showed you why\\nhe is much better than his regular season stats. He is also a lot\\nfo fun to watch in the playoffs. Bowman should let JAgr have a lot of\\nfun in the next couple of games since the Pens are going to beat the pulp out of Jersey anyway. I was very disappointed not to see the Islanders lose the final\\nregular season game.          PENS RULE!!!\\n\\n\""
      ]
     },
     "execution_count": 4,
     "metadata": {},
     "output_type": "execute_result"
    }
   ],
   "source": [
    "# data contains the text for each article\n",
    "newsgroups.data[0]"
   ]
  },
  {
   "cell_type": "code",
   "execution_count": 5,
   "metadata": {},
   "outputs": [
    {
     "data": {
      "text/plain": [
       "18846"
      ]
     },
     "execution_count": 5,
     "metadata": {},
     "output_type": "execute_result"
    }
   ],
   "source": [
    "# check how many articles we have\n",
    "len(newsgroups.data)"
   ]
  },
  {
   "cell_type": "code",
   "execution_count": 6,
   "metadata": {},
   "outputs": [
    {
     "name": "stdout",
     "output_type": "stream",
     "text": [
      "<class 'scipy.sparse.csr.csr_matrix'>\n",
      "(18846, 173446)\n"
     ]
    }
   ],
   "source": [
    "from sklearn.feature_extraction.text import TfidfVectorizer\n",
    "\n",
    "# this will create a vector for every article\n",
    "# the output is a matrix\n",
    "# please note that we use a specific parametrization for the vectorizer:\n",
    "# we exclude words that are too frequent, they are not specific enough to identify correlations with categories\n",
    "# we also apply a smoothing operation\n",
    "matrix = TfidfVectorizer(sublinear_tf=True, max_df=0.5, stop_words='english').fit_transform(newsgroups.data)\n",
    "\n",
    "print(type(matrix))\n",
    "print(matrix.shape)"
   ]
  },
  {
   "cell_type": "markdown",
   "metadata": {},
   "source": [
    "## Splitting the data\n",
    "\n",
    "We split the data into separate sets for training, testing and evaluating.\n",
    "Following the usual naming convention in machine learning, we call these datasets\n",
    "\n",
    " - X_train, y_train\n",
    " - X_test, y_test\n",
    " - X_val, y_val\n",
    " \n",
    "where X is the data and y contains the labels"
   ]
  },
  {
   "cell_type": "code",
   "execution_count": 7,
   "metadata": {
    "collapsed": true
   },
   "outputs": [],
   "source": [
    "# renaming\n",
    "X = matrix\n",
    "y = newsgroups.target"
   ]
  },
  {
   "cell_type": "code",
   "execution_count": 8,
   "metadata": {
    "collapsed": true
   },
   "outputs": [],
   "source": [
    "# now we do the split into train, test, val\n",
    "# it's 0.8, 0.1, 0.1\n",
    "\n",
    "num_samples = len(y)\n",
    "num_train = int(0.8 * num_samples)\n",
    "num_test = int(0.1 * num_samples)\n",
    "num_val = int(0.1 * num_samples)\n",
    "\n",
    "X_train = X[:num_train]\n",
    "X_test = X[num_train : -num_val]\n",
    "X_val = X[-num_val:]\n",
    "\n",
    "\n",
    "y_train = y[:num_train]\n",
    "y_test = y[num_train : -num_val]\n",
    "y_val = y[-num_val:]"
   ]
  },
  {
   "cell_type": "code",
   "execution_count": 9,
   "metadata": {},
   "outputs": [
    {
     "data": {
      "image/png": "[encoded data removed]",
      "text/plain": [
       "<matplotlib.figure.Figure at 0x7fb02659e1d0>"
      ]
     },
     "metadata": {},
     "output_type": "display_data"
    }
   ],
   "source": [
    "# we know whether the data is ordered\n",
    "# it would be possible that we have all articles from category 1 first, then category 2, etc\n",
    "# this would mean that our split is broken\n",
    "# we take a look at the labels\n",
    "# the scatterplot shows that there is no order, the labels don't increase linearly\n",
    "plt.figure(figsize=(10,1))\n",
    "plt.scatter(np.arange(len(y)), y)\n",
    "plt.show()"
   ]
  },
  {
   "cell_type": "markdown",
   "metadata": {},
   "source": [
    "## Searching for optimal parameters\n",
    "\n",
    "### Fitting a RandomForest\n",
    "\n",
    "Before we start the grid search, we fit a random forest, to see how the syntax looks.\n",
    "\n",
    "We also want to check whether the classifier actually works, or if we have made some mistake. There are 20 categories. If the classifier is just guessing randomly, we would see an accuracy of about 1/20 = 5%. If the classifier does better than that, it is able to \"learn\" the data. That would mean we can continue to search for a good parametrization."
   ]
  },
  {
   "cell_type": "code",
   "execution_count": 10,
   "metadata": {},
   "outputs": [
    {
     "data": {
      "text/plain": [
       "RandomForestClassifier(bootstrap=True, class_weight=None, criterion='gini',\n",
       "            max_depth=None, max_features='auto', max_leaf_nodes=None,\n",
       "            min_impurity_decrease=0.0, min_impurity_split=None,\n",
       "            min_samples_leaf=1, min_samples_split=2,\n",
       "            min_weight_fraction_leaf=0.0, n_estimators=10, n_jobs=1,\n",
       "            oob_score=False, random_state=None, verbose=0,\n",
       "            warm_start=False)"
      ]
     },
     "execution_count": 10,
     "metadata": {},
     "output_type": "execute_result"
    }
   ],
   "source": [
    "from sklearn.ensemble import RandomForestClassifier\n",
    "\n",
    "random_forest = RandomForestClassifier(n_estimators=10)\n",
    "random_forest.fit(X_train, y_train)"
   ]
  },
  {
   "cell_type": "code",
   "execution_count": 11,
   "metadata": {},
   "outputs": [
    {
     "data": {
      "text/plain": [
       "0.7523860021208908"
      ]
     },
     "execution_count": 11,
     "metadata": {},
     "output_type": "execute_result"
    }
   ],
   "source": [
    "# use the classifier to predict labels for the test set\n",
    "random_forest.score(X_test, y_test)"
   ]
  },
  {
   "cell_type": "markdown",
   "metadata": {},
   "source": [
    "The accuracy is already rather good. And this is for top-1 results. It would probably do much better if we would compute something like the top-2 or top-3 accuracy.\n",
    "\n",
    "The number of estimators is 10 by default. I would like to get the max depth that was used in this tree. Then we can use these parameters as the center of our grid search."
   ]
  },
  {
   "cell_type": "code",
   "execution_count": 12,
   "metadata": {},
   "outputs": [
    {
     "name": "stdout",
     "output_type": "stream",
     "text": [
      "max depth is:  544\n",
      "avg depth is:  438.3\n"
     ]
    }
   ],
   "source": [
    "# unfortunately, we are apparently not supposed to read the depth\n",
    "# it is necessary to use properties with _ in their name\n",
    "depths = [estimator.tree_.max_depth for estimator in random_forest.estimators_]\n",
    "\n",
    "\n",
    "max_depth = max(depths)\n",
    "avg_depth = sum(depths)/len(depths)\n",
    "\n",
    "print(\"max depth is: \", max_depth)\n",
    "print(\"avg depth is: \", avg_depth)"
   ]
  },
  {
   "cell_type": "markdown",
   "metadata": {},
   "source": [
    "### Gridsearch, 1st approach\n",
    "\n",
    "We use the parameters given above to set up our gridsearch."
   ]
  },
  {
   "cell_type": "code",
   "execution_count": 13,
   "metadata": {},
   "outputs": [
    {
     "name": "stdout",
     "output_type": "stream",
     "text": [
      "num estimators:  [ 5  6  7  8  9 10 11 12 13 14]\n",
      "max depths:  [ 70 119 217 392 700]\n"
     ]
    }
   ],
   "source": [
    "n_estimators = np.arange(10) + 5\n",
    "max_depths = 7 * np.logspace(1, 2, num=5, dtype=np.int)\n",
    "\n",
    "print(\"num estimators: \", n_estimators)\n",
    "print(\"max depths: \", max_depths)\n",
    "\n",
    "# we will use multithreading to process the grid on multiple cpus\n",
    "# the load balancing of sklearn is not very complex\n",
    "# it just splits the list and then collects the results\n",
    "# but the parametrizations for more estimators / depths take much longer\n",
    "# so we shuffle, as a simple load balancing\n",
    "np.random.shuffle(n_estimators)\n",
    "np.random.shuffle(max_depths)"
   ]
  },
  {
   "cell_type": "code",
   "execution_count": 14,
   "metadata": {
    "collapsed": true
   },
   "outputs": [],
   "source": [
    "from sklearn.model_selection import GridSearchCV, PredefinedSplit\n",
    "from scipy.sparse import vstack"
   ]
  },
  {
   "cell_type": "code",
   "execution_count": 15,
   "metadata": {
    "collapsed": true
   },
   "outputs": [],
   "source": [
    "train_indices = [-1] * X_train.shape[0]\n",
    "test_indices = [0] * X_test.shape[0]\n",
    "indices = train_indices + test_indices\n",
    "\n",
    "X_joint = vstack([X_train, X_test])\n",
    "y_joint = np.concatenate([y_train, y_test])\n",
    "\n",
    "pds = PredefinedSplit(indices)"
   ]
  },
  {
   "cell_type": "markdown",
   "metadata": {},
   "source": [
    "### Loading saved states\n",
    "Computing the grid searches takes a long time. We ended up doing 3 grid searches, and the third one takes many hours.\n",
    "Therefore we use pickle to save the results to disk. We can load them instead of having to recompute them every time."
   ]
  },
  {
   "cell_type": "code",
   "execution_count": 16,
   "metadata": {
    "collapsed": true
   },
   "outputs": [],
   "source": [
    "import pickle\n",
    "rerun = False"
   ]
  },
  {
   "cell_type": "code",
   "execution_count": 17,
   "metadata": {},
   "outputs": [],
   "source": [
    "if rerun:\n",
    "    \n",
    "    rfc = RandomForestClassifier()\n",
    "    clf_grid1 = GridSearchCV(rfc, param_grid={'n_estimators':n_estimators, 'max_depth':max_depths}, cv=pds, n_jobs=-1)\n",
    "    clf_grid1.fit(X_joint, y_joint)\n",
    "    \n",
    "    with open(\"data/clf_grid.pickle\", \"wb\") as file:\n",
    "        pickle.dump(clf_grid1, file)\n",
    "else:\n",
    "    with open(\"data/clf_grid.pickle\", \"rb\") as file:\n",
    "        clf_grid1 = pickle.load(file)"
   ]
  },
  {
   "cell_type": "markdown",
   "metadata": {},
   "source": [
    "### Discussing results, for 1st GridSearch\n",
    "\n",
    "The results on both the training and the test set are very good. We reach well above 90%.\n",
    "\n",
    "But checking against the validation set shows that the results are not generalizable. We are not only overfitting the training data, the cross-validation of the parameters also resulted in training against the test set. We do note an improvement compared to the first evaluation, though.\n",
    "\n",
    "The overfitting on the test set is so strong that we need to question whether our split is actually working. But it seems to be set up correctly."
   ]
  },
  {
   "cell_type": "code",
   "execution_count": 18,
   "metadata": {},
   "outputs": [
    {
     "name": "stdout",
     "output_type": "stream",
     "text": [
      "train score:  0.999469355267\n",
      "test score:  0.999469777306\n"
     ]
    }
   ],
   "source": [
    "# on the train and test set, our classifier performs very well\n",
    "print(\"train score: \", clf_grid1.score(X_train, y_train))\n",
    "print(\"test score: \", clf_grid1.score(X_test, y_test))"
   ]
  },
  {
   "cell_type": "code",
   "execution_count": 19,
   "metadata": {},
   "outputs": [
    {
     "name": "stdout",
     "output_type": "stream",
     "text": [
      "test score:  0.792993630573\n"
     ]
    }
   ],
   "source": [
    "# but on the val set, we perform badly\n",
    "print(\"test score: \", clf_grid1.score(X_val, y_val))"
   ]
  },
  {
   "cell_type": "code",
   "execution_count": 20,
   "metadata": {},
   "outputs": [
    {
     "name": "stdout",
     "output_type": "stream",
     "text": [
      "the split generates 1 splits into train and test set\n",
      "the training indices go from 0 to 15075\n",
      "the testing indices go from 15076 to 16961\n"
     ]
    }
   ],
   "source": [
    "# looking at the predefined splot\n",
    "# it generates 1 set of train/test, that is good\n",
    "print(\"the split generates {} splits into train and test set\".format(pds.get_n_splits()))\n",
    "\n",
    "# let's check the indices\n",
    "# they also look good\n",
    "train, test = next(pds.split())\n",
    "print(\"the training indices go from {} to {}\".format(train.min(), train.max()))\n",
    "print(\"the testing indices go from {} to {}\".format(test.min(), test.max()))"
   ]
  },
  {
   "cell_type": "markdown",
   "metadata": {},
   "source": [
    "### Gridsearch, 2nd approach\n",
    "Our gridsearch is strongly overfitting.\n",
    "\n",
    "Overfitting is usually due to too high model complexity. So we start a second gridsearch with reduced complexity."
   ]
  },
  {
   "cell_type": "code",
   "execution_count": 21,
   "metadata": {},
   "outputs": [
    {
     "name": "stdout",
     "output_type": "stream",
     "text": [
      "num estimators:  [ 5  6  7  8  9 10 11 12 13 14]\n",
      "max depths:  [ 20  34  62 112 200]\n"
     ]
    }
   ],
   "source": [
    "n_estimators2 = n_estimators = np.arange(10) + 5\n",
    "max_depths2 = 2 * np.logspace(1, 2, num=5, dtype=np.int)\n",
    "\n",
    "\n",
    "print(\"num estimators: \", n_estimators2)\n",
    "print(\"max depths: \", max_depths2)\n",
    "\n",
    "np.random.shuffle(n_estimators2)\n",
    "np.random.shuffle(max_depths2)"
   ]
  },
  {
   "cell_type": "code",
   "execution_count": 22,
   "metadata": {},
   "outputs": [],
   "source": [
    "if rerun:\n",
    "    \n",
    "    rfc = RandomForestClassifier()\n",
    "    clf_grid2 = GridSearchCV(rfc, param_grid={'n_estimators':n_estimators2, 'max_depth':max_depths2}, cv=pds, n_jobs=-1)\n",
    "    clf_grid2.fit(X_joint, y_joint)\n",
    "    \n",
    "    with open(\"data/clf_grid2.pickle\", \"wb\") as file:\n",
    "        pickle.dump(clf_grid2, file)\n",
    "else:\n",
    "    with open(\"data/clf_grid2.pickle\", \"rb\") as file:\n",
    "        clf_grid2 = pickle.load(file)"
   ]
  },
  {
   "cell_type": "markdown",
   "metadata": {},
   "source": [
    "### Discussing results for the 2nd gridsearch\n",
    "\n",
    "The performance is very similar to the first gridsearch"
   ]
  },
  {
   "cell_type": "code",
   "execution_count": 23,
   "metadata": {},
   "outputs": [
    {
     "name": "stdout",
     "output_type": "stream",
     "text": [
      "train score:  0.992305651366\n",
      "test score:  0.991516436903\n"
     ]
    }
   ],
   "source": [
    "# on the train and test set, our classifier performs very well\n",
    "print(\"train score: \", clf_grid2.score(X_train, y_train))\n",
    "print(\"test score: \", clf_grid2.score(X_test, y_test))"
   ]
  },
  {
   "cell_type": "code",
   "execution_count": 24,
   "metadata": {},
   "outputs": [
    {
     "name": "stdout",
     "output_type": "stream",
     "text": [
      "test score:  0.781847133758\n"
     ]
    }
   ],
   "source": [
    "# but on the val set, we perform badly\n",
    "print(\"test score: \", clf_grid2.score(X_val, y_val))"
   ]
  },
  {
   "cell_type": "markdown",
   "metadata": {},
   "source": [
    "### Revisiting the baseline\n",
    "Between the first and second gridsearch, we changed the maximum depth. Which had only very little effect on the performance.\n",
    "\n",
    "We could also change the number of estimators, but this has a strong effect on the complexity and increases the time for training drastically.\n",
    "\n",
    "Therefore, we do a simple check first: We train just one random forest, with a higher number of estimators and evaluate its performance."
   ]
  },
  {
   "cell_type": "code",
   "execution_count": 25,
   "metadata": {},
   "outputs": [
    {
     "data": {
      "text/plain": [
       "RandomForestClassifier(bootstrap=True, class_weight=None, criterion='gini',\n",
       "            max_depth=None, max_features='auto', max_leaf_nodes=None,\n",
       "            min_impurity_decrease=0.0, min_impurity_split=None,\n",
       "            min_samples_leaf=1, min_samples_split=2,\n",
       "            min_weight_fraction_leaf=0.0, n_estimators=100, n_jobs=1,\n",
       "            oob_score=False, random_state=None, verbose=0,\n",
       "            warm_start=False)"
      ]
     },
     "execution_count": 25,
     "metadata": {},
     "output_type": "execute_result"
    }
   ],
   "source": [
    "rf2 = RandomForestClassifier(n_estimators=100)\n",
    "rf2.fit(X_train, y_train)"
   ]
  },
  {
   "cell_type": "code",
   "execution_count": 26,
   "metadata": {},
   "outputs": [
    {
     "data": {
      "text/plain": [
       "0.99993366940833117"
      ]
     },
     "execution_count": 26,
     "metadata": {},
     "output_type": "execute_result"
    }
   ],
   "source": [
    "rf2.score(X_train, y_train)"
   ]
  },
  {
   "cell_type": "code",
   "execution_count": 27,
   "metadata": {},
   "outputs": [
    {
     "data": {
      "text/plain": [
       "0.86108165429480377"
      ]
     },
     "execution_count": 27,
     "metadata": {},
     "output_type": "execute_result"
    }
   ],
   "source": [
    "rf2.score(X_test, y_test)"
   ]
  },
  {
   "cell_type": "code",
   "execution_count": 28,
   "metadata": {},
   "outputs": [
    {
     "name": "stdout",
     "output_type": "stream",
     "text": [
      "max depth is:  589\n",
      "avg depth is:  431.9\n"
     ]
    }
   ],
   "source": [
    "depths = [estimator.tree_.max_depth for estimator in rf2.estimators_]\n",
    "\n",
    "\n",
    "max_depth = max(depths)\n",
    "avg_depth = sum(depths)/len(depths)\n",
    "\n",
    "print(\"max depth is: \", max_depth)\n",
    "print(\"avg depth is: \", avg_depth)"
   ]
  },
  {
   "cell_type": "markdown",
   "metadata": {},
   "source": [
    "### Gridsearch for the 3rd time\n",
    "\n",
    "Increasing the number of estimators improves both the training and the validation accuracy.\n",
    "So we need to perform a gridsearch for higher amounts of estimators.\n",
    "This will need a lot of time.\n",
    "We set the gridsearch up to sample many configurations and let it run over night."
   ]
  },
  {
   "cell_type": "code",
   "execution_count": 29,
   "metadata": {},
   "outputs": [
    {
     "name": "stdout",
     "output_type": "stream",
     "text": [
      "num estimators:  [  40   47   57   69   82   99  119  142  171  205  246  295  354  424  509\n",
      "  611  733  879 1054 1264]\n",
      "max depths:  [250 300 350 400 450 500 550 600 650 700]\n"
     ]
    }
   ],
   "source": [
    "n_estimators3 = (40 * np.logspace(0, 1.5, num=20)).astype(np.int)\n",
    "max_depths3 = 250 + (np.arange(10)*50)\n",
    "\n",
    "print(\"num estimators: \", n_estimators3)\n",
    "print(\"max depths: \", max_depths3)\n",
    "\n",
    "np.random.shuffle(n_estimators3)\n",
    "np.random.shuffle(max_depths3)"
   ]
  },
  {
   "cell_type": "code",
   "execution_count": 30,
   "metadata": {},
   "outputs": [],
   "source": [
    "if rerun:\n",
    "    \n",
    "    rfc = RandomForestClassifier()\n",
    "    clf_grid3 = GridSearchCV(rfc, param_grid={'n_estimators':n_estimators3, 'max_depth':max_depths3}, cv=pds, n_jobs=-1)\n",
    "    clf_grid3.fit(X_joint, y_joint)\n",
    "    \n",
    "    with open(\"data/clf_grid3.pickle\", \"wb\") as file:\n",
    "        pickle.dump(clf_grid3, file)\n",
    "else:\n",
    "    with open(\"data/clf_grid3.pickle\", \"rb\") as file:\n",
    "        clf_grid3 = pickle.load(file)"
   ]
  },
  {
   "cell_type": "markdown",
   "metadata": {},
   "source": [
    "### Discussing results for the 3rd gridsearch\n",
    "\n",
    "We are reaching almost 90% accuracy on the validation set now. I think this is an acceptable result."
   ]
  },
  {
   "cell_type": "code",
   "execution_count": 34,
   "metadata": {},
   "outputs": [
    {
     "name": "stdout",
     "output_type": "stream",
     "text": [
      "train score:  0.999933669408\n",
      "test score:  1.0\n"
     ]
    }
   ],
   "source": [
    "# on the train and test set, our classifier performs very well\n",
    "print(\"train score: \", clf_grid3.score(X_train, y_train))\n",
    "print(\"test score: \", clf_grid3.score(X_test, y_test))"
   ]
  },
  {
   "cell_type": "code",
   "execution_count": 35,
   "metadata": {},
   "outputs": [
    {
     "name": "stdout",
     "output_type": "stream",
     "text": [
      "test score:  0.892781316348\n"
     ]
    }
   ],
   "source": [
    "# but on the val set, we perform badly\n",
    "print(\"test score: \", clf_grid3.score(X_val, y_val))"
   ]
  },
  {
   "cell_type": "markdown",
   "metadata": {},
   "source": [
    "## Confusion matrix\n",
    "We use the third grid search to plot a confusion matrix"
   ]
  },
  {
   "cell_type": "code",
   "execution_count": 38,
   "metadata": {},
   "outputs": [],
   "source": [
    "from sklearn.metrics import confusion_matrix\n",
    "\n",
    "\n",
    "cm = confusion_matrix(clf_grid3.predict(X_val), y_val)"
   ]
  },
  {
   "cell_type": "code",
   "execution_count": 55,
   "metadata": {},
   "outputs": [
    {
     "data": {
      "image/png": "[encoded data removed]",
      "text/plain": [
       "<matplotlib.figure.Figure at 0x7fb02025ba90>"
      ]
     },
     "metadata": {},
     "output_type": "display_data"
    }
   ],
   "source": [
    "plt.figure(figsize=(13,10))\n",
    "\n",
    "# plot the background colors\n",
    "plt.title(\"Confusion matrix\")\n",
    "plt.imshow(cm, interpolation=\"None\", cmap=plt.cm.Blues)\n",
    "plt.colorbar()\n",
    "\n",
    "# plot the category names\n",
    "target_names = newsgroups.target_names\n",
    "name_anchors = np.arange(len(target_names))\n",
    "plt.xticks(name_anchors, target_names, rotation=90)\n",
    "plt.yticks(name_anchors, target_names)\n",
    "\n",
    "# normalize the confusion matrix\n",
    "cm = cm.astype('float') / cm.sum(axis=1)[:, np.newaxis]\n",
    "\n",
    "# plot the confusion percentages, as text\n",
    "# we need to change the text color based on the background color\n",
    "# if the background is above a threshold, we use white as text color\n",
    "thresh = cm.max() / 2.\n",
    "for i in range(len(target_names)):\n",
    "    for j in range(len(target_names)): \n",
    "        plt.text(j, i, \"{:2d}\".format(int(cm[i, j]*100)),\n",
    "                 horizontalalignment=\"center\",\n",
    "                 color=\"white\" if cm[i, j] > thresh else \"black\")\n",
    "\n",
    "plt.tight_layout()\n",
    "plt.ylabel('True label')\n",
    "plt.xlabel('Predicted label')\n",
    "\n",
    "plt.show()"
   ]
  },
  {
   "cell_type": "markdown",
   "metadata": {},
   "source": [
    "## Discussing results\n",
    "\n",
    "We have reached a validation accuracy of about 89%. This is accuracy, so it only takes the top result into consideration. In one of the comments above, we already mentioned that the model would probably do much better if it could also look at the top-2 or top-3 evaluations. The confusion matrix allows us to revisit this claim.\n",
    " - alt.atheism has a 93% accuracy, it is mostly confused with religion.misc. These topics are arguably very close.\n",
    " - soc.religion.christian is mostly confused with talk.religion.misc. Again, the topics are semantically close\n",
    " - talk.politics.guns is closest to talk.politics.misc\n",
    " \n",
    "It is evident that the classifier is able to learn common structures in certain articles and topics. The classifier could be used to cluster topics by similarity.\n",
    "\n",
    "We would also like to point out some decisions in setting up the classifier. In a first approach, we only used the content of the article and removed meta information. This leads to much worse results on both training and validation. We also decided to remove features that are too common in the vectorization. Words that occur frequently in every category are probably just common phrases in the language in general and not useful for article classification. A third choice was to apply a smoothing operation in the vectorization, this corresponds to the parameter _sublinear_tf_. Machine learning is very much an empirical approach to classification. We investigated the various combinations and this specific choice led to the best results. The framework of consecutive gridsearches, etc stayed the same during the review of different data preprocessing routines."
   ]
  },
  {
   "cell_type": "code",
   "execution_count": null,
   "metadata": {
    "collapsed": true
   },
   "outputs": [],
   "source": []
  }
 ],
 "metadata": {
  "kernelspec": {
   "display_name": "Python 3",
   "language": "python",
   "name": "python3"
  },
  "language_info": {
   "codemirror_mode": {
    "name": "ipython",
    "version": 3
   },
   "file_extension": ".py",
   "mimetype": "text/x-python",
   "name": "python",
   "nbconvert_exporter": "python",
   "pygments_lexer": "ipython3",
   "version": "3.5.2"
  }
 },
 "nbformat": 4,
 "nbformat_minor": 2
}
