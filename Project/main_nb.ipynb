{
 "cells": [
  {
   "cell_type": "markdown",
   "metadata": {},
   "source": [
    "# Main notebook: computing correlations between offensiveness and popularity\n",
    "In this notebook we are trying to answer our previous questions: is there a correlation between (positive or negative) between the popularity and the offensiveness of a song ? Let's start by importing our libraries:"
   ]
  },
  {
   "cell_type": "code",
   "execution_count": 2,
   "metadata": {},
   "outputs": [],
   "source": [
    "import pandas as pd\n",
    "import numpy as np\n",
    "import sqlite3\n",
    "import matplotlib.pyplot as plt\n",
    "%matplotlib inline\n",
    "\n",
    "# This variable should be set to false, unless you are running this notebook without the\n",
    "# generated datasets\n",
    "first_time = False"
   ]
  },
  {
   "cell_type": "markdown",
   "metadata": {},
   "source": [
    "Remember, we have computed the song word count at three levels of \"swear word categories\":"
   ]
  },
  {
   "cell_type": "code",
   "execution_count": 3,
   "metadata": {},
   "outputs": [
    {
     "data": {
      "text/plain": [
       "('TRAAAAV128F421A322', 'non-discriminatory', 'mild', nan)      1\n",
       "('TRAAAAV128F421A322', nan, nan, nan)                        102\n",
       "('TRAAABD128F429CF47', nan, nan, nan)                        226\n",
       "('TRAAAED128E0783FAB', nan, nan, nan)                        421\n",
       "('TRAAAEF128F4273421', nan, nan, nan)                        139\n",
       "Name: count, dtype: int64"
      ]
     },
     "execution_count": 3,
     "metadata": {},
     "output_type": "execute_result"
    }
   ],
   "source": [
    "offensiveness_rating = pd.read_pickle(\"../pickles/offensiveness_rating_structured\")\n",
    "offensiveness_rating.head()"
   ]
  },
  {
   "cell_type": "markdown",
   "metadata": {},
   "source": [
    "Now, the problem is that we have tuples as index but we would like to have all these categories in different columns. So we do some processing to take care of that:"
   ]
  },
  {
   "cell_type": "code",
   "execution_count": 4,
   "metadata": {},
   "outputs": [],
   "source": [
    "def process_tuple(t):\n",
    "    \n",
    "    def process_tuple_elem(elem):\n",
    "        if elem == \"nan\":\n",
    "            return np.nan\n",
    "        else:\n",
    "            return elem[1:-1]\n",
    "    return list(map(process_tuple_elem, t[1:-1].replace(\" \", \"\").split(\",\")))\n",
    "index_offensiveness = list(map(process_tuple, offensiveness_rating.index.tolist()))"
   ]
  },
  {
   "cell_type": "code",
   "execution_count": 5,
   "metadata": {},
   "outputs": [],
   "source": [
    "value_offensiveness = list(offensiveness_rating.values)"
   ]
  },
  {
   "cell_type": "code",
   "execution_count": 6,
   "metadata": {},
   "outputs": [],
   "source": [
    "data_non_flat = list(zip(index_offensiveness, value_offensiveness))"
   ]
  },
  {
   "cell_type": "code",
   "execution_count": 7,
   "metadata": {},
   "outputs": [
    {
     "data": {
      "text/html": [
       "<div>\n",
       "<style scoped>\n",
       "    .dataframe tbody tr th:only-of-type {\n",
       "        vertical-align: middle;\n",
       "    }\n",
       "\n",
       "    .dataframe tbody tr th {\n",
       "        vertical-align: top;\n",
       "    }\n",
       "\n",
       "    .dataframe thead th {\n",
       "        text-align: right;\n",
       "    }\n",
       "</style>\n",
       "<table border=\"1\" class=\"dataframe\">\n",
       "  <thead>\n",
       "    <tr style=\"text-align: right;\">\n",
       "      <th></th>\n",
       "      <th></th>\n",
       "      <th></th>\n",
       "      <th></th>\n",
       "      <th>value</th>\n",
       "    </tr>\n",
       "    <tr>\n",
       "      <th>track_id</th>\n",
       "      <th>category</th>\n",
       "      <th>strength</th>\n",
       "      <th>target</th>\n",
       "      <th></th>\n",
       "    </tr>\n",
       "  </thead>\n",
       "  <tbody>\n",
       "    <tr>\n",
       "      <th rowspan=\"2\" valign=\"top\">TRAAAAV128F421A322</th>\n",
       "      <th>non-discriminatory</th>\n",
       "      <th>mild</th>\n",
       "      <th>NaN</th>\n",
       "      <td>1</td>\n",
       "    </tr>\n",
       "    <tr>\n",
       "      <th>NaN</th>\n",
       "      <th>NaN</th>\n",
       "      <th>NaN</th>\n",
       "      <td>102</td>\n",
       "    </tr>\n",
       "    <tr>\n",
       "      <th>TRAAABD128F429CF47</th>\n",
       "      <th>NaN</th>\n",
       "      <th>NaN</th>\n",
       "      <th>NaN</th>\n",
       "      <td>226</td>\n",
       "    </tr>\n",
       "    <tr>\n",
       "      <th>TRAAAED128E0783FAB</th>\n",
       "      <th>NaN</th>\n",
       "      <th>NaN</th>\n",
       "      <th>NaN</th>\n",
       "      <td>421</td>\n",
       "    </tr>\n",
       "    <tr>\n",
       "      <th>TRAAAEF128F4273421</th>\n",
       "      <th>NaN</th>\n",
       "      <th>NaN</th>\n",
       "      <th>NaN</th>\n",
       "      <td>139</td>\n",
       "    </tr>\n",
       "  </tbody>\n",
       "</table>\n",
       "</div>"
      ],
      "text/plain": [
       "                                                       value\n",
       "track_id           category           strength target       \n",
       "TRAAAAV128F421A322 non-discriminatory mild     NaN         1\n",
       "                   NaN                NaN      NaN       102\n",
       "TRAAABD128F429CF47 NaN                NaN      NaN       226\n",
       "TRAAAED128E0783FAB NaN                NaN      NaN       421\n",
       "TRAAAEF128F4273421 NaN                NaN      NaN       139"
      ]
     },
     "execution_count": 7,
     "metadata": {},
     "output_type": "execute_result"
    }
   ],
   "source": [
    "columns = [\"track_id\", \"category\", \"strength\", \"target\", \"value\"]\n",
    "track_off = pd.DataFrame.from_records([elem[0] + [elem[1]] for elem in data_non_flat], columns=columns)\n",
    "track_off = track_off.set_index([\"track_id\", \"category\", \"strength\", \"target\"])\n",
    "track_off.head()"
   ]
  },
  {
   "cell_type": "markdown",
   "metadata": {},
   "source": [
    "That's it, we have our multi-index structure. Now, we have the choice: absolute or relative count of swear words in a song ? This choice is rather difficult. But, in some way, even if a song is longer than another one, we can (for now) consider that simply having more swear words is equivalent to being more vulgar. So let's simply count the number of swear words per song:"
   ]
  },
  {
   "cell_type": "code",
   "execution_count": 105,
   "metadata": {},
   "outputs": [
    {
     "name": "stdout",
     "output_type": "stream",
     "text": [
      "CPU times: user 11min 23s, sys: 236 ms, total: 11min 23s\n",
      "Wall time: 11min 23s\n"
     ]
    }
   ],
   "source": [
    "%%time \n",
    "track_offensiveness = track_off.groupby(by=\"track_id\").apply(lambda frame: frame.reset_index().dropna(thresh = 3).value.sum())\n",
    "track_offensiveness = track_offensiveness.fillna(0)"
   ]
  },
  {
   "cell_type": "markdown",
   "metadata": {},
   "source": [
    "And here is our frame relating a song with its offensiveness (so, for example, the song with track ID 'TRAAAAV128F421A322' contains one swear word)"
   ]
  },
  {
   "cell_type": "code",
   "execution_count": 161,
   "metadata": {},
   "outputs": [
    {
     "data": {
      "text/plain": [
       "track_id\n",
       "TRAAAAV128F421A322    1.0\n",
       "TRAAABD128F429CF47    0.0\n",
       "TRAAAED128E0783FAB    0.0\n",
       "TRAAAEF128F4273421    0.0\n",
       "TRAAAEW128F42930C0    0.0\n",
       "dtype: float64"
      ]
     },
     "execution_count": 161,
     "metadata": {},
     "output_type": "execute_result"
    }
   ],
   "source": [
    "track_offensiveness.head()"
   ]
  },
  {
   "cell_type": "markdown",
   "metadata": {},
   "source": [
    "Let's save this:"
   ]
  },
  {
   "cell_type": "code",
   "execution_count": 9,
   "metadata": {},
   "outputs": [],
   "source": [
    "if first_time:\n",
    "    track_offensiveness.to_csv(\"../datasets/track_offensiveness.csv\")\n",
    "else:\n",
    "    track_offensiveness = pd.read_csv(\"../datasets/track_offensiveness.csv\")"
   ]
  },
  {
   "cell_type": "markdown",
   "metadata": {},
   "source": [
    "We take only the columns we are interested in:"
   ]
  },
  {
   "cell_type": "code",
   "execution_count": 132,
   "metadata": {},
   "outputs": [],
   "source": [
    "song_info = pd.read_csv(\"../datasets/song_info/total.csv\")[[\"track_id\", \"genre\", \"song_hotness\",\n",
    "                                                            \"song_id\", \"title\", \"year\"]]"
   ]
  },
  {
   "cell_type": "markdown",
   "metadata": {},
   "source": [
    "### English songs\n",
    "We now want to do our analysis for english songs only so we read the corresponding track IDs. The process of \"detecting\" which songs are in english is described in [this notebook](handling_languages.ipynb)."
   ]
  },
  {
   "cell_type": "code",
   "execution_count": 176,
   "metadata": {},
   "outputs": [
    {
     "name": "stdout",
     "output_type": "stream",
     "text": [
      "We have 202115 english songs.\n"
     ]
    },
    {
     "data": {
      "text/html": [
       "<div>\n",
       "<style scoped>\n",
       "    .dataframe tbody tr th:only-of-type {\n",
       "        vertical-align: middle;\n",
       "    }\n",
       "\n",
       "    .dataframe tbody tr th {\n",
       "        vertical-align: top;\n",
       "    }\n",
       "\n",
       "    .dataframe thead th {\n",
       "        text-align: right;\n",
       "    }\n",
       "</style>\n",
       "<table border=\"1\" class=\"dataframe\">\n",
       "  <thead>\n",
       "    <tr style=\"text-align: right;\">\n",
       "      <th></th>\n",
       "      <th>track_id</th>\n",
       "    </tr>\n",
       "  </thead>\n",
       "  <tbody>\n",
       "    <tr>\n",
       "      <th>0</th>\n",
       "      <td>TRAAAAV128F421A322</td>\n",
       "    </tr>\n",
       "    <tr>\n",
       "      <th>1</th>\n",
       "      <td>TRAAABD128F429CF47</td>\n",
       "    </tr>\n",
       "    <tr>\n",
       "      <th>2</th>\n",
       "      <td>TRAAAED128E0783FAB</td>\n",
       "    </tr>\n",
       "    <tr>\n",
       "      <th>3</th>\n",
       "      <td>TRAAAEF128F4273421</td>\n",
       "    </tr>\n",
       "    <tr>\n",
       "      <th>4</th>\n",
       "      <td>TRAAAEW128F42930C0</td>\n",
       "    </tr>\n",
       "  </tbody>\n",
       "</table>\n",
       "</div>"
      ],
      "text/plain": [
       "             track_id\n",
       "0  TRAAAAV128F421A322\n",
       "1  TRAAABD128F429CF47\n",
       "2  TRAAAED128E0783FAB\n",
       "3  TRAAAEF128F4273421\n",
       "4  TRAAAEW128F42930C0"
      ]
     },
     "execution_count": 176,
     "metadata": {},
     "output_type": "execute_result"
    }
   ],
   "source": [
    "english_songs = pd.read_csv(\"../datasets/tracks_english.csv\", header=-1)[1]\n",
    "print(\"We have {} english songs.\".format(english_songs.shape[0]))\n",
    "english_songs = english_songs.to_frame()\n",
    "english_songs.columns = [\"track_id\"]\n",
    "english_songs.head()"
   ]
  },
  {
   "cell_type": "code",
   "execution_count": 179,
   "metadata": {},
   "outputs": [
    {
     "name": "stdout",
     "output_type": "stream",
     "text": [
      "We have 202115 songs.\n"
     ]
    },
    {
     "data": {
      "text/html": [
       "<div>\n",
       "<style scoped>\n",
       "    .dataframe tbody tr th:only-of-type {\n",
       "        vertical-align: middle;\n",
       "    }\n",
       "\n",
       "    .dataframe tbody tr th {\n",
       "        vertical-align: top;\n",
       "    }\n",
       "\n",
       "    .dataframe thead th {\n",
       "        text-align: right;\n",
       "    }\n",
       "</style>\n",
       "<table border=\"1\" class=\"dataframe\">\n",
       "  <thead>\n",
       "    <tr style=\"text-align: right;\">\n",
       "      <th></th>\n",
       "      <th>track_id</th>\n",
       "      <th>abs_offensiveness</th>\n",
       "    </tr>\n",
       "  </thead>\n",
       "  <tbody>\n",
       "    <tr>\n",
       "      <th>0</th>\n",
       "      <td>TRAAAAV128F421A322</td>\n",
       "      <td>1.0</td>\n",
       "    </tr>\n",
       "    <tr>\n",
       "      <th>1</th>\n",
       "      <td>TRAAABD128F429CF47</td>\n",
       "      <td>0.0</td>\n",
       "    </tr>\n",
       "    <tr>\n",
       "      <th>2</th>\n",
       "      <td>TRAAAED128E0783FAB</td>\n",
       "      <td>0.0</td>\n",
       "    </tr>\n",
       "    <tr>\n",
       "      <th>3</th>\n",
       "      <td>TRAAAEF128F4273421</td>\n",
       "      <td>0.0</td>\n",
       "    </tr>\n",
       "    <tr>\n",
       "      <th>4</th>\n",
       "      <td>TRAAAEW128F42930C0</td>\n",
       "      <td>0.0</td>\n",
       "    </tr>\n",
       "  </tbody>\n",
       "</table>\n",
       "</div>"
      ],
      "text/plain": [
       "             track_id  abs_offensiveness\n",
       "0  TRAAAAV128F421A322                1.0\n",
       "1  TRAAABD128F429CF47                0.0\n",
       "2  TRAAAED128E0783FAB                0.0\n",
       "3  TRAAAEF128F4273421                0.0\n",
       "4  TRAAAEW128F42930C0                0.0"
      ]
     },
     "execution_count": 179,
     "metadata": {},
     "output_type": "execute_result"
    }
   ],
   "source": [
    "english_track_offensiveness = english_songs.merge(track_offensiveness.reset_index(), on=\"track_id\")\n",
    "print(\"We have {} songs.\".format(english_track_offensiveness.shape[0]))\n",
    "english_track_offensiveness.columns = [\"track_id\", \"abs_offensiveness\"]\n",
    "english_track_offensiveness.head()"
   ]
  },
  {
   "cell_type": "code",
   "execution_count": 181,
   "metadata": {},
   "outputs": [
    {
     "data": {
      "text/html": [
       "<div>\n",
       "<style scoped>\n",
       "    .dataframe tbody tr th:only-of-type {\n",
       "        vertical-align: middle;\n",
       "    }\n",
       "\n",
       "    .dataframe tbody tr th {\n",
       "        vertical-align: top;\n",
       "    }\n",
       "\n",
       "    .dataframe thead th {\n",
       "        text-align: right;\n",
       "    }\n",
       "</style>\n",
       "<table border=\"1\" class=\"dataframe\">\n",
       "  <thead>\n",
       "    <tr style=\"text-align: right;\">\n",
       "      <th></th>\n",
       "      <th>track_id</th>\n",
       "      <th>genre</th>\n",
       "      <th>song_hotness</th>\n",
       "      <th>song_id</th>\n",
       "      <th>title</th>\n",
       "      <th>year</th>\n",
       "      <th>index</th>\n",
       "      <th>abs_offensiveness</th>\n",
       "    </tr>\n",
       "  </thead>\n",
       "  <tbody>\n",
       "    <tr>\n",
       "      <th>0</th>\n",
       "      <td>TRBEEGF128F42AB67E</td>\n",
       "      <td>NaN</td>\n",
       "      <td>0.000000</td>\n",
       "      <td>SOMYKOX12A8C13D59F</td>\n",
       "      <td>Collision Course</td>\n",
       "      <td>0</td>\n",
       "      <td>9341</td>\n",
       "      <td>0.0</td>\n",
       "    </tr>\n",
       "    <tr>\n",
       "      <th>1</th>\n",
       "      <td>TRBEEPA128F4291036</td>\n",
       "      <td>NaN</td>\n",
       "      <td>NaN</td>\n",
       "      <td>SOTOLDX12A58A79206</td>\n",
       "      <td>Fermented Offal Discharge</td>\n",
       "      <td>1995</td>\n",
       "      <td>9345</td>\n",
       "      <td>1.0</td>\n",
       "    </tr>\n",
       "    <tr>\n",
       "      <th>2</th>\n",
       "      <td>TRBEEEA128F92E7EED</td>\n",
       "      <td>NaN</td>\n",
       "      <td>NaN</td>\n",
       "      <td>SOGLPMS12D02193D69</td>\n",
       "      <td>Fake Messiah (Album Version)</td>\n",
       "      <td>2009</td>\n",
       "      <td>9339</td>\n",
       "      <td>0.0</td>\n",
       "    </tr>\n",
       "    <tr>\n",
       "      <th>3</th>\n",
       "      <td>TRBEERY128F4231A2E</td>\n",
       "      <td>NaN</td>\n",
       "      <td>0.528782</td>\n",
       "      <td>SOVSBWN12A813557F9</td>\n",
       "      <td>Eyes Of A Stranger (Album Version)</td>\n",
       "      <td>0</td>\n",
       "      <td>9346</td>\n",
       "      <td>0.0</td>\n",
       "    </tr>\n",
       "    <tr>\n",
       "      <th>4</th>\n",
       "      <td>TRBEEXV128F93116C9</td>\n",
       "      <td>NaN</td>\n",
       "      <td>0.227736</td>\n",
       "      <td>SOJHHMQ12AB017C6A6</td>\n",
       "      <td>Don't Ya Ever Leave Me (Live)</td>\n",
       "      <td>0</td>\n",
       "      <td>9348</td>\n",
       "      <td>0.0</td>\n",
       "    </tr>\n",
       "  </tbody>\n",
       "</table>\n",
       "</div>"
      ],
      "text/plain": [
       "             track_id  genre  song_hotness             song_id  \\\n",
       "0  TRBEEGF128F42AB67E    NaN      0.000000  SOMYKOX12A8C13D59F   \n",
       "1  TRBEEPA128F4291036    NaN           NaN  SOTOLDX12A58A79206   \n",
       "2  TRBEEEA128F92E7EED    NaN           NaN  SOGLPMS12D02193D69   \n",
       "3  TRBEERY128F4231A2E    NaN      0.528782  SOVSBWN12A813557F9   \n",
       "4  TRBEEXV128F93116C9    NaN      0.227736  SOJHHMQ12AB017C6A6   \n",
       "\n",
       "                                title  year  index  abs_offensiveness  \n",
       "0                    Collision Course     0   9341                0.0  \n",
       "1           Fermented Offal Discharge  1995   9345                1.0  \n",
       "2        Fake Messiah (Album Version)  2009   9339                0.0  \n",
       "3  Eyes Of A Stranger (Album Version)     0   9346                0.0  \n",
       "4       Don't Ya Ever Leave Me (Live)     0   9348                0.0  "
      ]
     },
     "execution_count": 181,
     "metadata": {},
     "output_type": "execute_result"
    }
   ],
   "source": [
    "song_info_offensiveness = song_info.merge(english_track_offensiveness.reset_index(), on=\"track_id\")\n",
    "song_info_offensiveness = song_info_offensiveness.rename(columns={0: \"abs_offensiveness\"})\n",
    "song_info_offensiveness.head()"
   ]
  },
  {
   "cell_type": "markdown",
   "metadata": {},
   "source": [
    "That's good, we have more than 200000 english songs with absolute offensiveness value. The two other values we will be the most focused on are the song hotness and the year. So we need to keep those where the year is not 0 and the song hotness is not nan. For now, let's proceed by keeping only datapoints with positive hotness value."
   ]
  },
  {
   "cell_type": "markdown",
   "metadata": {},
   "source": [
    "### Keep positive hotness datapoints:"
   ]
  },
  {
   "cell_type": "code",
   "execution_count": 149,
   "metadata": {},
   "outputs": [],
   "source": [
    "song_info_offensiveness_hotness = song_info_offensiveness[song_info_offensiveness.song_hotness > 0]"
   ]
  },
  {
   "cell_type": "markdown",
   "metadata": {},
   "source": [
    "And now, let's compute the correlation for all songs independent of year:"
   ]
  },
  {
   "cell_type": "code",
   "execution_count": 150,
   "metadata": {},
   "outputs": [
    {
     "data": {
      "text/plain": [
       "0.0068508883434469994"
      ]
     },
     "execution_count": 150,
     "metadata": {},
     "output_type": "execute_result"
    }
   ],
   "source": [
    "song_info_offensiveness_hotness.song_hotness.corr(song_info_offensiveness_hotness[\"abs_offensiveness\"])"
   ]
  },
  {
   "cell_type": "markdown",
   "metadata": {},
   "source": [
    "So we do not really have a correlation which means something here. Let's try by keeping the hotness = 0 values (if we suppose that those songs were \"complete flops\"):"
   ]
  },
  {
   "cell_type": "code",
   "execution_count": 185,
   "metadata": {},
   "outputs": [
    {
     "data": {
      "text/plain": [
       "-0.0049521674122630678"
      ]
     },
     "execution_count": 185,
     "metadata": {},
     "output_type": "execute_result"
    }
   ],
   "source": [
    "song_info_offensiveness.song_hotness.corr(song_info_offensiveness.abs_offensiveness)"
   ]
  },
  {
   "cell_type": "markdown",
   "metadata": {},
   "source": [
    "This does not tell us much neither...\n",
    "\n",
    "So let's include the year and see what we get:"
   ]
  },
  {
   "cell_type": "code",
   "execution_count": 151,
   "metadata": {},
   "outputs": [
    {
     "data": {
      "text/html": [
       "<div>\n",
       "<style scoped>\n",
       "    .dataframe tbody tr th:only-of-type {\n",
       "        vertical-align: middle;\n",
       "    }\n",
       "\n",
       "    .dataframe tbody tr th {\n",
       "        vertical-align: top;\n",
       "    }\n",
       "\n",
       "    .dataframe thead th {\n",
       "        text-align: right;\n",
       "    }\n",
       "</style>\n",
       "<table border=\"1\" class=\"dataframe\">\n",
       "  <thead>\n",
       "    <tr style=\"text-align: right;\">\n",
       "      <th></th>\n",
       "      <th>track_id</th>\n",
       "      <th>genre</th>\n",
       "      <th>song_hotness</th>\n",
       "      <th>song_id</th>\n",
       "      <th>title</th>\n",
       "      <th>year</th>\n",
       "      <th>abs_offensiveness</th>\n",
       "    </tr>\n",
       "  </thead>\n",
       "  <tbody>\n",
       "    <tr>\n",
       "      <th>5</th>\n",
       "      <td>TRBEEZO12903D05259</td>\n",
       "      <td>NaN</td>\n",
       "      <td>0.520345</td>\n",
       "      <td>SOUDWTU12AC37746F7</td>\n",
       "      <td>Spade and Parade</td>\n",
       "      <td>1994</td>\n",
       "      <td>1.0</td>\n",
       "    </tr>\n",
       "    <tr>\n",
       "      <th>9</th>\n",
       "      <td>TRBEENZ12903CE81F8</td>\n",
       "      <td>NaN</td>\n",
       "      <td>0.386477</td>\n",
       "      <td>SOPAKAJ12AB0188E86</td>\n",
       "      <td>Why I Liked Bikini Kill</td>\n",
       "      <td>1995</td>\n",
       "      <td>0.0</td>\n",
       "    </tr>\n",
       "    <tr>\n",
       "      <th>11</th>\n",
       "      <td>TRBEELS128F42B63A8</td>\n",
       "      <td>NaN</td>\n",
       "      <td>0.557188</td>\n",
       "      <td>SOPPTXH12A8C1409BC</td>\n",
       "      <td>Sent By Angels</td>\n",
       "      <td>1992</td>\n",
       "      <td>0.0</td>\n",
       "    </tr>\n",
       "    <tr>\n",
       "      <th>13</th>\n",
       "      <td>TRBEEIV128F425DAA0</td>\n",
       "      <td>NaN</td>\n",
       "      <td>0.492714</td>\n",
       "      <td>SODLELQ12A8C137D00</td>\n",
       "      <td>To All A Good Night</td>\n",
       "      <td>2000</td>\n",
       "      <td>0.0</td>\n",
       "    </tr>\n",
       "    <tr>\n",
       "      <th>14</th>\n",
       "      <td>TRBEMOM128F933A303</td>\n",
       "      <td>NaN</td>\n",
       "      <td>0.637593</td>\n",
       "      <td>SOUCJJT12A58A79086</td>\n",
       "      <td>Life In The Rain</td>\n",
       "      <td>2001</td>\n",
       "      <td>0.0</td>\n",
       "    </tr>\n",
       "  </tbody>\n",
       "</table>\n",
       "</div>"
      ],
      "text/plain": [
       "              track_id  genre  song_hotness             song_id  \\\n",
       "5   TRBEEZO12903D05259    NaN      0.520345  SOUDWTU12AC37746F7   \n",
       "9   TRBEENZ12903CE81F8    NaN      0.386477  SOPAKAJ12AB0188E86   \n",
       "11  TRBEELS128F42B63A8    NaN      0.557188  SOPPTXH12A8C1409BC   \n",
       "13  TRBEEIV128F425DAA0    NaN      0.492714  SODLELQ12A8C137D00   \n",
       "14  TRBEMOM128F933A303    NaN      0.637593  SOUCJJT12A58A79086   \n",
       "\n",
       "                      title  year  abs_offensiveness  \n",
       "5          Spade and Parade  1994                1.0  \n",
       "9   Why I Liked Bikini Kill  1995                0.0  \n",
       "11           Sent By Angels  1992                0.0  \n",
       "13      To All A Good Night  2000                0.0  \n",
       "14         Life In The Rain  2001                0.0  "
      ]
     },
     "execution_count": 151,
     "metadata": {},
     "output_type": "execute_result"
    }
   ],
   "source": [
    "song_info_YOH = song_info_offensiveness_hotness[song_info_offensiveness_hotness.year > 0]\n",
    "song_info_YOH.head()"
   ]
  },
  {
   "cell_type": "markdown",
   "metadata": {},
   "source": [
    "And the correlation for songs where we have the year is:"
   ]
  },
  {
   "cell_type": "code",
   "execution_count": 152,
   "metadata": {},
   "outputs": [
    {
     "data": {
      "text/plain": [
       "0.013040255204667648"
      ]
     },
     "execution_count": 152,
     "metadata": {},
     "output_type": "execute_result"
    }
   ],
   "source": [
    "song_info_YOH.song_hotness.corr(song_info_YOH.abs_offensiveness)"
   ]
  },
  {
   "cell_type": "markdown",
   "metadata": {},
   "source": [
    "Still not significant, but it increased (even if the increase is very small)"
   ]
  },
  {
   "cell_type": "code",
   "execution_count": 208,
   "metadata": {},
   "outputs": [
    {
     "name": "stderr",
     "output_type": "stream",
     "text": [
      "/home/ahmed/python_libs/anaconda3/envs/ada/lib/python3.5/site-packages/numpy/lib/function_base.py:3159: RuntimeWarning: Degrees of freedom <= 0 for slice\n",
      "  c = cov(x, y, rowvar)\n",
      "/home/ahmed/python_libs/anaconda3/envs/ada/lib/python3.5/site-packages/numpy/lib/function_base.py:3093: RuntimeWarning: divide by zero encountered in double_scalars\n",
      "  c *= 1. / np.float64(fact)\n"
     ]
    }
   ],
   "source": [
    "# group by:\n",
    "year_correlation = song_info_YOH.groupby(by=\"year\").apply(lambda frame: frame.song_hotness.corr(frame.abs_offensiveness))\n",
    "\n",
    "# we drop the years where we have too few songs and we rename the columns\n",
    "year_correlation = year_correlation.dropna()\n",
    "year_correlation = year_correlation.to_frame().reset_index()\n",
    "year_correlation.columns = [\"year\", \"correlation\"]"
   ]
  },
  {
   "cell_type": "code",
   "execution_count": 221,
   "metadata": {},
   "outputs": [
    {
     "data": {
      "text/plain": [
       "[<matplotlib.lines.Line2D at 0x7f9174f6c5c0>]"
      ]
     },
     "execution_count": 221,
     "metadata": {},
     "output_type": "execute_result"
    },
    {
     "data": {
      "image/png": "[encoded data removed]",
      "text/plain": [
       "<matplotlib.figure.Figure at 0x7f90ece068d0>"
      ]
     },
     "metadata": {},
     "output_type": "display_data"
    }
   ],
   "source": [
    "plt.plot(year_correlation.year.tolist(), year_correlation.correlation.tolist())"
   ]
  },
  {
   "cell_type": "markdown",
   "metadata": {},
   "source": [
    "### Category, strength and target-based correlations\n",
    "Until now we computed the general offensiveness of a song. But we would also like to see how the popularity and the offensiveness relate in terms of categories of swear words. So let's proceed by defining a function for getting the offensiveness only based on one combination of category, strength and target: "
   ]
  },
  {
   "cell_type": "code",
   "execution_count": null,
   "metadata": {},
   "outputs": [
    {
     "name": "stdout",
     "output_type": "stream",
     "text": [
      "Correlations for category = non-discriminatory, strength = mild and target = none\n"
     ]
    },
    {
     "name": "stderr",
     "output_type": "stream",
     "text": [
      "/home/ahmed/python_libs/anaconda3/envs/ada/lib/python3.5/site-packages/numpy/lib/function_base.py:3159: RuntimeWarning: Degrees of freedom <= 0 for slice\n",
      "  c = cov(x, y, rowvar)\n",
      "/home/ahmed/python_libs/anaconda3/envs/ada/lib/python3.5/site-packages/numpy/lib/function_base.py:3093: RuntimeWarning: divide by zero encountered in double_scalars\n",
      "  c *= 1. / np.float64(fact)\n"
     ]
    },
    {
     "data": {
      "image/png": "[encoded data removed]",
      "text/plain": [
       "<matplotlib.figure.Figure at 0x7f3c8bdcd048>"
      ]
     },
     "metadata": {},
     "output_type": "display_data"
    }
   ],
   "source": [
    "def correlate_for_swear_attributes(track_off, category=\"none\", strength=\"none\", target=\"none\"):\n",
    "    \"\"\"\n",
    "    This method plots the date correlations for the specified parameters. If the 3 are \"none\"\n",
    "    then the correlations will be computed based on all swear words.\n",
    "    \"\"\"\n",
    "    def get_off_count_based_on(track_off, category, strength, target):\n",
    "        track_off_nidx = track_off.reset_index().fillna(\"none\")\n",
    "        return track_off_nidx.query(\"(category == @category and strength == @strength and target == @target) or\\\n",
    "                                (category == 'none' and strength == 'none' and target == 'none')\").replace(\"none\", np.nan)\n",
    "    def get_off_based_on(track_off, category, strength, target):\n",
    "        count_off = get_off_count_based_on(track_off, category, strength, target)\n",
    "        count_off_non_na = count_off[count_off.duplicated(\"track_id\", keep=False)].dropna(thresh=3)\n",
    "        count_off_non_na.loc[:, \"offensiveness\"] = count_off_non_na[\"value\"]\n",
    "        count_off_na = count_off.drop_duplicates(\"track_id\",keep=False)\n",
    "        count_off_na.insert(0, \"offensiveness\", 0)\n",
    "        return pd.concat([count_off_non_na, count_off_na])[[\"track_id\", \"offensiveness\"]]\n",
    "    \n",
    "    all_swear_words = category == \"none\" and strength == \"none\" and target == \"none\"\n",
    "    \n",
    "    english_songs = pd.read_csv(\"../datasets/tracks_english.csv\", header=-1)[1].to_frame()\n",
    "    english_songs.columns = [\"track_id\"]\n",
    "    song_info = pd.read_csv(\"../datasets/song_info/total.csv\")[[\"track_id\", \"genre\", \"song_hotness\",\n",
    "                                                            \"song_id\", \"title\", \"year\"]]\n",
    "    \n",
    "    if all_swear_words:\n",
    "        # We want all categories/strength/targets:\n",
    "        print(\"Correlations for all swear words:\")\n",
    "        if first_time:\n",
    "            track_off_group = track_off.groupby(by=\"track_id\").apply(lambda frame: frame.reset_index().dropna(thresh = 3).value.sum())\n",
    "            track_off_group = track_off_group.fillna()\n",
    "        else:\n",
    "            track_off_group = pd.read_csv(\"../datasets/track_offensiveness.csv\", header=-1)\n",
    "            track_off_group.columns = [\"track_id\", \"offensiveness\"]\n",
    "    else:\n",
    "        print(\"Correlations for category = {}, strength = {} and target = {}\".format(category, strength, target))\n",
    "        track_off_group = get_off_based_on(track_off, category, strength, target)\n",
    "        \n",
    "    english_track_offensiveness = english_songs.merge(track_off_group.reset_index(), on=\"track_id\")\n",
    "    song_info_offensiveness = song_info.merge(english_track_offensiveness, on=\"track_id\")\n",
    "    song_info_offensiveness = song_info_offensiveness[[\"track_id\", \"song_hotness\", \"year\", \"offensiveness\"]]\n",
    "    song_info_offensiveness = song_info_offensiveness.dropna().query(\"year > 0 and song_hotness > 0\")\n",
    "    year_correlation = song_info_offensiveness.groupby(by=\"year\").apply(lambda frame: frame.song_hotness.corr(frame.offensiveness))\n",
    "    year_correlation = year_correlation.dropna()\n",
    "    year_correlation = year_correlation.to_frame().reset_index()\n",
    "    year_correlation.columns = [\"year\", \"correlation\"]\n",
    "    plt.plot(year_correlation.year.tolist(), year_correlation.correlation.tolist())\n",
    "    plt.show()\n",
    "    # return year_correlation\n",
    "    # english_track_offensiveness.columns = [\"track_id\", \"abs_offensiveness\"]\n",
    "    \n",
    "correlate_for_swear_attributes(track_off, \"non-discriminatory\", \"mild\", \"none\")"
   ]
  },
  {
   "cell_type": "markdown",
   "metadata": {},
   "source": [
    "Now let's go over all the category-strength-target combinations and plot the correlations for each of them:"
   ]
  },
  {
   "cell_type": "code",
   "execution_count": null,
   "metadata": {},
   "outputs": [
    {
     "name": "stdout",
     "output_type": "stream",
     "text": [
      "Correlations for category = non-discriminatory, strength = mild and target = none\n"
     ]
    },
    {
     "name": "stderr",
     "output_type": "stream",
     "text": [
      "/home/ahmed/python_libs/anaconda3/envs/ada/lib/python3.5/site-packages/numpy/lib/function_base.py:3159: RuntimeWarning: Degrees of freedom <= 0 for slice\n",
      "  c = cov(x, y, rowvar)\n",
      "/home/ahmed/python_libs/anaconda3/envs/ada/lib/python3.5/site-packages/numpy/lib/function_base.py:3093: RuntimeWarning: divide by zero encountered in double_scalars\n",
      "  c *= 1. / np.float64(fact)\n"
     ]
    },
    {
     "data": {
      "image/png": "[encoded data removed]",
      "text/plain": [
       "<matplotlib.figure.Figure at 0x7f3caa22c1d0>"
      ]
     },
     "metadata": {},
     "output_type": "display_data"
    },
    {
     "name": "stdout",
     "output_type": "stream",
     "text": [
      "Correlations for all swear words:\n"
     ]
    },
    {
     "data": {
      "image/png": "[encoded data removed]",
      "text/plain": [
       "<matplotlib.figure.Figure at 0x7f3cea98be10>"
      ]
     },
     "metadata": {},
     "output_type": "display_data"
    },
    {
     "name": "stdout",
     "output_type": "stream",
     "text": [
      "Correlations for category = discriminatory, strength = mild and target = mentalorphysicalability\n"
     ]
    },
    {
     "data": {
      "image/png": "[encoded data removed]",
      "text/plain": [
       "<matplotlib.figure.Figure at 0x7f3ceb91e668>"
      ]
     },
     "metadata": {},
     "output_type": "display_data"
    },
    {
     "name": "stdout",
     "output_type": "stream",
     "text": [
      "Correlations for category = discriminatory, strength = strongest and target = race\n"
     ]
    },
    {
     "data": {
      "image/png": "[encoded data removed]",
      "text/plain": [
       "<matplotlib.figure.Figure at 0x7f3c8be56588>"
      ]
     },
     "metadata": {},
     "output_type": "display_data"
    },
    {
     "name": "stdout",
     "output_type": "stream",
     "text": [
      "Correlations for category = non-discriminatory, strength = medium and target = none\n"
     ]
    },
    {
     "data": {
      "image/png": "[encoded data removed]",
      "text/plain": [
       "<matplotlib.figure.Figure at 0x7f3ceb9b2160>"
      ]
     },
     "metadata": {},
     "output_type": "display_data"
    },
    {
     "name": "stdout",
     "output_type": "stream",
     "text": [
      "Correlations for category = non-discriminatory, strength = strongest and target = none\n"
     ]
    },
    {
     "data": {
      "image/png": "[encoded data removed]",
      "text/plain": [
       "<matplotlib.figure.Figure at 0x7f3cebb9f1d0>"
      ]
     },
     "metadata": {},
     "output_type": "display_data"
    },
    {
     "name": "stdout",
     "output_type": "stream",
     "text": [
      "Correlations for category = discriminatory, strength = medium and target = mentalorphysicalability\n"
     ]
    },
    {
     "data": {
      "image/png": "[encoded data removed]",
      "text/plain": [
       "<matplotlib.figure.Figure at 0x7f3cebaad080>"
      ]
     },
     "metadata": {},
     "output_type": "display_data"
    }
   ],
   "source": [
    "all_combinations = track_off.reset_index()[[\"category\", \"strength\", \"target\"]].drop_duplicates()\n",
    "all_combinations = all_combinations.fillna(\"none\")\n",
    "for i in range(all_combinations.shape[0]):\n",
    "    row = all_combinations.iloc[i]\n",
    "    correlate_for_swear_attributes(track_off, row[\"category\"], row[\"strength\"], row[\"target\"])"
   ]
  }
 ],
 "metadata": {
  "kernelspec": {
   "display_name": "Python 3",
   "language": "python",
   "name": "python3"
  },
  "language_info": {
   "codemirror_mode": {
    "name": "ipython",
    "version": 3
   },
   "file_extension": ".py",
   "mimetype": "text/x-python",
   "name": "python",
   "nbconvert_exporter": "python",
   "pygments_lexer": "ipython3",
   "version": "3.5.4"
  }
 },
 "nbformat": 4,
 "nbformat_minor": 2
}
