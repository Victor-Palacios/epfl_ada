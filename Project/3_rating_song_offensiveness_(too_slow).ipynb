{
 "cells": [
  {
   "cell_type": "markdown",
   "metadata": {},
   "source": [
    "### Rating a song in the msd database (obsolete)\n",
    "This was a first attempt to rate the offensiveness of a song in the database.\n",
    "To do this, we need to\n",
    "- identify an individual song\n",
    "- get all lyrics corresponding to this song\n",
    "- rate them by offensiveness\n",
    "\n",
    "In this notebook, we are investigating the structure of the data.\n",
    "But our approach is not fast enough."
   ]
  },
  {
   "cell_type": "code",
   "execution_count": 1,
   "metadata": {
    "collapsed": true
   },
   "outputs": [],
   "source": [
    "import sqlite3"
   ]
  },
  {
   "cell_type": "code",
   "execution_count": 3,
   "metadata": {
    "collapsed": true
   },
   "outputs": [],
   "source": [
    "conn = sqlite3.connect(\"../datasets/mxm_dataset.db\")"
   ]
  },
  {
   "cell_type": "markdown",
   "metadata": {},
   "source": [
    "The database contains the following:\n",
    "\n",
    "https://github.com/tbertinmahieux/MSongsDB/blob/master/Tasks_Demos/Lyrics/README.txt\n",
    "_More details on the database:\n",
    "   - it contains two tables, 'words' and 'lyrics'\n",
    "   - table 'words' has one column: 'word'. Words are entered according\n",
    "     to popularity, check their ROWID if you want to check their position.\n",
    "     ROWID is an implicit column in SQLite, it starts at 1.\n",
    "   - table 'lyrics' contains 5 columns, see below\n",
    "   - column 'track_id' -> as usual, track id from the MSD\n",
    "   - column 'mxm_tid' -> track ID from musiXmatch\n",
    "   - column 'word' -> a word that is also in the 'words' table\n",
    "   - column 'cnt' -> word count for the word\n",
    "   - column 'is_test' -> 0 if this example is from the train set, 1 if test_\n",
    "   \n",
    "We want to connect our insights to the million song database and its metadata.\n",
    "Therefore we want to use the track_id to identify songs.\n",
    "\n",
    "The lyrics table contains individual entries for every "
   ]
  },
  {
   "cell_type": "code",
   "execution_count": 4,
   "metadata": {},
   "outputs": [
    {
     "name": "stdout",
     "output_type": "stream",
     "text": [
      "[(0, 'track_id', '', 0, None, 0), (1, 'mxm_tid', 'INT', 0, None, 0), (2, 'word', 'TEXT', 0, None, 0), (3, 'count', 'INT', 0, None, 0), (4, 'is_test', 'INT', 0, None, 0)]\n"
     ]
    }
   ],
   "source": [
    "# this is the content of the lyrics table\n",
    "# please note that it's not \"cnt\" but \"count\", the README is wrong\n",
    "cursor = conn.cursor()\n",
    "cursor.execute(\"PRAGMA table_info(lyrics);\")\n",
    "print(cursor.fetchall())\n",
    "cursor.close()"
   ]
  },
  {
   "cell_type": "markdown",
   "metadata": {},
   "source": [
    "### Use SQL to extract information\n",
    "\n",
    "We want to have all track ids, and for every track id, we need the words and counts\n",
    "\n",
    "The data is big, but even as a pandas DataFrame, the size stays below 5GB.\n",
    "I think the comfort of pandas is enough to warrant loading this into memory."
   ]
  },
  {
   "cell_type": "code",
   "execution_count": 5,
   "metadata": {},
   "outputs": [
    {
     "data": {
      "text/plain": [
       "[('TRAAAAV128F421A322',),\n",
       " ('TRAAABD128F429CF47',),\n",
       " ('TRAAAED128E0783FAB',),\n",
       " ('TRAAAEF128F4273421',),\n",
       " ('TRAAAEW128F42930C0',)]"
      ]
     },
     "execution_count": 5,
     "metadata": {},
     "output_type": "execute_result"
    }
   ],
   "source": [
    "cursor = conn.cursor()\n",
    "cursor.execute(\"SELECT DISTINCT track_id FROM lyrics ORDER BY track_id;\")\n",
    "track_ids = cursor.fetchall()\n",
    "cursor.close()\n",
    "track_ids[:5]"
   ]
  },
  {
   "cell_type": "code",
   "execution_count": 6,
   "metadata": {},
   "outputs": [
    {
     "data": {
      "text/plain": [
       "[('TRAAAAV128F421A322', 'i', 6),\n",
       " ('TRAAAAV128F421A322', 'the', 4),\n",
       " ('TRAAAAV128F421A322', 'you', 2),\n",
       " ('TRAAAAV128F421A322', 'to', 2),\n",
       " ('TRAAAAV128F421A322', 'and', 5)]"
      ]
     },
     "execution_count": 6,
     "metadata": {},
     "output_type": "execute_result"
    }
   ],
   "source": [
    "cursor = conn.cursor()\n",
    "cursor.execute(\"SELECT track_id, word, count FROM lyrics ORDER BY track_id;\")\n",
    "track_word_count = cursor.fetchall()\n",
    "cursor.close()\n",
    "track_word_count[:5]"
   ]
  },
  {
   "cell_type": "code",
   "execution_count": 7,
   "metadata": {
    "collapsed": true
   },
   "outputs": [],
   "source": [
    "conn.close()"
   ]
  },
  {
   "cell_type": "code",
   "execution_count": 8,
   "metadata": {
    "collapsed": true
   },
   "outputs": [],
   "source": [
    "import pandas as pd"
   ]
  },
  {
   "cell_type": "code",
   "execution_count": 9,
   "metadata": {},
   "outputs": [
    {
     "data": {
      "text/plain": [
       "[('TRAAAAV128F421A322',),\n",
       " ('TRAAABD128F429CF47',),\n",
       " ('TRAAAED128E0783FAB',),\n",
       " ('TRAAAEF128F4273421',),\n",
       " ('TRAAAEW128F42930C0',)]"
      ]
     },
     "execution_count": 9,
     "metadata": {},
     "output_type": "execute_result"
    }
   ],
   "source": [
    "id_series = pd.Series(track_ids)\n",
    "track_ids[:5]"
   ]
  },
  {
   "cell_type": "code",
   "execution_count": 10,
   "metadata": {
    "collapsed": true
   },
   "outputs": [],
   "source": [
    "sqldb_frame = pd.DataFrame(track_word_count, columns=[\"track_id\", \"word\", \"count\"])\n",
    "del track_word_count"
   ]
  },
  {
   "cell_type": "markdown",
   "metadata": {},
   "source": [
    "### Constructing a table to hold song ratings\n",
    "\n",
    "We want to create a table which allows intuitive indexing into the rating of a song.\n",
    "\n",
    "The table will contain the frequency of each word category. We set up a multiindex to allow slicing along the different characteristics of the word"
   ]
  },
  {
   "cell_type": "code",
   "execution_count": 11,
   "metadata": {
    "collapsed": true
   },
   "outputs": [],
   "source": [
    "word_table = pd.read_pickle(\"../pickles/word_table_cleaned.pickle\")"
   ]
  },
  {
   "cell_type": "code",
   "execution_count": 12,
   "metadata": {},
   "outputs": [
    {
     "data": {
      "text/html": [
       "<div>\n",
       "<style>\n",
       "    .dataframe thead tr:only-child th {\n",
       "        text-align: right;\n",
       "    }\n",
       "\n",
       "    .dataframe thead th {\n",
       "        text-align: left;\n",
       "    }\n",
       "\n",
       "    .dataframe tbody tr th {\n",
       "        vertical-align: top;\n",
       "    }\n",
       "</style>\n",
       "<table border=\"1\" class=\"dataframe\">\n",
       "  <thead>\n",
       "    <tr style=\"text-align: right;\">\n",
       "      <th></th>\n",
       "      <th>category</th>\n",
       "      <th>strength</th>\n",
       "      <th>target</th>\n",
       "    </tr>\n",
       "    <tr>\n",
       "      <th>word</th>\n",
       "      <th></th>\n",
       "      <th></th>\n",
       "      <th></th>\n",
       "    </tr>\n",
       "  </thead>\n",
       "  <tbody>\n",
       "    <tr>\n",
       "      <th>bonk</th>\n",
       "      <td>non-discriminatory</td>\n",
       "      <td>mild</td>\n",
       "      <td>None</td>\n",
       "    </tr>\n",
       "    <tr>\n",
       "      <th>bukkake</th>\n",
       "      <td>non-discriminatory</td>\n",
       "      <td>strong</td>\n",
       "      <td>None</td>\n",
       "    </tr>\n",
       "    <tr>\n",
       "      <th>cocksucker</th>\n",
       "      <td>non-discriminatory</td>\n",
       "      <td>strong</td>\n",
       "      <td>None</td>\n",
       "    </tr>\n",
       "    <tr>\n",
       "      <th>dildo</th>\n",
       "      <td>non-discriminatory</td>\n",
       "      <td>strong</td>\n",
       "      <td>None</td>\n",
       "    </tr>\n",
       "    <tr>\n",
       "      <th>ho</th>\n",
       "      <td>non-discriminatory</td>\n",
       "      <td>strong</td>\n",
       "      <td>None</td>\n",
       "    </tr>\n",
       "  </tbody>\n",
       "</table>\n",
       "</div>"
      ],
      "text/plain": [
       "                      category strength target\n",
       "word                                          \n",
       "bonk        non-discriminatory     mild   None\n",
       "bukkake     non-discriminatory   strong   None\n",
       "cocksucker  non-discriminatory   strong   None\n",
       "dildo       non-discriminatory   strong   None\n",
       "ho          non-discriminatory   strong   None"
      ]
     },
     "execution_count": 12,
     "metadata": {},
     "output_type": "execute_result"
    }
   ],
   "source": [
    "word_table.head()"
   ]
  },
  {
   "cell_type": "code",
   "execution_count": 13,
   "metadata": {
    "collapsed": true
   },
   "outputs": [],
   "source": [
    "index_tuples=[]\n",
    "\n",
    "for strength in [\"mild\", \"medium\", \"strong\", \"strongest\"]:\n",
    "    for category in [\"discriminatory\", \"non-discriminatory\"]:\n",
    "        for target in [\"None\", \"race\", \"mental or physical ability\", \"sexuality\"]:\n",
    "            index_tuples.append([strength, category, target])"
   ]
  },
  {
   "cell_type": "code",
   "execution_count": 14,
   "metadata": {
    "collapsed": true
   },
   "outputs": [],
   "source": [
    "index = pd.MultiIndex.from_tuples(index_tuples, names=[\"strength\", \"category\", \"target\"])"
   ]
  },
  {
   "cell_type": "code",
   "execution_count": 15,
   "metadata": {
    "collapsed": true
   },
   "outputs": [],
   "source": [
    "rating_frame = pd.DataFrame(index=[\"track_id\"], columns = index)"
   ]
  },
  {
   "cell_type": "code",
   "execution_count": 16,
   "metadata": {},
   "outputs": [
    {
     "data": {
      "text/html": [
       "<div>\n",
       "<style>\n",
       "    .dataframe thead tr:only-child th {\n",
       "        text-align: right;\n",
       "    }\n",
       "\n",
       "    .dataframe thead th {\n",
       "        text-align: left;\n",
       "    }\n",
       "\n",
       "    .dataframe tbody tr th {\n",
       "        vertical-align: top;\n",
       "    }\n",
       "</style>\n",
       "<table border=\"1\" class=\"dataframe\">\n",
       "  <thead>\n",
       "    <tr>\n",
       "      <th>strength</th>\n",
       "      <th colspan=\"8\" halign=\"left\">mild</th>\n",
       "      <th colspan=\"2\" halign=\"left\">medium</th>\n",
       "      <th>...</th>\n",
       "      <th colspan=\"2\" halign=\"left\">strong</th>\n",
       "      <th colspan=\"8\" halign=\"left\">strongest</th>\n",
       "    </tr>\n",
       "    <tr>\n",
       "      <th>category</th>\n",
       "      <th colspan=\"4\" halign=\"left\">discriminatory</th>\n",
       "      <th colspan=\"4\" halign=\"left\">non-discriminatory</th>\n",
       "      <th colspan=\"2\" halign=\"left\">discriminatory</th>\n",
       "      <th>...</th>\n",
       "      <th colspan=\"2\" halign=\"left\">non-discriminatory</th>\n",
       "      <th colspan=\"4\" halign=\"left\">discriminatory</th>\n",
       "      <th colspan=\"4\" halign=\"left\">non-discriminatory</th>\n",
       "    </tr>\n",
       "    <tr>\n",
       "      <th>target</th>\n",
       "      <th>None</th>\n",
       "      <th>race</th>\n",
       "      <th>mental or physical ability</th>\n",
       "      <th>sexuality</th>\n",
       "      <th>None</th>\n",
       "      <th>race</th>\n",
       "      <th>mental or physical ability</th>\n",
       "      <th>sexuality</th>\n",
       "      <th>None</th>\n",
       "      <th>race</th>\n",
       "      <th>...</th>\n",
       "      <th>mental or physical ability</th>\n",
       "      <th>sexuality</th>\n",
       "      <th>None</th>\n",
       "      <th>race</th>\n",
       "      <th>mental or physical ability</th>\n",
       "      <th>sexuality</th>\n",
       "      <th>None</th>\n",
       "      <th>race</th>\n",
       "      <th>mental or physical ability</th>\n",
       "      <th>sexuality</th>\n",
       "    </tr>\n",
       "  </thead>\n",
       "  <tbody>\n",
       "    <tr>\n",
       "      <th>track_id</th>\n",
       "      <td>NaN</td>\n",
       "      <td>NaN</td>\n",
       "      <td>NaN</td>\n",
       "      <td>NaN</td>\n",
       "      <td>NaN</td>\n",
       "      <td>NaN</td>\n",
       "      <td>NaN</td>\n",
       "      <td>NaN</td>\n",
       "      <td>NaN</td>\n",
       "      <td>NaN</td>\n",
       "      <td>...</td>\n",
       "      <td>NaN</td>\n",
       "      <td>NaN</td>\n",
       "      <td>NaN</td>\n",
       "      <td>NaN</td>\n",
       "      <td>NaN</td>\n",
       "      <td>NaN</td>\n",
       "      <td>NaN</td>\n",
       "      <td>NaN</td>\n",
       "      <td>NaN</td>\n",
       "      <td>NaN</td>\n",
       "    </tr>\n",
       "  </tbody>\n",
       "</table>\n",
       "<p>1 rows × 32 columns</p>\n",
       "</div>"
      ],
      "text/plain": [
       "strength           mild                                            \\\n",
       "category discriminatory                                             \n",
       "target             None race mental or physical ability sexuality   \n",
       "track_id            NaN  NaN                        NaN       NaN   \n",
       "\n",
       "strength                                                               \\\n",
       "category non-discriminatory                                             \n",
       "target                 None race mental or physical ability sexuality   \n",
       "track_id                NaN  NaN                        NaN       NaN   \n",
       "\n",
       "strength         medium         ...                        strong            \\\n",
       "category discriminatory         ...            non-discriminatory             \n",
       "target             None race    ...    mental or physical ability sexuality   \n",
       "track_id            NaN  NaN    ...                           NaN       NaN   \n",
       "\n",
       "strength      strongest                                            \\\n",
       "category discriminatory                                             \n",
       "target             None race mental or physical ability sexuality   \n",
       "track_id            NaN  NaN                        NaN       NaN   \n",
       "\n",
       "strength                                                               \n",
       "category non-discriminatory                                            \n",
       "target                 None race mental or physical ability sexuality  \n",
       "track_id                NaN  NaN                        NaN       NaN  \n",
       "\n",
       "[1 rows x 32 columns]"
      ]
     },
     "execution_count": 16,
     "metadata": {},
     "output_type": "execute_result"
    }
   ],
   "source": [
    "rating_frame"
   ]
  },
  {
   "cell_type": "markdown",
   "metadata": {},
   "source": [
    "## Populate the rating frame"
   ]
  },
  {
   "cell_type": "markdown",
   "metadata": {},
   "source": [
    "### First let's look at a sample song"
   ]
  },
  {
   "cell_type": "code",
   "execution_count": 17,
   "metadata": {},
   "outputs": [
    {
     "name": "stdout",
     "output_type": "stream",
     "text": [
      "('TRAAAAV128F421A322',)\n"
     ]
    }
   ],
   "source": [
    "for track_id in id_series:\n",
    "    print(track_id)\n",
    "    break"
   ]
  },
  {
   "cell_type": "code",
   "execution_count": 18,
   "metadata": {
    "collapsed": true
   },
   "outputs": [],
   "source": [
    "mentioned_words = sqldb_frame[sqldb_frame[\"track_id\"]==track_id[0]]"
   ]
  },
  {
   "cell_type": "code",
   "execution_count": 19,
   "metadata": {},
   "outputs": [
    {
     "data": {
      "text/plain": [
       "{('mild', 'non-discriminatory', 'None'): 0.009708737864077669}"
      ]
     },
     "execution_count": 19,
     "metadata": {},
     "output_type": "execute_result"
    }
   ],
   "source": [
    "def fill_entry(mentioned_words):\n",
    "\n",
    "    entry = {}\n",
    "    total_count = 0\n",
    "\n",
    "    for index, row in mentioned_words.iterrows():\n",
    "        word = row[\"word\"]\n",
    "        count = row[\"count\"]\n",
    "        total_count+=count\n",
    "\n",
    "        if word in word_table.index:\n",
    "            rating = word_table.loc[word]\n",
    "            strength = rating[\"strength\"]\n",
    "            category = rating[\"category\"]\n",
    "            target = rating[\"target\"]\n",
    "\n",
    "            if target==None:\n",
    "                target=\"None\"\n",
    "            \n",
    "            index = (strength, category, target)\n",
    "            if index in entry:\n",
    "                entry[index] += count\n",
    "            else:\n",
    "                entry[index] = count\n",
    "                \n",
    "    if total_count >0:\n",
    "        normalized={}\n",
    "        for key, value in entry.items():\n",
    "            normalized[key] = value / total_count\n",
    "\n",
    "\n",
    "        return normalized\n",
    "    else:\n",
    "        return entry\n",
    "\n",
    "fill_entry(mentioned_words)"
   ]
  },
  {
   "cell_type": "code",
   "execution_count": 20,
   "metadata": {},
   "outputs": [
    {
     "data": {
      "text/plain": [
       "5"
      ]
     },
     "execution_count": 20,
     "metadata": {},
     "output_type": "execute_result"
    }
   ],
   "source": [
    "5"
   ]
  },
  {
   "cell_type": "markdown",
   "metadata": {},
   "source": [
    "### Now add all songs to the rating_frame\n",
    "This takes much too long.\n",
    "\n",
    "The hotspot is searching for the words in this track.\n",
    "Maybe we can have a group by or something similar before this ?\n",
    "\n",
    "Or we need to run this on the cluster."
   ]
  },
  {
   "cell_type": "code",
   "execution_count": 21,
   "metadata": {
    "collapsed": true
   },
   "outputs": [],
   "source": [
    "from tqdm import tqdm"
   ]
  },
  {
   "cell_type": "code",
   "execution_count": 22,
   "metadata": {},
   "outputs": [
    {
     "name": "stderr",
     "output_type": "stream",
     "text": [
      "  0%|          | 45/237662 [00:48<72:03:02,  1.09s/it]"
     ]
    },
    {
     "ename": "KeyboardInterrupt",
     "evalue": "",
     "output_type": "error",
     "traceback": [
      "\u001b[0;31m---------------------------------------------------------------------------\u001b[0m",
      "\u001b[0;31mKeyboardInterrupt\u001b[0m                         Traceback (most recent call last)",
      "\u001b[0;32m<ipython-input-22-ede5629d2764>\u001b[0m in \u001b[0;36m<module>\u001b[0;34m()\u001b[0m\n\u001b[1;32m      1\u001b[0m \u001b[0;32mfor\u001b[0m \u001b[0mtrack_id\u001b[0m \u001b[0;32min\u001b[0m \u001b[0mtqdm\u001b[0m\u001b[0;34m(\u001b[0m\u001b[0mid_series\u001b[0m\u001b[0;34m)\u001b[0m\u001b[0;34m:\u001b[0m\u001b[0;34m\u001b[0m\u001b[0m\n\u001b[1;32m      2\u001b[0m     \u001b[0mtrack_id\u001b[0m \u001b[0;34m=\u001b[0m \u001b[0mtrack_id\u001b[0m\u001b[0;34m[\u001b[0m\u001b[0;36m0\u001b[0m\u001b[0;34m]\u001b[0m\u001b[0;34m\u001b[0m\u001b[0m\n\u001b[0;32m----> 3\u001b[0;31m     \u001b[0mmentioned_words\u001b[0m \u001b[0;34m=\u001b[0m \u001b[0msqldb_frame\u001b[0m\u001b[0;34m[\u001b[0m\u001b[0msqldb_frame\u001b[0m\u001b[0;34m[\u001b[0m\u001b[0;34m\"track_id\"\u001b[0m\u001b[0;34m]\u001b[0m\u001b[0;34m==\u001b[0m\u001b[0mtrack_id\u001b[0m\u001b[0;34m]\u001b[0m\u001b[0;34m\u001b[0m\u001b[0m\n\u001b[0m\u001b[1;32m      4\u001b[0m     \u001b[0mentry\u001b[0m \u001b[0;34m=\u001b[0m \u001b[0mfill_entry\u001b[0m\u001b[0;34m(\u001b[0m\u001b[0mmentioned_words\u001b[0m\u001b[0;34m)\u001b[0m\u001b[0;34m\u001b[0m\u001b[0m\n\u001b[1;32m      5\u001b[0m \u001b[0;34m\u001b[0m\u001b[0m\n",
      "\u001b[0;32m/usr/local/lib/python3.5/dist-packages/pandas/core/ops.py\u001b[0m in \u001b[0;36mwrapper\u001b[0;34m(self, other, axis)\u001b[0m\n\u001b[1;32m    859\u001b[0m \u001b[0;34m\u001b[0m\u001b[0m\n\u001b[1;32m    860\u001b[0m             \u001b[0;32mwith\u001b[0m \u001b[0mnp\u001b[0m\u001b[0;34m.\u001b[0m\u001b[0merrstate\u001b[0m\u001b[0;34m(\u001b[0m\u001b[0mall\u001b[0m\u001b[0;34m=\u001b[0m\u001b[0;34m'ignore'\u001b[0m\u001b[0;34m)\u001b[0m\u001b[0;34m:\u001b[0m\u001b[0;34m\u001b[0m\u001b[0m\n\u001b[0;32m--> 861\u001b[0;31m                 \u001b[0mres\u001b[0m \u001b[0;34m=\u001b[0m \u001b[0mna_op\u001b[0m\u001b[0;34m(\u001b[0m\u001b[0mvalues\u001b[0m\u001b[0;34m,\u001b[0m \u001b[0mother\u001b[0m\u001b[0;34m)\u001b[0m\u001b[0;34m\u001b[0m\u001b[0m\n\u001b[0m\u001b[1;32m    862\u001b[0m             \u001b[0;32mif\u001b[0m \u001b[0mis_scalar\u001b[0m\u001b[0;34m(\u001b[0m\u001b[0mres\u001b[0m\u001b[0;34m)\u001b[0m\u001b[0;34m:\u001b[0m\u001b[0;34m\u001b[0m\u001b[0m\n\u001b[1;32m    863\u001b[0m                 raise TypeError('Could not compare %s type with Series' %\n",
      "\u001b[0;32m/usr/local/lib/python3.5/dist-packages/pandas/core/ops.py\u001b[0m in \u001b[0;36mna_op\u001b[0;34m(x, y)\u001b[0m\n\u001b[1;32m    763\u001b[0m \u001b[0;34m\u001b[0m\u001b[0m\n\u001b[1;32m    764\u001b[0m         \u001b[0;32mif\u001b[0m \u001b[0mis_object_dtype\u001b[0m\u001b[0;34m(\u001b[0m\u001b[0mx\u001b[0m\u001b[0;34m.\u001b[0m\u001b[0mdtype\u001b[0m\u001b[0;34m)\u001b[0m\u001b[0;34m:\u001b[0m\u001b[0;34m\u001b[0m\u001b[0m\n\u001b[0;32m--> 765\u001b[0;31m             \u001b[0mresult\u001b[0m \u001b[0;34m=\u001b[0m \u001b[0m_comp_method_OBJECT_ARRAY\u001b[0m\u001b[0;34m(\u001b[0m\u001b[0mop\u001b[0m\u001b[0;34m,\u001b[0m \u001b[0mx\u001b[0m\u001b[0;34m,\u001b[0m \u001b[0my\u001b[0m\u001b[0;34m)\u001b[0m\u001b[0;34m\u001b[0m\u001b[0m\n\u001b[0m\u001b[1;32m    766\u001b[0m         \u001b[0;32melse\u001b[0m\u001b[0;34m:\u001b[0m\u001b[0;34m\u001b[0m\u001b[0m\n\u001b[1;32m    767\u001b[0m \u001b[0;34m\u001b[0m\u001b[0m\n",
      "\u001b[0;32m/usr/local/lib/python3.5/dist-packages/pandas/core/ops.py\u001b[0m in \u001b[0;36m_comp_method_OBJECT_ARRAY\u001b[0;34m(op, x, y)\u001b[0m\n\u001b[1;32m    743\u001b[0m         \u001b[0mresult\u001b[0m \u001b[0;34m=\u001b[0m \u001b[0mlib\u001b[0m\u001b[0;34m.\u001b[0m\u001b[0mvec_compare\u001b[0m\u001b[0;34m(\u001b[0m\u001b[0mx\u001b[0m\u001b[0;34m,\u001b[0m \u001b[0my\u001b[0m\u001b[0;34m,\u001b[0m \u001b[0mop\u001b[0m\u001b[0;34m)\u001b[0m\u001b[0;34m\u001b[0m\u001b[0m\n\u001b[1;32m    744\u001b[0m     \u001b[0;32melse\u001b[0m\u001b[0;34m:\u001b[0m\u001b[0;34m\u001b[0m\u001b[0m\n\u001b[0;32m--> 745\u001b[0;31m         \u001b[0mresult\u001b[0m \u001b[0;34m=\u001b[0m \u001b[0mlib\u001b[0m\u001b[0;34m.\u001b[0m\u001b[0mscalar_compare\u001b[0m\u001b[0;34m(\u001b[0m\u001b[0mx\u001b[0m\u001b[0;34m,\u001b[0m \u001b[0my\u001b[0m\u001b[0;34m,\u001b[0m \u001b[0mop\u001b[0m\u001b[0;34m)\u001b[0m\u001b[0;34m\u001b[0m\u001b[0m\n\u001b[0m\u001b[1;32m    746\u001b[0m     \u001b[0;32mreturn\u001b[0m \u001b[0mresult\u001b[0m\u001b[0;34m\u001b[0m\u001b[0m\n\u001b[1;32m    747\u001b[0m \u001b[0;34m\u001b[0m\u001b[0m\n",
      "\u001b[0;31mKeyboardInterrupt\u001b[0m: "
     ]
    }
   ],
   "source": [
    "for track_id in tqdm(id_series):\n",
    "    track_id = track_id[0]\n",
    "    mentioned_words = sqldb_frame[sqldb_frame[\"track_id\"]==track_id]\n",
    "    entry = fill_entry(mentioned_words)\n",
    "    \n",
    "    if entry == None:\n",
    "        print(\"bad: \"+track_id)\n",
    "    else:\n",
    "        rating_frame.loc[track_id, :]=entry"
   ]
  },
  {
   "cell_type": "code",
   "execution_count": null,
   "metadata": {
    "collapsed": true
   },
   "outputs": [],
   "source": []
  }
 ],
 "metadata": {
  "kernelspec": {
   "display_name": "Python 3",
   "language": "python",
   "name": "python3"
  },
  "language_info": {
   "codemirror_mode": {
    "name": "ipython",
    "version": 3
   },
   "file_extension": ".py",
   "mimetype": "text/x-python",
   "name": "python",
   "nbconvert_exporter": "python",
   "pygments_lexer": "ipython3",
   "version": "3.5.4"
  }
 },
 "nbformat": 4,
 "nbformat_minor": 2
}
