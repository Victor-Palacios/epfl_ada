{
 "cells": [
  {
   "cell_type": "markdown",
   "metadata": {},
   "source": [
    "## Setting up a Dataframe for the rating of offensiveness\n",
    "I'm using a paper released by the British telecommunications regulator Ofcom: https://www.ofcom.org.uk/__data/assets/pdf_file/0023/91625/OfcomQRG-AOC.pdf\n",
    "\n",
    "There is a useful transcription here:\n",
    "http://metro.co.uk/2016/10/02/swearing-ranked-from-mild-to-strongest-6165629/#\n",
    "\n",
    "I created a JSON file from the data of that website.\n",
    "This notebook will load this file and convert it to a Dataframe with a usable layout."
   ]
  },
  {
   "cell_type": "code",
   "execution_count": 1,
   "metadata": {
    "collapsed": true
   },
   "outputs": [],
   "source": [
    "import json"
   ]
  },
  {
   "cell_type": "code",
   "execution_count": 2,
   "metadata": {
    "collapsed": false
   },
   "outputs": [
    {
     "name": "stdout",
     "output_type": "stream",
     "text": [
      "['Fenian', 'Kafir', 'Kufaar', 'Kike', 'Papist', 'Prod', 'Taig', 'Yid']\n",
      "['Kraut', 'Pikey', 'Taff']\n",
      "['Arse', 'Bloody', 'Bugger', 'Cow', 'Crap', 'Damn', 'Ginger', 'Git', 'God', 'Goddam', 'Jesus Christ', 'Minger', 'Sod-off']\n"
     ]
    }
   ],
   "source": [
    "with open(\"rating_offensiveness/data/metro_co_uk_transcription.json\") as file:\n",
    "    offensiveness_rating = json.load(file)\n",
    "    \n",
    "# the offensiveness rating is a nested JSON file\n",
    "# after three levels of json objects, there is a list of words\n",
    "# it looks like this:\n",
    "print(offensiveness_rating[\"discriminatory\"][\"religion\"][\"strong\"])\n",
    "print(offensiveness_rating[\"discriminatory\"][\"race\"][\"medium\"])\n",
    "\n",
    "# there are also offensive words that are not discriminating\n",
    "# for them, the second key doesn't really make sense, I just entered \"offensive\"\n",
    "print(offensiveness_rating[\"non-discriminatory\"][\"offensive\"][\"mild\"])"
   ]
  },
  {
   "cell_type": "code",
   "execution_count": 3,
   "metadata": {
    "collapsed": false
   },
   "outputs": [],
   "source": [
    "# for further processing, we want to have a dataframe with the words as index\n",
    "# a cell in the dataframe should be a word and the rating of offensiveness\n",
    "# if the word is discriminating, we also want to have the target group\n",
    "\n",
    "entries = []\n",
    "\n",
    "def clean(word):\n",
    "    return word.strip().lower()\n",
    "\n",
    "# words are always three levels down in the file\n",
    "for category, value in offensiveness_rating.items():\n",
    "    for target, value in value.items():\n",
    "        for strength, words in value.items():\n",
    "            for word in words:\n",
    "                entry = {}\n",
    "                entry[\"category\"] = clean(category)\n",
    "                entry[\"word\"] = clean(word)\n",
    "                entry[\"strength\"] = clean(strength)\n",
    "                \n",
    "                assert category in [\"discriminatory\", \"non-discriminatory\"]\n",
    "                \n",
    "                if category==\"discriminatory\":\n",
    "                    entry[\"target\"] = clean(target)\n",
    "                else:\n",
    "                    entry[\"target\"] = None\n",
    "                \n",
    "                entries.append(entry)"
   ]
  },
  {
   "cell_type": "code",
   "execution_count": 4,
   "metadata": {
    "collapsed": false
   },
   "outputs": [
    {
     "data": {
      "text/plain": [
       "[{'category': 'non-discriminatory',\n",
       "  'strength': 'mild',\n",
       "  'target': None,\n",
       "  'word': 'arse'},\n",
       " {'category': 'non-discriminatory',\n",
       "  'strength': 'mild',\n",
       "  'target': None,\n",
       "  'word': 'bloody'}]"
      ]
     },
     "execution_count": 4,
     "metadata": {},
     "output_type": "execute_result"
    }
   ],
   "source": [
    "entries[:2]"
   ]
  },
  {
   "cell_type": "code",
   "execution_count": 5,
   "metadata": {
    "collapsed": true
   },
   "outputs": [],
   "source": [
    "import pandas as pd"
   ]
  },
  {
   "cell_type": "code",
   "execution_count": 6,
   "metadata": {
    "collapsed": false
   },
   "outputs": [
    {
     "data": {
      "text/html": [
       "<div>\n",
       "<table border=\"1\" class=\"dataframe\">\n",
       "  <thead>\n",
       "    <tr style=\"text-align: right;\">\n",
       "      <th></th>\n",
       "      <th>category</th>\n",
       "      <th>strength</th>\n",
       "      <th>target</th>\n",
       "      <th>word</th>\n",
       "    </tr>\n",
       "  </thead>\n",
       "  <tbody>\n",
       "    <tr>\n",
       "      <th>0</th>\n",
       "      <td>non-discriminatory</td>\n",
       "      <td>mild</td>\n",
       "      <td>None</td>\n",
       "      <td>arse</td>\n",
       "    </tr>\n",
       "    <tr>\n",
       "      <th>1</th>\n",
       "      <td>non-discriminatory</td>\n",
       "      <td>mild</td>\n",
       "      <td>None</td>\n",
       "      <td>bloody</td>\n",
       "    </tr>\n",
       "    <tr>\n",
       "      <th>2</th>\n",
       "      <td>non-discriminatory</td>\n",
       "      <td>mild</td>\n",
       "      <td>None</td>\n",
       "      <td>bugger</td>\n",
       "    </tr>\n",
       "    <tr>\n",
       "      <th>3</th>\n",
       "      <td>non-discriminatory</td>\n",
       "      <td>mild</td>\n",
       "      <td>None</td>\n",
       "      <td>cow</td>\n",
       "    </tr>\n",
       "    <tr>\n",
       "      <th>4</th>\n",
       "      <td>non-discriminatory</td>\n",
       "      <td>mild</td>\n",
       "      <td>None</td>\n",
       "      <td>crap</td>\n",
       "    </tr>\n",
       "  </tbody>\n",
       "</table>\n",
       "</div>"
      ],
      "text/plain": [
       "             category strength target    word\n",
       "0  non-discriminatory     mild   None    arse\n",
       "1  non-discriminatory     mild   None  bloody\n",
       "2  non-discriminatory     mild   None  bugger\n",
       "3  non-discriminatory     mild   None     cow\n",
       "4  non-discriminatory     mild   None    crap"
      ]
     },
     "execution_count": 6,
     "metadata": {},
     "output_type": "execute_result"
    }
   ],
   "source": [
    "word_table = pd.DataFrame(entries)\n",
    "word_table.head(5)"
   ]
  },
  {
   "cell_type": "code",
   "execution_count": 7,
   "metadata": {
    "collapsed": false
   },
   "outputs": [
    {
     "data": {
      "text/html": [
       "<div>\n",
       "<table border=\"1\" class=\"dataframe\">\n",
       "  <thead>\n",
       "    <tr style=\"text-align: right;\">\n",
       "      <th></th>\n",
       "      <th>category</th>\n",
       "      <th>strength</th>\n",
       "      <th>target</th>\n",
       "    </tr>\n",
       "    <tr>\n",
       "      <th>word</th>\n",
       "      <th></th>\n",
       "      <th></th>\n",
       "      <th></th>\n",
       "    </tr>\n",
       "  </thead>\n",
       "  <tbody>\n",
       "    <tr>\n",
       "      <th>arse</th>\n",
       "      <td>non-discriminatory</td>\n",
       "      <td>mild</td>\n",
       "      <td>None</td>\n",
       "    </tr>\n",
       "    <tr>\n",
       "      <th>bloody</th>\n",
       "      <td>non-discriminatory</td>\n",
       "      <td>mild</td>\n",
       "      <td>None</td>\n",
       "    </tr>\n",
       "    <tr>\n",
       "      <th>bugger</th>\n",
       "      <td>non-discriminatory</td>\n",
       "      <td>mild</td>\n",
       "      <td>None</td>\n",
       "    </tr>\n",
       "    <tr>\n",
       "      <th>cow</th>\n",
       "      <td>non-discriminatory</td>\n",
       "      <td>mild</td>\n",
       "      <td>None</td>\n",
       "    </tr>\n",
       "    <tr>\n",
       "      <th>crap</th>\n",
       "      <td>non-discriminatory</td>\n",
       "      <td>mild</td>\n",
       "      <td>None</td>\n",
       "    </tr>\n",
       "  </tbody>\n",
       "</table>\n",
       "</div>"
      ],
      "text/plain": [
       "                  category strength target\n",
       "word                                      \n",
       "arse    non-discriminatory     mild   None\n",
       "bloody  non-discriminatory     mild   None\n",
       "bugger  non-discriminatory     mild   None\n",
       "cow     non-discriminatory     mild   None\n",
       "crap    non-discriminatory     mild   None"
      ]
     },
     "execution_count": 7,
     "metadata": {},
     "output_type": "execute_result"
    }
   ],
   "source": [
    "word_table= word_table.set_index(\"word\")\n",
    "word_table.head(5)"
   ]
  },
  {
   "cell_type": "code",
   "execution_count": 8,
   "metadata": {
    "collapsed": true
   },
   "outputs": [],
   "source": [
    "word_table.to_pickle(\"pickles/word_table.pickle\")"
   ]
  },
  {
   "cell_type": "code",
   "execution_count": null,
   "metadata": {
    "collapsed": true
   },
   "outputs": [],
   "source": []
  },
  {
   "cell_type": "code",
   "execution_count": null,
   "metadata": {
    "collapsed": true
   },
   "outputs": [],
   "source": []
  },
  {
   "cell_type": "code",
   "execution_count": null,
   "metadata": {
    "collapsed": true
   },
   "outputs": [],
   "source": []
  }
 ],
 "metadata": {
  "kernelspec": {
   "display_name": "Python 3",
   "language": "python",
   "name": "python3"
  },
  "language_info": {
   "codemirror_mode": {
    "name": "ipython",
    "version": 3
   },
   "file_extension": ".py",
   "mimetype": "text/x-python",
   "name": "python",
   "nbconvert_exporter": "python",
   "pygments_lexer": "ipython3",
   "version": "3.6.0"
  }
 },
 "nbformat": 4,
 "nbformat_minor": 2
}
