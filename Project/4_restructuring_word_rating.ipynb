{
 "cells": [
  {
   "cell_type": "markdown",
   "metadata": {},
   "source": [
    "## Restructure our table\n",
    "\n",
    "We flatten the table of offensive words. This means that we can now use it in combination with technologies such as spark - that don't support multiindex structures."
   ]
  },
  {
   "cell_type": "code",
   "execution_count": 1,
   "metadata": {
    "collapsed": true
   },
   "outputs": [],
   "source": [
    "import pandas as pd"
   ]
  },
  {
   "cell_type": "code",
   "execution_count": 3,
   "metadata": {},
   "outputs": [],
   "source": [
    "word_table = pd.read_pickle(\"../pickles/word_table_cleaned.pickle\")"
   ]
  },
  {
   "cell_type": "code",
   "execution_count": 4,
   "metadata": {},
   "outputs": [
    {
     "data": {
      "text/html": [
       "<div>\n",
       "<style>\n",
       "    .dataframe thead tr:only-child th {\n",
       "        text-align: right;\n",
       "    }\n",
       "\n",
       "    .dataframe thead th {\n",
       "        text-align: left;\n",
       "    }\n",
       "\n",
       "    .dataframe tbody tr th {\n",
       "        vertical-align: top;\n",
       "    }\n",
       "</style>\n",
       "<table border=\"1\" class=\"dataframe\">\n",
       "  <thead>\n",
       "    <tr style=\"text-align: right;\">\n",
       "      <th></th>\n",
       "      <th>category</th>\n",
       "      <th>strength</th>\n",
       "      <th>target</th>\n",
       "    </tr>\n",
       "    <tr>\n",
       "      <th>word</th>\n",
       "      <th></th>\n",
       "      <th></th>\n",
       "      <th></th>\n",
       "    </tr>\n",
       "  </thead>\n",
       "  <tbody>\n",
       "    <tr>\n",
       "      <th>bonk</th>\n",
       "      <td>non-discriminatory</td>\n",
       "      <td>mild</td>\n",
       "      <td>None</td>\n",
       "    </tr>\n",
       "    <tr>\n",
       "      <th>bukkake</th>\n",
       "      <td>non-discriminatory</td>\n",
       "      <td>strong</td>\n",
       "      <td>None</td>\n",
       "    </tr>\n",
       "    <tr>\n",
       "      <th>cocksucker</th>\n",
       "      <td>non-discriminatory</td>\n",
       "      <td>strong</td>\n",
       "      <td>None</td>\n",
       "    </tr>\n",
       "    <tr>\n",
       "      <th>dildo</th>\n",
       "      <td>non-discriminatory</td>\n",
       "      <td>strong</td>\n",
       "      <td>None</td>\n",
       "    </tr>\n",
       "    <tr>\n",
       "      <th>ho</th>\n",
       "      <td>non-discriminatory</td>\n",
       "      <td>strong</td>\n",
       "      <td>None</td>\n",
       "    </tr>\n",
       "  </tbody>\n",
       "</table>\n",
       "</div>"
      ],
      "text/plain": [
       "                      category strength target\n",
       "word                                          \n",
       "bonk        non-discriminatory     mild   None\n",
       "bukkake     non-discriminatory   strong   None\n",
       "cocksucker  non-discriminatory   strong   None\n",
       "dildo       non-discriminatory   strong   None\n",
       "ho          non-discriminatory   strong   None"
      ]
     },
     "execution_count": 4,
     "metadata": {},
     "output_type": "execute_result"
    }
   ],
   "source": [
    "word_table.head()"
   ]
  },
  {
   "cell_type": "code",
   "execution_count": 5,
   "metadata": {
    "collapsed": true
   },
   "outputs": [],
   "source": [
    "word_table[\"descriptor\"] = word_table[[\"category\", \"strength\", \"target\"]].apply(tuple, axis=1)"
   ]
  },
  {
   "cell_type": "code",
   "execution_count": 6,
   "metadata": {},
   "outputs": [
    {
     "data": {
      "text/html": [
       "<div>\n",
       "<style>\n",
       "    .dataframe thead tr:only-child th {\n",
       "        text-align: right;\n",
       "    }\n",
       "\n",
       "    .dataframe thead th {\n",
       "        text-align: left;\n",
       "    }\n",
       "\n",
       "    .dataframe tbody tr th {\n",
       "        vertical-align: top;\n",
       "    }\n",
       "</style>\n",
       "<table border=\"1\" class=\"dataframe\">\n",
       "  <thead>\n",
       "    <tr style=\"text-align: right;\">\n",
       "      <th></th>\n",
       "      <th>category</th>\n",
       "      <th>strength</th>\n",
       "      <th>target</th>\n",
       "      <th>descriptor</th>\n",
       "    </tr>\n",
       "    <tr>\n",
       "      <th>word</th>\n",
       "      <th></th>\n",
       "      <th></th>\n",
       "      <th></th>\n",
       "      <th></th>\n",
       "    </tr>\n",
       "  </thead>\n",
       "  <tbody>\n",
       "    <tr>\n",
       "      <th>bonk</th>\n",
       "      <td>non-discriminatory</td>\n",
       "      <td>mild</td>\n",
       "      <td>None</td>\n",
       "      <td>(non-discriminatory, mild, None)</td>\n",
       "    </tr>\n",
       "    <tr>\n",
       "      <th>bukkake</th>\n",
       "      <td>non-discriminatory</td>\n",
       "      <td>strong</td>\n",
       "      <td>None</td>\n",
       "      <td>(non-discriminatory, strong, None)</td>\n",
       "    </tr>\n",
       "    <tr>\n",
       "      <th>cocksucker</th>\n",
       "      <td>non-discriminatory</td>\n",
       "      <td>strong</td>\n",
       "      <td>None</td>\n",
       "      <td>(non-discriminatory, strong, None)</td>\n",
       "    </tr>\n",
       "    <tr>\n",
       "      <th>dildo</th>\n",
       "      <td>non-discriminatory</td>\n",
       "      <td>strong</td>\n",
       "      <td>None</td>\n",
       "      <td>(non-discriminatory, strong, None)</td>\n",
       "    </tr>\n",
       "    <tr>\n",
       "      <th>ho</th>\n",
       "      <td>non-discriminatory</td>\n",
       "      <td>strong</td>\n",
       "      <td>None</td>\n",
       "      <td>(non-discriminatory, strong, None)</td>\n",
       "    </tr>\n",
       "  </tbody>\n",
       "</table>\n",
       "</div>"
      ],
      "text/plain": [
       "                      category strength target  \\\n",
       "word                                             \n",
       "bonk        non-discriminatory     mild   None   \n",
       "bukkake     non-discriminatory   strong   None   \n",
       "cocksucker  non-discriminatory   strong   None   \n",
       "dildo       non-discriminatory   strong   None   \n",
       "ho          non-discriminatory   strong   None   \n",
       "\n",
       "                                    descriptor  \n",
       "word                                            \n",
       "bonk          (non-discriminatory, mild, None)  \n",
       "bukkake     (non-discriminatory, strong, None)  \n",
       "cocksucker  (non-discriminatory, strong, None)  \n",
       "dildo       (non-discriminatory, strong, None)  \n",
       "ho          (non-discriminatory, strong, None)  "
      ]
     },
     "execution_count": 6,
     "metadata": {},
     "output_type": "execute_result"
    }
   ],
   "source": [
    "word_table.head()"
   ]
  },
  {
   "cell_type": "code",
   "execution_count": 7,
   "metadata": {
    "collapsed": true
   },
   "outputs": [],
   "source": [
    "word_table_filtered = word_table[\"descriptor\"]"
   ]
  },
  {
   "cell_type": "code",
   "execution_count": 8,
   "metadata": {},
   "outputs": [
    {
     "data": {
      "text/plain": [
       "word\n",
       "bonk            (non-discriminatory, mild, None)\n",
       "bukkake       (non-discriminatory, strong, None)\n",
       "cocksucker    (non-discriminatory, strong, None)\n",
       "dildo         (non-discriminatory, strong, None)\n",
       "ho            (non-discriminatory, strong, None)\n",
       "Name: descriptor, dtype: object"
      ]
     },
     "execution_count": 8,
     "metadata": {},
     "output_type": "execute_result"
    }
   ],
   "source": [
    "word_table_filtered.head()"
   ]
  },
  {
   "cell_type": "code",
   "execution_count": 10,
   "metadata": {},
   "outputs": [],
   "source": [
    "word_table_filtered.to_csv(\"../datasets/word_table.csv\", header=True)"
   ]
  },
  {
   "cell_type": "code",
   "execution_count": null,
   "metadata": {
    "collapsed": true
   },
   "outputs": [],
   "source": []
  },
  {
   "cell_type": "code",
   "execution_count": null,
   "metadata": {
    "collapsed": true
   },
   "outputs": [],
   "source": []
  }
 ],
 "metadata": {
  "kernelspec": {
   "display_name": "Python 3",
   "language": "python",
   "name": "python3"
  },
  "language_info": {
   "codemirror_mode": {
    "name": "ipython",
    "version": 3
   },
   "file_extension": ".py",
   "mimetype": "text/x-python",
   "name": "python",
   "nbconvert_exporter": "python",
   "pygments_lexer": "ipython3",
   "version": "3.5.4"
  }
 },
 "nbformat": 4,
 "nbformat_minor": 2
}
