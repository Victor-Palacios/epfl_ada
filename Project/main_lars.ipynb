{
 "cells": [
  {
   "cell_type": "markdown",
   "metadata": {},
   "source": [
    "# WIP: sandbox for experiments"
   ]
  },
  {
   "cell_type": "code",
   "execution_count": 2,
   "metadata": {},
   "outputs": [],
   "source": [
    "import pandas as pd\n",
    "import numpy as np\n",
    "import sqlite3\n",
    "import matplotlib.pyplot as plt\n",
    "%matplotlib inline\n",
    "\n",
    "import seaborn as sns\n",
    "\n",
    "# This variable should be set to false, unless you are running this notebook without the\n",
    "# generated datasets\n",
    "first_time = False"
   ]
  },
  {
   "cell_type": "markdown",
   "metadata": {},
   "source": [
    "I'm having problems with the pattern\n",
    "\n",
    "`frame[\"col\"] = new_value`\n",
    "\n",
    "It always throws warnings, according to SO, it seems to be a viable option to switch the warnings off.\n",
    "https://stackoverflow.com/questions/20625582/how-to-deal-with-settingwithcopywarning-in-pandas"
   ]
  },
  {
   "cell_type": "code",
   "execution_count": 3,
   "metadata": {},
   "outputs": [],
   "source": [
    "pd.options.mode.chained_assignment = None  # default='warn'"
   ]
  },
  {
   "cell_type": "markdown",
   "metadata": {},
   "source": [
    "Remember, we have computed the song word count at three levels of \"swear word categories\":"
   ]
  },
  {
   "cell_type": "code",
   "execution_count": 4,
   "metadata": {},
   "outputs": [
    {
     "data": {
      "text/plain": [
       "('TRAAAAV128F421A322', 'non-discriminatory', 'mild', nan)      1\n",
       "('TRAAAAV128F421A322', nan, nan, nan)                        102\n",
       "('TRAAABD128F429CF47', nan, nan, nan)                        226\n",
       "('TRAAAED128E0783FAB', nan, nan, nan)                        421\n",
       "('TRAAAEF128F4273421', nan, nan, nan)                        139\n",
       "Name: count, dtype: int64"
      ]
     },
     "execution_count": 4,
     "metadata": {},
     "output_type": "execute_result"
    }
   ],
   "source": [
    "offensiveness_rating = pd.read_pickle(\"../pickles/offensiveness_rating_structured\")\n",
    "offensiveness_rating.head()"
   ]
  },
  {
   "cell_type": "markdown",
   "metadata": {},
   "source": [
    "Now, the problem is that we have tuples as index but we would like to have all these categories in different columns. So we do some processing to take care of that:"
   ]
  },
  {
   "cell_type": "code",
   "execution_count": 5,
   "metadata": {},
   "outputs": [],
   "source": [
    "def process_tuple(t):\n",
    "    \n",
    "    def process_tuple_elem(elem):\n",
    "        if elem == \"nan\":\n",
    "            return np.nan\n",
    "        else:\n",
    "            return elem[1:-1]\n",
    "    return list(map(process_tuple_elem, t[1:-1].replace(\" \", \"\").split(\",\")))\n",
    "index_offensiveness = list(map(process_tuple, offensiveness_rating.index.tolist()))"
   ]
  },
  {
   "cell_type": "code",
   "execution_count": 6,
   "metadata": {},
   "outputs": [],
   "source": [
    "value_offensiveness = list(offensiveness_rating.values)"
   ]
  },
  {
   "cell_type": "code",
   "execution_count": 7,
   "metadata": {},
   "outputs": [],
   "source": [
    "data_non_flat = list(zip(index_offensiveness, value_offensiveness))"
   ]
  },
  {
   "cell_type": "code",
   "execution_count": 8,
   "metadata": {},
   "outputs": [
    {
     "data": {
      "text/html": [
       "<div>\n",
       "<style scoped>\n",
       "    .dataframe tbody tr th:only-of-type {\n",
       "        vertical-align: middle;\n",
       "    }\n",
       "\n",
       "    .dataframe tbody tr th {\n",
       "        vertical-align: top;\n",
       "    }\n",
       "\n",
       "    .dataframe thead th {\n",
       "        text-align: right;\n",
       "    }\n",
       "</style>\n",
       "<table border=\"1\" class=\"dataframe\">\n",
       "  <thead>\n",
       "    <tr style=\"text-align: right;\">\n",
       "      <th></th>\n",
       "      <th></th>\n",
       "      <th></th>\n",
       "      <th></th>\n",
       "      <th>value</th>\n",
       "    </tr>\n",
       "    <tr>\n",
       "      <th>track_id</th>\n",
       "      <th>category</th>\n",
       "      <th>strength</th>\n",
       "      <th>target</th>\n",
       "      <th></th>\n",
       "    </tr>\n",
       "  </thead>\n",
       "  <tbody>\n",
       "    <tr>\n",
       "      <th rowspan=\"2\" valign=\"top\">TRAAAAV128F421A322</th>\n",
       "      <th>non-discriminatory</th>\n",
       "      <th>mild</th>\n",
       "      <th>NaN</th>\n",
       "      <td>1</td>\n",
       "    </tr>\n",
       "    <tr>\n",
       "      <th>NaN</th>\n",
       "      <th>NaN</th>\n",
       "      <th>NaN</th>\n",
       "      <td>102</td>\n",
       "    </tr>\n",
       "    <tr>\n",
       "      <th>TRAAABD128F429CF47</th>\n",
       "      <th>NaN</th>\n",
       "      <th>NaN</th>\n",
       "      <th>NaN</th>\n",
       "      <td>226</td>\n",
       "    </tr>\n",
       "    <tr>\n",
       "      <th>TRAAAED128E0783FAB</th>\n",
       "      <th>NaN</th>\n",
       "      <th>NaN</th>\n",
       "      <th>NaN</th>\n",
       "      <td>421</td>\n",
       "    </tr>\n",
       "    <tr>\n",
       "      <th>TRAAAEF128F4273421</th>\n",
       "      <th>NaN</th>\n",
       "      <th>NaN</th>\n",
       "      <th>NaN</th>\n",
       "      <td>139</td>\n",
       "    </tr>\n",
       "  </tbody>\n",
       "</table>\n",
       "</div>"
      ],
      "text/plain": [
       "                                                       value\n",
       "track_id           category           strength target       \n",
       "TRAAAAV128F421A322 non-discriminatory mild     NaN         1\n",
       "                   NaN                NaN      NaN       102\n",
       "TRAAABD128F429CF47 NaN                NaN      NaN       226\n",
       "TRAAAED128E0783FAB NaN                NaN      NaN       421\n",
       "TRAAAEF128F4273421 NaN                NaN      NaN       139"
      ]
     },
     "execution_count": 8,
     "metadata": {},
     "output_type": "execute_result"
    }
   ],
   "source": [
    "columns = [\"track_id\", \"category\", \"strength\", \"target\", \"value\"]\n",
    "track_off = pd.DataFrame.from_records([elem[0] + [elem[1]] for elem in data_non_flat], columns=columns)\n",
    "track_off = track_off.set_index([\"track_id\", \"category\", \"strength\", \"target\"])\n",
    "track_off.head()"
   ]
  },
  {
   "cell_type": "markdown",
   "metadata": {},
   "source": [
    "That's it, we have our multi-index structure. Now, we have the choice: absolute or relative count of swear words in a song ? This choice is rather difficult. But, in some way, even if a song is longer than another one, we can (for now) consider that simply having more swear words is equivalent to being more vulgar. So let's simply count the number of swear words per song:"
   ]
  },
  {
   "cell_type": "code",
   "execution_count": 9,
   "metadata": {},
   "outputs": [
    {
     "name": "stdout",
     "output_type": "stream",
     "text": [
      "CPU times: user 204 ms, sys: 8 ms, total: 212 ms\n",
      "Wall time: 234 ms\n"
     ]
    }
   ],
   "source": [
    "%%time \n",
    "if first_time:\n",
    "    track_offensiveness = track_off.groupby(by=\"track_id\").apply(lambda frame: frame.reset_index().dropna(thresh = 3).value.sum())\n",
    "    track_offensiveness = track_offensiveness.fillna(0)\n",
    "    track_offensiveness.to_csv(\"../datasets/track_offensiveness.csv\")\n",
    "else:\n",
    "    track_offensiveness = pd.read_csv(\"../datasets/track_offensiveness.csv\", header=None)"
   ]
  },
  {
   "cell_type": "markdown",
   "metadata": {},
   "source": [
    "And here is our frame relating a song with its offensiveness (so, for example, the song with track ID 'TRAAAAV128F421A322' contains one swear word)"
   ]
  },
  {
   "cell_type": "code",
   "execution_count": 10,
   "metadata": {},
   "outputs": [
    {
     "data": {
      "text/html": [
       "<div>\n",
       "<style scoped>\n",
       "    .dataframe tbody tr th:only-of-type {\n",
       "        vertical-align: middle;\n",
       "    }\n",
       "\n",
       "    .dataframe tbody tr th {\n",
       "        vertical-align: top;\n",
       "    }\n",
       "\n",
       "    .dataframe thead th {\n",
       "        text-align: right;\n",
       "    }\n",
       "</style>\n",
       "<table border=\"1\" class=\"dataframe\">\n",
       "  <thead>\n",
       "    <tr style=\"text-align: right;\">\n",
       "      <th></th>\n",
       "      <th>track_id</th>\n",
       "      <th>offensiveness</th>\n",
       "    </tr>\n",
       "  </thead>\n",
       "  <tbody>\n",
       "    <tr>\n",
       "      <th>0</th>\n",
       "      <td>TRAAAAV128F421A322</td>\n",
       "      <td>1.0</td>\n",
       "    </tr>\n",
       "    <tr>\n",
       "      <th>1</th>\n",
       "      <td>TRAAABD128F429CF47</td>\n",
       "      <td>0.0</td>\n",
       "    </tr>\n",
       "    <tr>\n",
       "      <th>2</th>\n",
       "      <td>TRAAAED128E0783FAB</td>\n",
       "      <td>0.0</td>\n",
       "    </tr>\n",
       "    <tr>\n",
       "      <th>3</th>\n",
       "      <td>TRAAAEF128F4273421</td>\n",
       "      <td>0.0</td>\n",
       "    </tr>\n",
       "    <tr>\n",
       "      <th>4</th>\n",
       "      <td>TRAAAEW128F42930C0</td>\n",
       "      <td>0.0</td>\n",
       "    </tr>\n",
       "  </tbody>\n",
       "</table>\n",
       "</div>"
      ],
      "text/plain": [
       "             track_id  offensiveness\n",
       "0  TRAAAAV128F421A322            1.0\n",
       "1  TRAAABD128F429CF47            0.0\n",
       "2  TRAAAED128E0783FAB            0.0\n",
       "3  TRAAAEF128F4273421            0.0\n",
       "4  TRAAAEW128F42930C0            0.0"
      ]
     },
     "execution_count": 10,
     "metadata": {},
     "output_type": "execute_result"
    }
   ],
   "source": [
    "track_offensiveness.columns=[\"track_id\", \"offensiveness\"]\n",
    "track_offensiveness.head()"
   ]
  },
  {
   "cell_type": "markdown",
   "metadata": {},
   "source": [
    "We take only the columns we are interested in:"
   ]
  },
  {
   "cell_type": "code",
   "execution_count": 11,
   "metadata": {},
   "outputs": [
    {
     "data": {
      "text/html": [
       "<div>\n",
       "<style scoped>\n",
       "    .dataframe tbody tr th:only-of-type {\n",
       "        vertical-align: middle;\n",
       "    }\n",
       "\n",
       "    .dataframe tbody tr th {\n",
       "        vertical-align: top;\n",
       "    }\n",
       "\n",
       "    .dataframe thead th {\n",
       "        text-align: right;\n",
       "    }\n",
       "</style>\n",
       "<table border=\"1\" class=\"dataframe\">\n",
       "  <thead>\n",
       "    <tr style=\"text-align: right;\">\n",
       "      <th></th>\n",
       "      <th>track_id</th>\n",
       "      <th>genre</th>\n",
       "      <th>song_hotness</th>\n",
       "      <th>song_id</th>\n",
       "      <th>title</th>\n",
       "      <th>year</th>\n",
       "    </tr>\n",
       "  </thead>\n",
       "  <tbody>\n",
       "    <tr>\n",
       "      <th>0</th>\n",
       "      <td>TRBEEBA128F9354588</td>\n",
       "      <td>NaN</td>\n",
       "      <td>NaN</td>\n",
       "      <td>SOKZDUY12AC9E12A16</td>\n",
       "      <td>(Sweat_ Sweat)</td>\n",
       "      <td>2007</td>\n",
       "    </tr>\n",
       "    <tr>\n",
       "      <th>1</th>\n",
       "      <td>TRBEEYF128EF34152F</td>\n",
       "      <td>NaN</td>\n",
       "      <td>NaN</td>\n",
       "      <td>SOEEDAK12A67AE2142</td>\n",
       "      <td>Heavenly (Instrumental Dub)</td>\n",
       "      <td>0</td>\n",
       "    </tr>\n",
       "    <tr>\n",
       "      <th>2</th>\n",
       "      <td>TRBEEME128F42274E2</td>\n",
       "      <td>NaN</td>\n",
       "      <td>NaN</td>\n",
       "      <td>SOLVIJZ12A6D4FC406</td>\n",
       "      <td>In The Right Way</td>\n",
       "      <td>2000</td>\n",
       "    </tr>\n",
       "    <tr>\n",
       "      <th>3</th>\n",
       "      <td>TRBEENM12903CDA90A</td>\n",
       "      <td>NaN</td>\n",
       "      <td>0.51876</td>\n",
       "      <td>SOKLANA12A8C14016F</td>\n",
       "      <td>Hacha Y Machete</td>\n",
       "      <td>1976</td>\n",
       "    </tr>\n",
       "    <tr>\n",
       "      <th>4</th>\n",
       "      <td>TRBEETN128F4290E24</td>\n",
       "      <td>NaN</td>\n",
       "      <td>NaN</td>\n",
       "      <td>SOLODJD12A8C139CE3</td>\n",
       "      <td>Bus Stop</td>\n",
       "      <td>1968</td>\n",
       "    </tr>\n",
       "  </tbody>\n",
       "</table>\n",
       "</div>"
      ],
      "text/plain": [
       "             track_id  genre  song_hotness             song_id  \\\n",
       "0  TRBEEBA128F9354588    NaN           NaN  SOKZDUY12AC9E12A16   \n",
       "1  TRBEEYF128EF34152F    NaN           NaN  SOEEDAK12A67AE2142   \n",
       "2  TRBEEME128F42274E2    NaN           NaN  SOLVIJZ12A6D4FC406   \n",
       "3  TRBEENM12903CDA90A    NaN       0.51876  SOKLANA12A8C14016F   \n",
       "4  TRBEETN128F4290E24    NaN           NaN  SOLODJD12A8C139CE3   \n",
       "\n",
       "                         title  year  \n",
       "0               (Sweat_ Sweat)  2007  \n",
       "1  Heavenly (Instrumental Dub)     0  \n",
       "2             In The Right Way  2000  \n",
       "3              Hacha Y Machete  1976  \n",
       "4                     Bus Stop  1968  "
      ]
     },
     "execution_count": 11,
     "metadata": {},
     "output_type": "execute_result"
    }
   ],
   "source": [
    "song_info = pd.read_csv(\"../datasets/total.csv\")[[\"track_id\", \"genre\", \"song_hotness\",\n",
    "                                                            \"song_id\", \"title\", \"year\"]]\n",
    "song_info.head()"
   ]
  },
  {
   "cell_type": "markdown",
   "metadata": {},
   "source": [
    "### English songs\n",
    "We now want to do our analysis for english songs only so we read the corresponding track IDs. The process of \"detecting\" which songs are in english is described in [this notebook](handling_languages.ipynb)."
   ]
  },
  {
   "cell_type": "code",
   "execution_count": 12,
   "metadata": {},
   "outputs": [
    {
     "name": "stdout",
     "output_type": "stream",
     "text": [
      "We have 202115 english songs.\n"
     ]
    },
    {
     "data": {
      "text/html": [
       "<div>\n",
       "<style scoped>\n",
       "    .dataframe tbody tr th:only-of-type {\n",
       "        vertical-align: middle;\n",
       "    }\n",
       "\n",
       "    .dataframe tbody tr th {\n",
       "        vertical-align: top;\n",
       "    }\n",
       "\n",
       "    .dataframe thead th {\n",
       "        text-align: right;\n",
       "    }\n",
       "</style>\n",
       "<table border=\"1\" class=\"dataframe\">\n",
       "  <thead>\n",
       "    <tr style=\"text-align: right;\">\n",
       "      <th></th>\n",
       "      <th>track_id</th>\n",
       "    </tr>\n",
       "  </thead>\n",
       "  <tbody>\n",
       "    <tr>\n",
       "      <th>0</th>\n",
       "      <td>TRAAAAV128F421A322</td>\n",
       "    </tr>\n",
       "    <tr>\n",
       "      <th>1</th>\n",
       "      <td>TRAAABD128F429CF47</td>\n",
       "    </tr>\n",
       "    <tr>\n",
       "      <th>2</th>\n",
       "      <td>TRAAAED128E0783FAB</td>\n",
       "    </tr>\n",
       "    <tr>\n",
       "      <th>3</th>\n",
       "      <td>TRAAAEF128F4273421</td>\n",
       "    </tr>\n",
       "    <tr>\n",
       "      <th>4</th>\n",
       "      <td>TRAAAEW128F42930C0</td>\n",
       "    </tr>\n",
       "  </tbody>\n",
       "</table>\n",
       "</div>"
      ],
      "text/plain": [
       "             track_id\n",
       "0  TRAAAAV128F421A322\n",
       "1  TRAAABD128F429CF47\n",
       "2  TRAAAED128E0783FAB\n",
       "3  TRAAAEF128F4273421\n",
       "4  TRAAAEW128F42930C0"
      ]
     },
     "execution_count": 12,
     "metadata": {},
     "output_type": "execute_result"
    }
   ],
   "source": [
    "english_songs = pd.read_csv(\"../datasets/tracks_english.csv\", header=-1)[1]\n",
    "print(\"We have {} english songs.\".format(english_songs.shape[0]))\n",
    "english_songs = english_songs.to_frame()\n",
    "english_songs.columns = [\"track_id\"]\n",
    "english_songs.head()"
   ]
  },
  {
   "cell_type": "code",
   "execution_count": 13,
   "metadata": {},
   "outputs": [
    {
     "data": {
      "text/plain": [
       "Index(['track_id'], dtype='object')"
      ]
     },
     "execution_count": 13,
     "metadata": {},
     "output_type": "execute_result"
    }
   ],
   "source": [
    "english_songs.columns"
   ]
  },
  {
   "cell_type": "code",
   "execution_count": 14,
   "metadata": {},
   "outputs": [
    {
     "data": {
      "text/plain": [
       "Index(['track_id', 'offensiveness'], dtype='object')"
      ]
     },
     "execution_count": 14,
     "metadata": {},
     "output_type": "execute_result"
    }
   ],
   "source": [
    "track_offensiveness.columns"
   ]
  },
  {
   "cell_type": "code",
   "execution_count": 15,
   "metadata": {},
   "outputs": [
    {
     "name": "stdout",
     "output_type": "stream",
     "text": [
      "We have 202115 songs.\n"
     ]
    },
    {
     "data": {
      "text/html": [
       "<div>\n",
       "<style scoped>\n",
       "    .dataframe tbody tr th:only-of-type {\n",
       "        vertical-align: middle;\n",
       "    }\n",
       "\n",
       "    .dataframe tbody tr th {\n",
       "        vertical-align: top;\n",
       "    }\n",
       "\n",
       "    .dataframe thead th {\n",
       "        text-align: right;\n",
       "    }\n",
       "</style>\n",
       "<table border=\"1\" class=\"dataframe\">\n",
       "  <thead>\n",
       "    <tr style=\"text-align: right;\">\n",
       "      <th></th>\n",
       "      <th>track_id</th>\n",
       "      <th>abs_offensiveness</th>\n",
       "    </tr>\n",
       "  </thead>\n",
       "  <tbody>\n",
       "    <tr>\n",
       "      <th>0</th>\n",
       "      <td>TRAAAAV128F421A322</td>\n",
       "      <td>1.0</td>\n",
       "    </tr>\n",
       "    <tr>\n",
       "      <th>1</th>\n",
       "      <td>TRAAABD128F429CF47</td>\n",
       "      <td>0.0</td>\n",
       "    </tr>\n",
       "    <tr>\n",
       "      <th>2</th>\n",
       "      <td>TRAAAED128E0783FAB</td>\n",
       "      <td>0.0</td>\n",
       "    </tr>\n",
       "    <tr>\n",
       "      <th>3</th>\n",
       "      <td>TRAAAEF128F4273421</td>\n",
       "      <td>0.0</td>\n",
       "    </tr>\n",
       "    <tr>\n",
       "      <th>4</th>\n",
       "      <td>TRAAAEW128F42930C0</td>\n",
       "      <td>0.0</td>\n",
       "    </tr>\n",
       "  </tbody>\n",
       "</table>\n",
       "</div>"
      ],
      "text/plain": [
       "             track_id  abs_offensiveness\n",
       "0  TRAAAAV128F421A322                1.0\n",
       "1  TRAAABD128F429CF47                0.0\n",
       "2  TRAAAED128E0783FAB                0.0\n",
       "3  TRAAAEF128F4273421                0.0\n",
       "4  TRAAAEW128F42930C0                0.0"
      ]
     },
     "execution_count": 15,
     "metadata": {},
     "output_type": "execute_result"
    }
   ],
   "source": [
    "english_track_offensiveness = english_songs.merge(track_offensiveness, on=\"track_id\")\n",
    "print(\"We have {} songs.\".format(english_track_offensiveness.shape[0]))\n",
    "english_track_offensiveness.columns = [\"track_id\", \"abs_offensiveness\"]\n",
    "english_track_offensiveness.head()"
   ]
  },
  {
   "cell_type": "code",
   "execution_count": 16,
   "metadata": {},
   "outputs": [
    {
     "data": {
      "text/html": [
       "<div>\n",
       "<style scoped>\n",
       "    .dataframe tbody tr th:only-of-type {\n",
       "        vertical-align: middle;\n",
       "    }\n",
       "\n",
       "    .dataframe tbody tr th {\n",
       "        vertical-align: top;\n",
       "    }\n",
       "\n",
       "    .dataframe thead th {\n",
       "        text-align: right;\n",
       "    }\n",
       "</style>\n",
       "<table border=\"1\" class=\"dataframe\">\n",
       "  <thead>\n",
       "    <tr style=\"text-align: right;\">\n",
       "      <th></th>\n",
       "      <th>track_id</th>\n",
       "      <th>genre</th>\n",
       "      <th>song_hotness</th>\n",
       "      <th>song_id</th>\n",
       "      <th>title</th>\n",
       "      <th>year</th>\n",
       "      <th>index</th>\n",
       "      <th>abs_offensiveness</th>\n",
       "    </tr>\n",
       "  </thead>\n",
       "  <tbody>\n",
       "    <tr>\n",
       "      <th>0</th>\n",
       "      <td>TRBEEGF128F42AB67E</td>\n",
       "      <td>NaN</td>\n",
       "      <td>0.000000</td>\n",
       "      <td>SOMYKOX12A8C13D59F</td>\n",
       "      <td>Collision Course</td>\n",
       "      <td>0</td>\n",
       "      <td>9341</td>\n",
       "      <td>0.0</td>\n",
       "    </tr>\n",
       "    <tr>\n",
       "      <th>1</th>\n",
       "      <td>TRBEEPA128F4291036</td>\n",
       "      <td>NaN</td>\n",
       "      <td>NaN</td>\n",
       "      <td>SOTOLDX12A58A79206</td>\n",
       "      <td>Fermented Offal Discharge</td>\n",
       "      <td>1995</td>\n",
       "      <td>9345</td>\n",
       "      <td>1.0</td>\n",
       "    </tr>\n",
       "    <tr>\n",
       "      <th>2</th>\n",
       "      <td>TRBEEEA128F92E7EED</td>\n",
       "      <td>NaN</td>\n",
       "      <td>NaN</td>\n",
       "      <td>SOGLPMS12D02193D69</td>\n",
       "      <td>Fake Messiah (Album Version)</td>\n",
       "      <td>2009</td>\n",
       "      <td>9339</td>\n",
       "      <td>0.0</td>\n",
       "    </tr>\n",
       "    <tr>\n",
       "      <th>3</th>\n",
       "      <td>TRBEERY128F4231A2E</td>\n",
       "      <td>NaN</td>\n",
       "      <td>0.528782</td>\n",
       "      <td>SOVSBWN12A813557F9</td>\n",
       "      <td>Eyes Of A Stranger (Album Version)</td>\n",
       "      <td>0</td>\n",
       "      <td>9346</td>\n",
       "      <td>0.0</td>\n",
       "    </tr>\n",
       "    <tr>\n",
       "      <th>4</th>\n",
       "      <td>TRBEEXV128F93116C9</td>\n",
       "      <td>NaN</td>\n",
       "      <td>0.227736</td>\n",
       "      <td>SOJHHMQ12AB017C6A6</td>\n",
       "      <td>Don't Ya Ever Leave Me (Live)</td>\n",
       "      <td>0</td>\n",
       "      <td>9348</td>\n",
       "      <td>0.0</td>\n",
       "    </tr>\n",
       "  </tbody>\n",
       "</table>\n",
       "</div>"
      ],
      "text/plain": [
       "             track_id  genre  song_hotness             song_id  \\\n",
       "0  TRBEEGF128F42AB67E    NaN      0.000000  SOMYKOX12A8C13D59F   \n",
       "1  TRBEEPA128F4291036    NaN           NaN  SOTOLDX12A58A79206   \n",
       "2  TRBEEEA128F92E7EED    NaN           NaN  SOGLPMS12D02193D69   \n",
       "3  TRBEERY128F4231A2E    NaN      0.528782  SOVSBWN12A813557F9   \n",
       "4  TRBEEXV128F93116C9    NaN      0.227736  SOJHHMQ12AB017C6A6   \n",
       "\n",
       "                                title  year  index  abs_offensiveness  \n",
       "0                    Collision Course     0   9341                0.0  \n",
       "1           Fermented Offal Discharge  1995   9345                1.0  \n",
       "2        Fake Messiah (Album Version)  2009   9339                0.0  \n",
       "3  Eyes Of A Stranger (Album Version)     0   9346                0.0  \n",
       "4       Don't Ya Ever Leave Me (Live)     0   9348                0.0  "
      ]
     },
     "execution_count": 16,
     "metadata": {},
     "output_type": "execute_result"
    }
   ],
   "source": [
    "song_info_offensiveness = song_info.merge(english_track_offensiveness.reset_index(), on=\"track_id\")\n",
    "song_info_offensiveness = song_info_offensiveness.rename(columns={0: \"abs_offensiveness\"})\n",
    "song_info_offensiveness.head()"
   ]
  },
  {
   "cell_type": "markdown",
   "metadata": {},
   "source": [
    "That's good, we have more than 200000 english songs with absolute offensiveness value. The two other values we will be the most focused on are the song hotness and the year. So we need to keep those where the year is not 0 and the song hotness is not nan. For now, let's proceed by keeping only datapoints with positive hotness value."
   ]
  },
  {
   "cell_type": "markdown",
   "metadata": {},
   "source": [
    "### Combine with play counts"
   ]
  },
  {
   "cell_type": "code",
   "execution_count": 17,
   "metadata": {},
   "outputs": [
    {
     "data": {
      "text/html": [
       "<div>\n",
       "<style scoped>\n",
       "    .dataframe tbody tr th:only-of-type {\n",
       "        vertical-align: middle;\n",
       "    }\n",
       "\n",
       "    .dataframe tbody tr th {\n",
       "        vertical-align: top;\n",
       "    }\n",
       "\n",
       "    .dataframe thead th {\n",
       "        text-align: right;\n",
       "    }\n",
       "</style>\n",
       "<table border=\"1\" class=\"dataframe\">\n",
       "  <thead>\n",
       "    <tr style=\"text-align: right;\">\n",
       "      <th></th>\n",
       "      <th>songs</th>\n",
       "      <th>counts</th>\n",
       "    </tr>\n",
       "  </thead>\n",
       "  <tbody>\n",
       "    <tr>\n",
       "      <th>0</th>\n",
       "      <td>SOAAADD12AB018A9DD</td>\n",
       "      <td>24</td>\n",
       "    </tr>\n",
       "    <tr>\n",
       "      <th>1</th>\n",
       "      <td>SOAAADE12A6D4F80CC</td>\n",
       "      <td>12</td>\n",
       "    </tr>\n",
       "    <tr>\n",
       "      <th>2</th>\n",
       "      <td>SOAAADF12A8C13DF62</td>\n",
       "      <td>9</td>\n",
       "    </tr>\n",
       "    <tr>\n",
       "      <th>3</th>\n",
       "      <td>SOAAADZ12A8C1334FB</td>\n",
       "      <td>12</td>\n",
       "    </tr>\n",
       "    <tr>\n",
       "      <th>4</th>\n",
       "      <td>SOAAAFI12A6D4F9C66</td>\n",
       "      <td>188</td>\n",
       "    </tr>\n",
       "  </tbody>\n",
       "</table>\n",
       "</div>"
      ],
      "text/plain": [
       "                songs  counts\n",
       "0  SOAAADD12AB018A9DD      24\n",
       "1  SOAAADE12A6D4F80CC      12\n",
       "2  SOAAADF12A8C13DF62       9\n",
       "3  SOAAADZ12A8C1334FB      12\n",
       "4  SOAAAFI12A6D4F9C66     188"
      ]
     },
     "execution_count": 17,
     "metadata": {},
     "output_type": "execute_result"
    }
   ],
   "source": [
    "songs_counts=pd.read_csv(\"../datasets/songs-counts.csv\")\n",
    "songs_counts.head()"
   ]
  },
  {
   "cell_type": "code",
   "execution_count": 18,
   "metadata": {},
   "outputs": [],
   "source": [
    "songs_counts.columns=[\"song_id\", \"counts\"]"
   ]
  },
  {
   "cell_type": "code",
   "execution_count": 19,
   "metadata": {},
   "outputs": [
    {
     "data": {
      "text/html": [
       "<div>\n",
       "<style scoped>\n",
       "    .dataframe tbody tr th:only-of-type {\n",
       "        vertical-align: middle;\n",
       "    }\n",
       "\n",
       "    .dataframe tbody tr th {\n",
       "        vertical-align: top;\n",
       "    }\n",
       "\n",
       "    .dataframe thead th {\n",
       "        text-align: right;\n",
       "    }\n",
       "</style>\n",
       "<table border=\"1\" class=\"dataframe\">\n",
       "  <thead>\n",
       "    <tr style=\"text-align: right;\">\n",
       "      <th></th>\n",
       "      <th>track_id</th>\n",
       "      <th>genre</th>\n",
       "      <th>song_hotness</th>\n",
       "      <th>song_id</th>\n",
       "      <th>title</th>\n",
       "      <th>year</th>\n",
       "      <th>index</th>\n",
       "      <th>abs_offensiveness</th>\n",
       "      <th>counts</th>\n",
       "    </tr>\n",
       "  </thead>\n",
       "  <tbody>\n",
       "    <tr>\n",
       "      <th>0</th>\n",
       "      <td>TRBEEPA128F4291036</td>\n",
       "      <td>NaN</td>\n",
       "      <td>NaN</td>\n",
       "      <td>SOTOLDX12A58A79206</td>\n",
       "      <td>Fermented Offal Discharge</td>\n",
       "      <td>1995</td>\n",
       "      <td>9345</td>\n",
       "      <td>1.0</td>\n",
       "      <td>227</td>\n",
       "    </tr>\n",
       "    <tr>\n",
       "      <th>1</th>\n",
       "      <td>TRBEERY128F4231A2E</td>\n",
       "      <td>NaN</td>\n",
       "      <td>0.528782</td>\n",
       "      <td>SOVSBWN12A813557F9</td>\n",
       "      <td>Eyes Of A Stranger (Album Version)</td>\n",
       "      <td>0</td>\n",
       "      <td>9346</td>\n",
       "      <td>0.0</td>\n",
       "      <td>1168</td>\n",
       "    </tr>\n",
       "    <tr>\n",
       "      <th>2</th>\n",
       "      <td>TRBEEZO12903D05259</td>\n",
       "      <td>NaN</td>\n",
       "      <td>0.520345</td>\n",
       "      <td>SOUDWTU12AC37746F7</td>\n",
       "      <td>Spade and Parade</td>\n",
       "      <td>1994</td>\n",
       "      <td>9350</td>\n",
       "      <td>1.0</td>\n",
       "      <td>68</td>\n",
       "    </tr>\n",
       "    <tr>\n",
       "      <th>3</th>\n",
       "      <td>TRBEEEO128F146B9F1</td>\n",
       "      <td>NaN</td>\n",
       "      <td>NaN</td>\n",
       "      <td>SOPGDTB12A6D4F740A</td>\n",
       "      <td>Driving With The Brakes On</td>\n",
       "      <td>1995</td>\n",
       "      <td>9340</td>\n",
       "      <td>0.0</td>\n",
       "      <td>191</td>\n",
       "    </tr>\n",
       "    <tr>\n",
       "      <th>4</th>\n",
       "      <td>TRBEEYL128F1491A39</td>\n",
       "      <td>NaN</td>\n",
       "      <td>NaN</td>\n",
       "      <td>SOLTMAH12A6D4FA0B3</td>\n",
       "      <td>Making Waves (2003 Digital Remaster)</td>\n",
       "      <td>2002</td>\n",
       "      <td>9349</td>\n",
       "      <td>0.0</td>\n",
       "      <td>13</td>\n",
       "    </tr>\n",
       "  </tbody>\n",
       "</table>\n",
       "</div>"
      ],
      "text/plain": [
       "             track_id  genre  song_hotness             song_id  \\\n",
       "0  TRBEEPA128F4291036    NaN           NaN  SOTOLDX12A58A79206   \n",
       "1  TRBEERY128F4231A2E    NaN      0.528782  SOVSBWN12A813557F9   \n",
       "2  TRBEEZO12903D05259    NaN      0.520345  SOUDWTU12AC37746F7   \n",
       "3  TRBEEEO128F146B9F1    NaN           NaN  SOPGDTB12A6D4F740A   \n",
       "4  TRBEEYL128F1491A39    NaN           NaN  SOLTMAH12A6D4FA0B3   \n",
       "\n",
       "                                  title  year  index  abs_offensiveness  \\\n",
       "0             Fermented Offal Discharge  1995   9345                1.0   \n",
       "1    Eyes Of A Stranger (Album Version)     0   9346                0.0   \n",
       "2                      Spade and Parade  1994   9350                1.0   \n",
       "3            Driving With The Brakes On  1995   9340                0.0   \n",
       "4  Making Waves (2003 Digital Remaster)  2002   9349                0.0   \n",
       "\n",
       "   counts  \n",
       "0     227  \n",
       "1    1168  \n",
       "2      68  \n",
       "3     191  \n",
       "4      13  "
      ]
     },
     "execution_count": 19,
     "metadata": {},
     "output_type": "execute_result"
    }
   ],
   "source": [
    "songs = song_info_offensiveness.merge(songs_counts, on=\"song_id\")\n",
    "songs.head()"
   ]
  },
  {
   "cell_type": "code",
   "execution_count": 20,
   "metadata": {},
   "outputs": [],
   "source": [
    "songs.to_csv(\"../datasets/songs.csv\")"
   ]
  },
  {
   "cell_type": "markdown",
   "metadata": {},
   "source": [
    "## Looking at simple correlations between offensiveness, hotness, counts and year"
   ]
  },
  {
   "cell_type": "code",
   "execution_count": 35,
   "metadata": {},
   "outputs": [],
   "source": [
    "# select the values we want to have\n",
    "off_hot_year = songs[[\"song_hotness\", \"year\", \"abs_offensiveness\", \"counts\"]]\n",
    "\n",
    "# for this superficial analysis, we clean the data aggressively\n",
    "off_hot_year = off_hot_year.query(\"year > 0\")\n",
    "off_hot_year = off_hot_year.query(\"counts > 1\")"
   ]
  },
  {
   "cell_type": "code",
   "execution_count": 36,
   "metadata": {},
   "outputs": [
    {
     "data": {
      "text/html": [
       "<div>\n",
       "<style scoped>\n",
       "    .dataframe tbody tr th:only-of-type {\n",
       "        vertical-align: middle;\n",
       "    }\n",
       "\n",
       "    .dataframe tbody tr th {\n",
       "        vertical-align: top;\n",
       "    }\n",
       "\n",
       "    .dataframe thead th {\n",
       "        text-align: right;\n",
       "    }\n",
       "</style>\n",
       "<table border=\"1\" class=\"dataframe\">\n",
       "  <thead>\n",
       "    <tr style=\"text-align: right;\">\n",
       "      <th></th>\n",
       "      <th>song_hotness</th>\n",
       "      <th>year</th>\n",
       "      <th>abs_offensiveness</th>\n",
       "      <th>counts</th>\n",
       "    </tr>\n",
       "  </thead>\n",
       "  <tbody>\n",
       "    <tr>\n",
       "      <th>song_hotness</th>\n",
       "      <td>1.000000</td>\n",
       "      <td>0.186625</td>\n",
       "      <td>-0.006918</td>\n",
       "      <td>0.129653</td>\n",
       "    </tr>\n",
       "    <tr>\n",
       "      <th>year</th>\n",
       "      <td>0.186625</td>\n",
       "      <td>1.000000</td>\n",
       "      <td>0.016476</td>\n",
       "      <td>0.020274</td>\n",
       "    </tr>\n",
       "    <tr>\n",
       "      <th>abs_offensiveness</th>\n",
       "      <td>-0.006918</td>\n",
       "      <td>0.016476</td>\n",
       "      <td>1.000000</td>\n",
       "      <td>0.004138</td>\n",
       "    </tr>\n",
       "    <tr>\n",
       "      <th>counts</th>\n",
       "      <td>0.129653</td>\n",
       "      <td>0.020274</td>\n",
       "      <td>0.004138</td>\n",
       "      <td>1.000000</td>\n",
       "    </tr>\n",
       "  </tbody>\n",
       "</table>\n",
       "</div>"
      ],
      "text/plain": [
       "                   song_hotness      year  abs_offensiveness    counts\n",
       "song_hotness           1.000000  0.186625          -0.006918  0.129653\n",
       "year                   0.186625  1.000000           0.016476  0.020274\n",
       "abs_offensiveness     -0.006918  0.016476           1.000000  0.004138\n",
       "counts                 0.129653  0.020274           0.004138  1.000000"
      ]
     },
     "execution_count": 36,
     "metadata": {},
     "output_type": "execute_result"
    }
   ],
   "source": [
    "off_hot_year.corr()"
   ]
  },
  {
   "cell_type": "code",
   "execution_count": 37,
   "metadata": {},
   "outputs": [
    {
     "data": {
      "text/plain": [
       "<matplotlib.axes._subplots.AxesSubplot at 0x7f1b1f1d47f0>"
      ]
     },
     "execution_count": 37,
     "metadata": {},
     "output_type": "execute_result"
    },
    {
     "data": {
      "image/png": "[encoded data removed]",
      "text/plain": [
       "<matplotlib.figure.Figure at 0x7f1b1caf9128>"
      ]
     },
     "metadata": {},
     "output_type": "display_data"
    }
   ],
   "source": [
    "corr = off_hot_year.corr()\n",
    "sns.heatmap(corr, \n",
    "            xticklabels=corr.columns.values,\n",
    "            yticklabels=corr.columns.values)"
   ]
  },
  {
   "cell_type": "markdown",
   "metadata": {},
   "source": [
    "### Looking at correlations: Discussion\n",
    "We don't see any correlation. This was a very superficial analysis. In a next step we will try to go into more detail"
   ]
  },
  {
   "cell_type": "markdown",
   "metadata": {},
   "source": [
    "## Applying filtering and smoothing\n",
    "Correlation is a very simple tool which only looks for linear dependancies. For the raw data, we don't see any correlations. But this doesn't mean that there is no connection. A simple explanation would be that we need to apply more data cleaning. This is what we will do now:\n",
    " - apply a variety of filtering operations to find correlations in subsets of the data.\n",
    " - try to smooth the data\n"
   ]
  },
  {
   "cell_type": "code",
   "execution_count": 39,
   "metadata": {},
   "outputs": [
    {
     "data": {
      "text/html": [
       "<div>\n",
       "<style scoped>\n",
       "    .dataframe tbody tr th:only-of-type {\n",
       "        vertical-align: middle;\n",
       "    }\n",
       "\n",
       "    .dataframe tbody tr th {\n",
       "        vertical-align: top;\n",
       "    }\n",
       "\n",
       "    .dataframe thead th {\n",
       "        text-align: right;\n",
       "    }\n",
       "</style>\n",
       "<table border=\"1\" class=\"dataframe\">\n",
       "  <thead>\n",
       "    <tr style=\"text-align: right;\">\n",
       "      <th></th>\n",
       "      <th>song_hotness</th>\n",
       "      <th>year</th>\n",
       "      <th>abs_offensiveness</th>\n",
       "      <th>counts</th>\n",
       "    </tr>\n",
       "  </thead>\n",
       "  <tbody>\n",
       "    <tr>\n",
       "      <th>song_hotness</th>\n",
       "      <td>1.000000</td>\n",
       "      <td>0.217558</td>\n",
       "      <td>-0.012522</td>\n",
       "      <td>0.508213</td>\n",
       "    </tr>\n",
       "    <tr>\n",
       "      <th>year</th>\n",
       "      <td>0.217558</td>\n",
       "      <td>1.000000</td>\n",
       "      <td>-0.039431</td>\n",
       "      <td>0.112978</td>\n",
       "    </tr>\n",
       "    <tr>\n",
       "      <th>abs_offensiveness</th>\n",
       "      <td>-0.012522</td>\n",
       "      <td>-0.039431</td>\n",
       "      <td>1.000000</td>\n",
       "      <td>0.013263</td>\n",
       "    </tr>\n",
       "    <tr>\n",
       "      <th>counts</th>\n",
       "      <td>0.508213</td>\n",
       "      <td>0.112978</td>\n",
       "      <td>0.013263</td>\n",
       "      <td>1.000000</td>\n",
       "    </tr>\n",
       "  </tbody>\n",
       "</table>\n",
       "</div>"
      ],
      "text/plain": [
       "                   song_hotness      year  abs_offensiveness    counts\n",
       "song_hotness           1.000000  0.217558          -0.012522  0.508213\n",
       "year                   0.217558  1.000000          -0.039431  0.112978\n",
       "abs_offensiveness     -0.012522 -0.039431           1.000000  0.013263\n",
       "counts                 0.508213  0.112978           0.013263  1.000000"
      ]
     },
     "execution_count": 39,
     "metadata": {},
     "output_type": "execute_result"
    }
   ],
   "source": [
    "# smoothing the counts by using their log\n",
    "offensiveness_counts = songs[[\"song_hotness\", \"year\", \"abs_offensiveness\", \"counts\"]]\n",
    "\n",
    "offensiveness_counts_log = offensiveness_counts.copy()\n",
    "offensiveness_counts_log[\"counts\"] = offensiveness_counts_log[\"counts\"].apply(lambda x : np.log(x))\n",
    "offensiveness_counts_log.corr()"
   ]
  },
  {
   "cell_type": "code",
   "execution_count": 40,
   "metadata": {},
   "outputs": [
    {
     "data": {
      "text/html": [
       "<div>\n",
       "<style scoped>\n",
       "    .dataframe tbody tr th:only-of-type {\n",
       "        vertical-align: middle;\n",
       "    }\n",
       "\n",
       "    .dataframe tbody tr th {\n",
       "        vertical-align: top;\n",
       "    }\n",
       "\n",
       "    .dataframe thead th {\n",
       "        text-align: right;\n",
       "    }\n",
       "</style>\n",
       "<table border=\"1\" class=\"dataframe\">\n",
       "  <thead>\n",
       "    <tr style=\"text-align: right;\">\n",
       "      <th></th>\n",
       "      <th>song_hotness</th>\n",
       "      <th>year</th>\n",
       "      <th>abs_offensiveness</th>\n",
       "      <th>counts</th>\n",
       "    </tr>\n",
       "  </thead>\n",
       "  <tbody>\n",
       "    <tr>\n",
       "      <th>song_hotness</th>\n",
       "      <td>1.000000</td>\n",
       "      <td>0.178415</td>\n",
       "      <td>-0.019310</td>\n",
       "      <td>0.433320</td>\n",
       "    </tr>\n",
       "    <tr>\n",
       "      <th>year</th>\n",
       "      <td>0.178415</td>\n",
       "      <td>1.000000</td>\n",
       "      <td>-0.037461</td>\n",
       "      <td>0.051465</td>\n",
       "    </tr>\n",
       "    <tr>\n",
       "      <th>abs_offensiveness</th>\n",
       "      <td>-0.019310</td>\n",
       "      <td>-0.037461</td>\n",
       "      <td>1.000000</td>\n",
       "      <td>0.015510</td>\n",
       "    </tr>\n",
       "    <tr>\n",
       "      <th>counts</th>\n",
       "      <td>0.433320</td>\n",
       "      <td>0.051465</td>\n",
       "      <td>0.015510</td>\n",
       "      <td>1.000000</td>\n",
       "    </tr>\n",
       "  </tbody>\n",
       "</table>\n",
       "</div>"
      ],
      "text/plain": [
       "                   song_hotness      year  abs_offensiveness    counts\n",
       "song_hotness           1.000000  0.178415          -0.019310  0.433320\n",
       "year                   0.178415  1.000000          -0.037461  0.051465\n",
       "abs_offensiveness     -0.019310 -0.037461           1.000000  0.015510\n",
       "counts                 0.433320  0.051465           0.015510  1.000000"
      ]
     },
     "execution_count": 40,
     "metadata": {},
     "output_type": "execute_result"
    }
   ],
   "source": [
    "# looking only at songs that have been played often\n",
    "offensiveness_counts_popular = offensiveness_counts_log.query(\"counts> 3\")\n",
    "offensiveness_counts_popular.corr()"
   ]
  },
  {
   "cell_type": "code",
   "execution_count": 41,
   "metadata": {},
   "outputs": [
    {
     "data": {
      "text/html": [
       "<div>\n",
       "<style scoped>\n",
       "    .dataframe tbody tr th:only-of-type {\n",
       "        vertical-align: middle;\n",
       "    }\n",
       "\n",
       "    .dataframe tbody tr th {\n",
       "        vertical-align: top;\n",
       "    }\n",
       "\n",
       "    .dataframe thead th {\n",
       "        text-align: right;\n",
       "    }\n",
       "</style>\n",
       "<table border=\"1\" class=\"dataframe\">\n",
       "  <thead>\n",
       "    <tr style=\"text-align: right;\">\n",
       "      <th></th>\n",
       "      <th>abs_offensiveness</th>\n",
       "      <th>counts</th>\n",
       "    </tr>\n",
       "  </thead>\n",
       "  <tbody>\n",
       "    <tr>\n",
       "      <th>abs_offensiveness</th>\n",
       "      <td>1.000000</td>\n",
       "      <td>0.005394</td>\n",
       "    </tr>\n",
       "    <tr>\n",
       "      <th>counts</th>\n",
       "      <td>0.005394</td>\n",
       "      <td>1.000000</td>\n",
       "    </tr>\n",
       "  </tbody>\n",
       "</table>\n",
       "</div>"
      ],
      "text/plain": [
       "                   abs_offensiveness    counts\n",
       "abs_offensiveness           1.000000  0.005394\n",
       "counts                      0.005394  1.000000"
      ]
     },
     "execution_count": 41,
     "metadata": {},
     "output_type": "execute_result"
    }
   ],
   "source": [
    "# looking only at recent songs\n",
    "offensiveness_counts_recent = songs.query(\"year > 1990\")[[\"abs_offensiveness\", \"counts\"]]\n",
    "offensiveness_counts_recent.corr()"
   ]
  },
  {
   "cell_type": "code",
   "execution_count": 42,
   "metadata": {},
   "outputs": [
    {
     "data": {
      "text/html": [
       "<div>\n",
       "<style scoped>\n",
       "    .dataframe tbody tr th:only-of-type {\n",
       "        vertical-align: middle;\n",
       "    }\n",
       "\n",
       "    .dataframe tbody tr th {\n",
       "        vertical-align: top;\n",
       "    }\n",
       "\n",
       "    .dataframe thead th {\n",
       "        text-align: right;\n",
       "    }\n",
       "</style>\n",
       "<table border=\"1\" class=\"dataframe\">\n",
       "  <thead>\n",
       "    <tr style=\"text-align: right;\">\n",
       "      <th></th>\n",
       "      <th>abs_offensiveness</th>\n",
       "      <th>counts</th>\n",
       "    </tr>\n",
       "  </thead>\n",
       "  <tbody>\n",
       "    <tr>\n",
       "      <th>abs_offensiveness</th>\n",
       "      <td>1.000000</td>\n",
       "      <td>0.007334</td>\n",
       "    </tr>\n",
       "    <tr>\n",
       "      <th>counts</th>\n",
       "      <td>0.007334</td>\n",
       "      <td>1.000000</td>\n",
       "    </tr>\n",
       "  </tbody>\n",
       "</table>\n",
       "</div>"
      ],
      "text/plain": [
       "                   abs_offensiveness    counts\n",
       "abs_offensiveness           1.000000  0.007334\n",
       "counts                      0.007334  1.000000"
      ]
     },
     "execution_count": 42,
     "metadata": {},
     "output_type": "execute_result"
    }
   ],
   "source": [
    "# looking only at very recent songs\n",
    "offensiveness_counts_very_recent = songs.query(\"year > 2000\")[[\"abs_offensiveness\", \"counts\"]]\n",
    "offensiveness_counts_very_recent.corr()"
   ]
  },
  {
   "cell_type": "markdown",
   "metadata": {},
   "source": [
    "### Filtering and smoothing: Discussion\n",
    "\n",
    "This doesn't give us any information either. The evaluations I have included above are just a selection of tests. I have tried a variety of filters and smoothings.\n",
    "\n",
    "Unfortunately, I couldn't find any significant result. This doesn't mean that there is no dependence between the data points, but it does seem as if there is no linear dependence.\n",
    "\n",
    "Next, we need to take a step back. Correlation uses a linear model to explain the data, this is not powerful enough. Before we try fitting a more complex model, we should investigate the data and make a principled decision.\n"
   ]
  },
  {
   "cell_type": "markdown",
   "metadata": {},
   "source": [
    "## Looking at the data directly\n",
    "\n",
    "Sometimes, scatter plots can be an effective tool to show structure in the data. These plots have to be used with caution: The scatter plots I'm using are not heatmaps, they give no intuition for the density of the data.\n",
    "\n",
    "The results could be misleading, they are only meant to provide idea for the models to fit to the data."
   ]
  },
  {
   "cell_type": "markdown",
   "metadata": {},
   "source": [
    "## Scatter years and offensiveness\n",
    "\n",
    "This seems to show that songs become more offensive over time."
   ]
  },
  {
   "cell_type": "code",
   "execution_count": 43,
   "metadata": {},
   "outputs": [
    {
     "data": {
      "text/plain": [
       "<matplotlib.axes._subplots.AxesSubplot at 0x7f1b22baa978>"
      ]
     },
     "execution_count": 43,
     "metadata": {},
     "output_type": "execute_result"
    },
    {
     "data": {
      "image/png": "[encoded data removed]",
      "text/plain": [
       "<matplotlib.figure.Figure at 0x7f1b23efb390>"
      ]
     },
     "metadata": {},
     "output_type": "display_data"
    }
   ],
   "source": [
    "songs[songs[\"year\"]>0].plot.scatter(\"abs_offensiveness\", \"year\")"
   ]
  },
  {
   "cell_type": "markdown",
   "metadata": {},
   "source": [
    "## Scatter offensiveness and play counts\n",
    "\n",
    "This seems to show that play counts actually decrease with offensiveness."
   ]
  },
  {
   "cell_type": "code",
   "execution_count": 44,
   "metadata": {},
   "outputs": [
    {
     "data": {
      "text/plain": [
       "<matplotlib.axes._subplots.AxesSubplot at 0x7f1b23efbda0>"
      ]
     },
     "execution_count": 44,
     "metadata": {},
     "output_type": "execute_result"
    },
    {
     "data": {
      "image/png": "[encoded data removed]",
      "text/plain": [
       "<matplotlib.figure.Figure at 0x7f1b1c5a87f0>"
      ]
     },
     "metadata": {},
     "output_type": "display_data"
    }
   ],
   "source": [
    "songs.plot.scatter(\"abs_offensiveness\", \"counts\")"
   ]
  },
  {
   "cell_type": "code",
   "execution_count": 45,
   "metadata": {},
   "outputs": [
    {
     "data": {
      "text/plain": [
       "<matplotlib.axes._subplots.AxesSubplot at 0x7f1b4c6a6208>"
      ]
     },
     "execution_count": 45,
     "metadata": {},
     "output_type": "execute_result"
    },
    {
     "data": {
      "image/png": "[encoded data removed]",
      "text/plain": [
       "<matplotlib.figure.Figure at 0x7f1b4d6bae80>"
      ]
     },
     "metadata": {},
     "output_type": "display_data"
    }
   ],
   "source": [
    "songs.query(\"counts > 1\").plot.scatter(\"abs_offensiveness\", \"counts\")"
   ]
  },
  {
   "cell_type": "markdown",
   "metadata": {},
   "source": [
    "## Scatter offensiveness and hotness\n",
    "\n",
    "We have to filter the hotness a lot.\n",
    "\n",
    "This is actually the most interesting plot, I think.\n",
    "It seems that \"average\" songs are the most offensive."
   ]
  },
  {
   "cell_type": "code",
   "execution_count": 46,
   "metadata": {},
   "outputs": [
    {
     "data": {
      "text/plain": [
       "<matplotlib.axes._subplots.AxesSubplot at 0x7f1b4cac45c0>"
      ]
     },
     "execution_count": 46,
     "metadata": {},
     "output_type": "execute_result"
    },
    {
     "data": {
      "image/png": "[encoded data removed]",
      "text/plain": [
       "<matplotlib.figure.Figure at 0x7f1b4d6c2e80>"
      ]
     },
     "metadata": {},
     "output_type": "display_data"
    }
   ],
   "source": [
    "songs[[\"song_hotness\", \"abs_offensiveness\"]]\\\n",
    "    .dropna()\\\n",
    "    .query(\"song_hotness > 0.1\")\\\n",
    "    .plot.scatter(\"abs_offensiveness\", \"song_hotness\")"
   ]
  },
  {
   "cell_type": "markdown",
   "metadata": {},
   "source": [
    "## Scatter plots: Intermediate Discussion\n",
    "\n",
    "There seems to be some structure in the data.\n",
    "\n",
    "Intuitively, I think the problem is that these trends are driven by a small subset of data points.\n",
    "The outliers have some structure, the mass in center is useless.\n",
    "\n",
    "Maybe we should just look at the development of offensive songs. I've filtered out songs of low offensiveness and am repeating the plots from above. The result is the same.\n"
   ]
  },
  {
   "cell_type": "code",
   "execution_count": 47,
   "metadata": {},
   "outputs": [
    {
     "data": {
      "text/html": [
       "<div>\n",
       "<style scoped>\n",
       "    .dataframe tbody tr th:only-of-type {\n",
       "        vertical-align: middle;\n",
       "    }\n",
       "\n",
       "    .dataframe tbody tr th {\n",
       "        vertical-align: top;\n",
       "    }\n",
       "\n",
       "    .dataframe thead th {\n",
       "        text-align: right;\n",
       "    }\n",
       "</style>\n",
       "<table border=\"1\" class=\"dataframe\">\n",
       "  <thead>\n",
       "    <tr style=\"text-align: right;\">\n",
       "      <th></th>\n",
       "      <th>genre</th>\n",
       "      <th>song_hotness</th>\n",
       "      <th>year</th>\n",
       "      <th>index</th>\n",
       "      <th>abs_offensiveness</th>\n",
       "      <th>counts</th>\n",
       "    </tr>\n",
       "  </thead>\n",
       "  <tbody>\n",
       "    <tr>\n",
       "      <th>count</th>\n",
       "      <td>0.0</td>\n",
       "      <td>12248.000000</td>\n",
       "      <td>14343.000000</td>\n",
       "      <td>14343.000000</td>\n",
       "      <td>14343.000000</td>\n",
       "      <td>14343.000000</td>\n",
       "    </tr>\n",
       "    <tr>\n",
       "      <th>mean</th>\n",
       "      <td>NaN</td>\n",
       "      <td>0.545276</td>\n",
       "      <td>1579.634526</td>\n",
       "      <td>101998.391132</td>\n",
       "      <td>7.579934</td>\n",
       "      <td>615.420972</td>\n",
       "    </tr>\n",
       "    <tr>\n",
       "      <th>std</th>\n",
       "      <td>NaN</td>\n",
       "      <td>0.172855</td>\n",
       "      <td>815.162465</td>\n",
       "      <td>58104.253269</td>\n",
       "      <td>10.194955</td>\n",
       "      <td>3288.625287</td>\n",
       "    </tr>\n",
       "    <tr>\n",
       "      <th>min</th>\n",
       "      <td>NaN</td>\n",
       "      <td>0.000000</td>\n",
       "      <td>0.000000</td>\n",
       "      <td>8.000000</td>\n",
       "      <td>2.000000</td>\n",
       "      <td>1.000000</td>\n",
       "    </tr>\n",
       "    <tr>\n",
       "      <th>25%</th>\n",
       "      <td>NaN</td>\n",
       "      <td>0.462380</td>\n",
       "      <td>1986.000000</td>\n",
       "      <td>51745.000000</td>\n",
       "      <td>2.000000</td>\n",
       "      <td>17.000000</td>\n",
       "    </tr>\n",
       "    <tr>\n",
       "      <th>50%</th>\n",
       "      <td>NaN</td>\n",
       "      <td>0.565451</td>\n",
       "      <td>1999.000000</td>\n",
       "      <td>103273.000000</td>\n",
       "      <td>4.000000</td>\n",
       "      <td>70.000000</td>\n",
       "    </tr>\n",
       "    <tr>\n",
       "      <th>75%</th>\n",
       "      <td>NaN</td>\n",
       "      <td>0.657087</td>\n",
       "      <td>2005.000000</td>\n",
       "      <td>152106.000000</td>\n",
       "      <td>8.000000</td>\n",
       "      <td>312.000000</td>\n",
       "    </tr>\n",
       "    <tr>\n",
       "      <th>max</th>\n",
       "      <td>NaN</td>\n",
       "      <td>1.000000</td>\n",
       "      <td>2010.000000</td>\n",
       "      <td>202110.000000</td>\n",
       "      <td>166.000000</td>\n",
       "      <td>155717.000000</td>\n",
       "    </tr>\n",
       "  </tbody>\n",
       "</table>\n",
       "</div>"
      ],
      "text/plain": [
       "       genre  song_hotness          year          index  abs_offensiveness  \\\n",
       "count    0.0  12248.000000  14343.000000   14343.000000       14343.000000   \n",
       "mean     NaN      0.545276   1579.634526  101998.391132           7.579934   \n",
       "std      NaN      0.172855    815.162465   58104.253269          10.194955   \n",
       "min      NaN      0.000000      0.000000       8.000000           2.000000   \n",
       "25%      NaN      0.462380   1986.000000   51745.000000           2.000000   \n",
       "50%      NaN      0.565451   1999.000000  103273.000000           4.000000   \n",
       "75%      NaN      0.657087   2005.000000  152106.000000           8.000000   \n",
       "max      NaN      1.000000   2010.000000  202110.000000         166.000000   \n",
       "\n",
       "              counts  \n",
       "count   14343.000000  \n",
       "mean      615.420972  \n",
       "std      3288.625287  \n",
       "min         1.000000  \n",
       "25%        17.000000  \n",
       "50%        70.000000  \n",
       "75%       312.000000  \n",
       "max    155717.000000  "
      ]
     },
     "execution_count": 47,
     "metadata": {},
     "output_type": "execute_result"
    }
   ],
   "source": [
    "# for the songs that are offensive, what values do we see\n",
    "songs.query(\"abs_offensiveness > 1\").describe()"
   ]
  },
  {
   "cell_type": "code",
   "execution_count": 48,
   "metadata": {},
   "outputs": [],
   "source": [
    "# so 50% of the offensive songs actually contain only <= 4 offensive words.\n",
    "# we might want to exclude that\n",
    "filtered_songs = songs.query(\"abs_offensiveness >= 4\")"
   ]
  },
  {
   "cell_type": "code",
   "execution_count": 49,
   "metadata": {},
   "outputs": [
    {
     "data": {
      "text/plain": [
       "<matplotlib.axes._subplots.AxesSubplot at 0x7f1b285a8d30>"
      ]
     },
     "execution_count": 49,
     "metadata": {},
     "output_type": "execute_result"
    },
    {
     "data": {
      "image/png": "[encoded data removed]",
      "text/plain": [
       "<matplotlib.figure.Figure at 0x7f1b4d56afd0>"
      ]
     },
     "metadata": {},
     "output_type": "display_data"
    }
   ],
   "source": [
    "filtered_songs.query(\"year > 0\").plot.scatter(\"abs_offensiveness\", \"year\")"
   ]
  },
  {
   "cell_type": "code",
   "execution_count": 50,
   "metadata": {},
   "outputs": [
    {
     "data": {
      "text/plain": [
       "<matplotlib.axes._subplots.AxesSubplot at 0x7f1b32669be0>"
      ]
     },
     "execution_count": 50,
     "metadata": {},
     "output_type": "execute_result"
    },
    {
     "data": {
      "image/png": "[encoded data removed]",
      "text/plain": [
       "<matplotlib.figure.Figure at 0x7f1b4c34a400>"
      ]
     },
     "metadata": {},
     "output_type": "display_data"
    }
   ],
   "source": [
    "filtered_songs.plot.scatter(\"abs_offensiveness\", \"counts\")"
   ]
  },
  {
   "cell_type": "code",
   "execution_count": 51,
   "metadata": {},
   "outputs": [
    {
     "data": {
      "text/plain": [
       "<matplotlib.axes._subplots.AxesSubplot at 0x7f1b1eb27128>"
      ]
     },
     "execution_count": 51,
     "metadata": {},
     "output_type": "execute_result"
    },
    {
     "data": {
      "image/png": "[encoded data removed]",
      "text/plain": [
       "<matplotlib.figure.Figure at 0x7f1b4d6230f0>"
      ]
     },
     "metadata": {},
     "output_type": "display_data"
    }
   ],
   "source": [
    "filtered_songs[[\"song_hotness\", \"abs_offensiveness\"]]\\\n",
    "    .dropna()\\\n",
    "    .query(\"song_hotness > 0.1\")\\\n",
    "    .plot.scatter(\"abs_offensiveness\", \"song_hotness\")"
   ]
  },
  {
   "cell_type": "markdown",
   "metadata": {},
   "source": [
    "# Discussion\n",
    "\n",
    "The scatter plots from above give two insights:\n",
    " - The number of offensive songs seems to increase over time\n",
    " - Songs of average hotness are more offensive than songs of high or low hotness\n",
    " \n",
    "As said above: scatterplots are not a good tool to get solid results. This is just an intuition and needs to be verified.\n",
    "\n",
    "We will now construct metrics that we can plot over time."
   ]
  },
  {
   "cell_type": "code",
   "execution_count": 52,
   "metadata": {},
   "outputs": [
    {
     "data": {
      "text/html": [
       "<div>\n",
       "<style scoped>\n",
       "    .dataframe tbody tr th:only-of-type {\n",
       "        vertical-align: middle;\n",
       "    }\n",
       "\n",
       "    .dataframe tbody tr th {\n",
       "        vertical-align: top;\n",
       "    }\n",
       "\n",
       "    .dataframe thead th {\n",
       "        text-align: right;\n",
       "    }\n",
       "</style>\n",
       "<table border=\"1\" class=\"dataframe\">\n",
       "  <thead>\n",
       "    <tr style=\"text-align: right;\">\n",
       "      <th></th>\n",
       "      <th>track_id</th>\n",
       "      <th>genre</th>\n",
       "      <th>song_hotness</th>\n",
       "      <th>song_id</th>\n",
       "      <th>title</th>\n",
       "      <th>year</th>\n",
       "      <th>index</th>\n",
       "      <th>abs_offensiveness</th>\n",
       "      <th>counts</th>\n",
       "      <th>offensive</th>\n",
       "    </tr>\n",
       "  </thead>\n",
       "  <tbody>\n",
       "    <tr>\n",
       "      <th>0</th>\n",
       "      <td>TRBEEPA128F4291036</td>\n",
       "      <td>NaN</td>\n",
       "      <td>NaN</td>\n",
       "      <td>SOTOLDX12A58A79206</td>\n",
       "      <td>Fermented Offal Discharge</td>\n",
       "      <td>1995</td>\n",
       "      <td>9345</td>\n",
       "      <td>1.0</td>\n",
       "      <td>227</td>\n",
       "      <td>True</td>\n",
       "    </tr>\n",
       "    <tr>\n",
       "      <th>1</th>\n",
       "      <td>TRBEERY128F4231A2E</td>\n",
       "      <td>NaN</td>\n",
       "      <td>0.528782</td>\n",
       "      <td>SOVSBWN12A813557F9</td>\n",
       "      <td>Eyes Of A Stranger (Album Version)</td>\n",
       "      <td>0</td>\n",
       "      <td>9346</td>\n",
       "      <td>0.0</td>\n",
       "      <td>1168</td>\n",
       "      <td>False</td>\n",
       "    </tr>\n",
       "    <tr>\n",
       "      <th>2</th>\n",
       "      <td>TRBEEZO12903D05259</td>\n",
       "      <td>NaN</td>\n",
       "      <td>0.520345</td>\n",
       "      <td>SOUDWTU12AC37746F7</td>\n",
       "      <td>Spade and Parade</td>\n",
       "      <td>1994</td>\n",
       "      <td>9350</td>\n",
       "      <td>1.0</td>\n",
       "      <td>68</td>\n",
       "      <td>True</td>\n",
       "    </tr>\n",
       "    <tr>\n",
       "      <th>3</th>\n",
       "      <td>TRBEEEO128F146B9F1</td>\n",
       "      <td>NaN</td>\n",
       "      <td>NaN</td>\n",
       "      <td>SOPGDTB12A6D4F740A</td>\n",
       "      <td>Driving With The Brakes On</td>\n",
       "      <td>1995</td>\n",
       "      <td>9340</td>\n",
       "      <td>0.0</td>\n",
       "      <td>191</td>\n",
       "      <td>False</td>\n",
       "    </tr>\n",
       "    <tr>\n",
       "      <th>4</th>\n",
       "      <td>TRBEEYL128F1491A39</td>\n",
       "      <td>NaN</td>\n",
       "      <td>NaN</td>\n",
       "      <td>SOLTMAH12A6D4FA0B3</td>\n",
       "      <td>Making Waves (2003 Digital Remaster)</td>\n",
       "      <td>2002</td>\n",
       "      <td>9349</td>\n",
       "      <td>0.0</td>\n",
       "      <td>13</td>\n",
       "      <td>False</td>\n",
       "    </tr>\n",
       "  </tbody>\n",
       "</table>\n",
       "</div>"
      ],
      "text/plain": [
       "             track_id  genre  song_hotness             song_id  \\\n",
       "0  TRBEEPA128F4291036    NaN           NaN  SOTOLDX12A58A79206   \n",
       "1  TRBEERY128F4231A2E    NaN      0.528782  SOVSBWN12A813557F9   \n",
       "2  TRBEEZO12903D05259    NaN      0.520345  SOUDWTU12AC37746F7   \n",
       "3  TRBEEEO128F146B9F1    NaN           NaN  SOPGDTB12A6D4F740A   \n",
       "4  TRBEEYL128F1491A39    NaN           NaN  SOLTMAH12A6D4FA0B3   \n",
       "\n",
       "                                  title  year  index  abs_offensiveness  \\\n",
       "0             Fermented Offal Discharge  1995   9345                1.0   \n",
       "1    Eyes Of A Stranger (Album Version)     0   9346                0.0   \n",
       "2                      Spade and Parade  1994   9350                1.0   \n",
       "3            Driving With The Brakes On  1995   9340                0.0   \n",
       "4  Making Waves (2003 Digital Remaster)  2002   9349                0.0   \n",
       "\n",
       "   counts  offensive  \n",
       "0     227       True  \n",
       "1    1168      False  \n",
       "2      68       True  \n",
       "3     191      False  \n",
       "4      13      False  "
      ]
     },
     "execution_count": 52,
     "metadata": {},
     "output_type": "execute_result"
    }
   ],
   "source": [
    "# playcounts of offensive vs non-offensive songs\n",
    "songs_binary = songs.copy()\n",
    "songs_binary[\"offensive\"] = songs_binary[\"abs_offensiveness\"].apply(lambda x : x>0)\n",
    "songs_binary.head()"
   ]
  },
  {
   "cell_type": "code",
   "execution_count": 53,
   "metadata": {},
   "outputs": [],
   "source": [
    "songs_binary = songs_binary[[\"year\", \"counts\", \"offensive\"]]"
   ]
  },
  {
   "cell_type": "code",
   "execution_count": 77,
   "metadata": {},
   "outputs": [
    {
     "data": {
      "text/plain": [
       "(12865, 9)"
      ]
     },
     "execution_count": 77,
     "metadata": {},
     "output_type": "execute_result"
    }
   ],
   "source": [
    "songs.query(\"year >= 2000 and abs_offensiveness >= 1\").shape"
   ]
  },
  {
   "cell_type": "code",
   "execution_count": 54,
   "metadata": {},
   "outputs": [
    {
     "name": "stdout",
     "output_type": "stream",
     "text": [
      "first occurence of an offensive song (in our data): 1955\n"
     ]
    },
    {
     "data": {
      "text/plain": [
       "year\n",
       "1956    0.359954\n",
       "1957    0.445140\n",
       "1958    0.052062\n",
       "1959    0.133210\n",
       "1960    0.015698\n",
       "Name: counts, dtype: float64"
      ]
     },
     "execution_count": 54,
     "metadata": {},
     "output_type": "execute_result"
    }
   ],
   "source": [
    "# the first occurence of an offensive song is\n",
    "first_year = songs_binary.query(\"offensive == True and year > 0\")[\"year\"].min()\n",
    "print(\"first occurence of an offensive song (in our data): \"+str(first_year))\n",
    "\n",
    "# creating query strings\n",
    "offensive_query = \"year > {0} and offensive == True\".format(first_year)\n",
    "not_off_query = \"year > {0} and offensive == False\".format(first_year)\n",
    "\n",
    "# getting play counts\n",
    "of_counts = songs_binary.query(offensive_query).groupby(\"year\").agg(\"sum\")[\"counts\"]\n",
    "no_counts = songs_binary.query(not_off_query).groupby(\"year\").agg(\"sum\")[\"counts\"]\n",
    "\n",
    "# calculating ratio\n",
    "ratio = of_counts / (of_counts + no_counts)\n",
    "ratio.head()"
   ]
  },
  {
   "cell_type": "code",
   "execution_count": 78,
   "metadata": {},
   "outputs": [
    {
     "data": {
      "text/plain": [
       "[<matplotlib.lines.Line2D at 0x7f1b4d06f978>]"
      ]
     },
     "execution_count": 78,
     "metadata": {},
     "output_type": "execute_result"
    },
    {
     "data": {
      "image/png": "[encoded data removed]",
      "text/plain": [
       "<matplotlib.figure.Figure at 0x7f1b4d382f60>"
      ]
     },
     "metadata": {},
     "output_type": "display_data"
    }
   ],
   "source": [
    "plt.plot(ratio)"
   ]
  },
  {
   "cell_type": "markdown",
   "metadata": {},
   "source": [
    "Still not saying something useful. Let's try another method: we will simply count the total number of swear words per year."
   ]
  },
  {
   "cell_type": "code",
   "execution_count": 21,
   "metadata": {},
   "outputs": [
    {
     "data": {
      "text/plain": [
       "[<matplotlib.lines.Line2D at 0x7fcd004baf98>]"
      ]
     },
     "execution_count": 21,
     "metadata": {},
     "output_type": "execute_result"
    },
    {
     "data": {
      "image/png": "[encoded data removed]",
      "text/plain": [
       "<matplotlib.figure.Figure at 0x7fccfe493dd8>"
      ]
     },
     "metadata": {},
     "output_type": "display_data"
    }
   ],
   "source": [
    "to_plot_total_off_vs_year = songs[[\"year\", \"abs_offensiveness\"]].query(\"year > 0\").groupby(by=\"year\")\n",
    "plt.plot(to_plot_total_off_vs_year.sum())"
   ]
  },
  {
   "cell_type": "markdown",
   "metadata": {},
   "source": [
    "We see that the total number of swear words goes up as year increases but this is normal because more songs implies more words. But let's see what we get if we divide that number by the number of songs (which would be the average number of swear words per song)"
   ]
  },
  {
   "cell_type": "code",
   "execution_count": 23,
   "metadata": {},
   "outputs": [
    {
     "data": {
      "text/plain": [
       "[<matplotlib.lines.Line2D at 0x7fcd0108d668>]"
      ]
     },
     "execution_count": 23,
     "metadata": {},
     "output_type": "execute_result"
    },
    {
     "data": {
      "image/png": "[encoded data removed]",
      "text/plain": [
       "<matplotlib.figure.Figure at 0x7fcd004d0f28>"
      ]
     },
     "metadata": {},
     "output_type": "display_data"
    }
   ],
   "source": [
    "year_avg_off = to_plot_total_off_vs_year.apply(lambda frame: frame[\"abs_offensiveness\"].sum() / frame.shape[0])\n",
    "plt.plot(year_avg_off)"
   ]
  },
  {
   "cell_type": "markdown",
   "metadata": {},
   "source": [
    "Ok so we start seeing something interesting here: the average number of swear words per song is the highest somewhere around the year 2000 ! The year 1956 seems strangely more offensive than the others. Let's take a closer look:"
   ]
  },
  {
   "cell_type": "code",
   "execution_count": 25,
   "metadata": {},
   "outputs": [
    {
     "data": {
      "text/html": [
       "<div>\n",
       "<style scoped>\n",
       "    .dataframe tbody tr th:only-of-type {\n",
       "        vertical-align: middle;\n",
       "    }\n",
       "\n",
       "    .dataframe tbody tr th {\n",
       "        vertical-align: top;\n",
       "    }\n",
       "\n",
       "    .dataframe thead th {\n",
       "        text-align: right;\n",
       "    }\n",
       "</style>\n",
       "<table border=\"1\" class=\"dataframe\">\n",
       "  <thead>\n",
       "    <tr style=\"text-align: right;\">\n",
       "      <th></th>\n",
       "      <th>track_id</th>\n",
       "      <th>genre</th>\n",
       "      <th>song_hotness</th>\n",
       "      <th>song_id</th>\n",
       "      <th>title</th>\n",
       "      <th>year</th>\n",
       "      <th>index</th>\n",
       "      <th>abs_offensiveness</th>\n",
       "      <th>counts</th>\n",
       "    </tr>\n",
       "  </thead>\n",
       "  <tbody>\n",
       "    <tr>\n",
       "      <th>334</th>\n",
       "      <td>TRBMFFE12903CD8DBB</td>\n",
       "      <td>NaN</td>\n",
       "      <td>0.565451</td>\n",
       "      <td>SOVAJRE12AAF3B5D75</td>\n",
       "      <td>All Around the World</td>\n",
       "      <td>1956</td>\n",
       "      <td>11709</td>\n",
       "      <td>0.0</td>\n",
       "      <td>43</td>\n",
       "    </tr>\n",
       "    <tr>\n",
       "      <th>7202</th>\n",
       "      <td>TRKTSXR128F92D450C</td>\n",
       "      <td>NaN</td>\n",
       "      <td>0.527703</td>\n",
       "      <td>SORRERJ12A8C1423B4</td>\n",
       "      <td>Little Darlin'</td>\n",
       "      <td>1956</td>\n",
       "      <td>84075</td>\n",
       "      <td>0.0</td>\n",
       "      <td>10</td>\n",
       "    </tr>\n",
       "    <tr>\n",
       "      <th>40638</th>\n",
       "      <td>TRUGFZM12903CC04E3</td>\n",
       "      <td>NaN</td>\n",
       "      <td>NaN</td>\n",
       "      <td>SOEWGGU12A8C133950</td>\n",
       "      <td>Love Me</td>\n",
       "      <td>1956</td>\n",
       "      <td>157794</td>\n",
       "      <td>0.0</td>\n",
       "      <td>1590</td>\n",
       "    </tr>\n",
       "    <tr>\n",
       "      <th>54930</th>\n",
       "      <td>TRCTNHQ128F92FA33F</td>\n",
       "      <td>NaN</td>\n",
       "      <td>0.651224</td>\n",
       "      <td>SOXQVNW12AAF3B2DBC</td>\n",
       "      <td>Need Your Love So Bad</td>\n",
       "      <td>1956</td>\n",
       "      <td>21630</td>\n",
       "      <td>0.0</td>\n",
       "      <td>180</td>\n",
       "    </tr>\n",
       "    <tr>\n",
       "      <th>57321</th>\n",
       "      <td>TRZMZTY128F1499425</td>\n",
       "      <td>NaN</td>\n",
       "      <td>NaN</td>\n",
       "      <td>SOIHGSM12A6D4FA0A6</td>\n",
       "      <td>Tenderly</td>\n",
       "      <td>1956</td>\n",
       "      <td>198369</td>\n",
       "      <td>0.0</td>\n",
       "      <td>264</td>\n",
       "    </tr>\n",
       "    <tr>\n",
       "      <th>70122</th>\n",
       "      <td>TREFXXT128F92F0CD5</td>\n",
       "      <td>NaN</td>\n",
       "      <td>0.616153</td>\n",
       "      <td>SOJFEXC12A8C142F91</td>\n",
       "      <td>Who Needs You</td>\n",
       "      <td>1956</td>\n",
       "      <td>33320</td>\n",
       "      <td>0.0</td>\n",
       "      <td>23</td>\n",
       "    </tr>\n",
       "    <tr>\n",
       "      <th>70891</th>\n",
       "      <td>TRESXGW128F426425A</td>\n",
       "      <td>NaN</td>\n",
       "      <td>NaN</td>\n",
       "      <td>SOVZKUJ12A58A7DAB7</td>\n",
       "      <td>Down Home Special</td>\n",
       "      <td>1956</td>\n",
       "      <td>37103</td>\n",
       "      <td>1.0</td>\n",
       "      <td>14</td>\n",
       "    </tr>\n",
       "    <tr>\n",
       "      <th>73127</th>\n",
       "      <td>TRXZLKU128F1462813</td>\n",
       "      <td>NaN</td>\n",
       "      <td>0.328609</td>\n",
       "      <td>SOSXZVJ12A6D4F6CB4</td>\n",
       "      <td>Oh_ Marie (2002 Digital Remaster)</td>\n",
       "      <td>1956</td>\n",
       "      <td>186537</td>\n",
       "      <td>0.0</td>\n",
       "      <td>48</td>\n",
       "    </tr>\n",
       "    <tr>\n",
       "      <th>84223</th>\n",
       "      <td>TRQKNVC12903CB0448</td>\n",
       "      <td>NaN</td>\n",
       "      <td>0.618166</td>\n",
       "      <td>SODSPJZ12A8AE47A81</td>\n",
       "      <td>Bad Luck</td>\n",
       "      <td>1956</td>\n",
       "      <td>128172</td>\n",
       "      <td>1.0</td>\n",
       "      <td>249</td>\n",
       "    </tr>\n",
       "    <tr>\n",
       "      <th>87420</th>\n",
       "      <td>TRWXAZN128F426D7B5</td>\n",
       "      <td>NaN</td>\n",
       "      <td>NaN</td>\n",
       "      <td>SOFGKOE12A58A7DB22</td>\n",
       "      <td>Honey Chile</td>\n",
       "      <td>1956</td>\n",
       "      <td>178189</td>\n",
       "      <td>0.0</td>\n",
       "      <td>41</td>\n",
       "    </tr>\n",
       "    <tr>\n",
       "      <th>110915</th>\n",
       "      <td>TRGPLNZ12903CB255D</td>\n",
       "      <td>NaN</td>\n",
       "      <td>0.456950</td>\n",
       "      <td>SOGMYWL12AB0186C2D</td>\n",
       "      <td>I'll Be All Smiles Tonight (The Original Album)</td>\n",
       "      <td>1956</td>\n",
       "      <td>51618</td>\n",
       "      <td>0.0</td>\n",
       "      <td>45</td>\n",
       "    </tr>\n",
       "    <tr>\n",
       "      <th>112970</th>\n",
       "      <td>TRGFCTF12903D01C41</td>\n",
       "      <td>NaN</td>\n",
       "      <td>0.705975</td>\n",
       "      <td>SOQVAPZ12AC9071B98</td>\n",
       "      <td>Smokestack Lightning</td>\n",
       "      <td>1956</td>\n",
       "      <td>48639</td>\n",
       "      <td>11.0</td>\n",
       "      <td>999</td>\n",
       "    </tr>\n",
       "  </tbody>\n",
       "</table>\n",
       "</div>"
      ],
      "text/plain": [
       "                  track_id  genre  song_hotness             song_id  \\\n",
       "334     TRBMFFE12903CD8DBB    NaN      0.565451  SOVAJRE12AAF3B5D75   \n",
       "7202    TRKTSXR128F92D450C    NaN      0.527703  SORRERJ12A8C1423B4   \n",
       "40638   TRUGFZM12903CC04E3    NaN           NaN  SOEWGGU12A8C133950   \n",
       "54930   TRCTNHQ128F92FA33F    NaN      0.651224  SOXQVNW12AAF3B2DBC   \n",
       "57321   TRZMZTY128F1499425    NaN           NaN  SOIHGSM12A6D4FA0A6   \n",
       "70122   TREFXXT128F92F0CD5    NaN      0.616153  SOJFEXC12A8C142F91   \n",
       "70891   TRESXGW128F426425A    NaN           NaN  SOVZKUJ12A58A7DAB7   \n",
       "73127   TRXZLKU128F1462813    NaN      0.328609  SOSXZVJ12A6D4F6CB4   \n",
       "84223   TRQKNVC12903CB0448    NaN      0.618166  SODSPJZ12A8AE47A81   \n",
       "87420   TRWXAZN128F426D7B5    NaN           NaN  SOFGKOE12A58A7DB22   \n",
       "110915  TRGPLNZ12903CB255D    NaN      0.456950  SOGMYWL12AB0186C2D   \n",
       "112970  TRGFCTF12903D01C41    NaN      0.705975  SOQVAPZ12AC9071B98   \n",
       "\n",
       "                                                  title  year   index  \\\n",
       "334                                All Around the World  1956   11709   \n",
       "7202                                     Little Darlin'  1956   84075   \n",
       "40638                                           Love Me  1956  157794   \n",
       "54930                             Need Your Love So Bad  1956   21630   \n",
       "57321                                          Tenderly  1956  198369   \n",
       "70122                                     Who Needs You  1956   33320   \n",
       "70891                                 Down Home Special  1956   37103   \n",
       "73127                 Oh_ Marie (2002 Digital Remaster)  1956  186537   \n",
       "84223                                          Bad Luck  1956  128172   \n",
       "87420                                       Honey Chile  1956  178189   \n",
       "110915  I'll Be All Smiles Tonight (The Original Album)  1956   51618   \n",
       "112970                             Smokestack Lightning  1956   48639   \n",
       "\n",
       "        abs_offensiveness  counts  \n",
       "334                   0.0      43  \n",
       "7202                  0.0      10  \n",
       "40638                 0.0    1590  \n",
       "54930                 0.0     180  \n",
       "57321                 0.0     264  \n",
       "70122                 0.0      23  \n",
       "70891                 1.0      14  \n",
       "73127                 0.0      48  \n",
       "84223                 1.0     249  \n",
       "87420                 0.0      41  \n",
       "110915                0.0      45  \n",
       "112970               11.0     999  "
      ]
     },
     "execution_count": 25,
     "metadata": {},
     "output_type": "execute_result"
    }
   ],
   "source": [
    "songs.query(\"year==1956\")"
   ]
  },
  {
   "cell_type": "markdown",
   "metadata": {},
   "source": [
    "We see the song \"Smokestack Lightning\" here which seems to have 11 offensive words. Here are the lyrics:\n",
    "\n",
    "Ah oh, smokestack lightnin'\n",
    "Shinin', just like gold\n",
    "Why don't ya hear me cryin'?\n",
    "Whoo hoo\n",
    "Whoo hoo\n",
    "Whoo\n",
    "Whoa oh, tell me, baby\n",
    "What's the, matter with you?\n",
    "Why don't ya hear me cryin'?\n",
    "Whoo hoo\n",
    "Whoo hoo\n",
    "Whoo\n",
    "Whoa oh, tell me, baby\n",
    "Where did ya, stay last night?\n",
    "A-why don't ya hear me cryin'?\n",
    "Whoo hoo\n",
    "Whoo hoo\n",
    "Whoo\n",
    "Whoa-oh, stop your train\n",
    "Let her, go for a ride\n",
    "Why don't ya hear me cryin'?\n",
    "Whoo hoo\n",
    "Whoo hoo\n",
    "Whoo\n",
    "Whoa-oh, fare ya well\n",
    "Never see, a you no more\n",
    "A-why don't ya hear me cryin'?\n",
    "Whoo hoo\n",
    "Whoo hoo\n",
    "Whoo\n",
    "Whoa-oh, who been here baby since,\n",
    "I-I been gone, a little, bitty boy\n",
    "Girl, be on\n",
    "Whoo hoo\n",
    "Whoo hoo\n",
    "Whoo\n",
    "\n",
    "There are absolutely no swear words here but, taking a closer look at our MusixMatch dataset we see that the word \"hoo\" was inserted as \"ho\" and it appears 11 times in MusixMatch. This is a problem but it is due to the dataset and we can't do much about it  (apart from trying to do some intense nlp which won't work anyway). But anyway, this is not a recurrent problem so we don't need to do worry too much about this. The only annoying thing is that, because of this, and because of the fact that there are only 12 songs for 1956, we get that the average number of swear words is 13 / 12 = 1.08. Fortunately, the number of songs becomes bigger and bigger over time so this problem becomes negligeable."
   ]
  },
  {
   "cell_type": "markdown",
   "metadata": {
    "collapsed": true
   },
   "source": [
    "## Machine learning\n",
    "\n",
    "None of the approaches above seem to reveal any data.\n",
    "\n",
    "We will now try to apply a more powerful method. Instead of linear regression (correlation), or hand-crafted features, we use a multilayer perceptron to search for structure with a machine learning approach"
   ]
  },
  {
   "cell_type": "markdown",
   "metadata": {},
   "source": [
    "### Step 1: convert dataframe to numpy array\n",
    "\n",
    "We chose keras for the machine learning, it works on numpy arrays.\n",
    "We also apply smoothing to the data"
   ]
  },
  {
   "cell_type": "code",
   "execution_count": 56,
   "metadata": {},
   "outputs": [
    {
     "data": {
      "text/html": [
       "<div>\n",
       "<style scoped>\n",
       "    .dataframe tbody tr th:only-of-type {\n",
       "        vertical-align: middle;\n",
       "    }\n",
       "\n",
       "    .dataframe tbody tr th {\n",
       "        vertical-align: top;\n",
       "    }\n",
       "\n",
       "    .dataframe thead th {\n",
       "        text-align: right;\n",
       "    }\n",
       "</style>\n",
       "<table border=\"1\" class=\"dataframe\">\n",
       "  <thead>\n",
       "    <tr style=\"text-align: right;\">\n",
       "      <th></th>\n",
       "      <th>year</th>\n",
       "      <th>counts</th>\n",
       "      <th>abs_offensiveness</th>\n",
       "    </tr>\n",
       "  </thead>\n",
       "  <tbody>\n",
       "    <tr>\n",
       "      <th>2</th>\n",
       "      <td>1994</td>\n",
       "      <td>68</td>\n",
       "      <td>1.0</td>\n",
       "    </tr>\n",
       "    <tr>\n",
       "      <th>6</th>\n",
       "      <td>1992</td>\n",
       "      <td>316</td>\n",
       "      <td>0.0</td>\n",
       "    </tr>\n",
       "    <tr>\n",
       "      <th>7</th>\n",
       "      <td>2001</td>\n",
       "      <td>787</td>\n",
       "      <td>0.0</td>\n",
       "    </tr>\n",
       "    <tr>\n",
       "      <th>8</th>\n",
       "      <td>2003</td>\n",
       "      <td>1017</td>\n",
       "      <td>0.0</td>\n",
       "    </tr>\n",
       "    <tr>\n",
       "      <th>9</th>\n",
       "      <td>1995</td>\n",
       "      <td>79</td>\n",
       "      <td>0.0</td>\n",
       "    </tr>\n",
       "  </tbody>\n",
       "</table>\n",
       "</div>"
      ],
      "text/plain": [
       "   year  counts  abs_offensiveness\n",
       "2  1994      68                1.0\n",
       "6  1992     316                0.0\n",
       "7  2001     787                0.0\n",
       "8  2003    1017                0.0\n",
       "9  1995      79                0.0"
      ]
     },
     "execution_count": 56,
     "metadata": {},
     "output_type": "execute_result"
    }
   ],
   "source": [
    "data_frame = songs.query(\"year>0\").query(\"counts > 1\").query(\"song_hotness<=1\") [[\"year\", \"counts\", \"abs_offensiveness\"]]\n",
    "data_frame.head()"
   ]
  },
  {
   "cell_type": "code",
   "execution_count": 57,
   "metadata": {},
   "outputs": [],
   "source": [
    "# smoothing the data\n",
    "data_frame[\"abs_offensiveness\"]= data_frame[\"abs_offensiveness\"].apply(lambda x: np.log(x) if x > 0 else x)\n",
    "data_frame[\"counts\"]= data_frame[\"counts\"].apply(lambda x: np.log(x) if x > 0 else x)"
   ]
  },
  {
   "cell_type": "code",
   "execution_count": 58,
   "metadata": {},
   "outputs": [
    {
     "data": {
      "text/html": [
       "<div>\n",
       "<style scoped>\n",
       "    .dataframe tbody tr th:only-of-type {\n",
       "        vertical-align: middle;\n",
       "    }\n",
       "\n",
       "    .dataframe tbody tr th {\n",
       "        vertical-align: top;\n",
       "    }\n",
       "\n",
       "    .dataframe thead th {\n",
       "        text-align: right;\n",
       "    }\n",
       "</style>\n",
       "<table border=\"1\" class=\"dataframe\">\n",
       "  <thead>\n",
       "    <tr style=\"text-align: right;\">\n",
       "      <th></th>\n",
       "      <th>year</th>\n",
       "      <th>counts</th>\n",
       "      <th>abs_offensiveness</th>\n",
       "    </tr>\n",
       "  </thead>\n",
       "  <tbody>\n",
       "    <tr>\n",
       "      <th>count</th>\n",
       "      <td>86194.000000</td>\n",
       "      <td>86194.000000</td>\n",
       "      <td>86194.000000</td>\n",
       "    </tr>\n",
       "    <tr>\n",
       "      <th>mean</th>\n",
       "      <td>1999.662401</td>\n",
       "      <td>4.412470</td>\n",
       "      <td>0.166196</td>\n",
       "    </tr>\n",
       "    <tr>\n",
       "      <th>std</th>\n",
       "      <td>9.101687</td>\n",
       "      <td>1.913043</td>\n",
       "      <td>0.547155</td>\n",
       "    </tr>\n",
       "    <tr>\n",
       "      <th>min</th>\n",
       "      <td>1927.000000</td>\n",
       "      <td>0.693147</td>\n",
       "      <td>0.000000</td>\n",
       "    </tr>\n",
       "    <tr>\n",
       "      <th>25%</th>\n",
       "      <td>1996.000000</td>\n",
       "      <td>2.995732</td>\n",
       "      <td>0.000000</td>\n",
       "    </tr>\n",
       "    <tr>\n",
       "      <th>50%</th>\n",
       "      <td>2003.000000</td>\n",
       "      <td>4.317488</td>\n",
       "      <td>0.000000</td>\n",
       "    </tr>\n",
       "    <tr>\n",
       "      <th>75%</th>\n",
       "      <td>2006.000000</td>\n",
       "      <td>5.733341</td>\n",
       "      <td>0.000000</td>\n",
       "    </tr>\n",
       "    <tr>\n",
       "      <th>max</th>\n",
       "      <td>2010.000000</td>\n",
       "      <td>13.496524</td>\n",
       "      <td>5.049856</td>\n",
       "    </tr>\n",
       "  </tbody>\n",
       "</table>\n",
       "</div>"
      ],
      "text/plain": [
       "               year        counts  abs_offensiveness\n",
       "count  86194.000000  86194.000000       86194.000000\n",
       "mean    1999.662401      4.412470           0.166196\n",
       "std        9.101687      1.913043           0.547155\n",
       "min     1927.000000      0.693147           0.000000\n",
       "25%     1996.000000      2.995732           0.000000\n",
       "50%     2003.000000      4.317488           0.000000\n",
       "75%     2006.000000      5.733341           0.000000\n",
       "max     2010.000000     13.496524           5.049856"
      ]
     },
     "execution_count": 58,
     "metadata": {},
     "output_type": "execute_result"
    }
   ],
   "source": [
    "data_frame.describe()"
   ]
  },
  {
   "cell_type": "code",
   "execution_count": 59,
   "metadata": {},
   "outputs": [
    {
     "data": {
      "text/plain": [
       "(86194, 3)"
      ]
     },
     "execution_count": 59,
     "metadata": {},
     "output_type": "execute_result"
    }
   ],
   "source": [
    "data = data_frame.values\n",
    "data.shape"
   ]
  },
  {
   "cell_type": "code",
   "execution_count": 60,
   "metadata": {},
   "outputs": [],
   "source": [
    "np.random.shuffle(data)"
   ]
  },
  {
   "cell_type": "markdown",
   "metadata": {},
   "source": [
    "### Splitting into train, val, test"
   ]
  },
  {
   "cell_type": "code",
   "execution_count": 61,
   "metadata": {},
   "outputs": [],
   "source": [
    "num_samples = data.shape[0]\n",
    "X = data.copy()[:, :2].astype(np.float32)\n",
    "y = data.copy()[:, 2].astype(np.float32)"
   ]
  },
  {
   "cell_type": "code",
   "execution_count": 62,
   "metadata": {},
   "outputs": [],
   "source": [
    "X -= X.min(axis=0)\n",
    "y -= y.min()"
   ]
  },
  {
   "cell_type": "code",
   "execution_count": 63,
   "metadata": {},
   "outputs": [],
   "source": [
    "X /= X.max(axis=0)\n",
    "y /= y.max()"
   ]
  },
  {
   "cell_type": "code",
   "execution_count": 64,
   "metadata": {},
   "outputs": [],
   "source": [
    "train_split = int(num_samples*0.6)\n",
    "test_split =  int(train_split + num_samples * 0.2)\n",
    "\n",
    "X_train = X[:train_split]\n",
    "y_train = y[:train_split]\n",
    "\n",
    "X_test = X[train_split : test_split]\n",
    "y_test = y[train_split : test_split]\n",
    "\n",
    "X_val = X[test_split : ]\n",
    "y_val = y[test_split : ]"
   ]
  },
  {
   "cell_type": "markdown",
   "metadata": {},
   "source": [
    "### Setup and training of the model"
   ]
  },
  {
   "cell_type": "code",
   "execution_count": 65,
   "metadata": {},
   "outputs": [
    {
     "ename": "ImportError",
     "evalue": "No module named 'keras'",
     "output_type": "error",
     "traceback": [
      "\u001b[0;31m---------------------------------------------------------------------------\u001b[0m",
      "\u001b[0;31mImportError\u001b[0m                               Traceback (most recent call last)",
      "\u001b[0;32m<ipython-input-65-7d2fbb762488>\u001b[0m in \u001b[0;36m<module>\u001b[0;34m()\u001b[0m\n\u001b[0;32m----> 1\u001b[0;31m \u001b[0;32mimport\u001b[0m \u001b[0mkeras\u001b[0m\u001b[0;34m\u001b[0m\u001b[0m\n\u001b[0m\u001b[1;32m      2\u001b[0m \u001b[0;34m\u001b[0m\u001b[0m\n\u001b[1;32m      3\u001b[0m \u001b[0;32mfrom\u001b[0m \u001b[0mkeras\u001b[0m\u001b[0;34m.\u001b[0m\u001b[0mmodels\u001b[0m \u001b[0;32mimport\u001b[0m \u001b[0mSequential\u001b[0m\u001b[0;34m\u001b[0m\u001b[0m\n\u001b[1;32m      4\u001b[0m \u001b[0;32mfrom\u001b[0m \u001b[0mkeras\u001b[0m\u001b[0;34m.\u001b[0m\u001b[0mlayers\u001b[0m \u001b[0;32mimport\u001b[0m \u001b[0mInput\u001b[0m\u001b[0;34m,\u001b[0m \u001b[0mDense\u001b[0m\u001b[0;34m,\u001b[0m \u001b[0mActivation\u001b[0m\u001b[0;34m\u001b[0m\u001b[0m\n",
      "\u001b[0;31mImportError\u001b[0m: No module named 'keras'"
     ]
    }
   ],
   "source": [
    "import keras\n",
    "\n",
    "from keras.models import Sequential\n",
    "from keras.layers import Input, Dense, Activation"
   ]
  },
  {
   "cell_type": "code",
   "execution_count": 66,
   "metadata": {},
   "outputs": [
    {
     "ename": "NameError",
     "evalue": "name 'Sequential' is not defined",
     "output_type": "error",
     "traceback": [
      "\u001b[0;31m---------------------------------------------------------------------------\u001b[0m",
      "\u001b[0;31mNameError\u001b[0m                                 Traceback (most recent call last)",
      "\u001b[0;32m<ipython-input-66-f621e0fb2514>\u001b[0m in \u001b[0;36m<module>\u001b[0;34m()\u001b[0m\n\u001b[0;32m----> 1\u001b[0;31m \u001b[0mmodel\u001b[0m \u001b[0;34m=\u001b[0m \u001b[0mSequential\u001b[0m\u001b[0;34m(\u001b[0m\u001b[0;34m)\u001b[0m\u001b[0;34m\u001b[0m\u001b[0m\n\u001b[0m\u001b[1;32m      2\u001b[0m \u001b[0mmodel\u001b[0m\u001b[0;34m.\u001b[0m\u001b[0madd\u001b[0m\u001b[0;34m(\u001b[0m\u001b[0mActivation\u001b[0m\u001b[0;34m(\u001b[0m\u001b[0minput_shape\u001b[0m\u001b[0;34m=\u001b[0m\u001b[0;34m(\u001b[0m\u001b[0;36m2\u001b[0m\u001b[0;34m,\u001b[0m \u001b[0;34m)\u001b[0m\u001b[0;34m,\u001b[0m \u001b[0mactivation\u001b[0m\u001b[0;34m=\u001b[0m\u001b[0;34m\"relu\"\u001b[0m\u001b[0;34m)\u001b[0m\u001b[0;34m)\u001b[0m\u001b[0;34m\u001b[0m\u001b[0m\n\u001b[1;32m      3\u001b[0m \u001b[0mmodel\u001b[0m\u001b[0;34m.\u001b[0m\u001b[0madd\u001b[0m\u001b[0;34m(\u001b[0m\u001b[0mDense\u001b[0m\u001b[0;34m(\u001b[0m\u001b[0;36m10\u001b[0m\u001b[0;34m,\u001b[0m \u001b[0mactivation\u001b[0m\u001b[0;34m=\u001b[0m\u001b[0;34m\"relu\"\u001b[0m\u001b[0;34m)\u001b[0m\u001b[0;34m)\u001b[0m\u001b[0;34m\u001b[0m\u001b[0m\n\u001b[1;32m      4\u001b[0m \u001b[0mmodel\u001b[0m\u001b[0;34m.\u001b[0m\u001b[0madd\u001b[0m\u001b[0;34m(\u001b[0m\u001b[0mDense\u001b[0m\u001b[0;34m(\u001b[0m\u001b[0;36m10\u001b[0m\u001b[0;34m,\u001b[0m \u001b[0mactivation\u001b[0m\u001b[0;34m=\u001b[0m\u001b[0;34m\"relu\"\u001b[0m\u001b[0;34m)\u001b[0m\u001b[0;34m)\u001b[0m\u001b[0;34m\u001b[0m\u001b[0m\n\u001b[1;32m      5\u001b[0m \u001b[0mmodel\u001b[0m\u001b[0;34m.\u001b[0m\u001b[0madd\u001b[0m\u001b[0;34m(\u001b[0m\u001b[0mDense\u001b[0m\u001b[0;34m(\u001b[0m\u001b[0;36m1\u001b[0m\u001b[0;34m,\u001b[0m \u001b[0mactivation\u001b[0m\u001b[0;34m=\u001b[0m\u001b[0;34m\"sigmoid\"\u001b[0m\u001b[0;34m)\u001b[0m\u001b[0;34m)\u001b[0m\u001b[0;34m\u001b[0m\u001b[0m\n",
      "\u001b[0;31mNameError\u001b[0m: name 'Sequential' is not defined"
     ]
    }
   ],
   "source": [
    "model = Sequential()\n",
    "model.add(Activation(input_shape=(2, ), activation=\"relu\"))\n",
    "model.add(Dense(10, activation=\"relu\"))\n",
    "model.add(Dense(10, activation=\"relu\"))\n",
    "model.add(Dense(1, activation=\"sigmoid\"))\n",
    "\n",
    "model.compile(loss=\"mean_squared_error\", optimizer=\"adam\")"
   ]
  },
  {
   "cell_type": "code",
   "execution_count": 67,
   "metadata": {},
   "outputs": [
    {
     "ename": "NameError",
     "evalue": "name 'model' is not defined",
     "output_type": "error",
     "traceback": [
      "\u001b[0;31m---------------------------------------------------------------------------\u001b[0m",
      "\u001b[0;31mNameError\u001b[0m                                 Traceback (most recent call last)",
      "\u001b[0;32m<ipython-input-67-cd31eb09b753>\u001b[0m in \u001b[0;36m<module>\u001b[0;34m()\u001b[0m\n\u001b[1;32m      1\u001b[0m \u001b[0;31m# the training is very fast\u001b[0m\u001b[0;34m\u001b[0m\u001b[0;34m\u001b[0m\u001b[0m\n\u001b[1;32m      2\u001b[0m \u001b[0;31m# this is not surprising, we only have 80000 data points and they are only 2 values, each\u001b[0m\u001b[0;34m\u001b[0m\u001b[0;34m\u001b[0m\u001b[0m\n\u001b[0;32m----> 3\u001b[0;31m \u001b[0mhistory\u001b[0m \u001b[0;34m=\u001b[0m \u001b[0mmodel\u001b[0m\u001b[0;34m.\u001b[0m\u001b[0mfit\u001b[0m\u001b[0;34m(\u001b[0m\u001b[0mX_train\u001b[0m\u001b[0;34m,\u001b[0m \u001b[0my_train\u001b[0m\u001b[0;34m,\u001b[0m \u001b[0mverbose\u001b[0m\u001b[0;34m=\u001b[0m\u001b[0;36m2\u001b[0m\u001b[0;34m,\u001b[0m \u001b[0mepochs\u001b[0m \u001b[0;34m=\u001b[0m \u001b[0;36m5\u001b[0m\u001b[0;34m)\u001b[0m\u001b[0;34m\u001b[0m\u001b[0m\n\u001b[0m",
      "\u001b[0;31mNameError\u001b[0m: name 'model' is not defined"
     ]
    }
   ],
   "source": [
    "# the training is very fast\n",
    "# this is not surprising, we only have 80000 data points and they are only 2 values, each\n",
    "history = model.fit(X_train, y_train, verbose=2, epochs = 5)"
   ]
  },
  {
   "cell_type": "code",
   "execution_count": 422,
   "metadata": {},
   "outputs": [
    {
     "name": "stdout",
     "output_type": "stream",
     "text": [
      "16832/17238 [============================>.] - ETA: 0s"
     ]
    },
    {
     "data": {
      "text/plain": [
       "0.01145130886521987"
      ]
     },
     "execution_count": 422,
     "metadata": {},
     "output_type": "execute_result"
    }
   ],
   "source": [
    "# checking scores on test set,\n",
    "# we get similar results, so there doesn't seem to be any overfitting\n",
    "model.evaluate(X_test, y_test)"
   ]
  },
  {
   "cell_type": "markdown",
   "metadata": {},
   "source": [
    "### Let's feed the model with some sample data\n",
    "\n",
    "We want to see how offensiveness evolves over time.\n",
    "We have seen above that popularity seems to have little influence on it.\n",
    "\n",
    "So we plot a series of curves. They are the predicted offensiveness of a song with given popularity, over time."
   ]
  },
  {
   "cell_type": "code",
   "execution_count": 429,
   "metadata": {},
   "outputs": [],
   "source": [
    "predictions = []\n",
    "\n",
    "for i in range(10):\n",
    "    feed = np.zeros((50, 2))\n",
    "    feed[:, 0] = np.linspace(0, 1, 50)\n",
    "    popularity = i/10\n",
    "    feed[:, 1] = popularity\n",
    "\n",
    "    predictions.append((model.predict(feed), popularity))"
   ]
  },
  {
   "cell_type": "code",
   "execution_count": 433,
   "metadata": {},
   "outputs": [
    {
     "data": {
      "image/png": "[encoded data removed]",
      "text/plain": [
       "<matplotlib.figure.Figure at 0x7f84326063c8>"
      ]
     },
     "metadata": {},
     "output_type": "display_data"
    }
   ],
   "source": [
    "plt.figure()\n",
    "\n",
    "for prediction, popularity in predictions:\n",
    "    plt.plot(prediction, label=popularity)\n",
    "    \n",
    "plt.legend()\n",
    "plt.show()"
   ]
  },
  {
   "cell_type": "code",
   "execution_count": null,
   "metadata": {
    "collapsed": true
   },
   "outputs": [],
   "source": []
  }
 ],
 "metadata": {
  "kernelspec": {
   "display_name": "Python 3",
   "language": "python",
   "name": "python3"
  },
  "language_info": {
   "codemirror_mode": {
    "name": "ipython",
    "version": 3
   },
   "file_extension": ".py",
   "mimetype": "text/x-python",
   "name": "python",
   "nbconvert_exporter": "python",
   "pygments_lexer": "ipython3",
   "version": "3.5.4"
  }
 },
 "nbformat": 4,
 "nbformat_minor": 2
}
