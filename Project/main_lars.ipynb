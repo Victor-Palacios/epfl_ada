{
 "cells": [
  {
   "cell_type": "markdown",
   "metadata": {},
   "source": [
    "# WIP: sandbox for experiments"
   ]
  },
  {
   "cell_type": "code",
   "execution_count": 160,
   "metadata": {
    "collapsed": true
   },
   "outputs": [],
   "source": [
    "import pandas as pd\n",
    "import numpy as np\n",
    "import sqlite3\n",
    "import matplotlib.pyplot as plt\n",
    "%matplotlib inline\n",
    "\n",
    "import seaborn as sns\n",
    "\n",
    "# This variable should be set to false, unless you are running this notebook without the\n",
    "# generated datasets\n",
    "first_time = False"
   ]
  },
  {
   "cell_type": "markdown",
   "metadata": {},
   "source": [
    "I'm having problems with the pattern\n",
    "\n",
    "`frame[\"col\"] = new_value`\n",
    "\n",
    "It always throws warnings, according to SO, it seems to be a viable option to switch the warnings off.\n",
    "https://stackoverflow.com/questions/20625582/how-to-deal-with-settingwithcopywarning-in-pandas"
   ]
  },
  {
   "cell_type": "code",
   "execution_count": 161,
   "metadata": {
    "collapsed": true
   },
   "outputs": [],
   "source": [
    "pd.options.mode.chained_assignment = None  # default='warn'"
   ]
  },
  {
   "cell_type": "markdown",
   "metadata": {},
   "source": [
    "Remember, we have computed the song word count at three levels of \"swear word categories\":"
   ]
  },
  {
   "cell_type": "code",
   "execution_count": 162,
   "metadata": {},
   "outputs": [
    {
     "data": {
      "text/plain": [
       "('TRAAAAV128F421A322', 'non-discriminatory', 'mild', nan)      1\n",
       "('TRAAAAV128F421A322', nan, nan, nan)                        102\n",
       "('TRAAABD128F429CF47', nan, nan, nan)                        226\n",
       "('TRAAAED128E0783FAB', nan, nan, nan)                        421\n",
       "('TRAAAEF128F4273421', nan, nan, nan)                        139\n",
       "Name: count, dtype: int64"
      ]
     },
     "execution_count": 162,
     "metadata": {},
     "output_type": "execute_result"
    }
   ],
   "source": [
    "offensiveness_rating = pd.read_pickle(\"../pickles/offensiveness_rating_structured\")\n",
    "offensiveness_rating.head()"
   ]
  },
  {
   "cell_type": "markdown",
   "metadata": {},
   "source": [
    "Now, the problem is that we have tuples as index but we would like to have all these categories in different columns. So we do some processing to take care of that:"
   ]
  },
  {
   "cell_type": "code",
   "execution_count": 163,
   "metadata": {
    "collapsed": true
   },
   "outputs": [],
   "source": [
    "def process_tuple(t):\n",
    "    \n",
    "    def process_tuple_elem(elem):\n",
    "        if elem == \"nan\":\n",
    "            return np.nan\n",
    "        else:\n",
    "            return elem[1:-1]\n",
    "    return list(map(process_tuple_elem, t[1:-1].replace(\" \", \"\").split(\",\")))\n",
    "index_offensiveness = list(map(process_tuple, offensiveness_rating.index.tolist()))"
   ]
  },
  {
   "cell_type": "code",
   "execution_count": 164,
   "metadata": {
    "collapsed": true
   },
   "outputs": [],
   "source": [
    "value_offensiveness = list(offensiveness_rating.values)"
   ]
  },
  {
   "cell_type": "code",
   "execution_count": 165,
   "metadata": {
    "collapsed": true
   },
   "outputs": [],
   "source": [
    "data_non_flat = list(zip(index_offensiveness, value_offensiveness))"
   ]
  },
  {
   "cell_type": "code",
   "execution_count": 166,
   "metadata": {},
   "outputs": [
    {
     "data": {
      "text/html": [
       "<div>\n",
       "<style>\n",
       "    .dataframe thead tr:only-child th {\n",
       "        text-align: right;\n",
       "    }\n",
       "\n",
       "    .dataframe thead th {\n",
       "        text-align: left;\n",
       "    }\n",
       "\n",
       "    .dataframe tbody tr th {\n",
       "        vertical-align: top;\n",
       "    }\n",
       "</style>\n",
       "<table border=\"1\" class=\"dataframe\">\n",
       "  <thead>\n",
       "    <tr style=\"text-align: right;\">\n",
       "      <th></th>\n",
       "      <th></th>\n",
       "      <th></th>\n",
       "      <th></th>\n",
       "      <th>value</th>\n",
       "    </tr>\n",
       "    <tr>\n",
       "      <th>track_id</th>\n",
       "      <th>category</th>\n",
       "      <th>strength</th>\n",
       "      <th>target</th>\n",
       "      <th></th>\n",
       "    </tr>\n",
       "  </thead>\n",
       "  <tbody>\n",
       "    <tr>\n",
       "      <th rowspan=\"2\" valign=\"top\">TRAAAAV128F421A322</th>\n",
       "      <th>non-discriminatory</th>\n",
       "      <th>mild</th>\n",
       "      <th>NaN</th>\n",
       "      <td>1</td>\n",
       "    </tr>\n",
       "    <tr>\n",
       "      <th>NaN</th>\n",
       "      <th>NaN</th>\n",
       "      <th>NaN</th>\n",
       "      <td>102</td>\n",
       "    </tr>\n",
       "    <tr>\n",
       "      <th>TRAAABD128F429CF47</th>\n",
       "      <th>NaN</th>\n",
       "      <th>NaN</th>\n",
       "      <th>NaN</th>\n",
       "      <td>226</td>\n",
       "    </tr>\n",
       "    <tr>\n",
       "      <th>TRAAAED128E0783FAB</th>\n",
       "      <th>NaN</th>\n",
       "      <th>NaN</th>\n",
       "      <th>NaN</th>\n",
       "      <td>421</td>\n",
       "    </tr>\n",
       "    <tr>\n",
       "      <th>TRAAAEF128F4273421</th>\n",
       "      <th>NaN</th>\n",
       "      <th>NaN</th>\n",
       "      <th>NaN</th>\n",
       "      <td>139</td>\n",
       "    </tr>\n",
       "  </tbody>\n",
       "</table>\n",
       "</div>"
      ],
      "text/plain": [
       "                                                       value\n",
       "track_id           category           strength target       \n",
       "TRAAAAV128F421A322 non-discriminatory mild     NaN         1\n",
       "                   NaN                NaN      NaN       102\n",
       "TRAAABD128F429CF47 NaN                NaN      NaN       226\n",
       "TRAAAED128E0783FAB NaN                NaN      NaN       421\n",
       "TRAAAEF128F4273421 NaN                NaN      NaN       139"
      ]
     },
     "execution_count": 166,
     "metadata": {},
     "output_type": "execute_result"
    }
   ],
   "source": [
    "columns = [\"track_id\", \"category\", \"strength\", \"target\", \"value\"]\n",
    "track_off = pd.DataFrame.from_records([elem[0] + [elem[1]] for elem in data_non_flat], columns=columns)\n",
    "track_off = track_off.set_index([\"track_id\", \"category\", \"strength\", \"target\"])\n",
    "track_off.head()"
   ]
  },
  {
   "cell_type": "markdown",
   "metadata": {},
   "source": [
    "That's it, we have our multi-index structure. Now, we have the choice: absolute or relative count of swear words in a song ? This choice is rather difficult. But, in some way, even if a song is longer than another one, we can (for now) consider that simply having more swear words is equivalent to being more vulgar. So let's simply count the number of swear words per song:"
   ]
  },
  {
   "cell_type": "code",
   "execution_count": 167,
   "metadata": {},
   "outputs": [
    {
     "name": "stdout",
     "output_type": "stream",
     "text": [
      "CPU times: user 88 ms, sys: 12 ms, total: 100 ms\n",
      "Wall time: 106 ms\n"
     ]
    }
   ],
   "source": [
    "%%time \n",
    "if first_time:\n",
    "    track_offensiveness = track_off.groupby(by=\"track_id\").apply(lambda frame: frame.reset_index().dropna(thresh = 3).value.sum())\n",
    "    track_offensiveness = track_offensiveness.fillna(0)\n",
    "    track_offensiveness.to_csv(\"../datasets/track_offensiveness.csv\")\n",
    "else:\n",
    "    track_offensiveness = pd.read_csv(\"../datasets/track_offensiveness.csv\", header=None)"
   ]
  },
  {
   "cell_type": "markdown",
   "metadata": {},
   "source": [
    "And here is our frame relating a song with its offensiveness (so, for example, the song with track ID 'TRAAAAV128F421A322' contains one swear word)"
   ]
  },
  {
   "cell_type": "code",
   "execution_count": 168,
   "metadata": {},
   "outputs": [
    {
     "data": {
      "text/html": [
       "<div>\n",
       "<style>\n",
       "    .dataframe thead tr:only-child th {\n",
       "        text-align: right;\n",
       "    }\n",
       "\n",
       "    .dataframe thead th {\n",
       "        text-align: left;\n",
       "    }\n",
       "\n",
       "    .dataframe tbody tr th {\n",
       "        vertical-align: top;\n",
       "    }\n",
       "</style>\n",
       "<table border=\"1\" class=\"dataframe\">\n",
       "  <thead>\n",
       "    <tr style=\"text-align: right;\">\n",
       "      <th></th>\n",
       "      <th>track_id</th>\n",
       "      <th>offensiveness</th>\n",
       "    </tr>\n",
       "  </thead>\n",
       "  <tbody>\n",
       "    <tr>\n",
       "      <th>0</th>\n",
       "      <td>TRAAAAV128F421A322</td>\n",
       "      <td>1</td>\n",
       "    </tr>\n",
       "    <tr>\n",
       "      <th>1</th>\n",
       "      <td>TRAAABD128F429CF47</td>\n",
       "      <td>0</td>\n",
       "    </tr>\n",
       "    <tr>\n",
       "      <th>2</th>\n",
       "      <td>TRAAAED128E0783FAB</td>\n",
       "      <td>0</td>\n",
       "    </tr>\n",
       "    <tr>\n",
       "      <th>3</th>\n",
       "      <td>TRAAAEF128F4273421</td>\n",
       "      <td>0</td>\n",
       "    </tr>\n",
       "    <tr>\n",
       "      <th>4</th>\n",
       "      <td>TRAAAEW128F42930C0</td>\n",
       "      <td>0</td>\n",
       "    </tr>\n",
       "  </tbody>\n",
       "</table>\n",
       "</div>"
      ],
      "text/plain": [
       "             track_id  offensiveness\n",
       "0  TRAAAAV128F421A322              1\n",
       "1  TRAAABD128F429CF47              0\n",
       "2  TRAAAED128E0783FAB              0\n",
       "3  TRAAAEF128F4273421              0\n",
       "4  TRAAAEW128F42930C0              0"
      ]
     },
     "execution_count": 168,
     "metadata": {},
     "output_type": "execute_result"
    }
   ],
   "source": [
    "track_offensiveness.columns=[\"track_id\", \"offensiveness\"]\n",
    "track_offensiveness.head()"
   ]
  },
  {
   "cell_type": "markdown",
   "metadata": {},
   "source": [
    "We take only the columns we are interested in:"
   ]
  },
  {
   "cell_type": "code",
   "execution_count": 169,
   "metadata": {},
   "outputs": [
    {
     "data": {
      "text/html": [
       "<div>\n",
       "<style>\n",
       "    .dataframe thead tr:only-child th {\n",
       "        text-align: right;\n",
       "    }\n",
       "\n",
       "    .dataframe thead th {\n",
       "        text-align: left;\n",
       "    }\n",
       "\n",
       "    .dataframe tbody tr th {\n",
       "        vertical-align: top;\n",
       "    }\n",
       "</style>\n",
       "<table border=\"1\" class=\"dataframe\">\n",
       "  <thead>\n",
       "    <tr style=\"text-align: right;\">\n",
       "      <th></th>\n",
       "      <th>track_id</th>\n",
       "      <th>genre</th>\n",
       "      <th>song_hotness</th>\n",
       "      <th>song_id</th>\n",
       "      <th>title</th>\n",
       "      <th>year</th>\n",
       "    </tr>\n",
       "  </thead>\n",
       "  <tbody>\n",
       "    <tr>\n",
       "      <th>0</th>\n",
       "      <td>TRBEEBA128F9354588</td>\n",
       "      <td>NaN</td>\n",
       "      <td>NaN</td>\n",
       "      <td>SOKZDUY12AC9E12A16</td>\n",
       "      <td>(Sweat_ Sweat)</td>\n",
       "      <td>2007</td>\n",
       "    </tr>\n",
       "    <tr>\n",
       "      <th>1</th>\n",
       "      <td>TRBEEYF128EF34152F</td>\n",
       "      <td>NaN</td>\n",
       "      <td>NaN</td>\n",
       "      <td>SOEEDAK12A67AE2142</td>\n",
       "      <td>Heavenly (Instrumental Dub)</td>\n",
       "      <td>0</td>\n",
       "    </tr>\n",
       "    <tr>\n",
       "      <th>2</th>\n",
       "      <td>TRBEEME128F42274E2</td>\n",
       "      <td>NaN</td>\n",
       "      <td>NaN</td>\n",
       "      <td>SOLVIJZ12A6D4FC406</td>\n",
       "      <td>In The Right Way</td>\n",
       "      <td>2000</td>\n",
       "    </tr>\n",
       "    <tr>\n",
       "      <th>3</th>\n",
       "      <td>TRBEENM12903CDA90A</td>\n",
       "      <td>NaN</td>\n",
       "      <td>0.51876</td>\n",
       "      <td>SOKLANA12A8C14016F</td>\n",
       "      <td>Hacha Y Machete</td>\n",
       "      <td>1976</td>\n",
       "    </tr>\n",
       "    <tr>\n",
       "      <th>4</th>\n",
       "      <td>TRBEETN128F4290E24</td>\n",
       "      <td>NaN</td>\n",
       "      <td>NaN</td>\n",
       "      <td>SOLODJD12A8C139CE3</td>\n",
       "      <td>Bus Stop</td>\n",
       "      <td>1968</td>\n",
       "    </tr>\n",
       "  </tbody>\n",
       "</table>\n",
       "</div>"
      ],
      "text/plain": [
       "             track_id  genre  song_hotness             song_id  \\\n",
       "0  TRBEEBA128F9354588    NaN           NaN  SOKZDUY12AC9E12A16   \n",
       "1  TRBEEYF128EF34152F    NaN           NaN  SOEEDAK12A67AE2142   \n",
       "2  TRBEEME128F42274E2    NaN           NaN  SOLVIJZ12A6D4FC406   \n",
       "3  TRBEENM12903CDA90A    NaN       0.51876  SOKLANA12A8C14016F   \n",
       "4  TRBEETN128F4290E24    NaN           NaN  SOLODJD12A8C139CE3   \n",
       "\n",
       "                         title  year  \n",
       "0               (Sweat_ Sweat)  2007  \n",
       "1  Heavenly (Instrumental Dub)     0  \n",
       "2             In The Right Way  2000  \n",
       "3              Hacha Y Machete  1976  \n",
       "4                     Bus Stop  1968  "
      ]
     },
     "execution_count": 169,
     "metadata": {},
     "output_type": "execute_result"
    }
   ],
   "source": [
    "song_info = pd.read_csv(\"../datasets/total.csv\")[[\"track_id\", \"genre\", \"song_hotness\",\n",
    "                                                            \"song_id\", \"title\", \"year\"]]\n",
    "song_info.head()"
   ]
  },
  {
   "cell_type": "markdown",
   "metadata": {},
   "source": [
    "### English songs\n",
    "We now want to do our analysis for english songs only so we read the corresponding track IDs. The process of \"detecting\" which songs are in english is described in [this notebook](handling_languages.ipynb)."
   ]
  },
  {
   "cell_type": "code",
   "execution_count": 170,
   "metadata": {},
   "outputs": [
    {
     "name": "stdout",
     "output_type": "stream",
     "text": [
      "We have 202115 english songs.\n"
     ]
    },
    {
     "data": {
      "text/html": [
       "<div>\n",
       "<style>\n",
       "    .dataframe thead tr:only-child th {\n",
       "        text-align: right;\n",
       "    }\n",
       "\n",
       "    .dataframe thead th {\n",
       "        text-align: left;\n",
       "    }\n",
       "\n",
       "    .dataframe tbody tr th {\n",
       "        vertical-align: top;\n",
       "    }\n",
       "</style>\n",
       "<table border=\"1\" class=\"dataframe\">\n",
       "  <thead>\n",
       "    <tr style=\"text-align: right;\">\n",
       "      <th></th>\n",
       "      <th>track_id</th>\n",
       "    </tr>\n",
       "  </thead>\n",
       "  <tbody>\n",
       "    <tr>\n",
       "      <th>0</th>\n",
       "      <td>TRAAAAV128F421A322</td>\n",
       "    </tr>\n",
       "    <tr>\n",
       "      <th>1</th>\n",
       "      <td>TRAAABD128F429CF47</td>\n",
       "    </tr>\n",
       "    <tr>\n",
       "      <th>2</th>\n",
       "      <td>TRAAAED128E0783FAB</td>\n",
       "    </tr>\n",
       "    <tr>\n",
       "      <th>3</th>\n",
       "      <td>TRAAAEF128F4273421</td>\n",
       "    </tr>\n",
       "    <tr>\n",
       "      <th>4</th>\n",
       "      <td>TRAAAEW128F42930C0</td>\n",
       "    </tr>\n",
       "  </tbody>\n",
       "</table>\n",
       "</div>"
      ],
      "text/plain": [
       "             track_id\n",
       "0  TRAAAAV128F421A322\n",
       "1  TRAAABD128F429CF47\n",
       "2  TRAAAED128E0783FAB\n",
       "3  TRAAAEF128F4273421\n",
       "4  TRAAAEW128F42930C0"
      ]
     },
     "execution_count": 170,
     "metadata": {},
     "output_type": "execute_result"
    }
   ],
   "source": [
    "english_songs = pd.read_csv(\"../datasets/tracks_english.csv\", header=-1)[1]\n",
    "print(\"We have {} english songs.\".format(english_songs.shape[0]))\n",
    "english_songs = english_songs.to_frame()\n",
    "english_songs.columns = [\"track_id\"]\n",
    "english_songs.head()"
   ]
  },
  {
   "cell_type": "code",
   "execution_count": 171,
   "metadata": {},
   "outputs": [
    {
     "data": {
      "text/plain": [
       "Index(['track_id'], dtype='object')"
      ]
     },
     "execution_count": 171,
     "metadata": {},
     "output_type": "execute_result"
    }
   ],
   "source": [
    "english_songs.columns"
   ]
  },
  {
   "cell_type": "code",
   "execution_count": 172,
   "metadata": {},
   "outputs": [
    {
     "data": {
      "text/plain": [
       "Index(['track_id', 'offensiveness'], dtype='object')"
      ]
     },
     "execution_count": 172,
     "metadata": {},
     "output_type": "execute_result"
    }
   ],
   "source": [
    "track_offensiveness.columns"
   ]
  },
  {
   "cell_type": "code",
   "execution_count": 173,
   "metadata": {},
   "outputs": [
    {
     "name": "stdout",
     "output_type": "stream",
     "text": [
      "We have 202115 songs.\n"
     ]
    },
    {
     "data": {
      "text/html": [
       "<div>\n",
       "<style>\n",
       "    .dataframe thead tr:only-child th {\n",
       "        text-align: right;\n",
       "    }\n",
       "\n",
       "    .dataframe thead th {\n",
       "        text-align: left;\n",
       "    }\n",
       "\n",
       "    .dataframe tbody tr th {\n",
       "        vertical-align: top;\n",
       "    }\n",
       "</style>\n",
       "<table border=\"1\" class=\"dataframe\">\n",
       "  <thead>\n",
       "    <tr style=\"text-align: right;\">\n",
       "      <th></th>\n",
       "      <th>track_id</th>\n",
       "      <th>abs_offensiveness</th>\n",
       "    </tr>\n",
       "  </thead>\n",
       "  <tbody>\n",
       "    <tr>\n",
       "      <th>0</th>\n",
       "      <td>TRAAAAV128F421A322</td>\n",
       "      <td>1</td>\n",
       "    </tr>\n",
       "    <tr>\n",
       "      <th>1</th>\n",
       "      <td>TRAAABD128F429CF47</td>\n",
       "      <td>0</td>\n",
       "    </tr>\n",
       "    <tr>\n",
       "      <th>2</th>\n",
       "      <td>TRAAAED128E0783FAB</td>\n",
       "      <td>0</td>\n",
       "    </tr>\n",
       "    <tr>\n",
       "      <th>3</th>\n",
       "      <td>TRAAAEF128F4273421</td>\n",
       "      <td>0</td>\n",
       "    </tr>\n",
       "    <tr>\n",
       "      <th>4</th>\n",
       "      <td>TRAAAEW128F42930C0</td>\n",
       "      <td>0</td>\n",
       "    </tr>\n",
       "  </tbody>\n",
       "</table>\n",
       "</div>"
      ],
      "text/plain": [
       "             track_id  abs_offensiveness\n",
       "0  TRAAAAV128F421A322                  1\n",
       "1  TRAAABD128F429CF47                  0\n",
       "2  TRAAAED128E0783FAB                  0\n",
       "3  TRAAAEF128F4273421                  0\n",
       "4  TRAAAEW128F42930C0                  0"
      ]
     },
     "execution_count": 173,
     "metadata": {},
     "output_type": "execute_result"
    }
   ],
   "source": [
    "english_track_offensiveness = english_songs.merge(track_offensiveness, on=\"track_id\")\n",
    "print(\"We have {} songs.\".format(english_track_offensiveness.shape[0]))\n",
    "english_track_offensiveness.columns = [\"track_id\", \"abs_offensiveness\"]\n",
    "english_track_offensiveness.head()"
   ]
  },
  {
   "cell_type": "code",
   "execution_count": 174,
   "metadata": {},
   "outputs": [
    {
     "data": {
      "text/html": [
       "<div>\n",
       "<style>\n",
       "    .dataframe thead tr:only-child th {\n",
       "        text-align: right;\n",
       "    }\n",
       "\n",
       "    .dataframe thead th {\n",
       "        text-align: left;\n",
       "    }\n",
       "\n",
       "    .dataframe tbody tr th {\n",
       "        vertical-align: top;\n",
       "    }\n",
       "</style>\n",
       "<table border=\"1\" class=\"dataframe\">\n",
       "  <thead>\n",
       "    <tr style=\"text-align: right;\">\n",
       "      <th></th>\n",
       "      <th>track_id</th>\n",
       "      <th>genre</th>\n",
       "      <th>song_hotness</th>\n",
       "      <th>song_id</th>\n",
       "      <th>title</th>\n",
       "      <th>year</th>\n",
       "      <th>index</th>\n",
       "      <th>abs_offensiveness</th>\n",
       "    </tr>\n",
       "  </thead>\n",
       "  <tbody>\n",
       "    <tr>\n",
       "      <th>0</th>\n",
       "      <td>TRBEEGF128F42AB67E</td>\n",
       "      <td>NaN</td>\n",
       "      <td>0.000000</td>\n",
       "      <td>SOMYKOX12A8C13D59F</td>\n",
       "      <td>Collision Course</td>\n",
       "      <td>0</td>\n",
       "      <td>9341</td>\n",
       "      <td>0</td>\n",
       "    </tr>\n",
       "    <tr>\n",
       "      <th>1</th>\n",
       "      <td>TRBEEPA128F4291036</td>\n",
       "      <td>NaN</td>\n",
       "      <td>NaN</td>\n",
       "      <td>SOTOLDX12A58A79206</td>\n",
       "      <td>Fermented Offal Discharge</td>\n",
       "      <td>1995</td>\n",
       "      <td>9345</td>\n",
       "      <td>1</td>\n",
       "    </tr>\n",
       "    <tr>\n",
       "      <th>2</th>\n",
       "      <td>TRBEEEA128F92E7EED</td>\n",
       "      <td>NaN</td>\n",
       "      <td>NaN</td>\n",
       "      <td>SOGLPMS12D02193D69</td>\n",
       "      <td>Fake Messiah (Album Version)</td>\n",
       "      <td>2009</td>\n",
       "      <td>9339</td>\n",
       "      <td>0</td>\n",
       "    </tr>\n",
       "    <tr>\n",
       "      <th>3</th>\n",
       "      <td>TRBEERY128F4231A2E</td>\n",
       "      <td>NaN</td>\n",
       "      <td>0.528782</td>\n",
       "      <td>SOVSBWN12A813557F9</td>\n",
       "      <td>Eyes Of A Stranger (Album Version)</td>\n",
       "      <td>0</td>\n",
       "      <td>9346</td>\n",
       "      <td>0</td>\n",
       "    </tr>\n",
       "    <tr>\n",
       "      <th>4</th>\n",
       "      <td>TRBEEXV128F93116C9</td>\n",
       "      <td>NaN</td>\n",
       "      <td>0.227736</td>\n",
       "      <td>SOJHHMQ12AB017C6A6</td>\n",
       "      <td>Don't Ya Ever Leave Me (Live)</td>\n",
       "      <td>0</td>\n",
       "      <td>9348</td>\n",
       "      <td>0</td>\n",
       "    </tr>\n",
       "  </tbody>\n",
       "</table>\n",
       "</div>"
      ],
      "text/plain": [
       "             track_id  genre  song_hotness             song_id  \\\n",
       "0  TRBEEGF128F42AB67E    NaN      0.000000  SOMYKOX12A8C13D59F   \n",
       "1  TRBEEPA128F4291036    NaN           NaN  SOTOLDX12A58A79206   \n",
       "2  TRBEEEA128F92E7EED    NaN           NaN  SOGLPMS12D02193D69   \n",
       "3  TRBEERY128F4231A2E    NaN      0.528782  SOVSBWN12A813557F9   \n",
       "4  TRBEEXV128F93116C9    NaN      0.227736  SOJHHMQ12AB017C6A6   \n",
       "\n",
       "                                title  year  index  abs_offensiveness  \n",
       "0                    Collision Course     0   9341                  0  \n",
       "1           Fermented Offal Discharge  1995   9345                  1  \n",
       "2        Fake Messiah (Album Version)  2009   9339                  0  \n",
       "3  Eyes Of A Stranger (Album Version)     0   9346                  0  \n",
       "4       Don't Ya Ever Leave Me (Live)     0   9348                  0  "
      ]
     },
     "execution_count": 174,
     "metadata": {},
     "output_type": "execute_result"
    }
   ],
   "source": [
    "song_info_offensiveness = song_info.merge(english_track_offensiveness.reset_index(), on=\"track_id\")\n",
    "song_info_offensiveness = song_info_offensiveness.rename(columns={0: \"abs_offensiveness\"})\n",
    "song_info_offensiveness.head()"
   ]
  },
  {
   "cell_type": "markdown",
   "metadata": {},
   "source": [
    "That's good, we have more than 200000 english songs with absolute offensiveness value. The two other values we will be the most focused on are the song hotness and the year. So we need to keep those where the year is not 0 and the song hotness is not nan. For now, let's proceed by keeping only datapoints with positive hotness value."
   ]
  },
  {
   "cell_type": "markdown",
   "metadata": {},
   "source": [
    "### Combine with play counts"
   ]
  },
  {
   "cell_type": "code",
   "execution_count": 175,
   "metadata": {},
   "outputs": [
    {
     "data": {
      "text/html": [
       "<div>\n",
       "<style>\n",
       "    .dataframe thead tr:only-child th {\n",
       "        text-align: right;\n",
       "    }\n",
       "\n",
       "    .dataframe thead th {\n",
       "        text-align: left;\n",
       "    }\n",
       "\n",
       "    .dataframe tbody tr th {\n",
       "        vertical-align: top;\n",
       "    }\n",
       "</style>\n",
       "<table border=\"1\" class=\"dataframe\">\n",
       "  <thead>\n",
       "    <tr style=\"text-align: right;\">\n",
       "      <th></th>\n",
       "      <th>songs</th>\n",
       "      <th>counts</th>\n",
       "    </tr>\n",
       "  </thead>\n",
       "  <tbody>\n",
       "    <tr>\n",
       "      <th>0</th>\n",
       "      <td>SOAAADD12AB018A9DD</td>\n",
       "      <td>24</td>\n",
       "    </tr>\n",
       "    <tr>\n",
       "      <th>1</th>\n",
       "      <td>SOAAADE12A6D4F80CC</td>\n",
       "      <td>12</td>\n",
       "    </tr>\n",
       "    <tr>\n",
       "      <th>2</th>\n",
       "      <td>SOAAADF12A8C13DF62</td>\n",
       "      <td>9</td>\n",
       "    </tr>\n",
       "    <tr>\n",
       "      <th>3</th>\n",
       "      <td>SOAAADZ12A8C1334FB</td>\n",
       "      <td>12</td>\n",
       "    </tr>\n",
       "    <tr>\n",
       "      <th>4</th>\n",
       "      <td>SOAAAFI12A6D4F9C66</td>\n",
       "      <td>188</td>\n",
       "    </tr>\n",
       "  </tbody>\n",
       "</table>\n",
       "</div>"
      ],
      "text/plain": [
       "                songs  counts\n",
       "0  SOAAADD12AB018A9DD      24\n",
       "1  SOAAADE12A6D4F80CC      12\n",
       "2  SOAAADF12A8C13DF62       9\n",
       "3  SOAAADZ12A8C1334FB      12\n",
       "4  SOAAAFI12A6D4F9C66     188"
      ]
     },
     "execution_count": 175,
     "metadata": {},
     "output_type": "execute_result"
    }
   ],
   "source": [
    "songs_counts=pd.read_csv(\"../datasets/songs-counts.csv\")\n",
    "songs_counts.head()"
   ]
  },
  {
   "cell_type": "code",
   "execution_count": 176,
   "metadata": {
    "collapsed": true
   },
   "outputs": [],
   "source": [
    "songs_counts.columns=[\"song_id\", \"counts\"]"
   ]
  },
  {
   "cell_type": "code",
   "execution_count": 177,
   "metadata": {},
   "outputs": [
    {
     "data": {
      "text/html": [
       "<div>\n",
       "<style>\n",
       "    .dataframe thead tr:only-child th {\n",
       "        text-align: right;\n",
       "    }\n",
       "\n",
       "    .dataframe thead th {\n",
       "        text-align: left;\n",
       "    }\n",
       "\n",
       "    .dataframe tbody tr th {\n",
       "        vertical-align: top;\n",
       "    }\n",
       "</style>\n",
       "<table border=\"1\" class=\"dataframe\">\n",
       "  <thead>\n",
       "    <tr style=\"text-align: right;\">\n",
       "      <th></th>\n",
       "      <th>track_id</th>\n",
       "      <th>genre</th>\n",
       "      <th>song_hotness</th>\n",
       "      <th>song_id</th>\n",
       "      <th>title</th>\n",
       "      <th>year</th>\n",
       "      <th>index</th>\n",
       "      <th>abs_offensiveness</th>\n",
       "      <th>counts</th>\n",
       "    </tr>\n",
       "  </thead>\n",
       "  <tbody>\n",
       "    <tr>\n",
       "      <th>0</th>\n",
       "      <td>TRBEEPA128F4291036</td>\n",
       "      <td>NaN</td>\n",
       "      <td>NaN</td>\n",
       "      <td>SOTOLDX12A58A79206</td>\n",
       "      <td>Fermented Offal Discharge</td>\n",
       "      <td>1995</td>\n",
       "      <td>9345</td>\n",
       "      <td>1</td>\n",
       "      <td>227</td>\n",
       "    </tr>\n",
       "    <tr>\n",
       "      <th>1</th>\n",
       "      <td>TRBEERY128F4231A2E</td>\n",
       "      <td>NaN</td>\n",
       "      <td>0.528782</td>\n",
       "      <td>SOVSBWN12A813557F9</td>\n",
       "      <td>Eyes Of A Stranger (Album Version)</td>\n",
       "      <td>0</td>\n",
       "      <td>9346</td>\n",
       "      <td>0</td>\n",
       "      <td>1168</td>\n",
       "    </tr>\n",
       "    <tr>\n",
       "      <th>2</th>\n",
       "      <td>TRBEEZO12903D05259</td>\n",
       "      <td>NaN</td>\n",
       "      <td>0.520345</td>\n",
       "      <td>SOUDWTU12AC37746F7</td>\n",
       "      <td>Spade and Parade</td>\n",
       "      <td>1994</td>\n",
       "      <td>9350</td>\n",
       "      <td>1</td>\n",
       "      <td>68</td>\n",
       "    </tr>\n",
       "    <tr>\n",
       "      <th>3</th>\n",
       "      <td>TRBEEEO128F146B9F1</td>\n",
       "      <td>NaN</td>\n",
       "      <td>NaN</td>\n",
       "      <td>SOPGDTB12A6D4F740A</td>\n",
       "      <td>Driving With The Brakes On</td>\n",
       "      <td>1995</td>\n",
       "      <td>9340</td>\n",
       "      <td>0</td>\n",
       "      <td>191</td>\n",
       "    </tr>\n",
       "    <tr>\n",
       "      <th>4</th>\n",
       "      <td>TRBEEYL128F1491A39</td>\n",
       "      <td>NaN</td>\n",
       "      <td>NaN</td>\n",
       "      <td>SOLTMAH12A6D4FA0B3</td>\n",
       "      <td>Making Waves (2003 Digital Remaster)</td>\n",
       "      <td>2002</td>\n",
       "      <td>9349</td>\n",
       "      <td>0</td>\n",
       "      <td>13</td>\n",
       "    </tr>\n",
       "  </tbody>\n",
       "</table>\n",
       "</div>"
      ],
      "text/plain": [
       "             track_id  genre  song_hotness             song_id  \\\n",
       "0  TRBEEPA128F4291036    NaN           NaN  SOTOLDX12A58A79206   \n",
       "1  TRBEERY128F4231A2E    NaN      0.528782  SOVSBWN12A813557F9   \n",
       "2  TRBEEZO12903D05259    NaN      0.520345  SOUDWTU12AC37746F7   \n",
       "3  TRBEEEO128F146B9F1    NaN           NaN  SOPGDTB12A6D4F740A   \n",
       "4  TRBEEYL128F1491A39    NaN           NaN  SOLTMAH12A6D4FA0B3   \n",
       "\n",
       "                                  title  year  index  abs_offensiveness  \\\n",
       "0             Fermented Offal Discharge  1995   9345                  1   \n",
       "1    Eyes Of A Stranger (Album Version)     0   9346                  0   \n",
       "2                      Spade and Parade  1994   9350                  1   \n",
       "3            Driving With The Brakes On  1995   9340                  0   \n",
       "4  Making Waves (2003 Digital Remaster)  2002   9349                  0   \n",
       "\n",
       "   counts  \n",
       "0     227  \n",
       "1    1168  \n",
       "2      68  \n",
       "3     191  \n",
       "4      13  "
      ]
     },
     "execution_count": 177,
     "metadata": {},
     "output_type": "execute_result"
    }
   ],
   "source": [
    "songs = song_info_offensiveness.merge(songs_counts, on=\"song_id\")\n",
    "songs.head()"
   ]
  },
  {
   "cell_type": "markdown",
   "metadata": {},
   "source": [
    "## Looking at simple correlations between offensiveness, hotness, counts and year"
   ]
  },
  {
   "cell_type": "code",
   "execution_count": 184,
   "metadata": {},
   "outputs": [],
   "source": [
    "# select the values we want to have\n",
    "off_hot_year = songs[[\"song_hotness\", \"year\", \"abs_offensiveness\", \"counts\"]]\n",
    "\n",
    "# for this superficial analysis, we clean the data aggressively\n",
    "off_hot_year = off_hot_year.query(\"year > 0\")\n",
    "off_hot_year = off_hot_year.query(\"counts > 1\")"
   ]
  },
  {
   "cell_type": "code",
   "execution_count": 185,
   "metadata": {},
   "outputs": [
    {
     "data": {
      "text/html": [
       "<div>\n",
       "<style>\n",
       "    .dataframe thead tr:only-child th {\n",
       "        text-align: right;\n",
       "    }\n",
       "\n",
       "    .dataframe thead th {\n",
       "        text-align: left;\n",
       "    }\n",
       "\n",
       "    .dataframe tbody tr th {\n",
       "        vertical-align: top;\n",
       "    }\n",
       "</style>\n",
       "<table border=\"1\" class=\"dataframe\">\n",
       "  <thead>\n",
       "    <tr style=\"text-align: right;\">\n",
       "      <th></th>\n",
       "      <th>song_hotness</th>\n",
       "      <th>year</th>\n",
       "      <th>abs_offensiveness</th>\n",
       "      <th>counts</th>\n",
       "    </tr>\n",
       "  </thead>\n",
       "  <tbody>\n",
       "    <tr>\n",
       "      <th>song_hotness</th>\n",
       "      <td>1.000000</td>\n",
       "      <td>0.186625</td>\n",
       "      <td>-0.006918</td>\n",
       "      <td>0.129653</td>\n",
       "    </tr>\n",
       "    <tr>\n",
       "      <th>year</th>\n",
       "      <td>0.186625</td>\n",
       "      <td>1.000000</td>\n",
       "      <td>0.016476</td>\n",
       "      <td>0.020274</td>\n",
       "    </tr>\n",
       "    <tr>\n",
       "      <th>abs_offensiveness</th>\n",
       "      <td>-0.006918</td>\n",
       "      <td>0.016476</td>\n",
       "      <td>1.000000</td>\n",
       "      <td>0.004138</td>\n",
       "    </tr>\n",
       "    <tr>\n",
       "      <th>counts</th>\n",
       "      <td>0.129653</td>\n",
       "      <td>0.020274</td>\n",
       "      <td>0.004138</td>\n",
       "      <td>1.000000</td>\n",
       "    </tr>\n",
       "  </tbody>\n",
       "</table>\n",
       "</div>"
      ],
      "text/plain": [
       "                   song_hotness      year  abs_offensiveness    counts\n",
       "song_hotness           1.000000  0.186625          -0.006918  0.129653\n",
       "year                   0.186625  1.000000           0.016476  0.020274\n",
       "abs_offensiveness     -0.006918  0.016476           1.000000  0.004138\n",
       "counts                 0.129653  0.020274           0.004138  1.000000"
      ]
     },
     "execution_count": 185,
     "metadata": {},
     "output_type": "execute_result"
    }
   ],
   "source": [
    "off_hot_year.corr()"
   ]
  },
  {
   "cell_type": "code",
   "execution_count": 186,
   "metadata": {},
   "outputs": [
    {
     "data": {
      "text/plain": [
       "<matplotlib.axes._subplots.AxesSubplot at 0x7f8427ec8898>"
      ]
     },
     "execution_count": 186,
     "metadata": {},
     "output_type": "execute_result"
    },
    {
     "data": {
      "image/png": "[encoded data removed]",
      "text/plain": [
       "<matplotlib.figure.Figure at 0x7f8427f62eb8>"
      ]
     },
     "metadata": {},
     "output_type": "display_data"
    }
   ],
   "source": [
    "corr = off_hot_year.corr()\n",
    "sns.heatmap(corr, \n",
    "            xticklabels=corr.columns.values,\n",
    "            yticklabels=corr.columns.values)"
   ]
  },
  {
   "cell_type": "markdown",
   "metadata": {},
   "source": [
    "### Looking at correlations: Discussion\n",
    "We don't see any correlation. This was a very superficial analysis. In a next step we will try to go into more detail"
   ]
  },
  {
   "cell_type": "markdown",
   "metadata": {},
   "source": [
    "## Applying filtering and smoothing\n",
    "Correlation is a very simple tool which only looks for linear dependancies. For the raw data, we don't see any correlations. But this doesn't mean that there is no connection. A simple explanation would be that we need to apply more data cleaning. This is what we will do now:\n",
    " - apply a variety of filtering operations to find correlations in subsets of the data.\n",
    " - try to smooth the data\n"
   ]
  },
  {
   "cell_type": "code",
   "execution_count": 199,
   "metadata": {},
   "outputs": [
    {
     "data": {
      "text/html": [
       "<div>\n",
       "<style>\n",
       "    .dataframe thead tr:only-child th {\n",
       "        text-align: right;\n",
       "    }\n",
       "\n",
       "    .dataframe thead th {\n",
       "        text-align: left;\n",
       "    }\n",
       "\n",
       "    .dataframe tbody tr th {\n",
       "        vertical-align: top;\n",
       "    }\n",
       "</style>\n",
       "<table border=\"1\" class=\"dataframe\">\n",
       "  <thead>\n",
       "    <tr style=\"text-align: right;\">\n",
       "      <th></th>\n",
       "      <th>abs_offensiveness</th>\n",
       "      <th>counts</th>\n",
       "    </tr>\n",
       "  </thead>\n",
       "  <tbody>\n",
       "    <tr>\n",
       "      <th>abs_offensiveness</th>\n",
       "      <td>1.000000</td>\n",
       "      <td>0.015788</td>\n",
       "    </tr>\n",
       "    <tr>\n",
       "      <th>counts</th>\n",
       "      <td>0.015788</td>\n",
       "      <td>1.000000</td>\n",
       "    </tr>\n",
       "  </tbody>\n",
       "</table>\n",
       "</div>"
      ],
      "text/plain": [
       "                   abs_offensiveness    counts\n",
       "abs_offensiveness           1.000000  0.015788\n",
       "counts                      0.015788  1.000000"
      ]
     },
     "execution_count": 199,
     "metadata": {},
     "output_type": "execute_result"
    }
   ],
   "source": [
    "# smoothing the counts by using their log\n",
    "offensiveness_counts_log = offensiveness_counts.copy()\n",
    "offensiveness_counts_log[\"counts\"] = offensiveness_counts_log[\"counts\"].apply(lambda x : np.log(x))\n",
    "offensiveness_counts_log.corr()"
   ]
  },
  {
   "cell_type": "code",
   "execution_count": 200,
   "metadata": {},
   "outputs": [
    {
     "data": {
      "text/html": [
       "<div>\n",
       "<style>\n",
       "    .dataframe thead tr:only-child th {\n",
       "        text-align: right;\n",
       "    }\n",
       "\n",
       "    .dataframe thead th {\n",
       "        text-align: left;\n",
       "    }\n",
       "\n",
       "    .dataframe tbody tr th {\n",
       "        vertical-align: top;\n",
       "    }\n",
       "</style>\n",
       "<table border=\"1\" class=\"dataframe\">\n",
       "  <thead>\n",
       "    <tr style=\"text-align: right;\">\n",
       "      <th></th>\n",
       "      <th>abs_offensiveness</th>\n",
       "      <th>counts</th>\n",
       "    </tr>\n",
       "  </thead>\n",
       "  <tbody>\n",
       "    <tr>\n",
       "      <th>abs_offensiveness</th>\n",
       "      <td>1.000000</td>\n",
       "      <td>0.015433</td>\n",
       "    </tr>\n",
       "    <tr>\n",
       "      <th>counts</th>\n",
       "      <td>0.015433</td>\n",
       "      <td>1.000000</td>\n",
       "    </tr>\n",
       "  </tbody>\n",
       "</table>\n",
       "</div>"
      ],
      "text/plain": [
       "                   abs_offensiveness    counts\n",
       "abs_offensiveness           1.000000  0.015433\n",
       "counts                      0.015433  1.000000"
      ]
     },
     "execution_count": 200,
     "metadata": {},
     "output_type": "execute_result"
    }
   ],
   "source": [
    "# looking only at songs that have been played often\n",
    "offensiveness_counts_popular = offensiveness_counts_log.query(\"counts> 3\")\n",
    "offensiveness_counts_popular.corr()"
   ]
  },
  {
   "cell_type": "code",
   "execution_count": 201,
   "metadata": {},
   "outputs": [
    {
     "data": {
      "text/html": [
       "<div>\n",
       "<style>\n",
       "    .dataframe thead tr:only-child th {\n",
       "        text-align: right;\n",
       "    }\n",
       "\n",
       "    .dataframe thead th {\n",
       "        text-align: left;\n",
       "    }\n",
       "\n",
       "    .dataframe tbody tr th {\n",
       "        vertical-align: top;\n",
       "    }\n",
       "</style>\n",
       "<table border=\"1\" class=\"dataframe\">\n",
       "  <thead>\n",
       "    <tr style=\"text-align: right;\">\n",
       "      <th></th>\n",
       "      <th>abs_offensiveness</th>\n",
       "      <th>counts</th>\n",
       "    </tr>\n",
       "  </thead>\n",
       "  <tbody>\n",
       "    <tr>\n",
       "      <th>abs_offensiveness</th>\n",
       "      <td>1.000000</td>\n",
       "      <td>0.005394</td>\n",
       "    </tr>\n",
       "    <tr>\n",
       "      <th>counts</th>\n",
       "      <td>0.005394</td>\n",
       "      <td>1.000000</td>\n",
       "    </tr>\n",
       "  </tbody>\n",
       "</table>\n",
       "</div>"
      ],
      "text/plain": [
       "                   abs_offensiveness    counts\n",
       "abs_offensiveness           1.000000  0.005394\n",
       "counts                      0.005394  1.000000"
      ]
     },
     "execution_count": 201,
     "metadata": {},
     "output_type": "execute_result"
    }
   ],
   "source": [
    "# looking only at recent songs\n",
    "offensiveness_counts_recent = songs.query(\"year > 1990\")[[\"abs_offensiveness\", \"counts\"]]\n",
    "offensiveness_counts_recent.corr()"
   ]
  },
  {
   "cell_type": "code",
   "execution_count": 202,
   "metadata": {},
   "outputs": [
    {
     "data": {
      "text/html": [
       "<div>\n",
       "<style>\n",
       "    .dataframe thead tr:only-child th {\n",
       "        text-align: right;\n",
       "    }\n",
       "\n",
       "    .dataframe thead th {\n",
       "        text-align: left;\n",
       "    }\n",
       "\n",
       "    .dataframe tbody tr th {\n",
       "        vertical-align: top;\n",
       "    }\n",
       "</style>\n",
       "<table border=\"1\" class=\"dataframe\">\n",
       "  <thead>\n",
       "    <tr style=\"text-align: right;\">\n",
       "      <th></th>\n",
       "      <th>abs_offensiveness</th>\n",
       "      <th>counts</th>\n",
       "    </tr>\n",
       "  </thead>\n",
       "  <tbody>\n",
       "    <tr>\n",
       "      <th>abs_offensiveness</th>\n",
       "      <td>1.000000</td>\n",
       "      <td>0.007334</td>\n",
       "    </tr>\n",
       "    <tr>\n",
       "      <th>counts</th>\n",
       "      <td>0.007334</td>\n",
       "      <td>1.000000</td>\n",
       "    </tr>\n",
       "  </tbody>\n",
       "</table>\n",
       "</div>"
      ],
      "text/plain": [
       "                   abs_offensiveness    counts\n",
       "abs_offensiveness           1.000000  0.007334\n",
       "counts                      0.007334  1.000000"
      ]
     },
     "execution_count": 202,
     "metadata": {},
     "output_type": "execute_result"
    }
   ],
   "source": [
    "# looking only at very recent songs\n",
    "offensiveness_counts_very_recent = songs.query(\"year > 2000\")[[\"abs_offensiveness\", \"counts\"]]\n",
    "offensiveness_counts_very_recent.corr()"
   ]
  },
  {
   "cell_type": "markdown",
   "metadata": {},
   "source": [
    "### Filtering and smoothing: Discussion\n",
    "\n",
    "This doesn't give us any information either. The evaluations I have included above are just a selection of tests. I have tried a variety of filters and smoothings.\n",
    "\n",
    "Unfortunately, I couldn't find any significant result. This doesn't mean that there is no dependence between the data points, but it does seem as if there is no linear dependence.\n",
    "\n",
    "Next, we need to take a step back. Correlation uses a linear model to explain the data, this is not powerful enough. Before we try fitting a more complex model, we should investigate the data and make a principled decision.\n"
   ]
  },
  {
   "cell_type": "markdown",
   "metadata": {},
   "source": [
    "## Looking at the data directly\n",
    "\n",
    "Sometimes, scatter plots can be an effective tool to show structure in the data. These plots have to be used with caution: The scatter plots I'm using are not heatmaps, they give no intuition for the density of the data.\n",
    "\n",
    "The results could be misleading, they are only meant to provide idea for the models to fit to the data."
   ]
  },
  {
   "cell_type": "markdown",
   "metadata": {},
   "source": [
    "## Scatter years and offensiveness\n",
    "\n",
    "This seems to show that songs become more offensive over time."
   ]
  },
  {
   "cell_type": "code",
   "execution_count": 203,
   "metadata": {},
   "outputs": [
    {
     "data": {
      "text/plain": [
       "<matplotlib.axes._subplots.AxesSubplot at 0x7f842b21d470>"
      ]
     },
     "execution_count": 203,
     "metadata": {},
     "output_type": "execute_result"
    },
    {
     "data": {
      "image/png": "[encoded data removed]",
      "text/plain": [
       "<matplotlib.figure.Figure at 0x7f8421b048d0>"
      ]
     },
     "metadata": {},
     "output_type": "display_data"
    }
   ],
   "source": [
    "songs[songs[\"year\"]>0].plot.scatter(\"abs_offensiveness\", \"year\")"
   ]
  },
  {
   "cell_type": "markdown",
   "metadata": {},
   "source": [
    "## Scatter offensiveness and play counts\n",
    "\n",
    "This seems to show that play counts actually decrease with offensiveness."
   ]
  },
  {
   "cell_type": "code",
   "execution_count": 193,
   "metadata": {},
   "outputs": [
    {
     "data": {
      "text/plain": [
       "<matplotlib.axes._subplots.AxesSubplot at 0x7f8435b1dba8>"
      ]
     },
     "execution_count": 193,
     "metadata": {},
     "output_type": "execute_result"
    },
    {
     "data": {
      "image/png": "[encoded data removed]",
      "text/plain": [
       "<matplotlib.figure.Figure at 0x7f84336f4ef0>"
      ]
     },
     "metadata": {},
     "output_type": "display_data"
    }
   ],
   "source": [
    "songs.plot.scatter(\"abs_offensiveness\", \"counts\")"
   ]
  },
  {
   "cell_type": "code",
   "execution_count": 194,
   "metadata": {},
   "outputs": [
    {
     "data": {
      "text/plain": [
       "<matplotlib.axes._subplots.AxesSubplot at 0x7f842d7b4dd8>"
      ]
     },
     "execution_count": 194,
     "metadata": {},
     "output_type": "execute_result"
    },
    {
     "data": {
      "image/png": "[encoded data removed]",
      "text/plain": [
       "<matplotlib.figure.Figure at 0x7f841ff685f8>"
      ]
     },
     "metadata": {},
     "output_type": "display_data"
    }
   ],
   "source": [
    "songs.query(\"counts > 1\").plot.scatter(\"abs_offensiveness\", \"counts\")"
   ]
  },
  {
   "cell_type": "markdown",
   "metadata": {},
   "source": [
    "## Scatter offensiveness and hotness\n",
    "\n",
    "We have to filter the hotness a lot.\n",
    "\n",
    "This is actually the most interesting plot, I think.\n",
    "It seems that \"average\" songs are the most offensive."
   ]
  },
  {
   "cell_type": "code",
   "execution_count": 198,
   "metadata": {},
   "outputs": [
    {
     "data": {
      "text/plain": [
       "<matplotlib.axes._subplots.AxesSubplot at 0x7f842ffd6eb8>"
      ]
     },
     "execution_count": 198,
     "metadata": {},
     "output_type": "execute_result"
    },
    {
     "data": {
      "image/png": "[encoded data removed]",
      "text/plain": [
       "<matplotlib.figure.Figure at 0x7f842fff8828>"
      ]
     },
     "metadata": {},
     "output_type": "display_data"
    }
   ],
   "source": [
    "songs[[\"song_hotness\", \"abs_offensiveness\"]]\\\n",
    "    .dropna()\\\n",
    "    .query(\"song_hotness > 0.1\")\\\n",
    "    .plot.scatter(\"abs_offensiveness\", \"song_hotness\")"
   ]
  },
  {
   "cell_type": "markdown",
   "metadata": {},
   "source": [
    "## Scatter plots: Intermediate Discussion\n",
    "\n",
    "There seems to be some structure in the data.\n",
    "\n",
    "Intuitively, I think the problem is that these trends are driven by a small subset of data points.\n",
    "The outliers have some structure, the mass in center is useless.\n",
    "\n",
    "Maybe we should just look at the development of offensive songs. I've filtered out songs of low offensiveness and am repeating the plots from above. The result is the same.\n"
   ]
  },
  {
   "cell_type": "code",
   "execution_count": 218,
   "metadata": {},
   "outputs": [
    {
     "data": {
      "text/html": [
       "<div>\n",
       "<style>\n",
       "    .dataframe thead tr:only-child th {\n",
       "        text-align: right;\n",
       "    }\n",
       "\n",
       "    .dataframe thead th {\n",
       "        text-align: left;\n",
       "    }\n",
       "\n",
       "    .dataframe tbody tr th {\n",
       "        vertical-align: top;\n",
       "    }\n",
       "</style>\n",
       "<table border=\"1\" class=\"dataframe\">\n",
       "  <thead>\n",
       "    <tr style=\"text-align: right;\">\n",
       "      <th></th>\n",
       "      <th>genre</th>\n",
       "      <th>song_hotness</th>\n",
       "      <th>year</th>\n",
       "      <th>index</th>\n",
       "      <th>abs_offensiveness</th>\n",
       "      <th>counts</th>\n",
       "    </tr>\n",
       "  </thead>\n",
       "  <tbody>\n",
       "    <tr>\n",
       "      <th>count</th>\n",
       "      <td>0.0</td>\n",
       "      <td>12248.000000</td>\n",
       "      <td>14343.000000</td>\n",
       "      <td>14343.000000</td>\n",
       "      <td>14343.000000</td>\n",
       "      <td>14343.000000</td>\n",
       "    </tr>\n",
       "    <tr>\n",
       "      <th>mean</th>\n",
       "      <td>NaN</td>\n",
       "      <td>0.545276</td>\n",
       "      <td>1579.634526</td>\n",
       "      <td>101998.391132</td>\n",
       "      <td>7.579934</td>\n",
       "      <td>615.420972</td>\n",
       "    </tr>\n",
       "    <tr>\n",
       "      <th>std</th>\n",
       "      <td>NaN</td>\n",
       "      <td>0.172855</td>\n",
       "      <td>815.162465</td>\n",
       "      <td>58104.253269</td>\n",
       "      <td>10.194955</td>\n",
       "      <td>3288.625287</td>\n",
       "    </tr>\n",
       "    <tr>\n",
       "      <th>min</th>\n",
       "      <td>NaN</td>\n",
       "      <td>0.000000</td>\n",
       "      <td>0.000000</td>\n",
       "      <td>8.000000</td>\n",
       "      <td>2.000000</td>\n",
       "      <td>1.000000</td>\n",
       "    </tr>\n",
       "    <tr>\n",
       "      <th>25%</th>\n",
       "      <td>NaN</td>\n",
       "      <td>0.462380</td>\n",
       "      <td>1986.000000</td>\n",
       "      <td>51745.000000</td>\n",
       "      <td>2.000000</td>\n",
       "      <td>17.000000</td>\n",
       "    </tr>\n",
       "    <tr>\n",
       "      <th>50%</th>\n",
       "      <td>NaN</td>\n",
       "      <td>0.565451</td>\n",
       "      <td>1999.000000</td>\n",
       "      <td>103273.000000</td>\n",
       "      <td>4.000000</td>\n",
       "      <td>70.000000</td>\n",
       "    </tr>\n",
       "    <tr>\n",
       "      <th>75%</th>\n",
       "      <td>NaN</td>\n",
       "      <td>0.657087</td>\n",
       "      <td>2005.000000</td>\n",
       "      <td>152106.000000</td>\n",
       "      <td>8.000000</td>\n",
       "      <td>312.000000</td>\n",
       "    </tr>\n",
       "    <tr>\n",
       "      <th>max</th>\n",
       "      <td>NaN</td>\n",
       "      <td>1.000000</td>\n",
       "      <td>2010.000000</td>\n",
       "      <td>202110.000000</td>\n",
       "      <td>166.000000</td>\n",
       "      <td>155717.000000</td>\n",
       "    </tr>\n",
       "  </tbody>\n",
       "</table>\n",
       "</div>"
      ],
      "text/plain": [
       "       genre  song_hotness          year          index  abs_offensiveness  \\\n",
       "count    0.0  12248.000000  14343.000000   14343.000000       14343.000000   \n",
       "mean     NaN      0.545276   1579.634526  101998.391132           7.579934   \n",
       "std      NaN      0.172855    815.162465   58104.253269          10.194955   \n",
       "min      NaN      0.000000      0.000000       8.000000           2.000000   \n",
       "25%      NaN      0.462380   1986.000000   51745.000000           2.000000   \n",
       "50%      NaN      0.565451   1999.000000  103273.000000           4.000000   \n",
       "75%      NaN      0.657087   2005.000000  152106.000000           8.000000   \n",
       "max      NaN      1.000000   2010.000000  202110.000000         166.000000   \n",
       "\n",
       "              counts  \n",
       "count   14343.000000  \n",
       "mean      615.420972  \n",
       "std      3288.625287  \n",
       "min         1.000000  \n",
       "25%        17.000000  \n",
       "50%        70.000000  \n",
       "75%       312.000000  \n",
       "max    155717.000000  "
      ]
     },
     "execution_count": 218,
     "metadata": {},
     "output_type": "execute_result"
    }
   ],
   "source": [
    "# for the songs that are offensive, what values do we see\n",
    "songs.query(\"abs_offensiveness > 1\").describe()"
   ]
  },
  {
   "cell_type": "code",
   "execution_count": 219,
   "metadata": {
    "collapsed": true
   },
   "outputs": [],
   "source": [
    "# so 50% of the offensive songs actually contain only <= 4 offensive words.\n",
    "# we might want to exclude that\n",
    "filtered_songs = songs.query(\"abs_offensiveness >= 4\")"
   ]
  },
  {
   "cell_type": "code",
   "execution_count": 220,
   "metadata": {},
   "outputs": [
    {
     "data": {
      "text/plain": [
       "<matplotlib.axes._subplots.AxesSubplot at 0x7f8482065588>"
      ]
     },
     "execution_count": 220,
     "metadata": {},
     "output_type": "execute_result"
    },
    {
     "data": {
      "image/png": "[encoded data removed]",
      "text/plain": [
       "<matplotlib.figure.Figure at 0x7f8435b53080>"
      ]
     },
     "metadata": {},
     "output_type": "display_data"
    }
   ],
   "source": [
    "filtered_songs.query(\"year > 0\").plot.scatter(\"abs_offensiveness\", \"year\")"
   ]
  },
  {
   "cell_type": "code",
   "execution_count": 221,
   "metadata": {},
   "outputs": [
    {
     "data": {
      "text/plain": [
       "<matplotlib.axes._subplots.AxesSubplot at 0x7f8481782390>"
      ]
     },
     "execution_count": 221,
     "metadata": {},
     "output_type": "execute_result"
    },
    {
     "data": {
      "image/png": "[encoded data removed]",
      "text/plain": [
       "<matplotlib.figure.Figure at 0x7f848b288470>"
      ]
     },
     "metadata": {},
     "output_type": "display_data"
    }
   ],
   "source": [
    "filtered_songs.plot.scatter(\"abs_offensiveness\", \"counts\")"
   ]
  },
  {
   "cell_type": "code",
   "execution_count": 222,
   "metadata": {},
   "outputs": [
    {
     "data": {
      "text/plain": [
       "<matplotlib.axes._subplots.AxesSubplot at 0x7f8489351f98>"
      ]
     },
     "execution_count": 222,
     "metadata": {},
     "output_type": "execute_result"
    },
    {
     "data": {
      "image/png": "[encoded data removed]",
      "text/plain": [
       "<matplotlib.figure.Figure at 0x7f8481721550>"
      ]
     },
     "metadata": {},
     "output_type": "display_data"
    }
   ],
   "source": [
    "filtered_songs[[\"song_hotness\", \"abs_offensiveness\"]]\\\n",
    "    .dropna()\\\n",
    "    .query(\"song_hotness > 0.1\")\\\n",
    "    .plot.scatter(\"abs_offensiveness\", \"song_hotness\")"
   ]
  },
  {
   "cell_type": "markdown",
   "metadata": {},
   "source": [
    "# Discussion\n",
    "\n",
    "The scatter plots from above give two insights:\n",
    " - The number of offensive songs seems to increase over time\n",
    " - Songs of average hotness are more offensive than songs of high or low hotness\n",
    " \n",
    "As said above: scatterplots are not a good tool to get solid results. This is just an intuition and needs to be verified.\n",
    "\n",
    "We will now construct metrics that we can plot over time."
   ]
  },
  {
   "cell_type": "code",
   "execution_count": 229,
   "metadata": {},
   "outputs": [
    {
     "data": {
      "text/html": [
       "<div>\n",
       "<style>\n",
       "    .dataframe thead tr:only-child th {\n",
       "        text-align: right;\n",
       "    }\n",
       "\n",
       "    .dataframe thead th {\n",
       "        text-align: left;\n",
       "    }\n",
       "\n",
       "    .dataframe tbody tr th {\n",
       "        vertical-align: top;\n",
       "    }\n",
       "</style>\n",
       "<table border=\"1\" class=\"dataframe\">\n",
       "  <thead>\n",
       "    <tr style=\"text-align: right;\">\n",
       "      <th></th>\n",
       "      <th>track_id</th>\n",
       "      <th>genre</th>\n",
       "      <th>song_hotness</th>\n",
       "      <th>song_id</th>\n",
       "      <th>title</th>\n",
       "      <th>year</th>\n",
       "      <th>index</th>\n",
       "      <th>abs_offensiveness</th>\n",
       "      <th>counts</th>\n",
       "      <th>offensive</th>\n",
       "    </tr>\n",
       "  </thead>\n",
       "  <tbody>\n",
       "    <tr>\n",
       "      <th>0</th>\n",
       "      <td>TRBEEPA128F4291036</td>\n",
       "      <td>NaN</td>\n",
       "      <td>NaN</td>\n",
       "      <td>SOTOLDX12A58A79206</td>\n",
       "      <td>Fermented Offal Discharge</td>\n",
       "      <td>1995</td>\n",
       "      <td>9345</td>\n",
       "      <td>1</td>\n",
       "      <td>227</td>\n",
       "      <td>True</td>\n",
       "    </tr>\n",
       "    <tr>\n",
       "      <th>1</th>\n",
       "      <td>TRBEERY128F4231A2E</td>\n",
       "      <td>NaN</td>\n",
       "      <td>0.528782</td>\n",
       "      <td>SOVSBWN12A813557F9</td>\n",
       "      <td>Eyes Of A Stranger (Album Version)</td>\n",
       "      <td>0</td>\n",
       "      <td>9346</td>\n",
       "      <td>0</td>\n",
       "      <td>1168</td>\n",
       "      <td>False</td>\n",
       "    </tr>\n",
       "    <tr>\n",
       "      <th>2</th>\n",
       "      <td>TRBEEZO12903D05259</td>\n",
       "      <td>NaN</td>\n",
       "      <td>0.520345</td>\n",
       "      <td>SOUDWTU12AC37746F7</td>\n",
       "      <td>Spade and Parade</td>\n",
       "      <td>1994</td>\n",
       "      <td>9350</td>\n",
       "      <td>1</td>\n",
       "      <td>68</td>\n",
       "      <td>True</td>\n",
       "    </tr>\n",
       "    <tr>\n",
       "      <th>3</th>\n",
       "      <td>TRBEEEO128F146B9F1</td>\n",
       "      <td>NaN</td>\n",
       "      <td>NaN</td>\n",
       "      <td>SOPGDTB12A6D4F740A</td>\n",
       "      <td>Driving With The Brakes On</td>\n",
       "      <td>1995</td>\n",
       "      <td>9340</td>\n",
       "      <td>0</td>\n",
       "      <td>191</td>\n",
       "      <td>False</td>\n",
       "    </tr>\n",
       "    <tr>\n",
       "      <th>4</th>\n",
       "      <td>TRBEEYL128F1491A39</td>\n",
       "      <td>NaN</td>\n",
       "      <td>NaN</td>\n",
       "      <td>SOLTMAH12A6D4FA0B3</td>\n",
       "      <td>Making Waves (2003 Digital Remaster)</td>\n",
       "      <td>2002</td>\n",
       "      <td>9349</td>\n",
       "      <td>0</td>\n",
       "      <td>13</td>\n",
       "      <td>False</td>\n",
       "    </tr>\n",
       "  </tbody>\n",
       "</table>\n",
       "</div>"
      ],
      "text/plain": [
       "             track_id  genre  song_hotness             song_id  \\\n",
       "0  TRBEEPA128F4291036    NaN           NaN  SOTOLDX12A58A79206   \n",
       "1  TRBEERY128F4231A2E    NaN      0.528782  SOVSBWN12A813557F9   \n",
       "2  TRBEEZO12903D05259    NaN      0.520345  SOUDWTU12AC37746F7   \n",
       "3  TRBEEEO128F146B9F1    NaN           NaN  SOPGDTB12A6D4F740A   \n",
       "4  TRBEEYL128F1491A39    NaN           NaN  SOLTMAH12A6D4FA0B3   \n",
       "\n",
       "                                  title  year  index  abs_offensiveness  \\\n",
       "0             Fermented Offal Discharge  1995   9345                  1   \n",
       "1    Eyes Of A Stranger (Album Version)     0   9346                  0   \n",
       "2                      Spade and Parade  1994   9350                  1   \n",
       "3            Driving With The Brakes On  1995   9340                  0   \n",
       "4  Making Waves (2003 Digital Remaster)  2002   9349                  0   \n",
       "\n",
       "   counts  offensive  \n",
       "0     227       True  \n",
       "1    1168      False  \n",
       "2      68       True  \n",
       "3     191      False  \n",
       "4      13      False  "
      ]
     },
     "execution_count": 229,
     "metadata": {},
     "output_type": "execute_result"
    }
   ],
   "source": [
    "# playcounts of offensive vs non-offensive songs\n",
    "songs_binary = songs.copy()\n",
    "songs_binary[\"offensive\"] = songs_binary[\"abs_offensiveness\"].apply(lambda x : x>0)\n",
    "songs_binary.head()"
   ]
  },
  {
   "cell_type": "code",
   "execution_count": 234,
   "metadata": {},
   "outputs": [],
   "source": [
    "songs_binary = songs_binary[[\"year\", \"counts\", \"offensive\"]]"
   ]
  },
  {
   "cell_type": "code",
   "execution_count": 261,
   "metadata": {},
   "outputs": [
    {
     "name": "stdout",
     "output_type": "stream",
     "text": [
      "first occurence of an offensive song (in our data): 1955\n"
     ]
    },
    {
     "data": {
      "text/plain": [
       "year\n",
       "1956    0.359954\n",
       "1957    0.445140\n",
       "1958    0.052062\n",
       "1959    0.133210\n",
       "1960    0.015698\n",
       "Name: counts, dtype: float64"
      ]
     },
     "execution_count": 261,
     "metadata": {},
     "output_type": "execute_result"
    }
   ],
   "source": [
    "# the first occurence of an offensive song is\n",
    "first_year = songs_binary.query(\"offensive == True and year > 0\")[\"year\"].min()\n",
    "print(\"first occurence of an offensive song (in our data): \"+str(first_year))\n",
    "\n",
    "# creating query strings\n",
    "offensive_query = \"year > {0} and offensive == True\".format(first_year)\n",
    "not_off_query = \"year > {0} and offensive == False\".format(first_year)\n",
    "\n",
    "# getting play counts\n",
    "of_counts = songs_binary.query(offensive_query).groupby(\"year\").agg(\"sum\")[\"counts\"]\n",
    "no_counts = songs_binary.query(not_off_query).groupby(\"year\").agg(\"sum\")[\"counts\"]\n",
    "\n",
    "# calculating ratio\n",
    "ratio = of_counts / (of_counts + no_counts)\n",
    "ratio.head()"
   ]
  },
  {
   "cell_type": "code",
   "execution_count": 262,
   "metadata": {},
   "outputs": [
    {
     "data": {
      "text/plain": [
       "[<matplotlib.lines.Line2D at 0x7f84631e7438>]"
      ]
     },
     "execution_count": 262,
     "metadata": {},
     "output_type": "execute_result"
    },
    {
     "data": {
      "image/png": "[encoded data removed]",
      "text/plain": [
       "<matplotlib.figure.Figure at 0x7f846316c5c0>"
      ]
     },
     "metadata": {},
     "output_type": "display_data"
    }
   ],
   "source": [
    "plt.plot(ratio)"
   ]
  },
  {
   "cell_type": "code",
   "execution_count": null,
   "metadata": {
    "collapsed": true
   },
   "outputs": [],
   "source": []
  }
 ],
 "metadata": {
  "kernelspec": {
   "display_name": "Python 3",
   "language": "python",
   "name": "python3"
  },
  "language_info": {
   "codemirror_mode": {
    "name": "ipython",
    "version": 3
   },
   "file_extension": ".py",
   "mimetype": "text/x-python",
   "name": "python",
   "nbconvert_exporter": "python",
   "pygments_lexer": "ipython3",
   "version": "3.5.2"
  }
 },
 "nbformat": 4,
 "nbformat_minor": 2
}
