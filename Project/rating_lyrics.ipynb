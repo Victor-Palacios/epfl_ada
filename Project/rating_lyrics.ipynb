{
 "cells": [
  {
   "cell_type": "markdown",
   "metadata": {},
   "source": [
    "### Checking our list of swearwords\n",
    "\n",
    "The musixmatch database contains lyrics for a selection of tracks from the million-song-database.\n",
    "\n",
    "But the lyrics are only given by wordcount. So for any given song, we don't have the actual text, but only the number of times that the singer has said \"I\" or \"you\".\n",
    "\n",
    "This makes the rating of offensiveness much harder, since we loose all context.\n",
    "For example: \"Jesus Christ\" and \"god\" are rated as mildly offensive and non-discriminatory. If you use them as expletive, that might be correct. But we still don't want to classify gospel songs as outliers with a high frequency of mild swearing.\n",
    "\n",
    "In this notebook we load all words that are present in the lyrics and check which of them are covered in our list of swearwords.\n",
    "Then we go through the lyrics again, to check if our swearwords are missing something."
   ]
  },
  {
   "cell_type": "code",
   "execution_count": 1,
   "metadata": {
    "collapsed": true
   },
   "outputs": [],
   "source": [
    "import sqlite3"
   ]
  },
  {
   "cell_type": "code",
   "execution_count": 2,
   "metadata": {
    "collapsed": true
   },
   "outputs": [],
   "source": [
    "conn = sqlite3.connect(\"datasets/mxm_dataset.db\")"
   ]
  },
  {
   "cell_type": "code",
   "execution_count": 3,
   "metadata": {
    "collapsed": false
   },
   "outputs": [
    {
     "name": "stdout",
     "output_type": "stream",
     "text": [
      "[('words',), ('lyrics',)]\n"
     ]
    }
   ],
   "source": [
    "cursor = conn.cursor()\n",
    "cursor.execute(\"SELECT name FROM sqlite_master WHERE type='table';\")\n",
    "print(cursor.fetchall())"
   ]
  },
  {
   "cell_type": "code",
   "execution_count": 4,
   "metadata": {
    "collapsed": false
   },
   "outputs": [
    {
     "data": {
      "text/plain": [
       "[('i',), ('the',), ('you',), ('to',), ('and',)]"
      ]
     },
     "execution_count": 4,
     "metadata": {},
     "output_type": "execute_result"
    }
   ],
   "source": [
    "cursor = conn.cursor()\n",
    "cursor.execute(\"SELECT * FROM words;\")\n",
    "words = cursor.fetchall()\n",
    "words[:5]"
   ]
  },
  {
   "cell_type": "code",
   "execution_count": 5,
   "metadata": {
    "collapsed": true
   },
   "outputs": [],
   "source": [
    "import pandas as pd"
   ]
  },
  {
   "cell_type": "code",
   "execution_count": 6,
   "metadata": {
    "collapsed": false
   },
   "outputs": [
    {
     "data": {
      "text/html": [
       "<div>\n",
       "<table border=\"1\" class=\"dataframe\">\n",
       "  <thead>\n",
       "    <tr style=\"text-align: right;\">\n",
       "      <th></th>\n",
       "      <th>category</th>\n",
       "      <th>strength</th>\n",
       "      <th>target</th>\n",
       "    </tr>\n",
       "    <tr>\n",
       "      <th>word</th>\n",
       "      <th></th>\n",
       "      <th></th>\n",
       "      <th></th>\n",
       "    </tr>\n",
       "  </thead>\n",
       "  <tbody>\n",
       "    <tr>\n",
       "      <th>arse</th>\n",
       "      <td>non-discriminatory</td>\n",
       "      <td>mild</td>\n",
       "      <td>None</td>\n",
       "    </tr>\n",
       "    <tr>\n",
       "      <th>bloody</th>\n",
       "      <td>non-discriminatory</td>\n",
       "      <td>mild</td>\n",
       "      <td>None</td>\n",
       "    </tr>\n",
       "    <tr>\n",
       "      <th>bugger</th>\n",
       "      <td>non-discriminatory</td>\n",
       "      <td>mild</td>\n",
       "      <td>None</td>\n",
       "    </tr>\n",
       "    <tr>\n",
       "      <th>cow</th>\n",
       "      <td>non-discriminatory</td>\n",
       "      <td>mild</td>\n",
       "      <td>None</td>\n",
       "    </tr>\n",
       "    <tr>\n",
       "      <th>crap</th>\n",
       "      <td>non-discriminatory</td>\n",
       "      <td>mild</td>\n",
       "      <td>None</td>\n",
       "    </tr>\n",
       "  </tbody>\n",
       "</table>\n",
       "</div>"
      ],
      "text/plain": [
       "                  category strength target\n",
       "word                                      \n",
       "arse    non-discriminatory     mild   None\n",
       "bloody  non-discriminatory     mild   None\n",
       "bugger  non-discriminatory     mild   None\n",
       "cow     non-discriminatory     mild   None\n",
       "crap    non-discriminatory     mild   None"
      ]
     },
     "execution_count": 6,
     "metadata": {},
     "output_type": "execute_result"
    }
   ],
   "source": [
    "word_table = pd.read_pickle(\"pickles/word_table.pickle\")\n",
    "word_table.head()"
   ]
  },
  {
   "cell_type": "code",
   "execution_count": 7,
   "metadata": {
    "collapsed": false
   },
   "outputs": [
    {
     "name": "stdout",
     "output_type": "stream",
     "text": [
      "('god',)\n",
      "('fuck',)\n",
      "('shit',)\n",
      "('damn',)\n",
      "('ho',)\n",
      "('bitch',)\n",
      "('special',)\n",
      "('dick',)\n",
      "('whore',)\n",
      "('mental',)\n",
      "('bastard',)\n",
      "('negro',)\n",
      "('bullshit',)\n",
      "('cock',)\n",
      "('cow',)\n",
      "('slut',)\n",
      "('psycho',)\n",
      "('cunt',)\n",
      "('crap',)\n"
     ]
    }
   ],
   "source": [
    "for word in words:\n",
    "    if word[0] in word_table.index:\n",
    "        print(word)"
   ]
  },
  {
   "cell_type": "code",
   "execution_count": 8,
   "metadata": {
    "collapsed": true
   },
   "outputs": [],
   "source": [
    "# I read all the words in the database\n",
    "# this is a manual list of swearwords\n",
    "# please note that I'm not a native speaker, it is possible that I've missed something\n",
    "\n",
    "# this is a list of words that are with very high likelihood used as swearwords,\n",
    "# or that are obviously obscene.\n",
    "offensive_list = [\"fuck\", \"fool\", \"shit\", \"nigga\", \"damn\", \"bitch\", \"ass\", \"fuckin\", \"freak\", \"motherfuck\", \"rape\", \"dick\", \"whore\", \"bastard\", \"sucker\", \"pussi\",\n",
    "\"bum\", \"gay\", \"cock\", \"jerk\", \"cunt\", \"junk\", \"motherfuckin\", \"crap\"]\n",
    "         \n",
    "# the second list of words is colloquial\n",
    "# they might be offensive, but it's not really clear without context\n",
    "colloquial_list = [\"trippin\",\"thug\",\"gangsta\",\"gypsi\",\"booti\",\"junki\",\"shorti\"]\n",
    "                  \n",
    "# then we have a third list\n",
    "# I've only filled this with exemplary samples\n",
    "# the third list contains very negative words\n",
    "# but these words are not offensive\n",
    "negative_list = [\"slave\",\" satan\",\"suicid\",\"cocain\",\"genocid\"]"
   ]
  },
  {
   "cell_type": "markdown",
   "metadata": {},
   "source": [
    "## Cleaning the swearwords\n",
    "\n",
    "Based on the data above, we have to clear our list of swearwords.\n",
    "We remove\n",
    " - negro, because that is probably just Spanish\n",
    " - god, because this is only offensive in context\n",
    " \n",
    "The words found above, that are not in the list of swearwords will be added based on their similarity to existing words.\n",
    "For most additions, the choice of strength and category seems easy. Here is a list of choices that might be discussed:\n",
    "\n",
    "- \"freak\", similar to \"retard\" or \"spastic\"\n",
    "- \"jerk\", similar to \"bastard\"\n",
    "- \"booti\", similar to \"arse\"\n",
    "\n",
    "We also add some words from the colloquial list\n",
    " - gypsi\n",
    " - shorti"
   ]
  },
  {
   "cell_type": "code",
   "execution_count": 9,
   "metadata": {
    "collapsed": false
   },
   "outputs": [],
   "source": [
    "word_table = word_table.drop(\"negro\")\n",
    "word_table = word_table.drop(\"god\")\n"
   ]
  },
  {
   "cell_type": "code",
   "execution_count": 10,
   "metadata": {
    "collapsed": false
   },
   "outputs": [],
   "source": [
    "# fuck exists\n",
    "\n",
    "# we add fool, similar to \"loony\", \"mental\" \n",
    "word_table.loc[\"fool\"]={\"category\":\"discriminative\", \"strength\":\"mild\", \"target\":\"mental or physical ability\"}\n",
    "\n",
    "# shit exists\n",
    "\n",
    "# we add nigga, similar to nigger\n",
    "word_table.loc[\"nigga\"]={\"category\":\"discriminative\", \"strength\":\"strongest\", \"target\":\"race\"}\n",
    "\n",
    "# damn exists\n",
    "# bitch exists\n",
    "\n",
    "# we add ass, similar to arse\n",
    "word_table.loc[\"ass\"]={\"category\":\"non-discriminatory\", \"strength\":\"mild\", \"target\":None}\n",
    "\n",
    "# we add fuckin, similar to fuck\n",
    "word_table.loc[\"fuckin\"]={\"category\":\"non-discriminatory\", \"strength\":\"strongest\", \"target\":None}\n",
    "\n",
    "# we add freak, similar to retard\n",
    "word_table.loc[\"freak\"]={\"category\":\"discriminative\", \"strength\":\"strongest\", \"target\":\"mental or physical ability\"}\n",
    "\n",
    "# we add motherfuck and motherfuckin, similar to motherfucker\n",
    "word_table.loc[\"motherfuck\"]={\"category\":\"non-discriminatory\", \"strength\":\"strongest\", \"target\":None}\n",
    "word_table.loc[\"motherfuckin\"]={\"category\":\"non-discriminatory\", \"strength\":\"strongest\", \"target\":None}\n",
    "\n",
    "# we add rape, similar to rapey\n",
    "word_table.loc[\"rape\"]={\"category\":\"non-discriminatory\", \"strength\":\"strongest\", \"target\":None}\n",
    "\n",
    "# dick already exists\n",
    "# whore already exists\n",
    "\n",
    "\n",
    "# we add bum, similar to arse\n",
    "word_table.loc[\"bum\"]={\"category\":\"non-discriminatory\", \"strength\":\"mild\", \"target\":None}\n",
    "\n",
    "# we add gay, similar to homo\n",
    "word_table.loc[\"gay\"]={\"category\":\"discriminative\", \"strength\":\"strong\", \"target\":\"sexuality\"}\n",
    "\n",
    "# we add cock, similar to dick\n",
    "word_table.loc[\"cock\"]={\"category\":\"non-discriminatory\", \"strength\":\"strong\", \"target\":None}\n",
    "\n",
    "# we add jerk, similar to bastard\n",
    "word_table.loc[\"jerk\"]={\"category\":\"non-discriminatory\", \"strength\":\"strong\", \"target\":None}\n",
    "\n",
    "# we add junk, similar to Crap\n",
    "word_table.loc[\"junk\"]={\"category\":\"non-discriminatory\", \"strength\":\"mild\", \"target\":None}\n",
    "\n",
    "# we add booty, similar to arse\n",
    "word_table.loc[\"booti\"]={\"category\":\"non-discriminatory\", \"strength\":\"mild\", \"target\":None}"
   ]
  },
  {
   "cell_type": "code",
   "execution_count": 11,
   "metadata": {
    "collapsed": true
   },
   "outputs": [],
   "source": [
    "# we add shorti, mildly discriminative against women\n",
    "word_table.loc[\"shorti\"]={\"category\":\"discriminative\", \"strength\":\"mild\", \"target\":\"sexuality\"}\n",
    "\n",
    "# we add gypsi, medium discriminative against gypsies\n",
    "word_table.loc[\"gypsi\"]={\"category\":\"discriminative\", \"strength\":\"medium\", \"target\":\"race\"}"
   ]
  },
  {
   "cell_type": "markdown",
   "metadata": {},
   "source": [
    "## Checking occurence of words again\n",
    "We go through all words that occur in the lyrics and check against our list of swearwords.\n",
    "The resulting list should only contain words that are obviously swearwords.\n",
    "\n",
    "We save the resulting dataframe"
   ]
  },
  {
   "cell_type": "code",
   "execution_count": 12,
   "metadata": {
    "collapsed": false
   },
   "outputs": [
    {
     "name": "stdout",
     "output_type": "stream",
     "text": [
      "('fuck',)\n",
      "('fool',)\n",
      "('shit',)\n",
      "('nigga',)\n",
      "('damn',)\n",
      "('ho',)\n",
      "('bitch',)\n",
      "('ass',)\n",
      "('special',)\n",
      "('fuckin',)\n",
      "('freak',)\n",
      "('motherfuck',)\n",
      "('rape',)\n",
      "('dick',)\n",
      "('whore',)\n",
      "('mental',)\n",
      "('bastard',)\n",
      "('bum',)\n",
      "('bullshit',)\n",
      "('gay',)\n",
      "('cock',)\n",
      "('gypsi',)\n",
      "('cow',)\n",
      "('jerk',)\n",
      "('booti',)\n",
      "('shorti',)\n",
      "('slut',)\n",
      "('psycho',)\n",
      "('cunt',)\n",
      "('junk',)\n",
      "('motherfuckin',)\n",
      "('crap',)\n"
     ]
    }
   ],
   "source": [
    "for word in words:\n",
    "    if word[0] in word_table.index:\n",
    "        print(word)"
   ]
  },
  {
   "cell_type": "code",
   "execution_count": 13,
   "metadata": {
    "collapsed": true
   },
   "outputs": [],
   "source": [
    "word_table.to_pickle(\"pickles/word_table_cleaned.pickle\")"
   ]
  },
  {
   "cell_type": "code",
   "execution_count": null,
   "metadata": {
    "collapsed": true
   },
   "outputs": [],
   "source": []
  }
 ],
 "metadata": {
  "kernelspec": {
   "display_name": "Python 3",
   "language": "python",
   "name": "python3"
  },
  "language_info": {
   "codemirror_mode": {
    "name": "ipython",
    "version": 3
   },
   "file_extension": ".py",
   "mimetype": "text/x-python",
   "name": "python",
   "nbconvert_exporter": "python",
   "pygments_lexer": "ipython3",
   "version": "3.6.0"
  }
 },
 "nbformat": 4,
 "nbformat_minor": 2
}
