{
 "cells": [
  {
   "cell_type": "markdown",
   "metadata": {},
   "source": [
    "### Rating a song in the msd database\n",
    "We need to\n",
    "- identify an individual song\n",
    "- get all lyrics corresponding to this song\n",
    "- rate them by offensiveness"
   ]
  },
  {
   "cell_type": "code",
   "execution_count": 1,
   "metadata": {
    "collapsed": true
   },
   "outputs": [],
   "source": [
    "import sqlite3"
   ]
  },
  {
   "cell_type": "code",
   "execution_count": 2,
   "metadata": {
    "collapsed": true
   },
   "outputs": [],
   "source": [
    "conn = sqlite3.connect(\"datasets/mxm_dataset.db\")"
   ]
  },
  {
   "cell_type": "markdown",
   "metadata": {},
   "source": [
    "The database contains the following:\n",
    "\n",
    "https://github.com/tbertinmahieux/MSongsDB/blob/master/Tasks_Demos/Lyrics/README.txt\n",
    "_More details on the database:\n",
    "   - it contains two tables, 'words' and 'lyrics'\n",
    "   - table 'words' has one column: 'word'. Words are entered according\n",
    "     to popularity, check their ROWID if you want to check their position.\n",
    "     ROWID is an implicit column in SQLite, it starts at 1.\n",
    "   - table 'lyrics' contains 5 columns, see below\n",
    "   - column 'track_id' -> as usual, track id from the MSD\n",
    "   - column 'mxm_tid' -> track ID from musiXmatch\n",
    "   - column 'word' -> a word that is also in the 'words' table\n",
    "   - column 'cnt' -> word count for the word\n",
    "   - column 'is_test' -> 0 if this example is from the train set, 1 if test_\n",
    "   \n",
    "We want to connect our insights to the million song database and its metadata.\n",
    "Therefore we want to use the track_id to identify songs.\n",
    "\n",
    "The lyrics table contains individual entries for every "
   ]
  },
  {
   "cell_type": "code",
   "execution_count": 3,
   "metadata": {
    "collapsed": false
   },
   "outputs": [
    {
     "name": "stdout",
     "output_type": "stream",
     "text": [
      "[(0, 'track_id', '', 0, None, 0), (1, 'mxm_tid', 'INT', 0, None, 0), (2, 'word', 'TEXT', 0, None, 0), (3, 'count', 'INT', 0, None, 0), (4, 'is_test', 'INT', 0, None, 0)]\n"
     ]
    }
   ],
   "source": [
    "# this is the content of the lyrics table\n",
    "# please note that it's not \"cnt\" but \"count\", the README is wrong\n",
    "cursor = conn.cursor()\n",
    "cursor.execute(\"PRAGMA table_info(lyrics);\")\n",
    "print(cursor.fetchall())\n",
    "cursor.close()"
   ]
  },
  {
   "cell_type": "markdown",
   "metadata": {},
   "source": [
    "### Use SQL to extract information\n",
    "\n",
    "We want to have all track ids, and for every track id, we need the words and counts\n",
    "\n",
    "The data is big, but even as a pandas DataFrame, the size stays below 5GB.\n",
    "I think the comfort of pandas is enough to warrant loading this into memory."
   ]
  },
  {
   "cell_type": "code",
   "execution_count": 4,
   "metadata": {
    "collapsed": false
   },
   "outputs": [
    {
     "data": {
      "text/plain": [
       "[('TRAAAAV128F421A322',),\n",
       " ('TRAAABD128F429CF47',),\n",
       " ('TRAAAED128E0783FAB',),\n",
       " ('TRAAAEF128F4273421',),\n",
       " ('TRAAAEW128F42930C0',)]"
      ]
     },
     "execution_count": 4,
     "metadata": {},
     "output_type": "execute_result"
    }
   ],
   "source": [
    "cursor = conn.cursor()\n",
    "cursor.execute(\"SELECT DISTINCT track_id FROM lyrics ORDER BY track_id;\")\n",
    "track_ids = cursor.fetchall()\n",
    "cursor.close()\n",
    "track_ids[:5]"
   ]
  },
  {
   "cell_type": "code",
   "execution_count": 5,
   "metadata": {
    "collapsed": false
   },
   "outputs": [
    {
     "data": {
      "text/plain": [
       "[('TRAAAAV128F421A322', 'i', 6),\n",
       " ('TRAAAAV128F421A322', 'the', 4),\n",
       " ('TRAAAAV128F421A322', 'you', 2),\n",
       " ('TRAAAAV128F421A322', 'to', 2),\n",
       " ('TRAAAAV128F421A322', 'and', 5)]"
      ]
     },
     "execution_count": 5,
     "metadata": {},
     "output_type": "execute_result"
    }
   ],
   "source": [
    "cursor = conn.cursor()\n",
    "cursor.execute(\"SELECT track_id, word, count FROM lyrics ORDER BY track_id;\")\n",
    "track_word_count = cursor.fetchall()\n",
    "cursor.close()\n",
    "track_word_count[:5]"
   ]
  },
  {
   "cell_type": "code",
   "execution_count": 6,
   "metadata": {
    "collapsed": true
   },
   "outputs": [],
   "source": [
    "conn.close()"
   ]
  },
  {
   "cell_type": "code",
   "execution_count": 7,
   "metadata": {
    "collapsed": true
   },
   "outputs": [],
   "source": [
    "import pandas as pd"
   ]
  },
  {
   "cell_type": "code",
   "execution_count": 8,
   "metadata": {
    "collapsed": false
   },
   "outputs": [],
   "source": [
    "id_series = pd.Series(track_ids)\n",
    "del track_ids"
   ]
  },
  {
   "cell_type": "code",
   "execution_count": 9,
   "metadata": {
    "collapsed": false
   },
   "outputs": [],
   "source": [
    "sqldb_frame = pd.DataFrame(track_word_count, columns=[\"track_id\", \"word\", \"count\"])\n",
    "del track_word_count"
   ]
  },
  {
   "cell_type": "markdown",
   "metadata": {},
   "source": [
    "### Constructing a table to hold song ratings\n",
    "\n",
    "We want to create a table which allows intuitive indexing into the rating of a song.\n",
    "\n",
    "The table will contain the frequency of each word category. We set up a multiindex to allow slicing along the different characteristics of the word"
   ]
  },
  {
   "cell_type": "code",
   "execution_count": 10,
   "metadata": {
    "collapsed": false
   },
   "outputs": [],
   "source": [
    "word_table = pd.read_pickle(\"pickles/word_table_cleaned.pickle\")"
   ]
  },
  {
   "cell_type": "code",
   "execution_count": 11,
   "metadata": {
    "collapsed": false
   },
   "outputs": [
    {
     "data": {
      "text/html": [
       "<div>\n",
       "<table border=\"1\" class=\"dataframe\">\n",
       "  <thead>\n",
       "    <tr style=\"text-align: right;\">\n",
       "      <th></th>\n",
       "      <th>category</th>\n",
       "      <th>strength</th>\n",
       "      <th>target</th>\n",
       "    </tr>\n",
       "    <tr>\n",
       "      <th>word</th>\n",
       "      <th></th>\n",
       "      <th></th>\n",
       "      <th></th>\n",
       "    </tr>\n",
       "  </thead>\n",
       "  <tbody>\n",
       "    <tr>\n",
       "      <th>arse</th>\n",
       "      <td>non-discriminatory</td>\n",
       "      <td>mild</td>\n",
       "      <td>None</td>\n",
       "    </tr>\n",
       "    <tr>\n",
       "      <th>bloody</th>\n",
       "      <td>non-discriminatory</td>\n",
       "      <td>mild</td>\n",
       "      <td>None</td>\n",
       "    </tr>\n",
       "    <tr>\n",
       "      <th>bugger</th>\n",
       "      <td>non-discriminatory</td>\n",
       "      <td>mild</td>\n",
       "      <td>None</td>\n",
       "    </tr>\n",
       "    <tr>\n",
       "      <th>cow</th>\n",
       "      <td>non-discriminatory</td>\n",
       "      <td>mild</td>\n",
       "      <td>None</td>\n",
       "    </tr>\n",
       "    <tr>\n",
       "      <th>crap</th>\n",
       "      <td>non-discriminatory</td>\n",
       "      <td>mild</td>\n",
       "      <td>None</td>\n",
       "    </tr>\n",
       "  </tbody>\n",
       "</table>\n",
       "</div>"
      ],
      "text/plain": [
       "                  category strength target\n",
       "word                                      \n",
       "arse    non-discriminatory     mild   None\n",
       "bloody  non-discriminatory     mild   None\n",
       "bugger  non-discriminatory     mild   None\n",
       "cow     non-discriminatory     mild   None\n",
       "crap    non-discriminatory     mild   None"
      ]
     },
     "execution_count": 11,
     "metadata": {},
     "output_type": "execute_result"
    }
   ],
   "source": [
    "word_table.head()"
   ]
  },
  {
   "cell_type": "code",
   "execution_count": 12,
   "metadata": {
    "collapsed": false
   },
   "outputs": [],
   "source": [
    "index_tuples=[]\n",
    "\n",
    "for strength in [\"mild\", \"medium\", \"strong\", \"strongest\"]:\n",
    "    for category in [\"discriminative\", \"non-discriminatory\"]:\n",
    "        for target in [\"None\", \"race\", \"mental or physical ability\", \"sexuality\"]:\n",
    "            index_tuples.append([strength, category, target])"
   ]
  },
  {
   "cell_type": "code",
   "execution_count": 13,
   "metadata": {
    "collapsed": false
   },
   "outputs": [],
   "source": [
    "index = pd.MultiIndex.from_tuples(index_tuples, names=[\"strength\", \"category\", \"target\"])"
   ]
  },
  {
   "cell_type": "code",
   "execution_count": 14,
   "metadata": {
    "collapsed": false
   },
   "outputs": [],
   "source": [
    "rating_frame = pd.DataFrame(index=[\"track_id\"], columns = index)"
   ]
  },
  {
   "cell_type": "code",
   "execution_count": 15,
   "metadata": {
    "collapsed": false
   },
   "outputs": [
    {
     "data": {
      "text/html": [
       "<div>\n",
       "<table border=\"1\" class=\"dataframe\">\n",
       "  <thead>\n",
       "    <tr>\n",
       "      <th>strength</th>\n",
       "      <th colspan=\"8\" halign=\"left\">mild</th>\n",
       "      <th colspan=\"2\" halign=\"left\">medium</th>\n",
       "      <th>...</th>\n",
       "      <th colspan=\"2\" halign=\"left\">strong</th>\n",
       "      <th colspan=\"8\" halign=\"left\">strongest</th>\n",
       "    </tr>\n",
       "    <tr>\n",
       "      <th>category</th>\n",
       "      <th colspan=\"4\" halign=\"left\">discriminative</th>\n",
       "      <th colspan=\"4\" halign=\"left\">non-discriminatory</th>\n",
       "      <th colspan=\"2\" halign=\"left\">discriminative</th>\n",
       "      <th>...</th>\n",
       "      <th colspan=\"2\" halign=\"left\">non-discriminatory</th>\n",
       "      <th colspan=\"4\" halign=\"left\">discriminative</th>\n",
       "      <th colspan=\"4\" halign=\"left\">non-discriminatory</th>\n",
       "    </tr>\n",
       "    <tr>\n",
       "      <th>target</th>\n",
       "      <th>None</th>\n",
       "      <th>race</th>\n",
       "      <th>mental or physical ability</th>\n",
       "      <th>sexuality</th>\n",
       "      <th>None</th>\n",
       "      <th>race</th>\n",
       "      <th>mental or physical ability</th>\n",
       "      <th>sexuality</th>\n",
       "      <th>None</th>\n",
       "      <th>race</th>\n",
       "      <th>...</th>\n",
       "      <th>mental or physical ability</th>\n",
       "      <th>sexuality</th>\n",
       "      <th>None</th>\n",
       "      <th>race</th>\n",
       "      <th>mental or physical ability</th>\n",
       "      <th>sexuality</th>\n",
       "      <th>None</th>\n",
       "      <th>race</th>\n",
       "      <th>mental or physical ability</th>\n",
       "      <th>sexuality</th>\n",
       "    </tr>\n",
       "  </thead>\n",
       "  <tbody>\n",
       "    <tr>\n",
       "      <th>track_id</th>\n",
       "      <td>NaN</td>\n",
       "      <td>NaN</td>\n",
       "      <td>NaN</td>\n",
       "      <td>NaN</td>\n",
       "      <td>NaN</td>\n",
       "      <td>NaN</td>\n",
       "      <td>NaN</td>\n",
       "      <td>NaN</td>\n",
       "      <td>NaN</td>\n",
       "      <td>NaN</td>\n",
       "      <td>...</td>\n",
       "      <td>NaN</td>\n",
       "      <td>NaN</td>\n",
       "      <td>NaN</td>\n",
       "      <td>NaN</td>\n",
       "      <td>NaN</td>\n",
       "      <td>NaN</td>\n",
       "      <td>NaN</td>\n",
       "      <td>NaN</td>\n",
       "      <td>NaN</td>\n",
       "      <td>NaN</td>\n",
       "    </tr>\n",
       "  </tbody>\n",
       "</table>\n",
       "<p>1 rows × 32 columns</p>\n",
       "</div>"
      ],
      "text/plain": [
       "strength           mild                                            \\\n",
       "category discriminative                                             \n",
       "target             None race mental or physical ability sexuality   \n",
       "track_id            NaN  NaN                        NaN       NaN   \n",
       "\n",
       "strength                                                               \\\n",
       "category non-discriminatory                                             \n",
       "target                 None race mental or physical ability sexuality   \n",
       "track_id                NaN  NaN                        NaN       NaN   \n",
       "\n",
       "strength         medium         ...                        strong            \\\n",
       "category discriminative         ...            non-discriminatory             \n",
       "target             None race    ...    mental or physical ability sexuality   \n",
       "track_id            NaN  NaN    ...                           NaN       NaN   \n",
       "\n",
       "strength      strongest                                            \\\n",
       "category discriminative                                             \n",
       "target             None race mental or physical ability sexuality   \n",
       "track_id            NaN  NaN                        NaN       NaN   \n",
       "\n",
       "strength                                                               \n",
       "category non-discriminatory                                            \n",
       "target                 None race mental or physical ability sexuality  \n",
       "track_id                NaN  NaN                        NaN       NaN  \n",
       "\n",
       "[1 rows x 32 columns]"
      ]
     },
     "execution_count": 15,
     "metadata": {},
     "output_type": "execute_result"
    }
   ],
   "source": [
    "rating_frame"
   ]
  },
  {
   "cell_type": "markdown",
   "metadata": {},
   "source": [
    "### Populate the rating frame"
   ]
  },
  {
   "cell_type": "code",
   "execution_count": 16,
   "metadata": {
    "collapsed": false
   },
   "outputs": [
    {
     "name": "stdout",
     "output_type": "stream",
     "text": [
      "('TRAAAAV128F421A322',)\n"
     ]
    }
   ],
   "source": [
    "for track_id in id_series:\n",
    "    print(track_id)\n",
    "    break"
   ]
  },
  {
   "cell_type": "code",
   "execution_count": 17,
   "metadata": {
    "collapsed": true
   },
   "outputs": [],
   "source": [
    "mentioned_words = sqldb_frame[sqldb_frame[\"track_id\"]==track_id[0]]"
   ]
  },
  {
   "cell_type": "code",
   "execution_count": 18,
   "metadata": {
    "collapsed": true
   },
   "outputs": [],
   "source": [
    "def construct_dict():\n",
    "    entry={}\n",
    "    for strength in [\"mild\", \"medium\", \"strong\", \"strongest\"]:\n",
    "        entry[strength]={}\n",
    "        for category in [\"discriminative\", \"non-discriminatory\"]:\n",
    "            entry[strength][category]={}\n",
    "            for target in [\"None\", \"race\", \"mental or physical ability\", \"sexuality\"]:\n",
    "                entry[strength][category][target]=0\n",
    "    \n",
    "    return entry"
   ]
  },
  {
   "cell_type": "code",
   "execution_count": 19,
   "metadata": {
    "collapsed": false
   },
   "outputs": [],
   "source": [
    "entry = construct_dict()\n",
    "total_count = 0\n",
    "\n",
    "for index, row in mentioned_words.iterrows():\n",
    "    word = row[\"word\"]\n",
    "    count = row[\"count\"]\n",
    "    \n",
    "    total_count+=count\n",
    "    \n",
    "    if word in word_table.index:\n",
    "        rating = word_table.loc[word]\n",
    "        strength = rating[\"strength\"]\n",
    "        category = rating[\"category\"]\n",
    "        target = rating[\"target\"]\n",
    "        \n",
    "        if target==None:\n",
    "            target=\"None\"\n",
    "        \n",
    "        entry[strength][category][target]+=count"
   ]
  },
  {
   "cell_type": "code",
   "execution_count": 33,
   "metadata": {
    "collapsed": true
   },
   "outputs": [],
   "source": [
    "import numpy as np"
   ]
  },
  {
   "cell_type": "code",
   "execution_count": 37,
   "metadata": {
    "collapsed": false
   },
   "outputs": [
    {
     "data": {
      "text/plain": [
       "Index(['track_id'], dtype='object')"
      ]
     },
     "execution_count": 37,
     "metadata": {},
     "output_type": "execute_result"
    }
   ],
   "source": [
    "rating_frame.index"
   ]
  },
  {
   "cell_type": "code",
   "execution_count": null,
   "metadata": {
    "collapsed": false
   },
   "outputs": [],
   "source": []
  },
  {
   "cell_type": "code",
   "execution_count": 31,
   "metadata": {
    "collapsed": false
   },
   "outputs": [
    {
     "data": {
      "text/plain": [
       "dict_keys(['None', 'race', 'mental or physical ability', 'sexuality'])"
      ]
     },
     "execution_count": 31,
     "metadata": {},
     "output_type": "execute_result"
    }
   ],
   "source": [
    "entry[\"mild\"][\"discriminative\"].keys()"
   ]
  },
  {
   "cell_type": "code",
   "execution_count": 22,
   "metadata": {
    "collapsed": false
   },
   "outputs": [
    {
     "data": {
      "text/plain": [
       "{'medium': {'discriminative': {'None': 0,\n",
       "   'mental or physical ability': 0,\n",
       "   'race': 0,\n",
       "   'sexuality': 0},\n",
       "  'non-discriminatory': {'None': 0,\n",
       "   'mental or physical ability': 0,\n",
       "   'race': 0,\n",
       "   'sexuality': 0}},\n",
       " 'mild': {'discriminative': {'None': 0,\n",
       "   'mental or physical ability': 0,\n",
       "   'race': 0,\n",
       "   'sexuality': 0},\n",
       "  'non-discriminatory': {'None': 1,\n",
       "   'mental or physical ability': 0,\n",
       "   'race': 0,\n",
       "   'sexuality': 0}},\n",
       " 'strong': {'discriminative': {'None': 0,\n",
       "   'mental or physical ability': 0,\n",
       "   'race': 0,\n",
       "   'sexuality': 0},\n",
       "  'non-discriminatory': {'None': 0,\n",
       "   'mental or physical ability': 0,\n",
       "   'race': 0,\n",
       "   'sexuality': 0}},\n",
       " 'strongest': {'discriminative': {'None': 0,\n",
       "   'mental or physical ability': 0,\n",
       "   'race': 0,\n",
       "   'sexuality': 0},\n",
       "  'non-discriminatory': {'None': 0,\n",
       "   'mental or physical ability': 0,\n",
       "   'race': 0,\n",
       "   'sexuality': 0}}}"
      ]
     },
     "execution_count": 22,
     "metadata": {},
     "output_type": "execute_result"
    }
   ],
   "source": [
    "entry"
   ]
  },
  {
   "cell_type": "code",
   "execution_count": null,
   "metadata": {
    "collapsed": true
   },
   "outputs": [],
   "source": []
  },
  {
   "cell_type": "code",
   "execution_count": null,
   "metadata": {
    "collapsed": true
   },
   "outputs": [],
   "source": []
  },
  {
   "cell_type": "code",
   "execution_count": 23,
   "metadata": {
    "collapsed": false
   },
   "outputs": [
    {
     "data": {
      "text/plain": [
       "{'discriminative': {'None': 0,\n",
       "  'mental or physical ability': 0,\n",
       "  'race': 0,\n",
       "  'sexuality': 0},\n",
       " 'non-discriminatory': {'None': 1,\n",
       "  'mental or physical ability': 0,\n",
       "  'race': 0,\n",
       "  'sexuality': 0}}"
      ]
     },
     "execution_count": 23,
     "metadata": {},
     "output_type": "execute_result"
    }
   ],
   "source": [
    "entry[\"mild\"]"
   ]
  },
  {
   "cell_type": "code",
   "execution_count": 24,
   "metadata": {
    "collapsed": false
   },
   "outputs": [],
   "source": [
    "word_table.index = word_table.index.astype(str)"
   ]
  },
  {
   "cell_type": "code",
   "execution_count": 25,
   "metadata": {
    "collapsed": false
   },
   "outputs": [],
   "source": [
    "word_table.loc[\"arse\"][\"target\"]"
   ]
  },
  {
   "cell_type": "code",
   "execution_count": 44,
   "metadata": {
    "collapsed": false
   },
   "outputs": [],
   "source": [
    "index_tuples=[]\n",
    "\n",
    "for distance in [\"near\", \"far\"]:\n",
    "    for vehicle in [\"bike\", \"car\"]:\n",
    "        index_tuples.append([distance, vehicle])\n",
    "        \n",
    "index = pd.MultiIndex.from_tuples(index_tuples, names=[\"distance\", \"vehicle\"])"
   ]
  },
  {
   "cell_type": "code",
   "execution_count": 45,
   "metadata": {
    "collapsed": true
   },
   "outputs": [],
   "source": [
    "dataframe = pd.DataFrame(index=[\"city\"], columns = index)"
   ]
  },
  {
   "cell_type": "code",
   "execution_count": 46,
   "metadata": {
    "collapsed": false
   },
   "outputs": [
    {
     "data": {
      "text/html": [
       "<div>\n",
       "<table border=\"1\" class=\"dataframe\">\n",
       "  <thead>\n",
       "    <tr>\n",
       "      <th>distance</th>\n",
       "      <th colspan=\"2\" halign=\"left\">near</th>\n",
       "      <th colspan=\"2\" halign=\"left\">far</th>\n",
       "    </tr>\n",
       "    <tr>\n",
       "      <th>vehicle</th>\n",
       "      <th>bike</th>\n",
       "      <th>car</th>\n",
       "      <th>bike</th>\n",
       "      <th>car</th>\n",
       "    </tr>\n",
       "  </thead>\n",
       "  <tbody>\n",
       "    <tr>\n",
       "      <th>location</th>\n",
       "      <td>NaN</td>\n",
       "      <td>NaN</td>\n",
       "      <td>NaN</td>\n",
       "      <td>NaN</td>\n",
       "    </tr>\n",
       "  </tbody>\n",
       "</table>\n",
       "</div>"
      ],
      "text/plain": [
       "distance near       far     \n",
       "vehicle  bike  car bike  car\n",
       "location  NaN  NaN  NaN  NaN"
      ]
     },
     "execution_count": 46,
     "metadata": {},
     "output_type": "execute_result"
    }
   ],
   "source": [
    "dataframe"
   ]
  },
  {
   "cell_type": "code",
   "execution_count": 48,
   "metadata": {
    "collapsed": false
   },
   "outputs": [
    {
     "data": {
      "text/plain": [
       "{'far': {'bike': 0, 'car': 1}, 'near': {'bike': 1, 'car': 0}}"
      ]
     },
     "execution_count": 48,
     "metadata": {},
     "output_type": "execute_result"
    }
   ],
   "source": [
    "my_home_city = {\"near\":{\"bike\":1, \"car\":0},\"far\":{\"bike\":0, \"car\":1}}\n",
    "my_home_city"
   ]
  },
  {
   "cell_type": "code",
   "execution_count": 52,
   "metadata": {
    "collapsed": false
   },
   "outputs": [
    {
     "ename": "ValueError",
     "evalue": "Length of values does not match length of index",
     "output_type": "error",
     "traceback": [
      "\u001b[0;31m---------------------------------------------------------------------------\u001b[0m",
      "\u001b[0;31mValueError\u001b[0m                                Traceback (most recent call last)",
      "\u001b[0;32m<ipython-input-52-cfc23f32d34d>\u001b[0m in \u001b[0;36m<module>\u001b[0;34m()\u001b[0m\n\u001b[0;32m----> 1\u001b[0;31m \u001b[0mdataframe\u001b[0m\u001b[1;33m[\u001b[0m\u001b[1;34m\"my_home_city\"\u001b[0m\u001b[1;33m]\u001b[0m\u001b[1;33m=\u001b[0m\u001b[0mmy_home_city\u001b[0m\u001b[1;33m\u001b[0m\u001b[0m\n\u001b[0m",
      "\u001b[0;32mC:\\Users\\lhk\\Anaconda3\\lib\\site-packages\\pandas\\core\\frame.py\u001b[0m in \u001b[0;36m__setitem__\u001b[0;34m(self, key, value)\u001b[0m\n\u001b[1;32m   2417\u001b[0m         \u001b[1;32melse\u001b[0m\u001b[1;33m:\u001b[0m\u001b[1;33m\u001b[0m\u001b[0m\n\u001b[1;32m   2418\u001b[0m             \u001b[1;31m# set column\u001b[0m\u001b[1;33m\u001b[0m\u001b[1;33m\u001b[0m\u001b[0m\n\u001b[0;32m-> 2419\u001b[0;31m             \u001b[0mself\u001b[0m\u001b[1;33m.\u001b[0m\u001b[0m_set_item\u001b[0m\u001b[1;33m(\u001b[0m\u001b[0mkey\u001b[0m\u001b[1;33m,\u001b[0m \u001b[0mvalue\u001b[0m\u001b[1;33m)\u001b[0m\u001b[1;33m\u001b[0m\u001b[0m\n\u001b[0m\u001b[1;32m   2420\u001b[0m \u001b[1;33m\u001b[0m\u001b[0m\n\u001b[1;32m   2421\u001b[0m     \u001b[1;32mdef\u001b[0m \u001b[0m_setitem_slice\u001b[0m\u001b[1;33m(\u001b[0m\u001b[0mself\u001b[0m\u001b[1;33m,\u001b[0m \u001b[0mkey\u001b[0m\u001b[1;33m,\u001b[0m \u001b[0mvalue\u001b[0m\u001b[1;33m)\u001b[0m\u001b[1;33m:\u001b[0m\u001b[1;33m\u001b[0m\u001b[0m\n",
      "\u001b[0;32mC:\\Users\\lhk\\Anaconda3\\lib\\site-packages\\pandas\\core\\frame.py\u001b[0m in \u001b[0;36m_set_item\u001b[0;34m(self, key, value)\u001b[0m\n\u001b[1;32m   2483\u001b[0m \u001b[1;33m\u001b[0m\u001b[0m\n\u001b[1;32m   2484\u001b[0m         \u001b[0mself\u001b[0m\u001b[1;33m.\u001b[0m\u001b[0m_ensure_valid_index\u001b[0m\u001b[1;33m(\u001b[0m\u001b[0mvalue\u001b[0m\u001b[1;33m)\u001b[0m\u001b[1;33m\u001b[0m\u001b[0m\n\u001b[0;32m-> 2485\u001b[0;31m         \u001b[0mvalue\u001b[0m \u001b[1;33m=\u001b[0m \u001b[0mself\u001b[0m\u001b[1;33m.\u001b[0m\u001b[0m_sanitize_column\u001b[0m\u001b[1;33m(\u001b[0m\u001b[0mkey\u001b[0m\u001b[1;33m,\u001b[0m \u001b[0mvalue\u001b[0m\u001b[1;33m)\u001b[0m\u001b[1;33m\u001b[0m\u001b[0m\n\u001b[0m\u001b[1;32m   2486\u001b[0m         \u001b[0mNDFrame\u001b[0m\u001b[1;33m.\u001b[0m\u001b[0m_set_item\u001b[0m\u001b[1;33m(\u001b[0m\u001b[0mself\u001b[0m\u001b[1;33m,\u001b[0m \u001b[0mkey\u001b[0m\u001b[1;33m,\u001b[0m \u001b[0mvalue\u001b[0m\u001b[1;33m)\u001b[0m\u001b[1;33m\u001b[0m\u001b[0m\n\u001b[1;32m   2487\u001b[0m \u001b[1;33m\u001b[0m\u001b[0m\n",
      "\u001b[0;32mC:\\Users\\lhk\\Anaconda3\\lib\\site-packages\\pandas\\core\\frame.py\u001b[0m in \u001b[0;36m_sanitize_column\u001b[0;34m(self, key, value, broadcast)\u001b[0m\n\u001b[1;32m   2654\u001b[0m \u001b[1;33m\u001b[0m\u001b[0m\n\u001b[1;32m   2655\u001b[0m             \u001b[1;31m# turn me into an ndarray\u001b[0m\u001b[1;33m\u001b[0m\u001b[1;33m\u001b[0m\u001b[0m\n\u001b[0;32m-> 2656\u001b[0;31m             \u001b[0mvalue\u001b[0m \u001b[1;33m=\u001b[0m \u001b[0m_sanitize_index\u001b[0m\u001b[1;33m(\u001b[0m\u001b[0mvalue\u001b[0m\u001b[1;33m,\u001b[0m \u001b[0mself\u001b[0m\u001b[1;33m.\u001b[0m\u001b[0mindex\u001b[0m\u001b[1;33m,\u001b[0m \u001b[0mcopy\u001b[0m\u001b[1;33m=\u001b[0m\u001b[1;32mFalse\u001b[0m\u001b[1;33m)\u001b[0m\u001b[1;33m\u001b[0m\u001b[0m\n\u001b[0m\u001b[1;32m   2657\u001b[0m             \u001b[1;32mif\u001b[0m \u001b[1;32mnot\u001b[0m \u001b[0misinstance\u001b[0m\u001b[1;33m(\u001b[0m\u001b[0mvalue\u001b[0m\u001b[1;33m,\u001b[0m \u001b[1;33m(\u001b[0m\u001b[0mnp\u001b[0m\u001b[1;33m.\u001b[0m\u001b[0mndarray\u001b[0m\u001b[1;33m,\u001b[0m \u001b[0mIndex\u001b[0m\u001b[1;33m)\u001b[0m\u001b[1;33m)\u001b[0m\u001b[1;33m:\u001b[0m\u001b[1;33m\u001b[0m\u001b[0m\n\u001b[1;32m   2658\u001b[0m                 \u001b[1;32mif\u001b[0m \u001b[0misinstance\u001b[0m\u001b[1;33m(\u001b[0m\u001b[0mvalue\u001b[0m\u001b[1;33m,\u001b[0m \u001b[0mlist\u001b[0m\u001b[1;33m)\u001b[0m \u001b[1;32mand\u001b[0m \u001b[0mlen\u001b[0m\u001b[1;33m(\u001b[0m\u001b[0mvalue\u001b[0m\u001b[1;33m)\u001b[0m \u001b[1;33m>\u001b[0m \u001b[1;36m0\u001b[0m\u001b[1;33m:\u001b[0m\u001b[1;33m\u001b[0m\u001b[0m\n",
      "\u001b[0;32mC:\\Users\\lhk\\Anaconda3\\lib\\site-packages\\pandas\\core\\series.py\u001b[0m in \u001b[0;36m_sanitize_index\u001b[0;34m(data, index, copy)\u001b[0m\n\u001b[1;32m   2798\u001b[0m \u001b[1;33m\u001b[0m\u001b[0m\n\u001b[1;32m   2799\u001b[0m     \u001b[1;32mif\u001b[0m \u001b[0mlen\u001b[0m\u001b[1;33m(\u001b[0m\u001b[0mdata\u001b[0m\u001b[1;33m)\u001b[0m \u001b[1;33m!=\u001b[0m \u001b[0mlen\u001b[0m\u001b[1;33m(\u001b[0m\u001b[0mindex\u001b[0m\u001b[1;33m)\u001b[0m\u001b[1;33m:\u001b[0m\u001b[1;33m\u001b[0m\u001b[0m\n\u001b[0;32m-> 2800\u001b[0;31m         \u001b[1;32mraise\u001b[0m \u001b[0mValueError\u001b[0m\u001b[1;33m(\u001b[0m\u001b[1;34m'Length of values does not match length of '\u001b[0m \u001b[1;34m'index'\u001b[0m\u001b[1;33m)\u001b[0m\u001b[1;33m\u001b[0m\u001b[0m\n\u001b[0m\u001b[1;32m   2801\u001b[0m \u001b[1;33m\u001b[0m\u001b[0m\n\u001b[1;32m   2802\u001b[0m     \u001b[1;32mif\u001b[0m \u001b[0misinstance\u001b[0m\u001b[1;33m(\u001b[0m\u001b[0mdata\u001b[0m\u001b[1;33m,\u001b[0m \u001b[0mPeriodIndex\u001b[0m\u001b[1;33m)\u001b[0m\u001b[1;33m:\u001b[0m\u001b[1;33m\u001b[0m\u001b[0m\n",
      "\u001b[0;31mValueError\u001b[0m: Length of values does not match length of index"
     ]
    }
   ],
   "source": [
    "dataframe[\"my_home_city\"]=my_home_city"
   ]
  },
  {
   "cell_type": "code",
   "execution_count": null,
   "metadata": {
    "collapsed": true
   },
   "outputs": [],
   "source": []
  }
 ],
 "metadata": {
  "kernelspec": {
   "display_name": "Python 3",
   "language": "python",
   "name": "python3"
  },
  "language_info": {
   "codemirror_mode": {
    "name": "ipython",
    "version": 3
   },
   "file_extension": ".py",
   "mimetype": "text/x-python",
   "name": "python",
   "nbconvert_exporter": "python",
   "pygments_lexer": "ipython3",
   "version": "3.6.0"
  }
 },
 "nbformat": 4,
 "nbformat_minor": 2
}
