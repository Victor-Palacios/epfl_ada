{
 "cells": [
  {
   "cell_type": "code",
   "execution_count": 13,
   "metadata": {
    "collapsed": true
   },
   "outputs": [],
   "source": [
    "import requests\n",
    "from bs4 import BeautifulSoup"
   ]
  },
  {
   "cell_type": "code",
   "execution_count": 14,
   "metadata": {
    "collapsed": true
   },
   "outputs": [],
   "source": [
    "json_link = \"https://www.topuniversities.com/sites/default/files/qs-rankings-data/357051.txt?_=1508703808153\""
   ]
  },
  {
   "cell_type": "code",
   "execution_count": 15,
   "metadata": {
    "collapsed": true
   },
   "outputs": [],
   "source": [
    "response = requests.get(json_link)\n",
    "assert response.ok\n",
    "\n",
    "json_string = str(response.content, encoding=\"utf-8\")"
   ]
  },
  {
   "cell_type": "code",
   "execution_count": 16,
   "metadata": {
    "collapsed": true
   },
   "outputs": [],
   "source": [
    "import json"
   ]
  },
  {
   "cell_type": "code",
   "execution_count": 17,
   "metadata": {
    "collapsed": true
   },
   "outputs": [],
   "source": [
    "data = json.loads(json_string)\n",
    "universities = data[\"data\"]"
   ]
  },
  {
   "cell_type": "code",
   "execution_count": 18,
   "metadata": {
    "collapsed": true
   },
   "outputs": [],
   "source": [
    "import pandas as pd"
   ]
  },
  {
   "cell_type": "code",
   "execution_count": 19,
   "metadata": {
    "collapsed": true
   },
   "outputs": [],
   "source": [
    "dataFrame = pd.DataFrame()"
   ]
  },
  {
   "cell_type": "code",
   "execution_count": 20,
   "metadata": {},
   "outputs": [
    {
     "data": {
      "text/html": [
       "<div>\n",
       "<style>\n",
       "    .dataframe thead tr:only-child th {\n",
       "        text-align: right;\n",
       "    }\n",
       "\n",
       "    .dataframe thead th {\n",
       "        text-align: left;\n",
       "    }\n",
       "\n",
       "    .dataframe tbody tr th {\n",
       "        vertical-align: top;\n",
       "    }\n",
       "</style>\n",
       "<table border=\"1\" class=\"dataframe\">\n",
       "  <thead>\n",
       "    <tr style=\"text-align: right;\">\n",
       "      <th></th>\n",
       "      <th>idx</th>\n",
       "      <th>name</th>\n",
       "      <th>rank</th>\n",
       "      <th>country</th>\n",
       "      <th>region</th>\n",
       "      <th>total faculty</th>\n",
       "      <th>inter faculty</th>\n",
       "      <th>total student</th>\n",
       "      <th>total inter</th>\n",
       "    </tr>\n",
       "  </thead>\n",
       "  <tbody>\n",
       "  </tbody>\n",
       "</table>\n",
       "</div>"
      ],
      "text/plain": [
       "Empty DataFrame\n",
       "Columns: [idx, name, rank, country, region, total faculty, inter faculty, total student, total inter]\n",
       "Index: []"
      ]
     },
     "execution_count": 20,
     "metadata": {},
     "output_type": "execute_result"
    }
   ],
   "source": [
    "columns=[\"idx\", \"name\", \"rank\", \"country\", \"region\", \n",
    "         \"total faculty\", \"inter faculty\", \n",
    "         \"total student\", \"total inter\"]\n",
    "\n",
    "dataFrame = pd.DataFrame(columns=columns)\n",
    "\n",
    "dataFrame"
   ]
  },
  {
   "cell_type": "code",
   "execution_count": 21,
   "metadata": {
    "collapsed": true
   },
   "outputs": [],
   "source": [
    "# parse the json for universities\n",
    "university_entries = []\n",
    "\n",
    "for university in universities[:200]:\n",
    "    name = university[\"title\"]\n",
    "    rank = int(university[\"rank_display\"].replace(\"=\",\"\"))\n",
    "    country = university[\"country\"]\n",
    "    region = university[\"region\"]\n",
    "    relative_link = university[\"url\"]\n",
    "    \n",
    "    university_entries.append((name, rank, country, region, relative_link))"
   ]
  },
  {
   "cell_type": "code",
   "execution_count": 22,
   "metadata": {
    "collapsed": true
   },
   "outputs": [],
   "source": [
    "# parse the individual websites for information on faculty and students\n",
    "website = \"https://www.topuniversities.com\""
   ]
  },
  {
   "cell_type": "code",
   "execution_count": 23,
   "metadata": {},
   "outputs": [],
   "source": [
    "problematic=[]\n",
    "\n",
    "for idx, entry in enumerate(university_entries):\n",
    "    name, rank, country, region, relative_link = entry\n",
    "    \n",
    "    url = website+relative_link\n",
    "    \n",
    "    response = requests.get(url)\n",
    "    assert response.ok\n",
    "    \n",
    "    html = str(response.content, encoding=\"utf-8\")\n",
    "    \n",
    "    soup = BeautifulSoup(html, \"html.parser\")\n",
    "    \n",
    "\n",
    "    elements = [\"total faculty\", \"inter faculty\", \"total student\", \"total inter\"]\n",
    "\n",
    "    values = {}\n",
    "    for elem in elements:\n",
    "        container = soup.find(\"div\", {\"class\":elem})\n",
    "        if container == None:\n",
    "            values[elem] = None\n",
    "            problematic.append(entry)\n",
    "        else:\n",
    "            number_div = container.find(\"div\", {\"class\":\"number\"})\n",
    "            number_string = number_div.contents[0]\n",
    "            number_int = int(number_string.strip().replace(\",\",\"\"))\n",
    "            values[elem]= number_int\n",
    "        \n",
    "    values[\"idx\"]=idx\n",
    "    values[\"name\"]=name\n",
    "    values[\"rank\"]=rank\n",
    "    values[\"country\"]=country\n",
    "    values[\"region\"]=region\n",
    "    \n",
    "    dataFrame = dataFrame.append(values, ignore_index=True)"
   ]
  },
  {
   "cell_type": "code",
   "execution_count": 24,
   "metadata": {},
   "outputs": [
    {
     "data": {
      "text/plain": [
       "[('New York University (NYU)',\n",
       "  52,\n",
       "  'United States',\n",
       "  'North America',\n",
       "  '/universities/new-york-university-nyu'),\n",
       " ('New York University (NYU)',\n",
       "  52,\n",
       "  'United States',\n",
       "  'North America',\n",
       "  '/universities/new-york-university-nyu'),\n",
       " ('New York University (NYU)',\n",
       "  52,\n",
       "  'United States',\n",
       "  'North America',\n",
       "  '/universities/new-york-university-nyu'),\n",
       " ('New York University (NYU)',\n",
       "  52,\n",
       "  'United States',\n",
       "  'North America',\n",
       "  '/universities/new-york-university-nyu'),\n",
       " ('Indian Institute of Science (IISc) Bangalore',\n",
       "  190,\n",
       "  'India',\n",
       "  'Asia',\n",
       "  '/universities/indian-institute-science-iisc-bangalore')]"
      ]
     },
     "execution_count": 24,
     "metadata": {},
     "output_type": "execute_result"
    }
   ],
   "source": [
    "problematic"
   ]
  },
  {
   "cell_type": "code",
   "execution_count": null,
   "metadata": {},
   "outputs": [],
   "source": [
    "dataFrame.loc[0]"
   ]
  },
  {
   "cell_type": "markdown",
   "metadata": {},
   "source": [
    "### Problematic entries\n",
    "Two universities are problematic.\n",
    "The page for NYU has a completely different layout and doesn't offer the information we are looking for.\n",
    "\n",
    "For IIS, there is no information on international staff.\n",
    "For India, the number of international students is quite small, we enter 0 for international faculty."
   ]
  },
  {
   "cell_type": "code",
   "execution_count": 15,
   "metadata": {
    "collapsed": true
   },
   "outputs": [],
   "source": [
    "dataFrame.loc[189][\"inter faculty\"]=0"
   ]
  },
  {
   "cell_type": "code",
   "execution_count": 16,
   "metadata": {},
   "outputs": [
    {
     "data": {
      "text/plain": [
       "idx                                                       189\n",
       "name             Indian Institute of Science (IISc) Bangalore\n",
       "rank                                                      190\n",
       "country                                                 India\n",
       "region                                                   Asia\n",
       "total faculty                                             423\n",
       "inter faculty                                               0\n",
       "total student                                            4071\n",
       "total inter                                                47\n",
       "Name: 189, dtype: object"
      ]
     },
     "execution_count": 16,
     "metadata": {},
     "output_type": "execute_result"
    }
   ],
   "source": [
    "dataFrame.loc[189]"
   ]
  },
  {
   "cell_type": "markdown",
   "metadata": {},
   "source": [
    "## 2. Best ratios"
   ]
  },
  {
   "cell_type": "code",
   "execution_count": 18,
   "metadata": {
    "collapsed": true
   },
   "outputs": [],
   "source": [
    "dataframe = dataFrame.copy()\n",
    "dataframe = dataframe.set_index(\"idx\")"
   ]
  },
  {
   "cell_type": "code",
   "execution_count": 19,
   "metadata": {
    "collapsed": true
   },
   "outputs": [],
   "source": [
    "import numpy as np"
   ]
  },
  {
   "cell_type": "markdown",
   "metadata": {},
   "source": [
    "### ranking by staff per student"
   ]
  },
  {
   "cell_type": "code",
   "execution_count": 20,
   "metadata": {
    "collapsed": true
   },
   "outputs": [],
   "source": [
    "def rank_by_ratio(dataframe, col_denom, col_enum):\n",
    "    # calculating the ratio of faculty over students\n",
    "    most_faculty = dataframe[col_denom] / dataframe[col_enum]\n",
    "\n",
    "    # for NYU we replace the nan with 0\n",
    "    # that way NYU is at the end of the rating and effectively filtered out\n",
    "    # if we would enter proper values for NYU, this filter would transparently vanish\n",
    "    most_faculty = most_faculty.fillna(0)\n",
    "\n",
    "    # creating an array which enumerates the universities and their ratios\n",
    "    index_array = most_faculty.values\n",
    "    index_array = index_array.reshape(-1, 1)\n",
    "    index_array = np.concatenate([index_array, np.arange(200).reshape(-1, 1)], -1)\n",
    "\n",
    "    # sort the array\n",
    "    index_sorted = sorted(index_array, key = lambda x:x[0], reverse=True)\n",
    "\n",
    "    # convert back to numpy array\n",
    "    index_sorted = np.array(index_sorted, dtype=np.int)\n",
    "\n",
    "    # now we can use the indices from the sorted array to reorder the dataframe\n",
    "    ranking_by_ratio = dataframe.loc[index_sorted[:, 1]]\n",
    "    \n",
    "    return ranking_by_ratio"
   ]
  },
  {
   "cell_type": "code",
   "execution_count": 21,
   "metadata": {},
   "outputs": [
    {
     "data": {
      "text/html": [
       "<div>\n",
       "<style>\n",
       "    .dataframe thead tr:only-child th {\n",
       "        text-align: right;\n",
       "    }\n",
       "\n",
       "    .dataframe thead th {\n",
       "        text-align: left;\n",
       "    }\n",
       "\n",
       "    .dataframe tbody tr th {\n",
       "        vertical-align: top;\n",
       "    }\n",
       "</style>\n",
       "<table border=\"1\" class=\"dataframe\">\n",
       "  <thead>\n",
       "    <tr style=\"text-align: right;\">\n",
       "      <th></th>\n",
       "      <th>name</th>\n",
       "      <th>rank</th>\n",
       "      <th>country</th>\n",
       "      <th>region</th>\n",
       "      <th>total faculty</th>\n",
       "      <th>inter faculty</th>\n",
       "      <th>total student</th>\n",
       "      <th>total inter</th>\n",
       "    </tr>\n",
       "    <tr>\n",
       "      <th>idx</th>\n",
       "      <th></th>\n",
       "      <th></th>\n",
       "      <th></th>\n",
       "      <th></th>\n",
       "      <th></th>\n",
       "      <th></th>\n",
       "      <th></th>\n",
       "      <th></th>\n",
       "    </tr>\n",
       "  </thead>\n",
       "  <tbody>\n",
       "    <tr>\n",
       "      <th>3</th>\n",
       "      <td>California Institute of Technology (Caltech)</td>\n",
       "      <td>4</td>\n",
       "      <td>United States</td>\n",
       "      <td>North America</td>\n",
       "      <td>953</td>\n",
       "      <td>350</td>\n",
       "      <td>2255</td>\n",
       "      <td>647</td>\n",
       "    </tr>\n",
       "    <tr>\n",
       "      <th>15</th>\n",
       "      <td>Yale University</td>\n",
       "      <td>16</td>\n",
       "      <td>United States</td>\n",
       "      <td>North America</td>\n",
       "      <td>4940</td>\n",
       "      <td>1708</td>\n",
       "      <td>12402</td>\n",
       "      <td>2469</td>\n",
       "    </tr>\n",
       "    <tr>\n",
       "      <th>5</th>\n",
       "      <td>University of Oxford</td>\n",
       "      <td>6</td>\n",
       "      <td>United Kingdom</td>\n",
       "      <td>Europe</td>\n",
       "      <td>6750</td>\n",
       "      <td>2964</td>\n",
       "      <td>19720</td>\n",
       "      <td>7353</td>\n",
       "    </tr>\n",
       "    <tr>\n",
       "      <th>4</th>\n",
       "      <td>University of Cambridge</td>\n",
       "      <td>5</td>\n",
       "      <td>United Kingdom</td>\n",
       "      <td>Europe</td>\n",
       "      <td>5490</td>\n",
       "      <td>2278</td>\n",
       "      <td>18770</td>\n",
       "      <td>6699</td>\n",
       "    </tr>\n",
       "    <tr>\n",
       "      <th>16</th>\n",
       "      <td>Johns Hopkins University</td>\n",
       "      <td>17</td>\n",
       "      <td>United States</td>\n",
       "      <td>North America</td>\n",
       "      <td>4462</td>\n",
       "      <td>1061</td>\n",
       "      <td>16146</td>\n",
       "      <td>4105</td>\n",
       "    </tr>\n",
       "  </tbody>\n",
       "</table>\n",
       "</div>"
      ],
      "text/plain": [
       "                                             name rank         country  \\\n",
       "idx                                                                      \n",
       "3    California Institute of Technology (Caltech)    4   United States   \n",
       "15                                Yale University   16   United States   \n",
       "5                            University of Oxford    6  United Kingdom   \n",
       "4                         University of Cambridge    5  United Kingdom   \n",
       "16                       Johns Hopkins University   17   United States   \n",
       "\n",
       "            region total faculty inter faculty total student total inter  \n",
       "idx                                                                       \n",
       "3    North America           953           350          2255         647  \n",
       "15   North America          4940          1708         12402        2469  \n",
       "5           Europe          6750          2964         19720        7353  \n",
       "4           Europe          5490          2278         18770        6699  \n",
       "16   North America          4462          1061         16146        4105  "
      ]
     },
     "execution_count": 21,
     "metadata": {},
     "output_type": "execute_result"
    }
   ],
   "source": [
    "rank_by_ratio(dataframe, \"total faculty\", \"total student\").head(5)"
   ]
  },
  {
   "cell_type": "markdown",
   "metadata": {},
   "source": [
    "### ranking by percentage of international students"
   ]
  },
  {
   "cell_type": "code",
   "execution_count": 22,
   "metadata": {},
   "outputs": [
    {
     "data": {
      "text/html": [
       "<div>\n",
       "<style>\n",
       "    .dataframe thead tr:only-child th {\n",
       "        text-align: right;\n",
       "    }\n",
       "\n",
       "    .dataframe thead th {\n",
       "        text-align: left;\n",
       "    }\n",
       "\n",
       "    .dataframe tbody tr th {\n",
       "        vertical-align: top;\n",
       "    }\n",
       "</style>\n",
       "<table border=\"1\" class=\"dataframe\">\n",
       "  <thead>\n",
       "    <tr style=\"text-align: right;\">\n",
       "      <th></th>\n",
       "      <th>name</th>\n",
       "      <th>rank</th>\n",
       "      <th>country</th>\n",
       "      <th>region</th>\n",
       "      <th>total faculty</th>\n",
       "      <th>inter faculty</th>\n",
       "      <th>total student</th>\n",
       "      <th>total inter</th>\n",
       "    </tr>\n",
       "    <tr>\n",
       "      <th>idx</th>\n",
       "      <th></th>\n",
       "      <th></th>\n",
       "      <th></th>\n",
       "      <th></th>\n",
       "      <th></th>\n",
       "      <th></th>\n",
       "      <th></th>\n",
       "      <th></th>\n",
       "    </tr>\n",
       "  </thead>\n",
       "  <tbody>\n",
       "    <tr>\n",
       "      <th>34</th>\n",
       "      <td>London School of Economics and Political Scien...</td>\n",
       "      <td>35</td>\n",
       "      <td>United Kingdom</td>\n",
       "      <td>Europe</td>\n",
       "      <td>1088</td>\n",
       "      <td>687</td>\n",
       "      <td>9760</td>\n",
       "      <td>6748</td>\n",
       "    </tr>\n",
       "    <tr>\n",
       "      <th>11</th>\n",
       "      <td>Ecole Polytechnique Fédérale de Lausanne (EPFL)</td>\n",
       "      <td>12</td>\n",
       "      <td>Switzerland</td>\n",
       "      <td>Europe</td>\n",
       "      <td>1695</td>\n",
       "      <td>1300</td>\n",
       "      <td>10343</td>\n",
       "      <td>5896</td>\n",
       "    </tr>\n",
       "    <tr>\n",
       "      <th>7</th>\n",
       "      <td>Imperial College London</td>\n",
       "      <td>8</td>\n",
       "      <td>United Kingdom</td>\n",
       "      <td>Europe</td>\n",
       "      <td>3930</td>\n",
       "      <td>2071</td>\n",
       "      <td>16090</td>\n",
       "      <td>8746</td>\n",
       "    </tr>\n",
       "    <tr>\n",
       "      <th>198</th>\n",
       "      <td>Maastricht University</td>\n",
       "      <td>200</td>\n",
       "      <td>Netherlands</td>\n",
       "      <td>Europe</td>\n",
       "      <td>1277</td>\n",
       "      <td>502</td>\n",
       "      <td>16385</td>\n",
       "      <td>8234</td>\n",
       "    </tr>\n",
       "    <tr>\n",
       "      <th>47</th>\n",
       "      <td>Carnegie Mellon University</td>\n",
       "      <td>47</td>\n",
       "      <td>United States</td>\n",
       "      <td>North America</td>\n",
       "      <td>1342</td>\n",
       "      <td>425</td>\n",
       "      <td>13356</td>\n",
       "      <td>6385</td>\n",
       "    </tr>\n",
       "  </tbody>\n",
       "</table>\n",
       "</div>"
      ],
      "text/plain": [
       "                                                  name rank         country  \\\n",
       "idx                                                                           \n",
       "34   London School of Economics and Political Scien...   35  United Kingdom   \n",
       "11     Ecole Polytechnique Fédérale de Lausanne (EPFL)   12     Switzerland   \n",
       "7                              Imperial College London    8  United Kingdom   \n",
       "198                              Maastricht University  200     Netherlands   \n",
       "47                          Carnegie Mellon University   47   United States   \n",
       "\n",
       "            region total faculty inter faculty total student total inter  \n",
       "idx                                                                       \n",
       "34          Europe          1088           687          9760        6748  \n",
       "11          Europe          1695          1300         10343        5896  \n",
       "7           Europe          3930          2071         16090        8746  \n",
       "198         Europe          1277           502         16385        8234  \n",
       "47   North America          1342           425         13356        6385  "
      ]
     },
     "execution_count": 22,
     "metadata": {},
     "output_type": "execute_result"
    }
   ],
   "source": [
    "# the best universities by international percentage\n",
    "rank_by_ratio(dataframe, \"total inter\", \"total student\").head(5)"
   ]
  },
  {
   "cell_type": "markdown",
   "metadata": {},
   "source": [
    "## 3: aggregation by country and region"
   ]
  },
  {
   "cell_type": "code",
   "execution_count": 23,
   "metadata": {
    "collapsed": true
   },
   "outputs": [],
   "source": [
    "import matplotlib.pyplot as plt\n",
    "%matplotlib inline"
   ]
  },
  {
   "cell_type": "markdown",
   "metadata": {},
   "source": [
    "### aggregation by country"
   ]
  },
  {
   "cell_type": "code",
   "execution_count": 24,
   "metadata": {
    "collapsed": true
   },
   "outputs": [],
   "source": [
    "dataframe = dataFrame.copy()\n",
    "dataframe[\"total inter\"] = pd.to_numeric(dataframe[\"total inter\"])\n",
    "dataframe[\"total faculty\"] = pd.to_numeric(dataframe[\"total faculty\"])\n",
    "dataframe[\"inter faculty\"] = pd.to_numeric(dataframe[\"inter faculty\"])\n",
    "dataframe[\"total student\"] = pd.to_numeric(dataframe[\"total student\"])"
   ]
  },
  {
   "cell_type": "code",
   "execution_count": 25,
   "metadata": {},
   "outputs": [
    {
     "data": {
      "text/plain": [
       "region\n",
       "Africa           0.169703\n",
       "Asia             0.136431\n",
       "Europe           0.229589\n",
       "Latin America    0.084615\n",
       "North America    0.188906\n",
       "Oceania          0.339261\n",
       "dtype: float64"
      ]
     },
     "execution_count": 25,
     "metadata": {},
     "output_type": "execute_result"
    }
   ],
   "source": [
    "region_inter = dataframe.groupby(\"region\")[\"total inter\"].mean()\n",
    "region_student = dataframe.groupby(\"region\")[\"total student\"].mean()\n",
    "\n",
    "ratio = region_inter / region_student\n",
    "ratio"
   ]
  },
  {
   "cell_type": "code",
   "execution_count": 26,
   "metadata": {},
   "outputs": [
    {
     "data": {
      "image/png": "[encoded data removed]",
      "text/plain": [
       "<matplotlib.figure.Figure at 0x7f8abacab1d0>"
      ]
     },
     "metadata": {},
     "output_type": "display_data"
    }
   ],
   "source": [
    "ratio.plot.bar()\n",
    "plt.show()"
   ]
  },
  {
   "cell_type": "markdown",
   "metadata": {},
   "source": [
    "### aggregation by country"
   ]
  },
  {
   "cell_type": "code",
   "execution_count": 27,
   "metadata": {},
   "outputs": [
    {
     "data": {
      "text/plain": [
       "country\n",
       "Argentina         0.221658\n",
       "Australia         0.352189\n",
       "Austria           0.309980\n",
       "Belgium           0.147853\n",
       "Brazil            0.033072\n",
       "Canada            0.260161\n",
       "Chile             0.047456\n",
       "China             0.113748\n",
       "Denmark           0.141960\n",
       "Finland           0.088671\n",
       "France            0.194806\n",
       "Germany           0.164833\n",
       "Hong Kong         0.310751\n",
       "India             0.010501\n",
       "Ireland           0.235299\n",
       "Israel            0.062549\n",
       "Italy             0.098726\n",
       "Japan             0.087363\n",
       "Malaysia          0.194168\n",
       "Mexico            0.023082\n",
       "Netherlands       0.232980\n",
       "New Zealand       0.258215\n",
       "Norway            0.126776\n",
       "Russia            0.168624\n",
       "Saudi Arabia      0.163742\n",
       "Singapore         0.276537\n",
       "South Africa      0.169703\n",
       "South Korea       0.116177\n",
       "Spain             0.124001\n",
       "Sweden            0.170716\n",
       "Switzerland       0.302396\n",
       "Taiwan            0.094152\n",
       "United Kingdom    0.341705\n",
       "United States     0.173047\n",
       "dtype: float64"
      ]
     },
     "execution_count": 27,
     "metadata": {},
     "output_type": "execute_result"
    }
   ],
   "source": [
    "region_inter = dataframe.groupby(\"country\")[\"total inter\"].mean()\n",
    "region_student = dataframe.groupby(\"country\")[\"total student\"].mean()\n",
    "\n",
    "ratio = region_inter / region_student\n",
    "ratio"
   ]
  },
  {
   "cell_type": "code",
   "execution_count": 28,
   "metadata": {},
   "outputs": [
    {
     "data": {
      "image/png": "[encoded data removed]",
      "text/plain": [
       "<matplotlib.figure.Figure at 0x7f8abab57358>"
      ]
     },
     "metadata": {},
     "output_type": "display_data"
    }
   ],
   "source": [
    "highest_ratio = ratio.sort_values(ascending=False).head(10)\n",
    "highest_ratio.plot.bar()\n",
    "plt.show()"
   ]
  },
  {
   "cell_type": "markdown",
   "metadata": {},
   "source": [
    "## Exercise 2, times ranking"
   ]
  },
  {
   "cell_type": "code",
   "execution_count": 29,
   "metadata": {
    "collapsed": true
   },
   "outputs": [],
   "source": [
    "response = requests.get('https://www.timeshighereducation.com/sites/default/files/the_data_rankings/world_university_rankings_2018_limit0_369a9045a203e176392b9fb8f8c1cb2a.json')\n",
    "\n",
    "assert response.ok\n",
    "\n",
    "data = json.loads(response.text)\n",
    "data = data[\"data\"][:200]"
   ]
  },
  {
   "cell_type": "code",
   "execution_count": 30,
   "metadata": {},
   "outputs": [
    {
     "data": {
      "text/html": [
       "<div>\n",
       "<style>\n",
       "    .dataframe thead tr:only-child th {\n",
       "        text-align: right;\n",
       "    }\n",
       "\n",
       "    .dataframe thead th {\n",
       "        text-align: left;\n",
       "    }\n",
       "\n",
       "    .dataframe tbody tr th {\n",
       "        vertical-align: top;\n",
       "    }\n",
       "</style>\n",
       "<table border=\"1\" class=\"dataframe\">\n",
       "  <thead>\n",
       "    <tr style=\"text-align: right;\">\n",
       "      <th></th>\n",
       "      <th>aliases</th>\n",
       "      <th>location</th>\n",
       "      <th>member_level</th>\n",
       "      <th>name</th>\n",
       "      <th>nid</th>\n",
       "      <th>rank</th>\n",
       "      <th>rank_order</th>\n",
       "      <th>record_type</th>\n",
       "      <th>scores_citations</th>\n",
       "      <th>scores_citations_rank</th>\n",
       "      <th>...</th>\n",
       "      <th>scores_research</th>\n",
       "      <th>scores_research_rank</th>\n",
       "      <th>scores_teaching</th>\n",
       "      <th>scores_teaching_rank</th>\n",
       "      <th>stats_female_male_ratio</th>\n",
       "      <th>stats_number_students</th>\n",
       "      <th>stats_pc_intl_students</th>\n",
       "      <th>stats_student_staff_ratio</th>\n",
       "      <th>subjects_offered</th>\n",
       "      <th>url</th>\n",
       "    </tr>\n",
       "  </thead>\n",
       "  <tbody>\n",
       "    <tr>\n",
       "      <th>0</th>\n",
       "      <td>University of Oxford</td>\n",
       "      <td>United Kingdom</td>\n",
       "      <td>0</td>\n",
       "      <td>University of Oxford</td>\n",
       "      <td>468</td>\n",
       "      <td>1</td>\n",
       "      <td>10</td>\n",
       "      <td>master_account</td>\n",
       "      <td>99.1</td>\n",
       "      <td>15</td>\n",
       "      <td>...</td>\n",
       "      <td>99.5</td>\n",
       "      <td>1</td>\n",
       "      <td>86.7</td>\n",
       "      <td>5</td>\n",
       "      <td>46 : 54</td>\n",
       "      <td>20,409</td>\n",
       "      <td>38%</td>\n",
       "      <td>11.2</td>\n",
       "      <td>Archaeology,Art, Performing Arts &amp; Design,Biol...</td>\n",
       "      <td>/world-university-rankings/university-oxford</td>\n",
       "    </tr>\n",
       "    <tr>\n",
       "      <th>1</th>\n",
       "      <td>University of Cambridge</td>\n",
       "      <td>United Kingdom</td>\n",
       "      <td>0</td>\n",
       "      <td>University of Cambridge</td>\n",
       "      <td>470</td>\n",
       "      <td>2</td>\n",
       "      <td>20</td>\n",
       "      <td>master_account</td>\n",
       "      <td>97.5</td>\n",
       "      <td>29</td>\n",
       "      <td>...</td>\n",
       "      <td>97.8</td>\n",
       "      <td>3</td>\n",
       "      <td>87.8</td>\n",
       "      <td>3</td>\n",
       "      <td>45 : 55</td>\n",
       "      <td>18,389</td>\n",
       "      <td>35%</td>\n",
       "      <td>10.9</td>\n",
       "      <td>Archaeology,Architecture,Art, Performing Arts ...</td>\n",
       "      <td>/world-university-rankings/university-cambridge</td>\n",
       "    </tr>\n",
       "    <tr>\n",
       "      <th>2</th>\n",
       "      <td>California Institute of Technology caltech</td>\n",
       "      <td>United States</td>\n",
       "      <td>0</td>\n",
       "      <td>California Institute of Technology</td>\n",
       "      <td>128779</td>\n",
       "      <td>=3</td>\n",
       "      <td>30</td>\n",
       "      <td>private</td>\n",
       "      <td>99.5</td>\n",
       "      <td>10</td>\n",
       "      <td>...</td>\n",
       "      <td>97.5</td>\n",
       "      <td>4</td>\n",
       "      <td>90.3</td>\n",
       "      <td>1</td>\n",
       "      <td>31 : 69</td>\n",
       "      <td>2,209</td>\n",
       "      <td>27%</td>\n",
       "      <td>6.5</td>\n",
       "      <td>Architecture,Biological Sciences,Business &amp; Ma...</td>\n",
       "      <td>/world-university-rankings/california-institut...</td>\n",
       "    </tr>\n",
       "    <tr>\n",
       "      <th>3</th>\n",
       "      <td>Stanford University</td>\n",
       "      <td>United States</td>\n",
       "      <td>11</td>\n",
       "      <td>Stanford University</td>\n",
       "      <td>467</td>\n",
       "      <td>=3</td>\n",
       "      <td>40</td>\n",
       "      <td>private</td>\n",
       "      <td>99.9</td>\n",
       "      <td>4</td>\n",
       "      <td>...</td>\n",
       "      <td>96.7</td>\n",
       "      <td>5</td>\n",
       "      <td>89.1</td>\n",
       "      <td>2</td>\n",
       "      <td>42 : 58</td>\n",
       "      <td>15,845</td>\n",
       "      <td>22%</td>\n",
       "      <td>7.5</td>\n",
       "      <td>Archaeology,Architecture,Art, Performing Arts ...</td>\n",
       "      <td>/world-university-rankings/stanford-university</td>\n",
       "    </tr>\n",
       "    <tr>\n",
       "      <th>4</th>\n",
       "      <td>Massachusetts Institute of Technology</td>\n",
       "      <td>United States</td>\n",
       "      <td>0</td>\n",
       "      <td>Massachusetts Institute of Technology</td>\n",
       "      <td>471</td>\n",
       "      <td>5</td>\n",
       "      <td>50</td>\n",
       "      <td>private</td>\n",
       "      <td>100.0</td>\n",
       "      <td>1</td>\n",
       "      <td>...</td>\n",
       "      <td>91.9</td>\n",
       "      <td>9</td>\n",
       "      <td>87.3</td>\n",
       "      <td>4</td>\n",
       "      <td>37 : 63</td>\n",
       "      <td>11,177</td>\n",
       "      <td>34%</td>\n",
       "      <td>8.7</td>\n",
       "      <td>Architecture,Art, Performing Arts &amp; Design,Bio...</td>\n",
       "      <td>/world-university-rankings/massachusetts-insti...</td>\n",
       "    </tr>\n",
       "  </tbody>\n",
       "</table>\n",
       "<p>5 rows × 26 columns</p>\n",
       "</div>"
      ],
      "text/plain": [
       "                                      aliases        location member_level  \\\n",
       "0                        University of Oxford  United Kingdom            0   \n",
       "1                     University of Cambridge  United Kingdom            0   \n",
       "2  California Institute of Technology caltech   United States            0   \n",
       "3                         Stanford University   United States           11   \n",
       "4       Massachusetts Institute of Technology   United States            0   \n",
       "\n",
       "                                    name     nid rank rank_order  \\\n",
       "0                   University of Oxford     468    1         10   \n",
       "1                University of Cambridge     470    2         20   \n",
       "2     California Institute of Technology  128779   =3         30   \n",
       "3                    Stanford University     467   =3         40   \n",
       "4  Massachusetts Institute of Technology     471    5         50   \n",
       "\n",
       "      record_type scores_citations scores_citations_rank  \\\n",
       "0  master_account             99.1                    15   \n",
       "1  master_account             97.5                    29   \n",
       "2         private             99.5                    10   \n",
       "3         private             99.9                     4   \n",
       "4         private            100.0                     1   \n",
       "\n",
       "                         ...                         scores_research  \\\n",
       "0                        ...                                    99.5   \n",
       "1                        ...                                    97.8   \n",
       "2                        ...                                    97.5   \n",
       "3                        ...                                    96.7   \n",
       "4                        ...                                    91.9   \n",
       "\n",
       "  scores_research_rank scores_teaching scores_teaching_rank  \\\n",
       "0                    1            86.7                    5   \n",
       "1                    3            87.8                    3   \n",
       "2                    4            90.3                    1   \n",
       "3                    5            89.1                    2   \n",
       "4                    9            87.3                    4   \n",
       "\n",
       "  stats_female_male_ratio stats_number_students stats_pc_intl_students  \\\n",
       "0                 46 : 54                20,409                    38%   \n",
       "1                 45 : 55                18,389                    35%   \n",
       "2                 31 : 69                 2,209                    27%   \n",
       "3                 42 : 58                15,845                    22%   \n",
       "4                 37 : 63                11,177                    34%   \n",
       "\n",
       "  stats_student_staff_ratio  \\\n",
       "0                      11.2   \n",
       "1                      10.9   \n",
       "2                       6.5   \n",
       "3                       7.5   \n",
       "4                       8.7   \n",
       "\n",
       "                                    subjects_offered  \\\n",
       "0  Archaeology,Art, Performing Arts & Design,Biol...   \n",
       "1  Archaeology,Architecture,Art, Performing Arts ...   \n",
       "2  Architecture,Biological Sciences,Business & Ma...   \n",
       "3  Archaeology,Architecture,Art, Performing Arts ...   \n",
       "4  Architecture,Art, Performing Arts & Design,Bio...   \n",
       "\n",
       "                                                 url  \n",
       "0       /world-university-rankings/university-oxford  \n",
       "1    /world-university-rankings/university-cambridge  \n",
       "2  /world-university-rankings/california-institut...  \n",
       "3     /world-university-rankings/stanford-university  \n",
       "4  /world-university-rankings/massachusetts-insti...  \n",
       "\n",
       "[5 rows x 26 columns]"
      ]
     },
     "execution_count": 30,
     "metadata": {},
     "output_type": "execute_result"
    }
   ],
   "source": [
    "timesFrame = pd.DataFrame(data)\n",
    "timesFrame.head(5)"
   ]
  },
  {
   "cell_type": "code",
   "execution_count": 31,
   "metadata": {},
   "outputs": [
    {
     "data": {
      "text/html": [
       "<div>\n",
       "<style>\n",
       "    .dataframe thead tr:only-child th {\n",
       "        text-align: right;\n",
       "    }\n",
       "\n",
       "    .dataframe thead th {\n",
       "        text-align: left;\n",
       "    }\n",
       "\n",
       "    .dataframe tbody tr th {\n",
       "        vertical-align: top;\n",
       "    }\n",
       "</style>\n",
       "<table border=\"1\" class=\"dataframe\">\n",
       "  <thead>\n",
       "    <tr style=\"text-align: right;\">\n",
       "      <th></th>\n",
       "      <th>location</th>\n",
       "      <th>name</th>\n",
       "      <th>rank</th>\n",
       "      <th>rank_order</th>\n",
       "      <th>stats_number_students</th>\n",
       "      <th>stats_pc_intl_students</th>\n",
       "      <th>stats_student_staff_ratio</th>\n",
       "    </tr>\n",
       "  </thead>\n",
       "  <tbody>\n",
       "    <tr>\n",
       "      <th>0</th>\n",
       "      <td>United Kingdom</td>\n",
       "      <td>University of Oxford</td>\n",
       "      <td>1</td>\n",
       "      <td>10</td>\n",
       "      <td>20,409</td>\n",
       "      <td>38%</td>\n",
       "      <td>11.2</td>\n",
       "    </tr>\n",
       "    <tr>\n",
       "      <th>1</th>\n",
       "      <td>United Kingdom</td>\n",
       "      <td>University of Cambridge</td>\n",
       "      <td>2</td>\n",
       "      <td>20</td>\n",
       "      <td>18,389</td>\n",
       "      <td>35%</td>\n",
       "      <td>10.9</td>\n",
       "    </tr>\n",
       "    <tr>\n",
       "      <th>2</th>\n",
       "      <td>United States</td>\n",
       "      <td>California Institute of Technology</td>\n",
       "      <td>=3</td>\n",
       "      <td>30</td>\n",
       "      <td>2,209</td>\n",
       "      <td>27%</td>\n",
       "      <td>6.5</td>\n",
       "    </tr>\n",
       "    <tr>\n",
       "      <th>3</th>\n",
       "      <td>United States</td>\n",
       "      <td>Stanford University</td>\n",
       "      <td>=3</td>\n",
       "      <td>40</td>\n",
       "      <td>15,845</td>\n",
       "      <td>22%</td>\n",
       "      <td>7.5</td>\n",
       "    </tr>\n",
       "    <tr>\n",
       "      <th>4</th>\n",
       "      <td>United States</td>\n",
       "      <td>Massachusetts Institute of Technology</td>\n",
       "      <td>5</td>\n",
       "      <td>50</td>\n",
       "      <td>11,177</td>\n",
       "      <td>34%</td>\n",
       "      <td>8.7</td>\n",
       "    </tr>\n",
       "  </tbody>\n",
       "</table>\n",
       "</div>"
      ],
      "text/plain": [
       "         location                                   name rank rank_order  \\\n",
       "0  United Kingdom                   University of Oxford    1         10   \n",
       "1  United Kingdom                University of Cambridge    2         20   \n",
       "2   United States     California Institute of Technology   =3         30   \n",
       "3   United States                    Stanford University   =3         40   \n",
       "4   United States  Massachusetts Institute of Technology    5         50   \n",
       "\n",
       "  stats_number_students stats_pc_intl_students stats_student_staff_ratio  \n",
       "0                20,409                    38%                      11.2  \n",
       "1                18,389                    35%                      10.9  \n",
       "2                 2,209                    27%                       6.5  \n",
       "3                15,845                    22%                       7.5  \n",
       "4                11,177                    34%                       8.7  "
      ]
     },
     "execution_count": 31,
     "metadata": {},
     "output_type": "execute_result"
    }
   ],
   "source": [
    "timesFrame = timesFrame[['location', 'name', 'rank', 'rank_order', 'stats_number_students', 'stats_pc_intl_students', 'stats_student_staff_ratio']]\n",
    "timesFrame.head(5)"
   ]
  },
  {
   "cell_type": "code",
   "execution_count": 32,
   "metadata": {
    "collapsed": true
   },
   "outputs": [],
   "source": [
    "# rename according to the first frame\n",
    "timesFrame = timesFrame.rename(columns={\"location\":\"country\"})\n"
   ]
  },
  {
   "cell_type": "code",
   "execution_count": 33,
   "metadata": {
    "collapsed": true
   },
   "outputs": [],
   "source": [
    "# the region is not present\n",
    "# we use information from the first frame to map the countries to regions\n",
    "region_mapping = {}\n",
    "\n",
    "regions = dataFrame[\"region\"]\n",
    "countries = dataFrame[\"country\"]\n",
    "\n",
    "for country, region in zip(countries, regions):\n",
    "    region_mapping[country]=region"
   ]
  },
  {
   "cell_type": "code",
   "execution_count": 34,
   "metadata": {
    "collapsed": true
   },
   "outputs": [],
   "source": [
    "timesFrame[\"region\"]=timesFrame[\"country\"].apply(lambda x: region_mapping[x] if x in region_mapping else \"unknown\")"
   ]
  },
  {
   "cell_type": "code",
   "execution_count": 35,
   "metadata": {},
   "outputs": [
    {
     "data": {
      "text/html": [
       "<div>\n",
       "<style>\n",
       "    .dataframe thead tr:only-child th {\n",
       "        text-align: right;\n",
       "    }\n",
       "\n",
       "    .dataframe thead th {\n",
       "        text-align: left;\n",
       "    }\n",
       "\n",
       "    .dataframe tbody tr th {\n",
       "        vertical-align: top;\n",
       "    }\n",
       "</style>\n",
       "<table border=\"1\" class=\"dataframe\">\n",
       "  <thead>\n",
       "    <tr style=\"text-align: right;\">\n",
       "      <th></th>\n",
       "      <th>country</th>\n",
       "      <th>name</th>\n",
       "      <th>rank</th>\n",
       "      <th>rank_order</th>\n",
       "      <th>stats_number_students</th>\n",
       "      <th>stats_pc_intl_students</th>\n",
       "      <th>stats_student_staff_ratio</th>\n",
       "      <th>region</th>\n",
       "    </tr>\n",
       "  </thead>\n",
       "  <tbody>\n",
       "    <tr>\n",
       "      <th>178</th>\n",
       "      <td>Luxembourg</td>\n",
       "      <td>University of Luxembourg</td>\n",
       "      <td>=179</td>\n",
       "      <td>1790</td>\n",
       "      <td>4,969</td>\n",
       "      <td>57%</td>\n",
       "      <td>14.6</td>\n",
       "      <td>unknown</td>\n",
       "    </tr>\n",
       "    <tr>\n",
       "      <th>193</th>\n",
       "      <td>Russian Federation</td>\n",
       "      <td>Lomonosov Moscow State University</td>\n",
       "      <td>194</td>\n",
       "      <td>1940</td>\n",
       "      <td>29,236</td>\n",
       "      <td>22%</td>\n",
       "      <td>7.3</td>\n",
       "      <td>unknown</td>\n",
       "    </tr>\n",
       "  </tbody>\n",
       "</table>\n",
       "</div>"
      ],
      "text/plain": [
       "                country                               name  rank rank_order  \\\n",
       "178          Luxembourg           University of Luxembourg  =179       1790   \n",
       "193  Russian Federation  Lomonosov Moscow State University   194       1940   \n",
       "\n",
       "    stats_number_students stats_pc_intl_students stats_student_staff_ratio  \\\n",
       "178                 4,969                    57%                      14.6   \n",
       "193                29,236                    22%                       7.3   \n",
       "\n",
       "      region  \n",
       "178  unknown  \n",
       "193  unknown  "
      ]
     },
     "execution_count": 35,
     "metadata": {},
     "output_type": "execute_result"
    }
   ],
   "source": [
    "# did we miss regions ?\n",
    "timesFrame[timesFrame[\"region\"]==\"unknown\"]"
   ]
  },
  {
   "cell_type": "code",
   "execution_count": 36,
   "metadata": {
    "collapsed": true
   },
   "outputs": [],
   "source": [
    "timesFrame.loc[178][\"region\"]=\"Europe\"\n",
    "timesFrame.loc[193][\"region\"]=\"Asia\""
   ]
  },
  {
   "cell_type": "code",
   "execution_count": 37,
   "metadata": {},
   "outputs": [
    {
     "data": {
      "text/html": [
       "<div>\n",
       "<style>\n",
       "    .dataframe thead tr:only-child th {\n",
       "        text-align: right;\n",
       "    }\n",
       "\n",
       "    .dataframe thead th {\n",
       "        text-align: left;\n",
       "    }\n",
       "\n",
       "    .dataframe tbody tr th {\n",
       "        vertical-align: top;\n",
       "    }\n",
       "</style>\n",
       "<table border=\"1\" class=\"dataframe\">\n",
       "  <thead>\n",
       "    <tr style=\"text-align: right;\">\n",
       "      <th></th>\n",
       "      <th>country</th>\n",
       "      <th>name</th>\n",
       "      <th>rank</th>\n",
       "      <th>rank_order</th>\n",
       "      <th>stats_number_students</th>\n",
       "      <th>stats_pc_intl_students</th>\n",
       "      <th>stats_student_staff_ratio</th>\n",
       "      <th>region</th>\n",
       "    </tr>\n",
       "  </thead>\n",
       "  <tbody>\n",
       "    <tr>\n",
       "      <th>0</th>\n",
       "      <td>United Kingdom</td>\n",
       "      <td>University of Oxford</td>\n",
       "      <td>1</td>\n",
       "      <td>10</td>\n",
       "      <td>20,409</td>\n",
       "      <td>38%</td>\n",
       "      <td>11.2</td>\n",
       "      <td>Europe</td>\n",
       "    </tr>\n",
       "    <tr>\n",
       "      <th>1</th>\n",
       "      <td>United Kingdom</td>\n",
       "      <td>University of Cambridge</td>\n",
       "      <td>2</td>\n",
       "      <td>20</td>\n",
       "      <td>18,389</td>\n",
       "      <td>35%</td>\n",
       "      <td>10.9</td>\n",
       "      <td>Europe</td>\n",
       "    </tr>\n",
       "    <tr>\n",
       "      <th>2</th>\n",
       "      <td>United States</td>\n",
       "      <td>California Institute of Technology</td>\n",
       "      <td>=3</td>\n",
       "      <td>30</td>\n",
       "      <td>2,209</td>\n",
       "      <td>27%</td>\n",
       "      <td>6.5</td>\n",
       "      <td>North America</td>\n",
       "    </tr>\n",
       "    <tr>\n",
       "      <th>3</th>\n",
       "      <td>United States</td>\n",
       "      <td>Stanford University</td>\n",
       "      <td>=3</td>\n",
       "      <td>40</td>\n",
       "      <td>15,845</td>\n",
       "      <td>22%</td>\n",
       "      <td>7.5</td>\n",
       "      <td>North America</td>\n",
       "    </tr>\n",
       "    <tr>\n",
       "      <th>4</th>\n",
       "      <td>United States</td>\n",
       "      <td>Massachusetts Institute of Technology</td>\n",
       "      <td>5</td>\n",
       "      <td>50</td>\n",
       "      <td>11,177</td>\n",
       "      <td>34%</td>\n",
       "      <td>8.7</td>\n",
       "      <td>North America</td>\n",
       "    </tr>\n",
       "  </tbody>\n",
       "</table>\n",
       "</div>"
      ],
      "text/plain": [
       "          country                                   name rank rank_order  \\\n",
       "0  United Kingdom                   University of Oxford    1         10   \n",
       "1  United Kingdom                University of Cambridge    2         20   \n",
       "2   United States     California Institute of Technology   =3         30   \n",
       "3   United States                    Stanford University   =3         40   \n",
       "4   United States  Massachusetts Institute of Technology    5         50   \n",
       "\n",
       "  stats_number_students stats_pc_intl_students stats_student_staff_ratio  \\\n",
       "0                20,409                    38%                      11.2   \n",
       "1                18,389                    35%                      10.9   \n",
       "2                 2,209                    27%                       6.5   \n",
       "3                15,845                    22%                       7.5   \n",
       "4                11,177                    34%                       8.7   \n",
       "\n",
       "          region  \n",
       "0         Europe  \n",
       "1         Europe  \n",
       "2  North America  \n",
       "3  North America  \n",
       "4  North America  "
      ]
     },
     "execution_count": 37,
     "metadata": {},
     "output_type": "execute_result"
    }
   ],
   "source": [
    "timesFrame.head(5)"
   ]
  },
  {
   "cell_type": "code",
   "execution_count": 38,
   "metadata": {
    "collapsed": true
   },
   "outputs": [],
   "source": [
    "# convert the strings to numbers\n",
    "timesFrame[\"stats_student_staff_ratio\"] = timesFrame[\"stats_student_staff_ratio\"].apply(lambda x : float(x))\n",
    "timesFrame[\"stats_pc_intl_students\"] =  timesFrame[\"stats_pc_intl_students\"].apply(lambda x : int(x.replace(\"%\", \"\"))/100)\n",
    "timesFrame[\"stats_number_students\"] = timesFrame[\"stats_number_students\"].apply(lambda x : int(x.replace(\",\", \"\")))"
   ]
  },
  {
   "cell_type": "code",
   "execution_count": 39,
   "metadata": {},
   "outputs": [
    {
     "data": {
      "text/html": [
       "<div>\n",
       "<style>\n",
       "    .dataframe thead tr:only-child th {\n",
       "        text-align: right;\n",
       "    }\n",
       "\n",
       "    .dataframe thead th {\n",
       "        text-align: left;\n",
       "    }\n",
       "\n",
       "    .dataframe tbody tr th {\n",
       "        vertical-align: top;\n",
       "    }\n",
       "</style>\n",
       "<table border=\"1\" class=\"dataframe\">\n",
       "  <thead>\n",
       "    <tr style=\"text-align: right;\">\n",
       "      <th></th>\n",
       "      <th>country</th>\n",
       "      <th>name</th>\n",
       "      <th>rank</th>\n",
       "      <th>rank_order</th>\n",
       "      <th>stats_number_students</th>\n",
       "      <th>stats_pc_intl_students</th>\n",
       "      <th>stats_student_staff_ratio</th>\n",
       "      <th>region</th>\n",
       "      <th>total faculty</th>\n",
       "      <th>total inter</th>\n",
       "      <th>inter faculty</th>\n",
       "      <th>total student</th>\n",
       "    </tr>\n",
       "  </thead>\n",
       "  <tbody>\n",
       "    <tr>\n",
       "      <th>0</th>\n",
       "      <td>United Kingdom</td>\n",
       "      <td>University of Oxford</td>\n",
       "      <td>1</td>\n",
       "      <td>10</td>\n",
       "      <td>20409</td>\n",
       "      <td>0.38</td>\n",
       "      <td>11.2</td>\n",
       "      <td>Europe</td>\n",
       "      <td>1822</td>\n",
       "      <td>7755</td>\n",
       "      <td>692</td>\n",
       "      <td>20409</td>\n",
       "    </tr>\n",
       "    <tr>\n",
       "      <th>1</th>\n",
       "      <td>United Kingdom</td>\n",
       "      <td>University of Cambridge</td>\n",
       "      <td>2</td>\n",
       "      <td>20</td>\n",
       "      <td>18389</td>\n",
       "      <td>0.35</td>\n",
       "      <td>10.9</td>\n",
       "      <td>Europe</td>\n",
       "      <td>1687</td>\n",
       "      <td>6436</td>\n",
       "      <td>590</td>\n",
       "      <td>18389</td>\n",
       "    </tr>\n",
       "    <tr>\n",
       "      <th>2</th>\n",
       "      <td>United States</td>\n",
       "      <td>California Institute of Technology</td>\n",
       "      <td>=3</td>\n",
       "      <td>30</td>\n",
       "      <td>2209</td>\n",
       "      <td>0.27</td>\n",
       "      <td>6.5</td>\n",
       "      <td>North America</td>\n",
       "      <td>339</td>\n",
       "      <td>596</td>\n",
       "      <td>91</td>\n",
       "      <td>2209</td>\n",
       "    </tr>\n",
       "    <tr>\n",
       "      <th>3</th>\n",
       "      <td>United States</td>\n",
       "      <td>Stanford University</td>\n",
       "      <td>=3</td>\n",
       "      <td>40</td>\n",
       "      <td>15845</td>\n",
       "      <td>0.22</td>\n",
       "      <td>7.5</td>\n",
       "      <td>North America</td>\n",
       "      <td>2112</td>\n",
       "      <td>3485</td>\n",
       "      <td>464</td>\n",
       "      <td>15845</td>\n",
       "    </tr>\n",
       "    <tr>\n",
       "      <th>4</th>\n",
       "      <td>United States</td>\n",
       "      <td>Massachusetts Institute of Technology</td>\n",
       "      <td>5</td>\n",
       "      <td>50</td>\n",
       "      <td>11177</td>\n",
       "      <td>0.34</td>\n",
       "      <td>8.7</td>\n",
       "      <td>North America</td>\n",
       "      <td>1284</td>\n",
       "      <td>3800</td>\n",
       "      <td>436</td>\n",
       "      <td>11177</td>\n",
       "    </tr>\n",
       "  </tbody>\n",
       "</table>\n",
       "</div>"
      ],
      "text/plain": [
       "          country                                   name rank rank_order  \\\n",
       "0  United Kingdom                   University of Oxford    1         10   \n",
       "1  United Kingdom                University of Cambridge    2         20   \n",
       "2   United States     California Institute of Technology   =3         30   \n",
       "3   United States                    Stanford University   =3         40   \n",
       "4   United States  Massachusetts Institute of Technology    5         50   \n",
       "\n",
       "   stats_number_students  stats_pc_intl_students  stats_student_staff_ratio  \\\n",
       "0                  20409                    0.38                       11.2   \n",
       "1                  18389                    0.35                       10.9   \n",
       "2                   2209                    0.27                        6.5   \n",
       "3                  15845                    0.22                        7.5   \n",
       "4                  11177                    0.34                        8.7   \n",
       "\n",
       "          region  total faculty  total inter  inter faculty  total student  \n",
       "0         Europe           1822         7755            692          20409  \n",
       "1         Europe           1687         6436            590          18389  \n",
       "2  North America            339          596             91           2209  \n",
       "3  North America           2112         3485            464          15845  \n",
       "4  North America           1284         3800            436          11177  "
      ]
     },
     "execution_count": 39,
     "metadata": {},
     "output_type": "execute_result"
    }
   ],
   "source": [
    "# convert the percentages to total amounts\n",
    "timesFrame[\"total faculty\"] =timesFrame[\"stats_number_students\"] / timesFrame[\"stats_student_staff_ratio\"]\n",
    "timesFrame[\"total inter\"]= timesFrame[\"stats_number_students\"]*timesFrame[\"stats_pc_intl_students\"]\n",
    "timesFrame[\"inter faculty\"] = timesFrame[\"total faculty\"] * timesFrame[\"stats_pc_intl_students\"]\n",
    "timesFrame[\"total student\"] = timesFrame[\"stats_number_students\"]\n",
    "\n",
    "# convert the total amounts to integers\n",
    "timesFrame[\"total faculty\"] = timesFrame[\"total faculty\"].apply(lambda x : int(x))\n",
    "timesFrame[\"total inter\"] = timesFrame[\"total inter\"].apply(lambda x : int(x))\n",
    "timesFrame[\"inter faculty\"] = timesFrame[\"inter faculty\"].apply(lambda x : int(x))\n",
    "\n",
    "\n",
    "timesFrame.head(5)"
   ]
  },
  {
   "cell_type": "code",
   "execution_count": 40,
   "metadata": {
    "collapsed": true
   },
   "outputs": [],
   "source": [
    "# remove the original entries\n",
    "del timesFrame[\"stats_student_staff_ratio\"]\n",
    "del timesFrame[\"stats_pc_intl_students\"]\n",
    "del timesFrame[\"stats_number_students\"]"
   ]
  },
  {
   "cell_type": "markdown",
   "metadata": {},
   "source": [
    "## Ratios"
   ]
  },
  {
   "cell_type": "code",
   "execution_count": 41,
   "metadata": {},
   "outputs": [
    {
     "data": {
      "text/html": [
       "<div>\n",
       "<style>\n",
       "    .dataframe thead tr:only-child th {\n",
       "        text-align: right;\n",
       "    }\n",
       "\n",
       "    .dataframe thead th {\n",
       "        text-align: left;\n",
       "    }\n",
       "\n",
       "    .dataframe tbody tr th {\n",
       "        vertical-align: top;\n",
       "    }\n",
       "</style>\n",
       "<table border=\"1\" class=\"dataframe\">\n",
       "  <thead>\n",
       "    <tr style=\"text-align: right;\">\n",
       "      <th></th>\n",
       "      <th>country</th>\n",
       "      <th>name</th>\n",
       "      <th>rank</th>\n",
       "      <th>rank_order</th>\n",
       "      <th>region</th>\n",
       "      <th>total faculty</th>\n",
       "      <th>total inter</th>\n",
       "      <th>inter faculty</th>\n",
       "      <th>total student</th>\n",
       "    </tr>\n",
       "  </thead>\n",
       "  <tbody>\n",
       "    <tr>\n",
       "      <th>105</th>\n",
       "      <td>United States</td>\n",
       "      <td>Vanderbilt University</td>\n",
       "      <td>=105</td>\n",
       "      <td>1060</td>\n",
       "      <td>North America</td>\n",
       "      <td>3639</td>\n",
       "      <td>1561</td>\n",
       "      <td>473</td>\n",
       "      <td>12011</td>\n",
       "    </tr>\n",
       "    <tr>\n",
       "      <th>109</th>\n",
       "      <td>Denmark</td>\n",
       "      <td>University of Copenhagen</td>\n",
       "      <td>=109</td>\n",
       "      <td>1100</td>\n",
       "      <td>Europe</td>\n",
       "      <td>7413</td>\n",
       "      <td>4255</td>\n",
       "      <td>1037</td>\n",
       "      <td>30395</td>\n",
       "    </tr>\n",
       "    <tr>\n",
       "      <th>12</th>\n",
       "      <td>United States</td>\n",
       "      <td>Johns Hopkins University</td>\n",
       "      <td>13</td>\n",
       "      <td>130</td>\n",
       "      <td>North America</td>\n",
       "      <td>3604</td>\n",
       "      <td>3719</td>\n",
       "      <td>865</td>\n",
       "      <td>15498</td>\n",
       "    </tr>\n",
       "    <tr>\n",
       "      <th>11</th>\n",
       "      <td>United States</td>\n",
       "      <td>Yale University</td>\n",
       "      <td>12</td>\n",
       "      <td>120</td>\n",
       "      <td>North America</td>\n",
       "      <td>2826</td>\n",
       "      <td>2552</td>\n",
       "      <td>593</td>\n",
       "      <td>12155</td>\n",
       "    </tr>\n",
       "    <tr>\n",
       "      <th>153</th>\n",
       "      <td>United States</td>\n",
       "      <td>University of Rochester</td>\n",
       "      <td>=153</td>\n",
       "      <td>1540</td>\n",
       "      <td>North America</td>\n",
       "      <td>2240</td>\n",
       "      <td>2794</td>\n",
       "      <td>649</td>\n",
       "      <td>9636</td>\n",
       "    </tr>\n",
       "  </tbody>\n",
       "</table>\n",
       "</div>"
      ],
      "text/plain": [
       "           country                      name  rank rank_order         region  \\\n",
       "105  United States     Vanderbilt University  =105       1060  North America   \n",
       "109        Denmark  University of Copenhagen  =109       1100         Europe   \n",
       "12   United States  Johns Hopkins University    13        130  North America   \n",
       "11   United States           Yale University    12        120  North America   \n",
       "153  United States   University of Rochester  =153       1540  North America   \n",
       "\n",
       "     total faculty  total inter  inter faculty  total student  \n",
       "105           3639         1561            473          12011  \n",
       "109           7413         4255           1037          30395  \n",
       "12            3604         3719            865          15498  \n",
       "11            2826         2552            593          12155  \n",
       "153           2240         2794            649           9636  "
      ]
     },
     "execution_count": 41,
     "metadata": {},
     "output_type": "execute_result"
    }
   ],
   "source": [
    "rank_by_ratio(timesFrame, \"total faculty\", \"total student\").head(5)"
   ]
  },
  {
   "cell_type": "code",
   "execution_count": 42,
   "metadata": {},
   "outputs": [
    {
     "data": {
      "text/html": [
       "<div>\n",
       "<style>\n",
       "    .dataframe thead tr:only-child th {\n",
       "        text-align: right;\n",
       "    }\n",
       "\n",
       "    .dataframe thead th {\n",
       "        text-align: left;\n",
       "    }\n",
       "\n",
       "    .dataframe tbody tr th {\n",
       "        vertical-align: top;\n",
       "    }\n",
       "</style>\n",
       "<table border=\"1\" class=\"dataframe\">\n",
       "  <thead>\n",
       "    <tr style=\"text-align: right;\">\n",
       "      <th></th>\n",
       "      <th>country</th>\n",
       "      <th>name</th>\n",
       "      <th>rank</th>\n",
       "      <th>rank_order</th>\n",
       "      <th>region</th>\n",
       "      <th>total faculty</th>\n",
       "      <th>total inter</th>\n",
       "      <th>inter faculty</th>\n",
       "      <th>total student</th>\n",
       "    </tr>\n",
       "  </thead>\n",
       "  <tbody>\n",
       "    <tr>\n",
       "      <th>24</th>\n",
       "      <td>United Kingdom</td>\n",
       "      <td>London School of Economics and Political Science</td>\n",
       "      <td>=25</td>\n",
       "      <td>250</td>\n",
       "      <td>Europe</td>\n",
       "      <td>825</td>\n",
       "      <td>7146</td>\n",
       "      <td>585</td>\n",
       "      <td>10065</td>\n",
       "    </tr>\n",
       "    <tr>\n",
       "      <th>178</th>\n",
       "      <td>Luxembourg</td>\n",
       "      <td>University of Luxembourg</td>\n",
       "      <td>=179</td>\n",
       "      <td>1790</td>\n",
       "      <td>Europe</td>\n",
       "      <td>340</td>\n",
       "      <td>2832</td>\n",
       "      <td>193</td>\n",
       "      <td>4969</td>\n",
       "    </tr>\n",
       "    <tr>\n",
       "      <th>7</th>\n",
       "      <td>United Kingdom</td>\n",
       "      <td>Imperial College London</td>\n",
       "      <td>8</td>\n",
       "      <td>80</td>\n",
       "      <td>Europe</td>\n",
       "      <td>1390</td>\n",
       "      <td>8721</td>\n",
       "      <td>765</td>\n",
       "      <td>15857</td>\n",
       "    </tr>\n",
       "    <tr>\n",
       "      <th>37</th>\n",
       "      <td>Switzerland</td>\n",
       "      <td>École Polytechnique Fédérale de Lausanne</td>\n",
       "      <td>=38</td>\n",
       "      <td>380</td>\n",
       "      <td>Europe</td>\n",
       "      <td>886</td>\n",
       "      <td>5460</td>\n",
       "      <td>487</td>\n",
       "      <td>9928</td>\n",
       "    </tr>\n",
       "    <tr>\n",
       "      <th>102</th>\n",
       "      <td>Netherlands</td>\n",
       "      <td>Maastricht University</td>\n",
       "      <td>103</td>\n",
       "      <td>1030</td>\n",
       "      <td>Europe</td>\n",
       "      <td>929</td>\n",
       "      <td>8363</td>\n",
       "      <td>464</td>\n",
       "      <td>16727</td>\n",
       "    </tr>\n",
       "  </tbody>\n",
       "</table>\n",
       "</div>"
      ],
      "text/plain": [
       "            country                                              name  rank  \\\n",
       "24   United Kingdom  London School of Economics and Political Science   =25   \n",
       "178      Luxembourg                          University of Luxembourg  =179   \n",
       "7    United Kingdom                           Imperial College London     8   \n",
       "37      Switzerland          École Polytechnique Fédérale de Lausanne   =38   \n",
       "102     Netherlands                             Maastricht University   103   \n",
       "\n",
       "    rank_order  region  total faculty  total inter  inter faculty  \\\n",
       "24         250  Europe            825         7146            585   \n",
       "178       1790  Europe            340         2832            193   \n",
       "7           80  Europe           1390         8721            765   \n",
       "37         380  Europe            886         5460            487   \n",
       "102       1030  Europe            929         8363            464   \n",
       "\n",
       "     total student  \n",
       "24           10065  \n",
       "178           4969  \n",
       "7            15857  \n",
       "37            9928  \n",
       "102          16727  "
      ]
     },
     "execution_count": 42,
     "metadata": {},
     "output_type": "execute_result"
    }
   ],
   "source": [
    "rank_by_ratio(timesFrame, \"total inter\", \"total student\").head(5)"
   ]
  },
  {
   "cell_type": "markdown",
   "metadata": {},
   "source": [
    "## Aggregations and plots"
   ]
  },
  {
   "cell_type": "code",
   "execution_count": 43,
   "metadata": {},
   "outputs": [
    {
     "data": {
      "text/plain": [
       "region\n",
       "Africa           0.179976\n",
       "Asia             0.152196\n",
       "Europe           0.224698\n",
       "North America    0.171996\n",
       "Oceania          0.309745\n",
       "dtype: float64"
      ]
     },
     "execution_count": 43,
     "metadata": {},
     "output_type": "execute_result"
    }
   ],
   "source": [
    "region_inter = timesFrame.groupby(\"region\")[\"total inter\"].mean()\n",
    "region_student = timesFrame.groupby(\"region\")[\"total student\"].mean()\n",
    "\n",
    "ratio = region_inter / region_student\n",
    "ratio"
   ]
  },
  {
   "cell_type": "code",
   "execution_count": 44,
   "metadata": {},
   "outputs": [
    {
     "data": {
      "image/png": "[encoded data removed]",
      "text/plain": [
       "<matplotlib.figure.Figure at 0x7f8abb264cf8>"
      ]
     },
     "metadata": {},
     "output_type": "display_data"
    }
   ],
   "source": [
    "ratio.plot.bar()\n",
    "plt.show()"
   ]
  },
  {
   "cell_type": "code",
   "execution_count": 45,
   "metadata": {},
   "outputs": [
    {
     "data": {
      "text/plain": [
       "country\n",
       "Australia             0.311979\n",
       "Austria               0.259986\n",
       "Belgium               0.182654\n",
       "Canada                0.224145\n",
       "China                 0.090106\n",
       "Denmark               0.145469\n",
       "Finland               0.110528\n",
       "France                0.190918\n",
       "Germany               0.149192\n",
       "Hong Kong             0.323925\n",
       "Ireland               0.269976\n",
       "Italy                 0.109544\n",
       "Japan                 0.090716\n",
       "Luxembourg            0.569934\n",
       "Netherlands           0.173033\n",
       "New Zealand           0.289970\n",
       "Norway                0.189975\n",
       "Russian Federation    0.219969\n",
       "Singapore             0.304522\n",
       "South Africa          0.179976\n",
       "South Korea           0.107385\n",
       "Spain                 0.149698\n",
       "Sweden                0.127296\n",
       "Switzerland           0.303592\n",
       "Taiwan                0.079980\n",
       "United Kingdom        0.357189\n",
       "United States         0.164370\n",
       "dtype: float64"
      ]
     },
     "execution_count": 45,
     "metadata": {},
     "output_type": "execute_result"
    }
   ],
   "source": [
    "region_inter = timesFrame.groupby(\"country\")[\"total inter\"].mean()\n",
    "region_student = timesFrame.groupby(\"country\")[\"total student\"].mean()\n",
    "\n",
    "ratio = region_inter / region_student\n",
    "ratio"
   ]
  },
  {
   "cell_type": "code",
   "execution_count": 46,
   "metadata": {},
   "outputs": [
    {
     "data": {
      "image/png": "[encoded data removed]",
      "text/plain": [
       "<matplotlib.figure.Figure at 0x7f8abb08b5f8>"
      ]
     },
     "metadata": {},
     "output_type": "display_data"
    }
   ],
   "source": [
    "highest_ratio = ratio.sort_values(ascending=False).head(10)\n",
    "highest_ratio.plot.bar()\n",
    "plt.show()"
   ]
  },
  {
   "cell_type": "markdown",
   "metadata": {},
   "source": [
    "# Merging the dataframes"
   ]
  },
  {
   "cell_type": "code",
   "execution_count": 47,
   "metadata": {
    "collapsed": true
   },
   "outputs": [],
   "source": [
    "from difflib import SequenceMatcher"
   ]
  },
  {
   "cell_type": "code",
   "execution_count": 48,
   "metadata": {},
   "outputs": [
    {
     "data": {
      "text/plain": [
       "0.7317073170731707"
      ]
     },
     "execution_count": 48,
     "metadata": {},
     "output_type": "execute_result"
    }
   ],
   "source": [
    "SequenceMatcher(None, \"University of Aachen\", \"University of Cologne\").ratio()"
   ]
  },
  {
   "cell_type": "code",
   "execution_count": 49,
   "metadata": {
    "collapsed": true
   },
   "outputs": [],
   "source": [
    "# we will rename the universities in the dataframe\n",
    "renamedFrame = dataframe.copy()"
   ]
  },
  {
   "cell_type": "code",
   "execution_count": 50,
   "metadata": {
    "collapsed": true
   },
   "outputs": [],
   "source": [
    "# find the closes matches\n",
    "names_a = renamedFrame[\"name\"]\n",
    "names_b = timesFrame[\"name\"]"
   ]
  },
  {
   "cell_type": "code",
   "execution_count": 51,
   "metadata": {
    "collapsed": true
   },
   "outputs": [],
   "source": [
    "# we map every name from names_a to a numpy array\n",
    "# an entry in the numpy array is the similarity with the corresponding name in names_b\n",
    "ratios={name_a : np.array([SequenceMatcher(None, name_a, name_b).ratio() for name_b in names_b])\n",
    "        for name_a in names_a}"
   ]
  },
  {
   "cell_type": "code",
   "execution_count": 52,
   "metadata": {
    "collapsed": true
   },
   "outputs": [],
   "source": [
    "# now we can find out the best fits\n",
    "best_fits = {name_a : names_b[np.argmax(ratios[name_a])] for name_a in names_a}"
   ]
  },
  {
   "cell_type": "code",
   "execution_count": 53,
   "metadata": {
    "collapsed": true
   },
   "outputs": [],
   "source": [
    "# now replace every name in dataFrame with the matched name\n",
    "renamedFrame[\"name\"] = renamedFrame[\"name\"].apply(lambda x : best_fits[x])"
   ]
  },
  {
   "cell_type": "code",
   "execution_count": 54,
   "metadata": {
    "collapsed": true
   },
   "outputs": [],
   "source": [
    "# now we can merge based on the name\n",
    "jointFrame = renamedFrame.merge(timesFrame, on=\"name\")"
   ]
  },
  {
   "cell_type": "code",
   "execution_count": 55,
   "metadata": {},
   "outputs": [
    {
     "data": {
      "text/html": [
       "<div>\n",
       "<style>\n",
       "    .dataframe thead tr:only-child th {\n",
       "        text-align: right;\n",
       "    }\n",
       "\n",
       "    .dataframe thead th {\n",
       "        text-align: left;\n",
       "    }\n",
       "\n",
       "    .dataframe tbody tr th {\n",
       "        vertical-align: top;\n",
       "    }\n",
       "</style>\n",
       "<table border=\"1\" class=\"dataframe\">\n",
       "  <thead>\n",
       "    <tr style=\"text-align: right;\">\n",
       "      <th></th>\n",
       "      <th>idx</th>\n",
       "      <th>name</th>\n",
       "      <th>rank_x</th>\n",
       "      <th>country_x</th>\n",
       "      <th>region_x</th>\n",
       "      <th>total faculty_x</th>\n",
       "      <th>inter faculty_x</th>\n",
       "      <th>total student_x</th>\n",
       "      <th>total inter_x</th>\n",
       "      <th>country_y</th>\n",
       "      <th>rank_y</th>\n",
       "      <th>rank_order</th>\n",
       "      <th>region_y</th>\n",
       "      <th>total faculty_y</th>\n",
       "      <th>total inter_y</th>\n",
       "      <th>inter faculty_y</th>\n",
       "      <th>total student_y</th>\n",
       "    </tr>\n",
       "  </thead>\n",
       "  <tbody>\n",
       "    <tr>\n",
       "      <th>0</th>\n",
       "      <td>0</td>\n",
       "      <td>Massachusetts Institute of Technology</td>\n",
       "      <td>1</td>\n",
       "      <td>United States</td>\n",
       "      <td>North America</td>\n",
       "      <td>2982.0</td>\n",
       "      <td>1679.0</td>\n",
       "      <td>11067.0</td>\n",
       "      <td>3717.0</td>\n",
       "      <td>United States</td>\n",
       "      <td>5</td>\n",
       "      <td>50</td>\n",
       "      <td>North America</td>\n",
       "      <td>1284</td>\n",
       "      <td>3800</td>\n",
       "      <td>436</td>\n",
       "      <td>11177</td>\n",
       "    </tr>\n",
       "    <tr>\n",
       "      <th>1</th>\n",
       "      <td>1</td>\n",
       "      <td>Stanford University</td>\n",
       "      <td>2</td>\n",
       "      <td>United States</td>\n",
       "      <td>North America</td>\n",
       "      <td>4285.0</td>\n",
       "      <td>2042.0</td>\n",
       "      <td>15878.0</td>\n",
       "      <td>3611.0</td>\n",
       "      <td>United States</td>\n",
       "      <td>=3</td>\n",
       "      <td>40</td>\n",
       "      <td>North America</td>\n",
       "      <td>2112</td>\n",
       "      <td>3485</td>\n",
       "      <td>464</td>\n",
       "      <td>15845</td>\n",
       "    </tr>\n",
       "    <tr>\n",
       "      <th>2</th>\n",
       "      <td>2</td>\n",
       "      <td>Harvard University</td>\n",
       "      <td>3</td>\n",
       "      <td>United States</td>\n",
       "      <td>North America</td>\n",
       "      <td>4350.0</td>\n",
       "      <td>1311.0</td>\n",
       "      <td>22429.0</td>\n",
       "      <td>5266.0</td>\n",
       "      <td>United States</td>\n",
       "      <td>6</td>\n",
       "      <td>60</td>\n",
       "      <td>North America</td>\n",
       "      <td>2283</td>\n",
       "      <td>5284</td>\n",
       "      <td>593</td>\n",
       "      <td>20326</td>\n",
       "    </tr>\n",
       "    <tr>\n",
       "      <th>3</th>\n",
       "      <td>122</td>\n",
       "      <td>Harvard University</td>\n",
       "      <td>122</td>\n",
       "      <td>Japan</td>\n",
       "      <td>Asia</td>\n",
       "      <td>2605.0</td>\n",
       "      <td>210.0</td>\n",
       "      <td>17552.0</td>\n",
       "      <td>1347.0</td>\n",
       "      <td>United States</td>\n",
       "      <td>6</td>\n",
       "      <td>60</td>\n",
       "      <td>North America</td>\n",
       "      <td>2283</td>\n",
       "      <td>5284</td>\n",
       "      <td>593</td>\n",
       "      <td>20326</td>\n",
       "    </tr>\n",
       "    <tr>\n",
       "      <th>4</th>\n",
       "      <td>3</td>\n",
       "      <td>California Institute of Technology</td>\n",
       "      <td>4</td>\n",
       "      <td>United States</td>\n",
       "      <td>North America</td>\n",
       "      <td>953.0</td>\n",
       "      <td>350.0</td>\n",
       "      <td>2255.0</td>\n",
       "      <td>647.0</td>\n",
       "      <td>United States</td>\n",
       "      <td>=3</td>\n",
       "      <td>30</td>\n",
       "      <td>North America</td>\n",
       "      <td>339</td>\n",
       "      <td>596</td>\n",
       "      <td>91</td>\n",
       "      <td>2209</td>\n",
       "    </tr>\n",
       "  </tbody>\n",
       "</table>\n",
       "</div>"
      ],
      "text/plain": [
       "   idx                                   name rank_x      country_x  \\\n",
       "0    0  Massachusetts Institute of Technology      1  United States   \n",
       "1    1                    Stanford University      2  United States   \n",
       "2    2                     Harvard University      3  United States   \n",
       "3  122                     Harvard University    122          Japan   \n",
       "4    3     California Institute of Technology      4  United States   \n",
       "\n",
       "        region_x  total faculty_x  inter faculty_x  total student_x  \\\n",
       "0  North America           2982.0           1679.0          11067.0   \n",
       "1  North America           4285.0           2042.0          15878.0   \n",
       "2  North America           4350.0           1311.0          22429.0   \n",
       "3           Asia           2605.0            210.0          17552.0   \n",
       "4  North America            953.0            350.0           2255.0   \n",
       "\n",
       "   total inter_x      country_y rank_y rank_order       region_y  \\\n",
       "0         3717.0  United States      5         50  North America   \n",
       "1         3611.0  United States     =3         40  North America   \n",
       "2         5266.0  United States      6         60  North America   \n",
       "3         1347.0  United States      6         60  North America   \n",
       "4          647.0  United States     =3         30  North America   \n",
       "\n",
       "   total faculty_y  total inter_y  inter faculty_y  total student_y  \n",
       "0             1284           3800              436            11177  \n",
       "1             2112           3485              464            15845  \n",
       "2             2283           5284              593            20326  \n",
       "3             2283           5284              593            20326  \n",
       "4              339            596               91             2209  "
      ]
     },
     "execution_count": 55,
     "metadata": {},
     "output_type": "execute_result"
    }
   ],
   "source": [
    "jointFrame.head(5)"
   ]
  },
  {
   "cell_type": "markdown",
   "metadata": {},
   "source": [
    "## There are two Harvard universities ?\n",
    "Maybe the best fits aren't good enough in some cases"
   ]
  },
  {
   "cell_type": "code",
   "execution_count": 56,
   "metadata": {},
   "outputs": [
    {
     "data": {
      "text/plain": [
       "['Hokkaido University', 'Harvard University']"
      ]
     },
     "execution_count": 56,
     "metadata": {},
     "output_type": "execute_result"
    }
   ],
   "source": [
    "harvard_clashes=[x for x in best_fits if \"harvard\" in best_fits[x].lower()]\n",
    "harvard_clashes"
   ]
  },
  {
   "cell_type": "code",
   "execution_count": 57,
   "metadata": {
    "collapsed": true
   },
   "outputs": [],
   "source": [
    "renamedFrame = dataframe.copy()\n",
    "\n",
    "# find the closes matches\n",
    "names_a = renamedFrame[\"name\"]\n",
    "names_b = timesFrame[\"name\"]\n",
    "\n",
    "# we map every name from names_a to a numpy array\n",
    "# an entry in the numpy array is the similarity with the corresponding name in names_b\n",
    "ratios={name_a : np.array([SequenceMatcher(None, name_a, name_b).ratio() for name_b in names_b])\n",
    "        for name_a in names_a}\n",
    "\n",
    "# we map every university to its best match\n",
    "# but only if the match is above a threshold\n",
    "threshold = 0.9\n",
    "best_fits = {name_a : (names_b[np.argmax(ratios[name_a])] if np.max(ratios[name_a])>threshold else name_a) for name_a in names_a}\n",
    "\n",
    "# now replace every name in dataFrame with the matched name\n",
    "renamedFrame[\"name\"] = renamedFrame[\"name\"].apply(lambda x : best_fits[x])"
   ]
  },
  {
   "cell_type": "code",
   "execution_count": 58,
   "metadata": {
    "collapsed": true
   },
   "outputs": [],
   "source": [
    "# now we can merge based on the name\n",
    "jointFrame = renamedFrame.merge(timesFrame, on=\"name\")"
   ]
  },
  {
   "cell_type": "code",
   "execution_count": 59,
   "metadata": {},
   "outputs": [
    {
     "data": {
      "text/html": [
       "<div>\n",
       "<style>\n",
       "    .dataframe thead tr:only-child th {\n",
       "        text-align: right;\n",
       "    }\n",
       "\n",
       "    .dataframe thead th {\n",
       "        text-align: left;\n",
       "    }\n",
       "\n",
       "    .dataframe tbody tr th {\n",
       "        vertical-align: top;\n",
       "    }\n",
       "</style>\n",
       "<table border=\"1\" class=\"dataframe\">\n",
       "  <thead>\n",
       "    <tr style=\"text-align: right;\">\n",
       "      <th></th>\n",
       "      <th>idx</th>\n",
       "      <th>name</th>\n",
       "      <th>rank_x</th>\n",
       "      <th>country_x</th>\n",
       "      <th>region_x</th>\n",
       "      <th>total faculty_x</th>\n",
       "      <th>inter faculty_x</th>\n",
       "      <th>total student_x</th>\n",
       "      <th>total inter_x</th>\n",
       "      <th>country_y</th>\n",
       "      <th>rank_y</th>\n",
       "      <th>rank_order</th>\n",
       "      <th>region_y</th>\n",
       "      <th>total faculty_y</th>\n",
       "      <th>total inter_y</th>\n",
       "      <th>inter faculty_y</th>\n",
       "      <th>total student_y</th>\n",
       "    </tr>\n",
       "  </thead>\n",
       "  <tbody>\n",
       "    <tr>\n",
       "      <th>0</th>\n",
       "      <td>0</td>\n",
       "      <td>Massachusetts Institute of Technology</td>\n",
       "      <td>1</td>\n",
       "      <td>United States</td>\n",
       "      <td>North America</td>\n",
       "      <td>2982.0</td>\n",
       "      <td>1679.0</td>\n",
       "      <td>11067.0</td>\n",
       "      <td>3717.0</td>\n",
       "      <td>United States</td>\n",
       "      <td>5</td>\n",
       "      <td>50</td>\n",
       "      <td>North America</td>\n",
       "      <td>1284</td>\n",
       "      <td>3800</td>\n",
       "      <td>436</td>\n",
       "      <td>11177</td>\n",
       "    </tr>\n",
       "    <tr>\n",
       "      <th>1</th>\n",
       "      <td>1</td>\n",
       "      <td>Stanford University</td>\n",
       "      <td>2</td>\n",
       "      <td>United States</td>\n",
       "      <td>North America</td>\n",
       "      <td>4285.0</td>\n",
       "      <td>2042.0</td>\n",
       "      <td>15878.0</td>\n",
       "      <td>3611.0</td>\n",
       "      <td>United States</td>\n",
       "      <td>=3</td>\n",
       "      <td>40</td>\n",
       "      <td>North America</td>\n",
       "      <td>2112</td>\n",
       "      <td>3485</td>\n",
       "      <td>464</td>\n",
       "      <td>15845</td>\n",
       "    </tr>\n",
       "    <tr>\n",
       "      <th>2</th>\n",
       "      <td>2</td>\n",
       "      <td>Harvard University</td>\n",
       "      <td>3</td>\n",
       "      <td>United States</td>\n",
       "      <td>North America</td>\n",
       "      <td>4350.0</td>\n",
       "      <td>1311.0</td>\n",
       "      <td>22429.0</td>\n",
       "      <td>5266.0</td>\n",
       "      <td>United States</td>\n",
       "      <td>6</td>\n",
       "      <td>60</td>\n",
       "      <td>North America</td>\n",
       "      <td>2283</td>\n",
       "      <td>5284</td>\n",
       "      <td>593</td>\n",
       "      <td>20326</td>\n",
       "    </tr>\n",
       "    <tr>\n",
       "      <th>3</th>\n",
       "      <td>4</td>\n",
       "      <td>University of Cambridge</td>\n",
       "      <td>5</td>\n",
       "      <td>United Kingdom</td>\n",
       "      <td>Europe</td>\n",
       "      <td>5490.0</td>\n",
       "      <td>2278.0</td>\n",
       "      <td>18770.0</td>\n",
       "      <td>6699.0</td>\n",
       "      <td>United Kingdom</td>\n",
       "      <td>2</td>\n",
       "      <td>20</td>\n",
       "      <td>Europe</td>\n",
       "      <td>1687</td>\n",
       "      <td>6436</td>\n",
       "      <td>590</td>\n",
       "      <td>18389</td>\n",
       "    </tr>\n",
       "    <tr>\n",
       "      <th>4</th>\n",
       "      <td>5</td>\n",
       "      <td>University of Oxford</td>\n",
       "      <td>6</td>\n",
       "      <td>United Kingdom</td>\n",
       "      <td>Europe</td>\n",
       "      <td>6750.0</td>\n",
       "      <td>2964.0</td>\n",
       "      <td>19720.0</td>\n",
       "      <td>7353.0</td>\n",
       "      <td>United Kingdom</td>\n",
       "      <td>1</td>\n",
       "      <td>10</td>\n",
       "      <td>Europe</td>\n",
       "      <td>1822</td>\n",
       "      <td>7755</td>\n",
       "      <td>692</td>\n",
       "      <td>20409</td>\n",
       "    </tr>\n",
       "  </tbody>\n",
       "</table>\n",
       "</div>"
      ],
      "text/plain": [
       "  idx                                   name rank_x       country_x  \\\n",
       "0   0  Massachusetts Institute of Technology      1   United States   \n",
       "1   1                    Stanford University      2   United States   \n",
       "2   2                     Harvard University      3   United States   \n",
       "3   4                University of Cambridge      5  United Kingdom   \n",
       "4   5                   University of Oxford      6  United Kingdom   \n",
       "\n",
       "        region_x  total faculty_x  inter faculty_x  total student_x  \\\n",
       "0  North America           2982.0           1679.0          11067.0   \n",
       "1  North America           4285.0           2042.0          15878.0   \n",
       "2  North America           4350.0           1311.0          22429.0   \n",
       "3         Europe           5490.0           2278.0          18770.0   \n",
       "4         Europe           6750.0           2964.0          19720.0   \n",
       "\n",
       "   total inter_x       country_y rank_y rank_order       region_y  \\\n",
       "0         3717.0   United States      5         50  North America   \n",
       "1         3611.0   United States     =3         40  North America   \n",
       "2         5266.0   United States      6         60  North America   \n",
       "3         6699.0  United Kingdom      2         20         Europe   \n",
       "4         7353.0  United Kingdom      1         10         Europe   \n",
       "\n",
       "   total faculty_y  total inter_y  inter faculty_y  total student_y  \n",
       "0             1284           3800              436            11177  \n",
       "1             2112           3485              464            15845  \n",
       "2             2283           5284              593            20326  \n",
       "3             1687           6436              590            18389  \n",
       "4             1822           7755              692            20409  "
      ]
     },
     "execution_count": 59,
     "metadata": {},
     "output_type": "execute_result"
    }
   ],
   "source": [
    "jointFrame.head(5)"
   ]
  },
  {
   "cell_type": "markdown",
   "metadata": {},
   "source": [
    "## Correlations in the data"
   ]
  },
  {
   "cell_type": "code",
   "execution_count": 60,
   "metadata": {},
   "outputs": [
    {
     "data": {
      "text/plain": [
       "0.62176190294091582"
      ]
     },
     "execution_count": 60,
     "metadata": {},
     "output_type": "execute_result"
    }
   ],
   "source": [
    "# calculating percentages of international faculty and students\n",
    "jointFrame[\"inter faculty_x\"]=jointFrame[\"inter faculty_x\"].astype(int)\n",
    "jointFrame[\"total faculty_x\"]=jointFrame[\"total faculty_x\"].astype(int)\n",
    "jointFrame[\"percentage faculty_inter_x\"]=jointFrame[\"inter faculty_x\"] / jointFrame[\"total faculty_x\"]\n",
    "\n",
    "\n",
    "jointFrame[\"total inter_x\"]=jointFrame[\"total inter_x\"].astype(int)\n",
    "jointFrame[\"total student_x\"]=jointFrame[\"total student_x\"].astype(int)\n",
    "jointFrame[\"percentage student_inter_x\"]=jointFrame[\"total inter_x\"] / jointFrame[\"total student_x\"]\n",
    "\n",
    "# within the data from topuniversities the international students and faculty members correlate\n",
    "# but it is not a strong correlation\n",
    "jointFrame[\"percentage student_inter_x\"].corr(jointFrame[\"percentage faculty_inter_x\"])"
   ]
  },
  {
   "cell_type": "code",
   "execution_count": 61,
   "metadata": {},
   "outputs": [
    {
     "data": {
      "text/plain": [
       "0.99997194163568015"
      ]
     },
     "execution_count": 61,
     "metadata": {},
     "output_type": "execute_result"
    }
   ],
   "source": [
    "# calculating percentages of international faculty and students\n",
    "jointFrame[\"inter faculty_y\"]=jointFrame[\"inter faculty_y\"].astype(int)\n",
    "jointFrame[\"total faculty_y\"]=jointFrame[\"total faculty_y\"].astype(int)\n",
    "jointFrame[\"percentage faculty_inter_y\"]=jointFrame[\"inter faculty_y\"] / jointFrame[\"total faculty_y\"]\n",
    "\n",
    "\n",
    "jointFrame[\"total inter_y\"]=jointFrame[\"total inter_y\"].astype(int)\n",
    "jointFrame[\"total student_y\"]=jointFrame[\"total student_y\"].astype(int)\n",
    "jointFrame[\"percentage student_inter_y\"]=jointFrame[\"total inter_y\"] / jointFrame[\"total student_y\"]\n",
    "\n",
    "# within the times data, the correlation is extremely strong\n",
    "# this is because in the times data there is no information on international faculty\n",
    "# we estimated the percentage of the faculty based on the percentage of international students\n",
    "# so this correlation was programmed into the data by us\n",
    "jointFrame[\"percentage student_inter_y\"].corr(jointFrame[\"percentage faculty_inter_y\"])"
   ]
  },
  {
   "cell_type": "markdown",
   "metadata": {},
   "source": [
    "## Looking for a stronger correlation"
   ]
  },
  {
   "cell_type": "code",
   "execution_count": 62,
   "metadata": {},
   "outputs": [
    {
     "data": {
      "text/plain": [
       "0.70786287396636216"
      ]
     },
     "execution_count": 62,
     "metadata": {},
     "output_type": "execute_result"
    }
   ],
   "source": [
    "# do the ranks correlate between the two frames\n",
    "jointFrame[\"rank_x\"]=jointFrame[\"rank_x\"].astype(int)\n",
    "jointFrame[\"rank_order\"]=jointFrame[\"rank_order\"].astype(int)\n",
    "\n",
    "\n",
    "# yes, but not as strongly as I would have expected\n",
    "jointFrame[\"rank_x\"].corr(jointFrame[\"rank_order\"])"
   ]
  },
  {
   "cell_type": "code",
   "execution_count": 63,
   "metadata": {},
   "outputs": [
    {
     "data": {
      "text/plain": [
       "-0.25048219411388095"
      ]
     },
     "execution_count": 63,
     "metadata": {},
     "output_type": "execute_result"
    }
   ],
   "source": [
    "# do international students and ranks correlate ?\n",
    "# let's take the mean of the columns for rank and international percentages\n",
    "\n",
    "jointFrame[\"rank_order\"]=jointFrame[\"rank_order\"].astype(int)\n",
    "jointFrame[\"rank_order_rescaled\"] = jointFrame[\"rank_order\"]/10\n",
    "mean_rank = jointFrame[[\"rank_x\", \"rank_order_rescaled\"]].mean(axis=1)\n",
    "\n",
    "mean_international = jointFrame[[\"percentage faculty_inter_x\", \"percentage student_inter_x\",\n",
    "                                 \"percentage faculty_inter_y\", \"percentage student_inter_y\"]].mean(axis=1)\n",
    "\n",
    "# that is unexpected\n",
    "# the rank goes down with the number of international students\n",
    "# the correlation is very weak\n",
    "mean_rank.corr(mean_international)"
   ]
  },
  {
   "cell_type": "code",
   "execution_count": 64,
   "metadata": {},
   "outputs": [
    {
     "data": {
      "text/plain": [
       "-0.28849206291329393"
      ]
     },
     "execution_count": 64,
     "metadata": {},
     "output_type": "execute_result"
    }
   ],
   "source": [
    "# does the staff ration correlate with the rank\n",
    "# do international students and ranks correlate ?\n",
    "# let's take the mean of the columns for rank and international percentages\n",
    "\n",
    "jointFrame[\"staff ratio_x\"]=jointFrame[\"total faculty_x\"] / jointFrame[\"total student_x\"]\n",
    "jointFrame[\"staff ratio_y\"]=jointFrame[\"total faculty_y\"] / jointFrame[\"total student_y\"]\n",
    "           \n",
    "mean_ratio = jointFrame[[\"staff ratio_x\", \"staff ratio_y\"]].mean(axis=1)\n",
    "           \n",
    "# again: an unexpected weak negative correlation\n",
    "mean_rank.corr(mean_ratio)"
   ]
  },
  {
   "cell_type": "code",
   "execution_count": null,
   "metadata": {
    "collapsed": true
   },
   "outputs": [],
   "source": []
  },
  {
   "cell_type": "code",
   "execution_count": null,
   "metadata": {
    "collapsed": true
   },
   "outputs": [],
   "source": []
  }
 ],
 "metadata": {
  "kernelspec": {
   "display_name": "Python [conda root]",
   "language": "python",
   "name": "conda-root-py"
  }
 },
 "nbformat": 4,
 "nbformat_minor": 2
}
