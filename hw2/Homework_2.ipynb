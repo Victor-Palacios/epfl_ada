{
 "cells": [
  {
   "cell_type": "markdown",
   "metadata": {},
   "source": [
    "# 02 - Data from the Web\n",
    "\n",
    "## Deadline\n",
    "Wednesday October 25, 2017 at 11:59PM\n",
    "\n",
    "## Important Notes\n",
    "* Make sure you push on GitHub your Notebook with all the cells already evaluated (i.e., you don't want your colleagues to generate unnecessary Web traffic during the peer review)\n",
    "* Don't forget to add a textual description of your thought process, the assumptions you made, and the solution you plan to implement!\n",
    "* Please write all your comments in English, and use meaningful variable names in your code.\n",
    "\n",
    "## Background\n",
    "In this homework we will extract interesting information from www.topuniversities.com and www.timeshighereducation.com, two platforms that maintain a global ranking of worldwide universities. This ranking is not offered as a downloadable dataset, so you will have to find a way to scrape the information we need!\n",
    "You are not allowed to download manually the entire ranking -- rather you have to understand how the server loads it in your browser. For this task, Postman with the Interceptor extension can help you greatly. We recommend that you watch this [brief tutorial](https://www.youtube.com/watch?v=jBjXVrS8nXs&list=PLM-7VG-sgbtD8qBnGeQM5nvlpqB_ktaLZ&autoplay=1) to understand quickly how to use it.\n",
    "\n",
    "## Assignment\n",
    "1. Obtain the 200 top-ranking universities in www.topuniversities.com ([ranking 2018](https://www.topuniversities.com/university-rankings/world-university-rankings/2018)). In particular, extract the following fields for each university: name, rank, country and region, number of faculty members (international and total) and number of students (international and total). Some information is not available in the main list and you have to find them in the [details page](https://www.topuniversities.com/universities/ecole-polytechnique-fédérale-de-lausanne-epfl).\n",
    "Store the resulting dataset in a pandas DataFrame and answer the following questions:\n",
    "- Which are the best universities in term of: (a) ratio between faculty members and students, (b) ratio of international students?\n",
    "- Answer the previous question aggregating the data by (c) country and (d) region.\n",
    "\n",
    "Plot your data using bar charts and describe briefly what you observed.\n",
    "\n",
    "2. Obtain the 200 top-ranking universities in www.timeshighereducation.com ([ranking 2018](http://timeshighereducation.com/world-university-rankings/2018/world-ranking)). Repeat the analysis of the previous point and discuss briefly what you observed.\n",
    "\n",
    "3. Merge the two DataFrames created in questions 1 and 2 using university names. Match universities' names as well as you can, and explain your strategy. Keep track of the original position in both rankings.\n",
    "\n",
    "4. Find useful insights in the data by performing an exploratory analysis. Can you find a strong correlation between any pair of variables in the dataset you just created? Example: when a university is strong in its international dimension, can you observe a consistency both for students and faculty members?\n",
    "\n",
    "5. Can you find the best university taking in consideration both rankings? Explain your approach.\n",
    "\n",
    "Hints:\n",
    "- Keep your Notebook clean and don't print the verbose output of the requests if this does not add useful information for the reader.\n",
    "- In case of tie, use the order defined in the webpage.\n"
   ]
  },
  {
   "cell_type": "markdown",
   "metadata": {},
   "source": [
    "# Solution"
   ]
  },
  {
   "cell_type": "markdown",
   "metadata": {},
   "source": [
    "## Question 1\n",
    "First let's try to do the request on the https://www.topuniversities.com/university-rankings/world-university-rankings/2018 url just to see what we get."
   ]
  },
  {
   "cell_type": "code",
   "execution_count": 1,
   "metadata": {
    "collapsed": true
   },
   "outputs": [],
   "source": [
    "import requests\n",
    "from bs4 import BeautifulSoup"
   ]
  },
  {
   "cell_type": "code",
   "execution_count": 2,
   "metadata": {},
   "outputs": [
    {
     "data": {
      "text/plain": [
       "[<td class=\"uni\">\n",
       " <div class=\"td-wrap\">UNIVERSITY</div>\n",
       " </td>, <td class=\"uni-search uni\">\n",
       " <div class=\"td-wrap\"></div>\n",
       " </td>, <td class=\"uni-search uni\">\n",
       " <div class=\"td-wrap\">\n",
       " <input class=\"form-control\" placeholder=\"University search\" type=\"text\">\n",
       " </input></div>\n",
       " </td>]"
      ]
     },
     "execution_count": 2,
     "metadata": {},
     "output_type": "execute_result"
    }
   ],
   "source": [
    "r = requests.get('https://www.topuniversities.com/university-rankings/world-university-rankings/2018')\n",
    "soup = BeautifulSoup(r.text, 'html.parser')\n",
    "\n",
    "soup.findAll(\"td\", {\"class\":\"uni\"})"
   ]
  },
  {
   "cell_type": "markdown",
   "metadata": {},
   "source": [
    "If we do Ctrl+F and try to look for \"Imperial College London\" for example, we don't get anything in the Beautifoul soup HTML even if the string is clearly on the webpage. This is because the data is not loaded at the beginning when the HTML request is answered. It is loaded later and the ranking data is in a separate file. Using Google Chrome Interceptor we figured out the file is at https://www.topuniversities.com/sites/default/files/qs-rankings-data/357051_indicators.txt. So this is the webpage we will scrape instead of the ranking webpage:"
   ]
  },
  {
   "cell_type": "code",
   "execution_count": 3,
   "metadata": {
    "collapsed": true
   },
   "outputs": [],
   "source": [
    "from html import parser\n",
    "import os"
   ]
  },
  {
   "cell_type": "code",
   "execution_count": 4,
   "metadata": {
    "collapsed": true
   },
   "outputs": [],
   "source": [
    "base_url = 'https://www.topuniversities.com/'\n",
    "\n",
    "# create a subclass and override the handler methods\n",
    "class QSHTMLParser(parser.HTMLParser):\n",
    "    def handle_starttag(self, tag, attrs):\n",
    "        if not hasattr(self, 'array_hrefs'):\n",
    "            self.array_hrefs = []\n",
    "        if tag == 'a':\n",
    "            self.last_tag_url = os.path.join(base_url, attrs[0][1][1:])\n",
    "            \n",
    "    def handle_data(self, data):\n",
    "        self.array_hrefs.append({\"url\": self.last_tag_url, \"name\": data})"
   ]
  },
  {
   "cell_type": "code",
   "execution_count": 5,
   "metadata": {
    "collapsed": true
   },
   "outputs": [],
   "source": [
    "request_ranking_text_file = requests.get('https://www.topuniversities.com/sites/default/files/qs-rankings-data/357051_indicators.txt')"
   ]
  },
  {
   "cell_type": "code",
   "execution_count": 6,
   "metadata": {},
   "outputs": [
    {
     "data": {
      "text/plain": [
       "[{'location': 'United States',\n",
       "  'name': 'Massachusetts Institute of Technology (MIT) ',\n",
       "  'rank': '1',\n",
       "  'region': 'North America',\n",
       "  'url': 'https://www.topuniversities.com/universities/massachusetts-institute-technology-mit'},\n",
       " {'location': 'United States',\n",
       "  'name': 'Stanford University',\n",
       "  'rank': '2',\n",
       "  'region': 'North America',\n",
       "  'url': 'https://www.topuniversities.com/universities/stanford-university'},\n",
       " {'location': 'United States',\n",
       "  'name': 'Harvard University',\n",
       "  'rank': '3',\n",
       "  'region': 'North America',\n",
       "  'url': 'https://www.topuniversities.com/universities/harvard-university'},\n",
       " {'location': 'United States',\n",
       "  'name': 'California Institute of Technology (Caltech)',\n",
       "  'rank': '4',\n",
       "  'region': 'North America',\n",
       "  'url': 'https://www.topuniversities.com/universities/california-institute-technology-caltech'}]"
      ]
     },
     "execution_count": 6,
     "metadata": {},
     "output_type": "execute_result"
    }
   ],
   "source": [
    "# We want to keep track of this for the other ranking where there is no region information:\n",
    "location_region_dict = {}\n",
    "\n",
    "json_ranking = request_ranking_text_file.json()\n",
    "ranking_data = json_ranking['data']\n",
    "\n",
    "# We have to sort the data based on the ranking because some universities are out of order inside the file\n",
    "ranking_data.sort(key = lambda x: int(x['overall_rank']))\n",
    "\n",
    "parser = QSHTMLParser()\n",
    "\n",
    "for university in ranking_data[:200]:\n",
    "    parser.feed(university['uni'])\n",
    "        \n",
    "basic_data = parser.array_hrefs\n",
    "for i, university in enumerate(ranking_data[:200]):\n",
    "    curr_uni = basic_data[i]\n",
    "    curr_uni['region'] = university['region']\n",
    "    curr_uni['location'] = university['location']\n",
    "    curr_uni['rank'] = university['overall_rank']\n",
    "    if university['location'] not in location_region_dict:\n",
    "        location_region_dict[university['location']] = university['region']\n",
    "    \n",
    "basic_data[0:4]"
   ]
  },
  {
   "cell_type": "markdown",
   "metadata": {},
   "source": [
    "Now we have the URLs of the first 200 universities. Let's take a closer look et the EPFL detail page:"
   ]
  },
  {
   "cell_type": "code",
   "execution_count": 7,
   "metadata": {
    "collapsed": true
   },
   "outputs": [],
   "source": [
    "import re"
   ]
  },
  {
   "cell_type": "code",
   "execution_count": 8,
   "metadata": {},
   "outputs": [
    {
     "data": {
      "text/plain": [
       "{'staff_international': 1300,\n",
       " 'staff_total': 1695,\n",
       " 'students_international': 5896,\n",
       " 'students_total': 10343}"
      ]
     },
     "execution_count": 8,
     "metadata": {},
     "output_type": "execute_result"
    }
   ],
   "source": [
    "# this shows how to extract information on faculty and students\n",
    "# we use epfl as a sample\n",
    "\n",
    "# set up the soup for epfl\n",
    "url_epfl = basic_data[11]['url']\n",
    "request_epfl = requests.get(url_epfl)\n",
    "soup_epfl = BeautifulSoup(request_epfl.text, 'html.parser')\n",
    "\n",
    "# crawl it for divs with numbers\n",
    "div_details = soup_epfl.find_all('div', {\"class\": \"view-academic-data-profile\"})[0]\n",
    "div_details.find_all('div', {\"class\": \"number\"})\n",
    "test_det = div_details.find_all('div', {\"class\": \"number\"})\n",
    "\n",
    "# the divs are ordered we can go through them one by one\n",
    "number_students = {}\n",
    "student_values = [\"staff_total\", \"staff_international\", \"students_total\", \"students_international\"]\n",
    "\n",
    "for i in range(0, 4):\n",
    "    number = int(re.sub('[,]', '', test_det[i].get_text()))\n",
    "    number_students[student_values[i]] = number\n",
    "number_students"
   ]
  },
  {
   "cell_type": "markdown",
   "metadata": {},
   "source": [
    "That's it, the code is maybe a little messy but with some browser inspection we used browser inspection to figure out how the webpage is structured.\n",
    "Now let us generalize this to all the 200 first universities:"
   ]
  },
  {
   "cell_type": "code",
   "execution_count": 9,
   "metadata": {
    "collapsed": true
   },
   "outputs": [],
   "source": [
    "number_students_per_fac = {}\n",
    "student_values = [\"staff_total\", \"staff_international\", \"students_total\", \"students_international\"]\n",
    "\n",
    "for i, data in enumerate(basic_data):\n",
    "    url = data['url']\n",
    "    # print(\"Processing \", i, \": \", url)\n",
    "    request_uni = requests.get(url)\n",
    "    soup_uni = BeautifulSoup(request_uni.text, 'html.parser')\n",
    "    \n",
    "    div_details = soup_uni.find_all('div', {\"class\": \"view-academic-data-profile\"})[0]\n",
    "    test_det = div_details.find_all('div', {\"class\": \"number\"})\n",
    "    \n",
    "    number_students = {}\n",
    "    if len(test_det) == 4:\n",
    "        for j in range(0, 4):\n",
    "            number = int(re.sub('[,]', '', test_det[j].get_text()))\n",
    "            basic_data[i][student_values[j]] = number\n",
    "            \n",
    "    number_students_per_fac[url] = number_students"
   ]
  },
  {
   "cell_type": "markdown",
   "metadata": {},
   "source": [
    "That's it, we have all the data for the number of students. We can convince ourselves that this is right by taking a university at random and visiting the corresponding webpage.\n",
    "\n",
    "Now we simply construct our dataframe (omitting the urls) and set the rank as the key:"
   ]
  },
  {
   "cell_type": "code",
   "execution_count": 10,
   "metadata": {
    "collapsed": true
   },
   "outputs": [],
   "source": [
    "import pandas as pd"
   ]
  },
  {
   "cell_type": "code",
   "execution_count": 11,
   "metadata": {},
   "outputs": [
    {
     "data": {
      "text/html": [
       "<div>\n",
       "<style>\n",
       "    .dataframe thead tr:only-child th {\n",
       "        text-align: right;\n",
       "    }\n",
       "\n",
       "    .dataframe thead th {\n",
       "        text-align: left;\n",
       "    }\n",
       "\n",
       "    .dataframe tbody tr th {\n",
       "        vertical-align: top;\n",
       "    }\n",
       "</style>\n",
       "<table border=\"1\" class=\"dataframe\">\n",
       "  <thead>\n",
       "    <tr style=\"text-align: right;\">\n",
       "      <th></th>\n",
       "      <th>location</th>\n",
       "      <th>name</th>\n",
       "      <th>rank</th>\n",
       "      <th>region</th>\n",
       "      <th>staff_international</th>\n",
       "      <th>staff_total</th>\n",
       "      <th>students_international</th>\n",
       "      <th>students_total</th>\n",
       "    </tr>\n",
       "  </thead>\n",
       "  <tbody>\n",
       "    <tr>\n",
       "      <th>0</th>\n",
       "      <td>United States</td>\n",
       "      <td>Massachusetts Institute of Technology (MIT)</td>\n",
       "      <td>1</td>\n",
       "      <td>North America</td>\n",
       "      <td>1679.0</td>\n",
       "      <td>2982.0</td>\n",
       "      <td>3717.0</td>\n",
       "      <td>11067.0</td>\n",
       "    </tr>\n",
       "    <tr>\n",
       "      <th>1</th>\n",
       "      <td>United States</td>\n",
       "      <td>Stanford University</td>\n",
       "      <td>2</td>\n",
       "      <td>North America</td>\n",
       "      <td>2042.0</td>\n",
       "      <td>4285.0</td>\n",
       "      <td>3611.0</td>\n",
       "      <td>15878.0</td>\n",
       "    </tr>\n",
       "    <tr>\n",
       "      <th>2</th>\n",
       "      <td>United States</td>\n",
       "      <td>Harvard University</td>\n",
       "      <td>3</td>\n",
       "      <td>North America</td>\n",
       "      <td>1311.0</td>\n",
       "      <td>4350.0</td>\n",
       "      <td>5266.0</td>\n",
       "      <td>22429.0</td>\n",
       "    </tr>\n",
       "    <tr>\n",
       "      <th>3</th>\n",
       "      <td>United States</td>\n",
       "      <td>California Institute of Technology (Caltech)</td>\n",
       "      <td>4</td>\n",
       "      <td>North America</td>\n",
       "      <td>350.0</td>\n",
       "      <td>953.0</td>\n",
       "      <td>647.0</td>\n",
       "      <td>2255.0</td>\n",
       "    </tr>\n",
       "    <tr>\n",
       "      <th>4</th>\n",
       "      <td>United Kingdom</td>\n",
       "      <td>University of Cambridge</td>\n",
       "      <td>5</td>\n",
       "      <td>Europe</td>\n",
       "      <td>2278.0</td>\n",
       "      <td>5490.0</td>\n",
       "      <td>6699.0</td>\n",
       "      <td>18770.0</td>\n",
       "    </tr>\n",
       "  </tbody>\n",
       "</table>\n",
       "</div>"
      ],
      "text/plain": [
       "         location                                          name rank  \\\n",
       "0   United States  Massachusetts Institute of Technology (MIT)     1   \n",
       "1   United States                           Stanford University    2   \n",
       "2   United States                            Harvard University    3   \n",
       "3   United States  California Institute of Technology (Caltech)    4   \n",
       "4  United Kingdom                       University of Cambridge    5   \n",
       "\n",
       "          region  staff_international  staff_total  students_international  \\\n",
       "0  North America               1679.0       2982.0                  3717.0   \n",
       "1  North America               2042.0       4285.0                  3611.0   \n",
       "2  North America               1311.0       4350.0                  5266.0   \n",
       "3  North America                350.0        953.0                   647.0   \n",
       "4         Europe               2278.0       5490.0                  6699.0   \n",
       "\n",
       "   students_total  \n",
       "0         11067.0  \n",
       "1         15878.0  \n",
       "2         22429.0  \n",
       "3          2255.0  \n",
       "4         18770.0  "
      ]
     },
     "execution_count": 11,
     "metadata": {},
     "output_type": "execute_result"
    }
   ],
   "source": [
    "basic_data_without_url = [dict(uni) for uni in basic_data]\n",
    "for uni in basic_data_without_url:\n",
    "    del uni[\"url\"]\n",
    "\n",
    "qs_dataframe = pd.DataFrame.from_dict(basic_data_without_url)\n",
    "qs_dataframe.head(5)"
   ]
  },
  {
   "cell_type": "markdown",
   "metadata": {},
   "source": [
    "Let's check if we can use the rank as an index (i.e. are all ranks unique or do some universities share the same rank ?)"
   ]
  },
  {
   "cell_type": "code",
   "execution_count": 12,
   "metadata": {},
   "outputs": [
    {
     "data": {
      "text/plain": [
       "False"
      ]
     },
     "execution_count": 12,
     "metadata": {},
     "output_type": "execute_result"
    }
   ],
   "source": [
    "qs_dataframe[\"rank\"].is_monotonic_increasing"
   ]
  },
  {
   "cell_type": "markdown",
   "metadata": {},
   "source": [
    "That's a no ! So let's just convert it to a number:"
   ]
  },
  {
   "cell_type": "code",
   "execution_count": 13,
   "metadata": {
    "collapsed": true
   },
   "outputs": [],
   "source": [
    "qs_dataframe[\"rank\"] = qs_dataframe[\"rank\"].astype(int)"
   ]
  },
  {
   "cell_type": "markdown",
   "metadata": {},
   "source": [
    "That's it! There is just one thing we have to noctice here: there are two universities (NYU at index 51 and IISc at index 189) where we do not have the info about the number of students / staff members. And indeed, if we visit the webpages we see that the information is not there.\n",
    "For NYU we don't have anything so we leave it like that (we will see how to deal with the NaN values depending on the questions later). For ISSc we can see 3 out of the 4 informations on the webpage so we will enter it manually:"
   ]
  },
  {
   "cell_type": "code",
   "execution_count": 14,
   "metadata": {},
   "outputs": [
    {
     "data": {
      "text/html": [
       "<div>\n",
       "<style>\n",
       "    .dataframe thead tr:only-child th {\n",
       "        text-align: right;\n",
       "    }\n",
       "\n",
       "    .dataframe thead th {\n",
       "        text-align: left;\n",
       "    }\n",
       "\n",
       "    .dataframe tbody tr th {\n",
       "        vertical-align: top;\n",
       "    }\n",
       "</style>\n",
       "<table border=\"1\" class=\"dataframe\">\n",
       "  <thead>\n",
       "    <tr style=\"text-align: right;\">\n",
       "      <th></th>\n",
       "      <th>location</th>\n",
       "      <th>name</th>\n",
       "      <th>rank</th>\n",
       "      <th>region</th>\n",
       "      <th>staff_international</th>\n",
       "      <th>staff_total</th>\n",
       "      <th>students_international</th>\n",
       "      <th>students_total</th>\n",
       "    </tr>\n",
       "  </thead>\n",
       "  <tbody>\n",
       "    <tr>\n",
       "      <th>51</th>\n",
       "      <td>United States</td>\n",
       "      <td>New York University (NYU)</td>\n",
       "      <td>52</td>\n",
       "      <td>North America</td>\n",
       "      <td>NaN</td>\n",
       "      <td>NaN</td>\n",
       "      <td>NaN</td>\n",
       "      <td>NaN</td>\n",
       "    </tr>\n",
       "    <tr>\n",
       "      <th>189</th>\n",
       "      <td>India</td>\n",
       "      <td>Indian Institute of Science (IISc) Bangalore</td>\n",
       "      <td>190</td>\n",
       "      <td>Asia</td>\n",
       "      <td>NaN</td>\n",
       "      <td>NaN</td>\n",
       "      <td>NaN</td>\n",
       "      <td>NaN</td>\n",
       "    </tr>\n",
       "  </tbody>\n",
       "</table>\n",
       "</div>"
      ],
      "text/plain": [
       "          location                                          name  rank  \\\n",
       "51   United States                     New York University (NYU)    52   \n",
       "189          India  Indian Institute of Science (IISc) Bangalore   190   \n",
       "\n",
       "            region  staff_international  staff_total  students_international  \\\n",
       "51   North America                  NaN          NaN                     NaN   \n",
       "189           Asia                  NaN          NaN                     NaN   \n",
       "\n",
       "     students_total  \n",
       "51              NaN  \n",
       "189             NaN  "
      ]
     },
     "execution_count": 14,
     "metadata": {},
     "output_type": "execute_result"
    }
   ],
   "source": [
    "qs_dataframe[qs_dataframe.isnull().any(axis=1)]"
   ]
  },
  {
   "cell_type": "markdown",
   "metadata": {},
   "source": [
    "For NYU we have no idea so we search on wikipedia and see there are 50027 students and 9768 members of the academic staff. If we search their website https://www.nyu.edu/students/communities-and-groups/international-students.html we see that \"over 17,000 international students and scholars from over 140 different countries\", from which we infer that there are probably approximately 2800 international members of the academic staff and 14200 international students. We assume that the the distribution is the same as the total students/staff, then one person out of six in these 17000 is a member of the academic staff.\n",
    "\n",
    "As for IISc, we see that one value out of the four is NaN (number of international members of the academic staff). Since there are very few international students, we assume that there are also even fewer members of the academic staff. We set the number to 0."
   ]
  },
  {
   "cell_type": "code",
   "execution_count": 15,
   "metadata": {
    "collapsed": true
   },
   "outputs": [],
   "source": [
    "qs_dataframe = qs_dataframe.set_value(51, 'staff_international', 2800).set_value(51, 'staff_total', 9768).set_value(51, 'students_international', 14200).set_value(51, 'students_total', 50027)\n",
    "qs_dataframe = qs_dataframe.set_value(189, 'staff_international', 0).set_value(189, 'staff_total', 423).set_value(189, 'students_international', 47).set_value(189, 'students_total', 4071)"
   ]
  },
  {
   "cell_type": "markdown",
   "metadata": {},
   "source": [
    "(Here we did it manually because there were only two universities which were problematic. Of course, if those cases were more frequent then we would need an \"automatic\" solution for all of them)"
   ]
  },
  {
   "cell_type": "code",
   "execution_count": 16,
   "metadata": {},
   "outputs": [
    {
     "data": {
      "text/html": [
       "<div>\n",
       "<style>\n",
       "    .dataframe thead tr:only-child th {\n",
       "        text-align: right;\n",
       "    }\n",
       "\n",
       "    .dataframe thead th {\n",
       "        text-align: left;\n",
       "    }\n",
       "\n",
       "    .dataframe tbody tr th {\n",
       "        vertical-align: top;\n",
       "    }\n",
       "</style>\n",
       "<table border=\"1\" class=\"dataframe\">\n",
       "  <thead>\n",
       "    <tr style=\"text-align: right;\">\n",
       "      <th></th>\n",
       "      <th>location</th>\n",
       "      <th>name</th>\n",
       "      <th>rank</th>\n",
       "      <th>region</th>\n",
       "      <th>staff_international</th>\n",
       "      <th>staff_total</th>\n",
       "      <th>students_international</th>\n",
       "      <th>students_total</th>\n",
       "    </tr>\n",
       "  </thead>\n",
       "  <tbody>\n",
       "    <tr>\n",
       "      <th>0</th>\n",
       "      <td>United States</td>\n",
       "      <td>Massachusetts Institute of Technology (MIT)</td>\n",
       "      <td>1</td>\n",
       "      <td>North America</td>\n",
       "      <td>1679.0</td>\n",
       "      <td>2982.0</td>\n",
       "      <td>3717.0</td>\n",
       "      <td>11067.0</td>\n",
       "    </tr>\n",
       "    <tr>\n",
       "      <th>1</th>\n",
       "      <td>United States</td>\n",
       "      <td>Stanford University</td>\n",
       "      <td>2</td>\n",
       "      <td>North America</td>\n",
       "      <td>2042.0</td>\n",
       "      <td>4285.0</td>\n",
       "      <td>3611.0</td>\n",
       "      <td>15878.0</td>\n",
       "    </tr>\n",
       "    <tr>\n",
       "      <th>2</th>\n",
       "      <td>United States</td>\n",
       "      <td>Harvard University</td>\n",
       "      <td>3</td>\n",
       "      <td>North America</td>\n",
       "      <td>1311.0</td>\n",
       "      <td>4350.0</td>\n",
       "      <td>5266.0</td>\n",
       "      <td>22429.0</td>\n",
       "    </tr>\n",
       "    <tr>\n",
       "      <th>3</th>\n",
       "      <td>United States</td>\n",
       "      <td>California Institute of Technology (Caltech)</td>\n",
       "      <td>4</td>\n",
       "      <td>North America</td>\n",
       "      <td>350.0</td>\n",
       "      <td>953.0</td>\n",
       "      <td>647.0</td>\n",
       "      <td>2255.0</td>\n",
       "    </tr>\n",
       "    <tr>\n",
       "      <th>4</th>\n",
       "      <td>United Kingdom</td>\n",
       "      <td>University of Cambridge</td>\n",
       "      <td>5</td>\n",
       "      <td>Europe</td>\n",
       "      <td>2278.0</td>\n",
       "      <td>5490.0</td>\n",
       "      <td>6699.0</td>\n",
       "      <td>18770.0</td>\n",
       "    </tr>\n",
       "  </tbody>\n",
       "</table>\n",
       "</div>"
      ],
      "text/plain": [
       "         location                                          name  rank  \\\n",
       "0   United States  Massachusetts Institute of Technology (MIT)      1   \n",
       "1   United States                           Stanford University     2   \n",
       "2   United States                            Harvard University     3   \n",
       "3   United States  California Institute of Technology (Caltech)     4   \n",
       "4  United Kingdom                       University of Cambridge     5   \n",
       "\n",
       "          region  staff_international  staff_total  students_international  \\\n",
       "0  North America               1679.0       2982.0                  3717.0   \n",
       "1  North America               2042.0       4285.0                  3611.0   \n",
       "2  North America               1311.0       4350.0                  5266.0   \n",
       "3  North America                350.0        953.0                   647.0   \n",
       "4         Europe               2278.0       5490.0                  6699.0   \n",
       "\n",
       "   students_total  \n",
       "0         11067.0  \n",
       "1         15878.0  \n",
       "2         22429.0  \n",
       "3          2255.0  \n",
       "4         18770.0  "
      ]
     },
     "execution_count": 16,
     "metadata": {},
     "output_type": "execute_result"
    }
   ],
   "source": [
    "qs_dataframe.head(5)"
   ]
  },
  {
   "cell_type": "markdown",
   "metadata": {},
   "source": [
    "## Question 2\n",
    "If we want the best universities in terms of ratio staff / students then we do:"
   ]
  },
  {
   "cell_type": "code",
   "execution_count": 17,
   "metadata": {
    "collapsed": true
   },
   "outputs": [],
   "source": [
    "%matplotlib inline"
   ]
  },
  {
   "cell_type": "code",
   "execution_count": 18,
   "metadata": {
    "scrolled": true
   },
   "outputs": [
    {
     "data": {
      "text/html": [
       "<div>\n",
       "<style>\n",
       "    .dataframe thead tr:only-child th {\n",
       "        text-align: right;\n",
       "    }\n",
       "\n",
       "    .dataframe thead th {\n",
       "        text-align: left;\n",
       "    }\n",
       "\n",
       "    .dataframe tbody tr th {\n",
       "        vertical-align: top;\n",
       "    }\n",
       "</style>\n",
       "<table border=\"1\" class=\"dataframe\">\n",
       "  <thead>\n",
       "    <tr style=\"text-align: right;\">\n",
       "      <th></th>\n",
       "      <th>location</th>\n",
       "      <th>name</th>\n",
       "      <th>rank</th>\n",
       "      <th>region</th>\n",
       "      <th>staff_international</th>\n",
       "      <th>staff_total</th>\n",
       "      <th>students_international</th>\n",
       "      <th>students_total</th>\n",
       "      <th>staff_students_ratio</th>\n",
       "    </tr>\n",
       "  </thead>\n",
       "  <tbody>\n",
       "    <tr>\n",
       "      <th>3</th>\n",
       "      <td>United States</td>\n",
       "      <td>California Institute of Technology (Caltech)</td>\n",
       "      <td>4</td>\n",
       "      <td>North America</td>\n",
       "      <td>350.0</td>\n",
       "      <td>953.0</td>\n",
       "      <td>647.0</td>\n",
       "      <td>2255.0</td>\n",
       "      <td>0.422616</td>\n",
       "    </tr>\n",
       "    <tr>\n",
       "      <th>15</th>\n",
       "      <td>United States</td>\n",
       "      <td>Yale University</td>\n",
       "      <td>16</td>\n",
       "      <td>North America</td>\n",
       "      <td>1708.0</td>\n",
       "      <td>4940.0</td>\n",
       "      <td>2469.0</td>\n",
       "      <td>12402.0</td>\n",
       "      <td>0.398323</td>\n",
       "    </tr>\n",
       "    <tr>\n",
       "      <th>5</th>\n",
       "      <td>United Kingdom</td>\n",
       "      <td>University of Oxford</td>\n",
       "      <td>6</td>\n",
       "      <td>Europe</td>\n",
       "      <td>2964.0</td>\n",
       "      <td>6750.0</td>\n",
       "      <td>7353.0</td>\n",
       "      <td>19720.0</td>\n",
       "      <td>0.342292</td>\n",
       "    </tr>\n",
       "    <tr>\n",
       "      <th>4</th>\n",
       "      <td>United Kingdom</td>\n",
       "      <td>University of Cambridge</td>\n",
       "      <td>5</td>\n",
       "      <td>Europe</td>\n",
       "      <td>2278.0</td>\n",
       "      <td>5490.0</td>\n",
       "      <td>6699.0</td>\n",
       "      <td>18770.0</td>\n",
       "      <td>0.292488</td>\n",
       "    </tr>\n",
       "    <tr>\n",
       "      <th>16</th>\n",
       "      <td>United States</td>\n",
       "      <td>Johns Hopkins University</td>\n",
       "      <td>17</td>\n",
       "      <td>North America</td>\n",
       "      <td>1061.0</td>\n",
       "      <td>4462.0</td>\n",
       "      <td>4105.0</td>\n",
       "      <td>16146.0</td>\n",
       "      <td>0.276353</td>\n",
       "    </tr>\n",
       "  </tbody>\n",
       "</table>\n",
       "</div>"
      ],
      "text/plain": [
       "          location                                          name  rank  \\\n",
       "3    United States  California Institute of Technology (Caltech)     4   \n",
       "15   United States                               Yale University    16   \n",
       "5   United Kingdom                          University of Oxford     6   \n",
       "4   United Kingdom                       University of Cambridge     5   \n",
       "16   United States                      Johns Hopkins University    17   \n",
       "\n",
       "           region  staff_international  staff_total  students_international  \\\n",
       "3   North America                350.0        953.0                   647.0   \n",
       "15  North America               1708.0       4940.0                  2469.0   \n",
       "5          Europe               2964.0       6750.0                  7353.0   \n",
       "4          Europe               2278.0       5490.0                  6699.0   \n",
       "16  North America               1061.0       4462.0                  4105.0   \n",
       "\n",
       "    students_total  staff_students_ratio  \n",
       "3           2255.0              0.422616  \n",
       "15         12402.0              0.398323  \n",
       "5          19720.0              0.342292  \n",
       "4          18770.0              0.292488  \n",
       "16         16146.0              0.276353  "
      ]
     },
     "execution_count": 18,
     "metadata": {},
     "output_type": "execute_result"
    }
   ],
   "source": [
    "qs_dataframe[\"staff_students_ratio\"] = qs_dataframe['staff_total'] / qs_dataframe['students_total']\n",
    "qs_staff_ratio_20_best = qs_dataframe.sort_values(\"staff_students_ratio\", ascending=False).head(20)\n",
    "qs_staff_ratio_20_best.head(5)"
   ]
  },
  {
   "cell_type": "code",
   "execution_count": 19,
   "metadata": {},
   "outputs": [
    {
     "data": {
      "text/plain": [
       "<matplotlib.axes._subplots.AxesSubplot at 0x25a1ecee940>"
      ]
     },
     "execution_count": 19,
     "metadata": {},
     "output_type": "execute_result"
    },
    {
     "data": {
      "image/png": "[encoded data removed]",
      "text/plain": [
       "<matplotlib.figure.Figure at 0x25a215e6c18>"
      ]
     },
     "metadata": {},
     "output_type": "display_data"
    }
   ],
   "source": [
    "qs_staff_ratio_20_best.plot(kind=\"bar\", x=\"name\", y=\"staff_students_ratio\")"
   ]
  },
  {
   "cell_type": "markdown",
   "metadata": {},
   "source": [
    "Similarly, if we want the best universities in terms of ratio of international students then we do:"
   ]
  },
  {
   "cell_type": "code",
   "execution_count": 20,
   "metadata": {},
   "outputs": [
    {
     "data": {
      "text/html": [
       "<div>\n",
       "<style>\n",
       "    .dataframe thead tr:only-child th {\n",
       "        text-align: right;\n",
       "    }\n",
       "\n",
       "    .dataframe thead th {\n",
       "        text-align: left;\n",
       "    }\n",
       "\n",
       "    .dataframe tbody tr th {\n",
       "        vertical-align: top;\n",
       "    }\n",
       "</style>\n",
       "<table border=\"1\" class=\"dataframe\">\n",
       "  <thead>\n",
       "    <tr style=\"text-align: right;\">\n",
       "      <th></th>\n",
       "      <th>location</th>\n",
       "      <th>name</th>\n",
       "      <th>rank</th>\n",
       "      <th>region</th>\n",
       "      <th>staff_international</th>\n",
       "      <th>staff_total</th>\n",
       "      <th>students_international</th>\n",
       "      <th>students_total</th>\n",
       "      <th>staff_students_ratio</th>\n",
       "      <th>intl_students_ratio</th>\n",
       "    </tr>\n",
       "  </thead>\n",
       "  <tbody>\n",
       "    <tr>\n",
       "      <th>34</th>\n",
       "      <td>United Kingdom</td>\n",
       "      <td>London School of Economics and Political Scien...</td>\n",
       "      <td>35</td>\n",
       "      <td>Europe</td>\n",
       "      <td>687.0</td>\n",
       "      <td>1088.0</td>\n",
       "      <td>6748.0</td>\n",
       "      <td>9760.0</td>\n",
       "      <td>0.111475</td>\n",
       "      <td>0.691393</td>\n",
       "    </tr>\n",
       "    <tr>\n",
       "      <th>11</th>\n",
       "      <td>Switzerland</td>\n",
       "      <td>Ecole Polytechnique Fédérale de Lausanne (EPFL)</td>\n",
       "      <td>12</td>\n",
       "      <td>Europe</td>\n",
       "      <td>1300.0</td>\n",
       "      <td>1695.0</td>\n",
       "      <td>5896.0</td>\n",
       "      <td>10343.0</td>\n",
       "      <td>0.163879</td>\n",
       "      <td>0.570047</td>\n",
       "    </tr>\n",
       "    <tr>\n",
       "      <th>7</th>\n",
       "      <td>United Kingdom</td>\n",
       "      <td>Imperial College London</td>\n",
       "      <td>8</td>\n",
       "      <td>Europe</td>\n",
       "      <td>2071.0</td>\n",
       "      <td>3930.0</td>\n",
       "      <td>8746.0</td>\n",
       "      <td>16090.0</td>\n",
       "      <td>0.244251</td>\n",
       "      <td>0.543567</td>\n",
       "    </tr>\n",
       "    <tr>\n",
       "      <th>198</th>\n",
       "      <td>Netherlands</td>\n",
       "      <td>Maastricht University</td>\n",
       "      <td>200</td>\n",
       "      <td>Europe</td>\n",
       "      <td>502.0</td>\n",
       "      <td>1277.0</td>\n",
       "      <td>8234.0</td>\n",
       "      <td>16385.0</td>\n",
       "      <td>0.077937</td>\n",
       "      <td>0.502533</td>\n",
       "    </tr>\n",
       "    <tr>\n",
       "      <th>46</th>\n",
       "      <td>United States</td>\n",
       "      <td>Carnegie Mellon University</td>\n",
       "      <td>47</td>\n",
       "      <td>North America</td>\n",
       "      <td>425.0</td>\n",
       "      <td>1342.0</td>\n",
       "      <td>6385.0</td>\n",
       "      <td>13356.0</td>\n",
       "      <td>0.100479</td>\n",
       "      <td>0.478062</td>\n",
       "    </tr>\n",
       "  </tbody>\n",
       "</table>\n",
       "</div>"
      ],
      "text/plain": [
       "           location                                               name  rank  \\\n",
       "34   United Kingdom  London School of Economics and Political Scien...    35   \n",
       "11      Switzerland    Ecole Polytechnique Fédérale de Lausanne (EPFL)    12   \n",
       "7    United Kingdom                            Imperial College London     8   \n",
       "198     Netherlands                             Maastricht University    200   \n",
       "46    United States                         Carnegie Mellon University    47   \n",
       "\n",
       "            region  staff_international  staff_total  students_international  \\\n",
       "34          Europe                687.0       1088.0                  6748.0   \n",
       "11          Europe               1300.0       1695.0                  5896.0   \n",
       "7           Europe               2071.0       3930.0                  8746.0   \n",
       "198         Europe                502.0       1277.0                  8234.0   \n",
       "46   North America                425.0       1342.0                  6385.0   \n",
       "\n",
       "     students_total  staff_students_ratio  intl_students_ratio  \n",
       "34           9760.0              0.111475             0.691393  \n",
       "11          10343.0              0.163879             0.570047  \n",
       "7           16090.0              0.244251             0.543567  \n",
       "198         16385.0              0.077937             0.502533  \n",
       "46          13356.0              0.100479             0.478062  "
      ]
     },
     "execution_count": 20,
     "metadata": {},
     "output_type": "execute_result"
    }
   ],
   "source": [
    "qs_dataframe[\"intl_students_ratio\"] = qs_dataframe['students_international'] / qs_dataframe['students_total']\n",
    "qs_intl_students_ratio_20_best = qs_dataframe.sort_values(\"intl_students_ratio\", ascending=False).head(20)\n",
    "qs_intl_students_ratio_20_best.head(5)"
   ]
  },
  {
   "cell_type": "code",
   "execution_count": 21,
   "metadata": {},
   "outputs": [
    {
     "data": {
      "text/plain": [
       "<matplotlib.axes._subplots.AxesSubplot at 0x25a216dc198>"
      ]
     },
     "execution_count": 21,
     "metadata": {},
     "output_type": "execute_result"
    },
    {
     "data": {
      "image/png": "[encoded data removed]",
      "text/plain": [
       "<matplotlib.figure.Figure at 0x25a20fc5390>"
      ]
     },
     "metadata": {},
     "output_type": "display_data"
    }
   ],
   "source": [
    "qs_intl_students_ratio_20_best.plot(kind=\"bar\", x=\"name\", y=\"intl_students_ratio\")"
   ]
  },
  {
   "cell_type": "markdown",
   "metadata": {},
   "source": [
    "### Question 3:\n",
    "\n",
    "Ratio staff by location:"
   ]
  },
  {
   "cell_type": "code",
   "execution_count": 22,
   "metadata": {},
   "outputs": [
    {
     "data": {
      "text/plain": [
       "location\n",
       "Argentina         0.134267\n",
       "Australia         0.076407\n",
       "Austria           0.057298\n",
       "Belgium           0.092131\n",
       "Brazil            0.079505\n",
       "Canada            0.103298\n",
       "Chile             0.070883\n",
       "China             0.116318\n",
       "Denmark           0.186580\n",
       "Finland           0.110731\n",
       "France            0.144006\n",
       "Germany           0.098542\n",
       "Hong Kong         0.128988\n",
       "India             0.086467\n",
       "Ireland           0.082180\n",
       "Israel            0.136047\n",
       "Italy             0.100247\n",
       "Japan             0.155840\n",
       "Malaysia          0.153893\n",
       "Mexico            0.121204\n",
       "Netherlands       0.105311\n",
       "New Zealand       0.068687\n",
       "Norway            0.122510\n",
       "Russia            0.221910\n",
       "Saudi Arabia      0.175828\n",
       "Singapore         0.162279\n",
       "South Africa      0.088450\n",
       "South Korea       0.149356\n",
       "Spain             0.085209\n",
       "Sweden            0.104255\n",
       "Switzerland       0.134872\n",
       "Taiwan            0.080311\n",
       "United Kingdom    0.135913\n",
       "United States     0.152090\n",
       "Name: staff_students_ratio, dtype: float64"
      ]
     },
     "execution_count": 22,
     "metadata": {},
     "output_type": "execute_result"
    }
   ],
   "source": [
    "ratio_staff_location = qs_dataframe.groupby('location')['staff_students_ratio'].mean()\n",
    "ratio_staff_location"
   ]
  },
  {
   "cell_type": "code",
   "execution_count": 23,
   "metadata": {},
   "outputs": [
    {
     "data": {
      "text/plain": [
       "<matplotlib.axes._subplots.AxesSubplot at 0x25a21714ba8>"
      ]
     },
     "execution_count": 23,
     "metadata": {},
     "output_type": "execute_result"
    },
    {
     "data": {
      "image/png": "[encoded data removed]",
      "text/plain": [
       "<matplotlib.figure.Figure at 0x25a21804a20>"
      ]
     },
     "metadata": {},
     "output_type": "display_data"
    }
   ],
   "source": [
    "highest_ratio_staff = ratio_staff_location.sort_values(ascending=False).head(10)\n",
    "highest_ratio_staff.plot.bar()"
   ]
  },
  {
   "cell_type": "markdown",
   "metadata": {},
   "source": [
    "Ratio staff by region:"
   ]
  },
  {
   "cell_type": "code",
   "execution_count": 24,
   "metadata": {},
   "outputs": [
    {
     "data": {
      "text/plain": [
       "region\n",
       "Africa           0.088450\n",
       "Asia             0.134673\n",
       "Europe           0.120003\n",
       "Latin America    0.096779\n",
       "North America    0.145765\n",
       "Oceania          0.075003\n",
       "Name: staff_students_ratio, dtype: float64"
      ]
     },
     "execution_count": 24,
     "metadata": {},
     "output_type": "execute_result"
    }
   ],
   "source": [
    "ratio_staff_region = qs_dataframe.groupby('region')['staff_students_ratio'].mean()\n",
    "ratio_staff_region"
   ]
  },
  {
   "cell_type": "code",
   "execution_count": 25,
   "metadata": {},
   "outputs": [
    {
     "data": {
      "text/plain": [
       "<matplotlib.axes._subplots.AxesSubplot at 0x25a219cc3c8>"
      ]
     },
     "execution_count": 25,
     "metadata": {},
     "output_type": "execute_result"
    },
    {
     "data": {
      "image/png": "[encoded data removed]",
      "text/plain": [
       "<matplotlib.figure.Figure at 0x25a2176d668>"
      ]
     },
     "metadata": {},
     "output_type": "display_data"
    }
   ],
   "source": [
    "ratio_staff_region.sort_values(ascending=False).head(10).plot.bar()"
   ]
  },
  {
   "cell_type": "markdown",
   "metadata": {},
   "source": [
    "Ratio international students by location:"
   ]
  },
  {
   "cell_type": "code",
   "execution_count": 26,
   "metadata": {
    "scrolled": false
   },
   "outputs": [
    {
     "data": {
      "text/plain": [
       "location\n",
       "Argentina         0.221658\n",
       "Australia         0.346878\n",
       "Austria           0.306095\n",
       "Belgium           0.160108\n",
       "Brazil            0.034050\n",
       "Canada            0.252604\n",
       "Chile             0.045816\n",
       "China             0.107560\n",
       "Denmark           0.164809\n",
       "Finland           0.102890\n",
       "France            0.213286\n",
       "Germany           0.165300\n",
       "Hong Kong         0.312148\n",
       "India             0.010712\n",
       "Ireland           0.241791\n",
       "Israel            0.062549\n",
       "Italy             0.120418\n",
       "Japan             0.090000\n",
       "Malaysia          0.194168\n",
       "Mexico            0.060436\n",
       "Netherlands       0.245456\n",
       "New Zealand       0.248971\n",
       "Norway            0.111379\n",
       "Russia            0.168624\n",
       "Saudi Arabia      0.163742\n",
       "Singapore         0.277091\n",
       "South Africa      0.169703\n",
       "South Korea       0.102453\n",
       "Spain             0.121967\n",
       "Sweden            0.167998\n",
       "Switzerland       0.313816\n",
       "Taiwan            0.091680\n",
       "United Kingdom    0.351308\n",
       "United States     0.196697\n",
       "Name: intl_students_ratio, dtype: float64"
      ]
     },
     "execution_count": 26,
     "metadata": {},
     "output_type": "execute_result"
    }
   ],
   "source": [
    "ratio_intl_students_location = qs_dataframe.groupby('location')['intl_students_ratio'].mean()\n",
    "ratio_intl_students_location"
   ]
  },
  {
   "cell_type": "code",
   "execution_count": 27,
   "metadata": {},
   "outputs": [
    {
     "data": {
      "text/plain": [
       "<matplotlib.axes._subplots.AxesSubplot at 0x25a2196a0b8>"
      ]
     },
     "execution_count": 27,
     "metadata": {},
     "output_type": "execute_result"
    },
    {
     "data": {
      "image/png": "[encoded data removed]",
      "text/plain": [
       "<matplotlib.figure.Figure at 0x25a21a35550>"
      ]
     },
     "metadata": {},
     "output_type": "display_data"
    }
   ],
   "source": [
    "ratio_intl_students_location.sort_values(ascending=False).head(10).plot.bar()"
   ]
  },
  {
   "cell_type": "markdown",
   "metadata": {},
   "source": [
    "Ratio international students by region:"
   ]
  },
  {
   "cell_type": "code",
   "execution_count": 28,
   "metadata": {},
   "outputs": [
    {
     "data": {
      "text/plain": [
       "region\n",
       "Africa           0.169703\n",
       "Asia             0.132394\n",
       "Europe           0.245932\n",
       "Latin America    0.071751\n",
       "North America    0.203944\n",
       "Oceania          0.329077\n",
       "Name: intl_students_ratio, dtype: float64"
      ]
     },
     "execution_count": 28,
     "metadata": {},
     "output_type": "execute_result"
    }
   ],
   "source": [
    "ratio_intl_students_region = qs_dataframe.groupby('region')['intl_students_ratio'].mean()\n",
    "ratio_intl_students_region"
   ]
  },
  {
   "cell_type": "code",
   "execution_count": 29,
   "metadata": {},
   "outputs": [
    {
     "data": {
      "text/plain": [
       "<matplotlib.axes._subplots.AxesSubplot at 0x25a21ac8630>"
      ]
     },
     "execution_count": 29,
     "metadata": {},
     "output_type": "execute_result"
    },
    {
     "data": {
      "image/png": "[encoded data removed]",
      "text/plain": [
       "<matplotlib.figure.Figure at 0x25a215b2588>"
      ]
     },
     "metadata": {},
     "output_type": "display_data"
    }
   ],
   "source": [
    "ratio_intl_students_region.sort_values(ascending=False).head(10).plot.bar()"
   ]
  },
  {
   "cell_type": "markdown",
   "metadata": {},
   "source": [
    "## Times Ranking\n",
    "Now let's try to request the page for Times ranking:"
   ]
  },
  {
   "cell_type": "code",
   "execution_count": 30,
   "metadata": {},
   "outputs": [
    {
     "data": {
      "text/plain": [
       "False"
      ]
     },
     "execution_count": 30,
     "metadata": {},
     "output_type": "execute_result"
    }
   ],
   "source": [
    "r_times = requests.get('https://www.timeshighereducation.com/world-university-rankings/2018/world-ranking#!/page/0/length/25/sort_by/rank/sort_order/asc/cols/stats')\n",
    "soup_times = BeautifulSoup(r_times.text, 'html.parser')\n",
    "\n",
    "# again, the website doesn't contain the data we need.\n",
    "# for example, the univerty of Taiwan is within the 200 best-ranked universities\n",
    "# but its name is not present in the soup text\n",
    "\"National Taiwan University\" in soup_times.text"
   ]
  },
  {
   "cell_type": "markdown",
   "metadata": {},
   "source": [
    "If we display the whole text and do Ctrl + F for \"Oxford\", we find only the Oxford in the title paragraph explaining the ranking but not the one from the ranking itself. And we do the same thing we did for the QS ranking: we use interceptor and we get all the data on 'https://www.timeshighereducation.com/sites/default/files/the_data_rankings/world_university_rankings_2018_limit0_369a9045a203e176392b9fb8f8c1cb2a.json"
   ]
  },
  {
   "cell_type": "code",
   "execution_count": 31,
   "metadata": {},
   "outputs": [
    {
     "data": {
      "text/plain": [
       "{'aliases': 'University of Cambridge',\n",
       " 'location': 'United Kingdom',\n",
       " 'member_level': '0',\n",
       " 'name': 'University of Cambridge',\n",
       " 'nid': 470,\n",
       " 'rank': '2',\n",
       " 'rank_order': '20',\n",
       " 'record_type': 'master_account',\n",
       " 'scores_citations': '97.5',\n",
       " 'scores_citations_rank': '29',\n",
       " 'scores_industry_income': '51.5',\n",
       " 'scores_industry_income_rank': '260',\n",
       " 'scores_international_outlook': '93.0',\n",
       " 'scores_international_outlook_rank': '35',\n",
       " 'scores_overall': '93.2',\n",
       " 'scores_overall_rank': '20',\n",
       " 'scores_research': '97.8',\n",
       " 'scores_research_rank': '3',\n",
       " 'scores_teaching': '87.8',\n",
       " 'scores_teaching_rank': '3',\n",
       " 'stats_female_male_ratio': '45 : 55',\n",
       " 'stats_number_students': '18,389',\n",
       " 'stats_pc_intl_students': '35%',\n",
       " 'stats_student_staff_ratio': '10.9',\n",
       " 'subjects_offered': 'Archaeology,Architecture,Art, Performing Arts & Design,Biological Sciences,Business & Management,Chemical Engineering,Civil Engineering,Computer Science,Economics & Econometrics,Education,Electrical & Electronic Engineering,General Engineering,Geography,History, Philosophy & Theology,Languages, Literatures and Linguistics,Law,Mathematics & Statistics,Mechanical & Aerospace Engineering,Medicine & Dentistry,Politics & International Studies (incl Development Studies),Psychology,Sociology,Veterinary Science,Physics & Astronomy',\n",
       " 'url': '/world-university-rankings/university-cambridge'}"
      ]
     },
     "execution_count": 31,
     "metadata": {},
     "output_type": "execute_result"
    }
   ],
   "source": [
    "import json\n",
    "r_times_ranking = requests.get('https://www.timeshighereducation.com/sites/default/files/the_data_rankings/world_university_rankings_2018_limit0_369a9045a203e176392b9fb8f8c1cb2a.json')\n",
    "data_times_200_first = r_times_ranking.json()['data'][:200]\n",
    "\n",
    "# this is how an entry looks\n",
    "data_times_200_first[1]"
   ]
  },
  {
   "cell_type": "markdown",
   "metadata": {},
   "source": [
    "Now we have all the data in our 'data_times_200_first' dictionary. Let's convert that to a pandas frame:"
   ]
  },
  {
   "cell_type": "code",
   "execution_count": 32,
   "metadata": {
    "collapsed": true
   },
   "outputs": [],
   "source": [
    "import pandas as pd\n",
    "times_dataframe = pd.DataFrame.from_dict(data_times_200_first)"
   ]
  },
  {
   "cell_type": "markdown",
   "metadata": {},
   "source": [
    "Let's take a look at our data frame:"
   ]
  },
  {
   "cell_type": "code",
   "execution_count": 33,
   "metadata": {},
   "outputs": [
    {
     "data": {
      "text/html": [
       "<div>\n",
       "<style>\n",
       "    .dataframe thead tr:only-child th {\n",
       "        text-align: right;\n",
       "    }\n",
       "\n",
       "    .dataframe thead th {\n",
       "        text-align: left;\n",
       "    }\n",
       "\n",
       "    .dataframe tbody tr th {\n",
       "        vertical-align: top;\n",
       "    }\n",
       "</style>\n",
       "<table border=\"1\" class=\"dataframe\">\n",
       "  <thead>\n",
       "    <tr style=\"text-align: right;\">\n",
       "      <th></th>\n",
       "      <th>aliases</th>\n",
       "      <th>location</th>\n",
       "      <th>member_level</th>\n",
       "      <th>name</th>\n",
       "      <th>nid</th>\n",
       "      <th>rank</th>\n",
       "      <th>rank_order</th>\n",
       "      <th>record_type</th>\n",
       "      <th>scores_citations</th>\n",
       "      <th>scores_citations_rank</th>\n",
       "      <th>...</th>\n",
       "      <th>scores_research</th>\n",
       "      <th>scores_research_rank</th>\n",
       "      <th>scores_teaching</th>\n",
       "      <th>scores_teaching_rank</th>\n",
       "      <th>stats_female_male_ratio</th>\n",
       "      <th>stats_number_students</th>\n",
       "      <th>stats_pc_intl_students</th>\n",
       "      <th>stats_student_staff_ratio</th>\n",
       "      <th>subjects_offered</th>\n",
       "      <th>url</th>\n",
       "    </tr>\n",
       "  </thead>\n",
       "  <tbody>\n",
       "    <tr>\n",
       "      <th>0</th>\n",
       "      <td>University of Oxford</td>\n",
       "      <td>United Kingdom</td>\n",
       "      <td>0</td>\n",
       "      <td>University of Oxford</td>\n",
       "      <td>468</td>\n",
       "      <td>1</td>\n",
       "      <td>10</td>\n",
       "      <td>master_account</td>\n",
       "      <td>99.1</td>\n",
       "      <td>15</td>\n",
       "      <td>...</td>\n",
       "      <td>99.5</td>\n",
       "      <td>1</td>\n",
       "      <td>86.7</td>\n",
       "      <td>5</td>\n",
       "      <td>46 : 54</td>\n",
       "      <td>20,409</td>\n",
       "      <td>38%</td>\n",
       "      <td>11.2</td>\n",
       "      <td>Archaeology,Art, Performing Arts &amp; Design,Biol...</td>\n",
       "      <td>/world-university-rankings/university-oxford</td>\n",
       "    </tr>\n",
       "    <tr>\n",
       "      <th>1</th>\n",
       "      <td>University of Cambridge</td>\n",
       "      <td>United Kingdom</td>\n",
       "      <td>0</td>\n",
       "      <td>University of Cambridge</td>\n",
       "      <td>470</td>\n",
       "      <td>2</td>\n",
       "      <td>20</td>\n",
       "      <td>master_account</td>\n",
       "      <td>97.5</td>\n",
       "      <td>29</td>\n",
       "      <td>...</td>\n",
       "      <td>97.8</td>\n",
       "      <td>3</td>\n",
       "      <td>87.8</td>\n",
       "      <td>3</td>\n",
       "      <td>45 : 55</td>\n",
       "      <td>18,389</td>\n",
       "      <td>35%</td>\n",
       "      <td>10.9</td>\n",
       "      <td>Archaeology,Architecture,Art, Performing Arts ...</td>\n",
       "      <td>/world-university-rankings/university-cambridge</td>\n",
       "    </tr>\n",
       "    <tr>\n",
       "      <th>2</th>\n",
       "      <td>California Institute of Technology caltech</td>\n",
       "      <td>United States</td>\n",
       "      <td>0</td>\n",
       "      <td>California Institute of Technology</td>\n",
       "      <td>128779</td>\n",
       "      <td>=3</td>\n",
       "      <td>30</td>\n",
       "      <td>private</td>\n",
       "      <td>99.5</td>\n",
       "      <td>10</td>\n",
       "      <td>...</td>\n",
       "      <td>97.5</td>\n",
       "      <td>4</td>\n",
       "      <td>90.3</td>\n",
       "      <td>1</td>\n",
       "      <td>31 : 69</td>\n",
       "      <td>2,209</td>\n",
       "      <td>27%</td>\n",
       "      <td>6.5</td>\n",
       "      <td>Architecture,Biological Sciences,Business &amp; Ma...</td>\n",
       "      <td>/world-university-rankings/california-institut...</td>\n",
       "    </tr>\n",
       "    <tr>\n",
       "      <th>3</th>\n",
       "      <td>Stanford University</td>\n",
       "      <td>United States</td>\n",
       "      <td>11</td>\n",
       "      <td>Stanford University</td>\n",
       "      <td>467</td>\n",
       "      <td>=3</td>\n",
       "      <td>40</td>\n",
       "      <td>private</td>\n",
       "      <td>99.9</td>\n",
       "      <td>4</td>\n",
       "      <td>...</td>\n",
       "      <td>96.7</td>\n",
       "      <td>5</td>\n",
       "      <td>89.1</td>\n",
       "      <td>2</td>\n",
       "      <td>42 : 58</td>\n",
       "      <td>15,845</td>\n",
       "      <td>22%</td>\n",
       "      <td>7.5</td>\n",
       "      <td>Archaeology,Architecture,Art, Performing Arts ...</td>\n",
       "      <td>/world-university-rankings/stanford-university</td>\n",
       "    </tr>\n",
       "    <tr>\n",
       "      <th>4</th>\n",
       "      <td>Massachusetts Institute of Technology</td>\n",
       "      <td>United States</td>\n",
       "      <td>0</td>\n",
       "      <td>Massachusetts Institute of Technology</td>\n",
       "      <td>471</td>\n",
       "      <td>5</td>\n",
       "      <td>50</td>\n",
       "      <td>private</td>\n",
       "      <td>100.0</td>\n",
       "      <td>1</td>\n",
       "      <td>...</td>\n",
       "      <td>91.9</td>\n",
       "      <td>9</td>\n",
       "      <td>87.3</td>\n",
       "      <td>4</td>\n",
       "      <td>37 : 63</td>\n",
       "      <td>11,177</td>\n",
       "      <td>34%</td>\n",
       "      <td>8.7</td>\n",
       "      <td>Architecture,Art, Performing Arts &amp; Design,Bio...</td>\n",
       "      <td>/world-university-rankings/massachusetts-insti...</td>\n",
       "    </tr>\n",
       "  </tbody>\n",
       "</table>\n",
       "<p>5 rows × 26 columns</p>\n",
       "</div>"
      ],
      "text/plain": [
       "                                      aliases        location member_level  \\\n",
       "0                        University of Oxford  United Kingdom            0   \n",
       "1                     University of Cambridge  United Kingdom            0   \n",
       "2  California Institute of Technology caltech   United States            0   \n",
       "3                         Stanford University   United States           11   \n",
       "4       Massachusetts Institute of Technology   United States            0   \n",
       "\n",
       "                                    name     nid rank rank_order  \\\n",
       "0                   University of Oxford     468    1         10   \n",
       "1                University of Cambridge     470    2         20   \n",
       "2     California Institute of Technology  128779   =3         30   \n",
       "3                    Stanford University     467   =3         40   \n",
       "4  Massachusetts Institute of Technology     471    5         50   \n",
       "\n",
       "      record_type scores_citations scores_citations_rank  \\\n",
       "0  master_account             99.1                    15   \n",
       "1  master_account             97.5                    29   \n",
       "2         private             99.5                    10   \n",
       "3         private             99.9                     4   \n",
       "4         private            100.0                     1   \n",
       "\n",
       "                         ...                         scores_research  \\\n",
       "0                        ...                                    99.5   \n",
       "1                        ...                                    97.8   \n",
       "2                        ...                                    97.5   \n",
       "3                        ...                                    96.7   \n",
       "4                        ...                                    91.9   \n",
       "\n",
       "  scores_research_rank scores_teaching scores_teaching_rank  \\\n",
       "0                    1            86.7                    5   \n",
       "1                    3            87.8                    3   \n",
       "2                    4            90.3                    1   \n",
       "3                    5            89.1                    2   \n",
       "4                    9            87.3                    4   \n",
       "\n",
       "  stats_female_male_ratio stats_number_students stats_pc_intl_students  \\\n",
       "0                 46 : 54                20,409                    38%   \n",
       "1                 45 : 55                18,389                    35%   \n",
       "2                 31 : 69                 2,209                    27%   \n",
       "3                 42 : 58                15,845                    22%   \n",
       "4                 37 : 63                11,177                    34%   \n",
       "\n",
       "  stats_student_staff_ratio  \\\n",
       "0                      11.2   \n",
       "1                      10.9   \n",
       "2                       6.5   \n",
       "3                       7.5   \n",
       "4                       8.7   \n",
       "\n",
       "                                    subjects_offered  \\\n",
       "0  Archaeology,Art, Performing Arts & Design,Biol...   \n",
       "1  Archaeology,Architecture,Art, Performing Arts ...   \n",
       "2  Architecture,Biological Sciences,Business & Ma...   \n",
       "3  Archaeology,Architecture,Art, Performing Arts ...   \n",
       "4  Architecture,Art, Performing Arts & Design,Bio...   \n",
       "\n",
       "                                                 url  \n",
       "0       /world-university-rankings/university-oxford  \n",
       "1    /world-university-rankings/university-cambridge  \n",
       "2  /world-university-rankings/california-institut...  \n",
       "3     /world-university-rankings/stanford-university  \n",
       "4  /world-university-rankings/massachusetts-insti...  \n",
       "\n",
       "[5 rows x 26 columns]"
      ]
     },
     "execution_count": 33,
     "metadata": {},
     "output_type": "execute_result"
    }
   ],
   "source": [
    "times_dataframe.head(5)"
   ]
  },
  {
   "cell_type": "markdown",
   "metadata": {},
   "source": [
    "We see there are a lot of columns:"
   ]
  },
  {
   "cell_type": "code",
   "execution_count": 34,
   "metadata": {},
   "outputs": [
    {
     "name": "stdout",
     "output_type": "stream",
     "text": [
      "There are 26 columns: Index(['aliases', 'location', 'member_level', 'name', 'nid', 'rank',\n",
      "       'rank_order', 'record_type', 'scores_citations',\n",
      "       'scores_citations_rank', 'scores_industry_income',\n",
      "       'scores_industry_income_rank', 'scores_international_outlook',\n",
      "       'scores_international_outlook_rank', 'scores_overall',\n",
      "       'scores_overall_rank', 'scores_research', 'scores_research_rank',\n",
      "       'scores_teaching', 'scores_teaching_rank', 'stats_female_male_ratio',\n",
      "       'stats_number_students', 'stats_pc_intl_students',\n",
      "       'stats_student_staff_ratio', 'subjects_offered', 'url'],\n",
      "      dtype='object')\n"
     ]
    }
   ],
   "source": [
    "print(\"There are {} columns: {}\".format(times_dataframe.shape[1], times_dataframe.columns))"
   ]
  },
  {
   "cell_type": "markdown",
   "metadata": {},
   "source": [
    "We don't need all those columns. The ones we need are the location, the name, the rank and the stats at the end. We notice here that we don't have access to the region but only the location. We also notice that there is no information concerning the number of international "
   ]
  },
  {
   "cell_type": "code",
   "execution_count": 35,
   "metadata": {
    "collapsed": true
   },
   "outputs": [],
   "source": [
    "times_dataframe = times_dataframe[['location', 'name', 'rank', 'stats_number_students', 'stats_pc_intl_students', 'stats_student_staff_ratio']]"
   ]
  },
  {
   "cell_type": "markdown",
   "metadata": {},
   "source": [
    "Let's first rename a few columns to be consistent with the QS ranking"
   ]
  },
  {
   "cell_type": "code",
   "execution_count": 36,
   "metadata": {
    "collapsed": true
   },
   "outputs": [],
   "source": [
    "times_dataframe.rename(columns={'stats_number_students': 'students_total', 'stats_pc_intl_students': 'intl_students_ratio'}, inplace=True)"
   ]
  },
  {
   "cell_type": "markdown",
   "metadata": {},
   "source": [
    "And let's convert the percentages to ratios:"
   ]
  },
  {
   "cell_type": "code",
   "execution_count": 37,
   "metadata": {
    "collapsed": true
   },
   "outputs": [],
   "source": [
    "times_dataframe[\"students_total\"] = times_dataframe[\"students_total\"].map(lambda number : number.replace(\",\", \"\")).astype(int)\n",
    "times_dataframe[\"intl_students_ratio\"] = (times_dataframe[\"intl_students_ratio\"].map(lambda percentage : percentage[:-1]).astype(int) / 100)\n",
    "times_dataframe[\"students_international\"] = (times_dataframe[\"students_total\"] * (times_dataframe[\"intl_students_ratio\"])).astype(int)"
   ]
  },
  {
   "cell_type": "markdown",
   "metadata": {},
   "source": [
    "We have to do a few other things here. We see that there is no region column so we have to add a column for that (we know the region because it was already in the QS dataframe):"
   ]
  },
  {
   "cell_type": "code",
   "execution_count": 38,
   "metadata": {
    "collapsed": true
   },
   "outputs": [],
   "source": [
    "times_dataframe[\"region\"] = times_dataframe.location.map(location_region_dict)"
   ]
  },
  {
   "cell_type": "markdown",
   "metadata": {},
   "source": [
    "Unfortunately there are a few locations that were not present in the QS ranking since the 2 rankings are different:"
   ]
  },
  {
   "cell_type": "code",
   "execution_count": 39,
   "metadata": {},
   "outputs": [
    {
     "data": {
      "text/html": [
       "<div>\n",
       "<style>\n",
       "    .dataframe thead tr:only-child th {\n",
       "        text-align: right;\n",
       "    }\n",
       "\n",
       "    .dataframe thead th {\n",
       "        text-align: left;\n",
       "    }\n",
       "\n",
       "    .dataframe tbody tr th {\n",
       "        vertical-align: top;\n",
       "    }\n",
       "</style>\n",
       "<table border=\"1\" class=\"dataframe\">\n",
       "  <thead>\n",
       "    <tr style=\"text-align: right;\">\n",
       "      <th></th>\n",
       "      <th>location</th>\n",
       "      <th>name</th>\n",
       "      <th>rank</th>\n",
       "      <th>students_total</th>\n",
       "      <th>intl_students_ratio</th>\n",
       "      <th>stats_student_staff_ratio</th>\n",
       "      <th>students_international</th>\n",
       "      <th>region</th>\n",
       "    </tr>\n",
       "  </thead>\n",
       "  <tbody>\n",
       "    <tr>\n",
       "      <th>178</th>\n",
       "      <td>Luxembourg</td>\n",
       "      <td>University of Luxembourg</td>\n",
       "      <td>=179</td>\n",
       "      <td>4969</td>\n",
       "      <td>0.57</td>\n",
       "      <td>14.6</td>\n",
       "      <td>2832</td>\n",
       "      <td>NaN</td>\n",
       "    </tr>\n",
       "    <tr>\n",
       "      <th>193</th>\n",
       "      <td>Russian Federation</td>\n",
       "      <td>Lomonosov Moscow State University</td>\n",
       "      <td>194</td>\n",
       "      <td>29236</td>\n",
       "      <td>0.22</td>\n",
       "      <td>7.3</td>\n",
       "      <td>6431</td>\n",
       "      <td>NaN</td>\n",
       "    </tr>\n",
       "  </tbody>\n",
       "</table>\n",
       "</div>"
      ],
      "text/plain": [
       "               location                               name  rank  \\\n",
       "178          Luxembourg           University of Luxembourg  =179   \n",
       "193  Russian Federation  Lomonosov Moscow State University   194   \n",
       "\n",
       "     students_total  intl_students_ratio stats_student_staff_ratio  \\\n",
       "178            4969                 0.57                      14.6   \n",
       "193           29236                 0.22                       7.3   \n",
       "\n",
       "     students_international region  \n",
       "178                    2832    NaN  \n",
       "193                    6431    NaN  "
      ]
     },
     "execution_count": 39,
     "metadata": {},
     "output_type": "execute_result"
    }
   ],
   "source": [
    "times_dataframe[times_dataframe.region.isnull()]"
   ]
  },
  {
   "cell_type": "markdown",
   "metadata": {},
   "source": [
    "So let's correct that:"
   ]
  },
  {
   "cell_type": "code",
   "execution_count": 40,
   "metadata": {
    "collapsed": true
   },
   "outputs": [],
   "source": [
    "times_dataframe = times_dataframe.set_value(178, \"region\", \"Europe\").set_value(193, \"region\", \"Europe\")"
   ]
  },
  {
   "cell_type": "markdown",
   "metadata": {},
   "source": [
    "We can also convert the rank column to numbers, while taking into accounts the values with an equal sign \"=\""
   ]
  },
  {
   "cell_type": "code",
   "execution_count": 41,
   "metadata": {
    "collapsed": true
   },
   "outputs": [],
   "source": [
    "times_dataframe[\"rank\"] = times_dataframe[\"rank\"].map(lambda rank : rank.replace(\"=\", \"\")).astype(int)"
   ]
  },
  {
   "cell_type": "markdown",
   "metadata": {},
   "source": [
    "And last thing also: there is a students staff ratio number. We can obviously infer the total number of academic staff members from this. Unfortunately, there is no way to know the number of international staff members so we will somehow try to approximate it: we will simply use the percentage of international students and apply it to the total number of staff members. We know this is not the reality but we need some values and also we will have an opportunity to check the validity of this number later when we will compute the correlations between the two rankings."
   ]
  },
  {
   "cell_type": "code",
   "execution_count": 42,
   "metadata": {},
   "outputs": [],
   "source": [
    "times_dataframe[\"staff_total\"] = (times_dataframe[\"students_total\"] / times_dataframe[\"stats_student_staff_ratio\"].astype(float)).astype(int)\n",
    "times_dataframe[\"staff_international\"] = (times_dataframe[\"staff_total\"] * (times_dataframe[\"intl_students_ratio\"])).astype(int)"
   ]
  },
  {
   "cell_type": "markdown",
   "metadata": {},
   "source": [
    "### Aggregations by region and location\n",
    "Let's repeat the same things as for the QS ranking"
   ]
  },
  {
   "cell_type": "markdown",
   "metadata": {},
   "source": [
    "First sorting the dataframe according to ratio students staff. Here we do not need to compute it since it is already given:"
   ]
  },
  {
   "cell_type": "code",
   "execution_count": 43,
   "metadata": {},
   "outputs": [
    {
     "data": {
      "text/html": [
       "<div>\n",
       "<style>\n",
       "    .dataframe thead tr:only-child th {\n",
       "        text-align: right;\n",
       "    }\n",
       "\n",
       "    .dataframe thead th {\n",
       "        text-align: left;\n",
       "    }\n",
       "\n",
       "    .dataframe tbody tr th {\n",
       "        vertical-align: top;\n",
       "    }\n",
       "</style>\n",
       "<table border=\"1\" class=\"dataframe\">\n",
       "  <thead>\n",
       "    <tr style=\"text-align: right;\">\n",
       "      <th></th>\n",
       "      <th>location</th>\n",
       "      <th>name</th>\n",
       "      <th>rank</th>\n",
       "      <th>students_total</th>\n",
       "      <th>intl_students_ratio</th>\n",
       "      <th>stats_student_staff_ratio</th>\n",
       "      <th>students_international</th>\n",
       "      <th>region</th>\n",
       "      <th>staff_total</th>\n",
       "      <th>staff_international</th>\n",
       "    </tr>\n",
       "  </thead>\n",
       "  <tbody>\n",
       "    <tr>\n",
       "      <th>105</th>\n",
       "      <td>United States</td>\n",
       "      <td>Vanderbilt University</td>\n",
       "      <td>105</td>\n",
       "      <td>12011</td>\n",
       "      <td>0.13</td>\n",
       "      <td>3.3</td>\n",
       "      <td>1561</td>\n",
       "      <td>North America</td>\n",
       "      <td>3639</td>\n",
       "      <td>473</td>\n",
       "    </tr>\n",
       "    <tr>\n",
       "      <th>109</th>\n",
       "      <td>Denmark</td>\n",
       "      <td>University of Copenhagen</td>\n",
       "      <td>109</td>\n",
       "      <td>30395</td>\n",
       "      <td>0.14</td>\n",
       "      <td>4.1</td>\n",
       "      <td>4255</td>\n",
       "      <td>Europe</td>\n",
       "      <td>7413</td>\n",
       "      <td>1037</td>\n",
       "    </tr>\n",
       "    <tr>\n",
       "      <th>12</th>\n",
       "      <td>United States</td>\n",
       "      <td>Johns Hopkins University</td>\n",
       "      <td>13</td>\n",
       "      <td>15498</td>\n",
       "      <td>0.24</td>\n",
       "      <td>4.3</td>\n",
       "      <td>3719</td>\n",
       "      <td>North America</td>\n",
       "      <td>3604</td>\n",
       "      <td>864</td>\n",
       "    </tr>\n",
       "    <tr>\n",
       "      <th>11</th>\n",
       "      <td>United States</td>\n",
       "      <td>Yale University</td>\n",
       "      <td>12</td>\n",
       "      <td>12155</td>\n",
       "      <td>0.21</td>\n",
       "      <td>4.3</td>\n",
       "      <td>2552</td>\n",
       "      <td>North America</td>\n",
       "      <td>2826</td>\n",
       "      <td>593</td>\n",
       "    </tr>\n",
       "    <tr>\n",
       "      <th>153</th>\n",
       "      <td>United States</td>\n",
       "      <td>University of Rochester</td>\n",
       "      <td>153</td>\n",
       "      <td>9636</td>\n",
       "      <td>0.29</td>\n",
       "      <td>4.3</td>\n",
       "      <td>2794</td>\n",
       "      <td>North America</td>\n",
       "      <td>2240</td>\n",
       "      <td>649</td>\n",
       "    </tr>\n",
       "  </tbody>\n",
       "</table>\n",
       "</div>"
      ],
      "text/plain": [
       "          location                      name  rank  students_total  \\\n",
       "105  United States     Vanderbilt University   105           12011   \n",
       "109        Denmark  University of Copenhagen   109           30395   \n",
       "12   United States  Johns Hopkins University    13           15498   \n",
       "11   United States           Yale University    12           12155   \n",
       "153  United States   University of Rochester   153            9636   \n",
       "\n",
       "     intl_students_ratio  stats_student_staff_ratio  students_international  \\\n",
       "105                 0.13                        3.3                    1561   \n",
       "109                 0.14                        4.1                    4255   \n",
       "12                  0.24                        4.3                    3719   \n",
       "11                  0.21                        4.3                    2552   \n",
       "153                 0.29                        4.3                    2794   \n",
       "\n",
       "            region  staff_total  staff_international  \n",
       "105  North America         3639                  473  \n",
       "109         Europe         7413                 1037  \n",
       "12   North America         3604                  864  \n",
       "11   North America         2826                  593  \n",
       "153  North America         2240                  649  "
      ]
     },
     "execution_count": 43,
     "metadata": {},
     "output_type": "execute_result"
    }
   ],
   "source": [
    "times_dataframe[\"stats_student_staff_ratio\"] = times_dataframe[\"stats_student_staff_ratio\"].astype(float)\n",
    "times_dataframe_ratio_staff = times_dataframe.sort_values('stats_student_staff_ratio')\n",
    "times_dataframe_ratio_staff.head(5)"
   ]
  },
  {
   "cell_type": "markdown",
   "metadata": {},
   "source": [
    "Ration of international students:"
   ]
  },
  {
   "cell_type": "code",
   "execution_count": 44,
   "metadata": {},
   "outputs": [
    {
     "data": {
      "text/html": [
       "<div>\n",
       "<style>\n",
       "    .dataframe thead tr:only-child th {\n",
       "        text-align: right;\n",
       "    }\n",
       "\n",
       "    .dataframe thead th {\n",
       "        text-align: left;\n",
       "    }\n",
       "\n",
       "    .dataframe tbody tr th {\n",
       "        vertical-align: top;\n",
       "    }\n",
       "</style>\n",
       "<table border=\"1\" class=\"dataframe\">\n",
       "  <thead>\n",
       "    <tr style=\"text-align: right;\">\n",
       "      <th></th>\n",
       "      <th>location</th>\n",
       "      <th>name</th>\n",
       "      <th>rank</th>\n",
       "      <th>students_total</th>\n",
       "      <th>intl_students_ratio</th>\n",
       "      <th>stats_student_staff_ratio</th>\n",
       "      <th>students_international</th>\n",
       "      <th>region</th>\n",
       "      <th>staff_total</th>\n",
       "      <th>staff_international</th>\n",
       "    </tr>\n",
       "  </thead>\n",
       "  <tbody>\n",
       "    <tr>\n",
       "      <th>24</th>\n",
       "      <td>United Kingdom</td>\n",
       "      <td>London School of Economics and Political Science</td>\n",
       "      <td>25</td>\n",
       "      <td>10065</td>\n",
       "      <td>0.71</td>\n",
       "      <td>12.2</td>\n",
       "      <td>7146</td>\n",
       "      <td>Europe</td>\n",
       "      <td>825</td>\n",
       "      <td>585</td>\n",
       "    </tr>\n",
       "    <tr>\n",
       "      <th>178</th>\n",
       "      <td>Luxembourg</td>\n",
       "      <td>University of Luxembourg</td>\n",
       "      <td>179</td>\n",
       "      <td>4969</td>\n",
       "      <td>0.57</td>\n",
       "      <td>14.6</td>\n",
       "      <td>2832</td>\n",
       "      <td>Europe</td>\n",
       "      <td>340</td>\n",
       "      <td>193</td>\n",
       "    </tr>\n",
       "    <tr>\n",
       "      <th>37</th>\n",
       "      <td>Switzerland</td>\n",
       "      <td>École Polytechnique Fédérale de Lausanne</td>\n",
       "      <td>38</td>\n",
       "      <td>9928</td>\n",
       "      <td>0.55</td>\n",
       "      <td>11.2</td>\n",
       "      <td>5460</td>\n",
       "      <td>Europe</td>\n",
       "      <td>886</td>\n",
       "      <td>487</td>\n",
       "    </tr>\n",
       "    <tr>\n",
       "      <th>7</th>\n",
       "      <td>United Kingdom</td>\n",
       "      <td>Imperial College London</td>\n",
       "      <td>8</td>\n",
       "      <td>15857</td>\n",
       "      <td>0.55</td>\n",
       "      <td>11.4</td>\n",
       "      <td>8721</td>\n",
       "      <td>Europe</td>\n",
       "      <td>1390</td>\n",
       "      <td>764</td>\n",
       "    </tr>\n",
       "    <tr>\n",
       "      <th>102</th>\n",
       "      <td>Netherlands</td>\n",
       "      <td>Maastricht University</td>\n",
       "      <td>103</td>\n",
       "      <td>16727</td>\n",
       "      <td>0.50</td>\n",
       "      <td>18.0</td>\n",
       "      <td>8363</td>\n",
       "      <td>Europe</td>\n",
       "      <td>929</td>\n",
       "      <td>464</td>\n",
       "    </tr>\n",
       "  </tbody>\n",
       "</table>\n",
       "</div>"
      ],
      "text/plain": [
       "           location                                              name  rank  \\\n",
       "24   United Kingdom  London School of Economics and Political Science    25   \n",
       "178      Luxembourg                          University of Luxembourg   179   \n",
       "37      Switzerland          École Polytechnique Fédérale de Lausanne    38   \n",
       "7    United Kingdom                           Imperial College London     8   \n",
       "102     Netherlands                             Maastricht University   103   \n",
       "\n",
       "     students_total  intl_students_ratio  stats_student_staff_ratio  \\\n",
       "24            10065                 0.71                       12.2   \n",
       "178            4969                 0.57                       14.6   \n",
       "37             9928                 0.55                       11.2   \n",
       "7             15857                 0.55                       11.4   \n",
       "102           16727                 0.50                       18.0   \n",
       "\n",
       "     students_international  region  staff_total  staff_international  \n",
       "24                     7146  Europe          825                  585  \n",
       "178                    2832  Europe          340                  193  \n",
       "37                     5460  Europe          886                  487  \n",
       "7                      8721  Europe         1390                  764  \n",
       "102                    8363  Europe          929                  464  "
      ]
     },
     "execution_count": 44,
     "metadata": {},
     "output_type": "execute_result"
    }
   ],
   "source": [
    "times_dataframe_intl_students_ratio = times_dataframe.sort_values('intl_students_ratio', ascending=False)\n",
    "times_dataframe_intl_students_ratio.head(5)"
   ]
  },
  {
   "cell_type": "markdown",
   "metadata": {},
   "source": [
    "Ratio staff by location:"
   ]
  },
  {
   "cell_type": "code",
   "execution_count": 45,
   "metadata": {},
   "outputs": [
    {
     "data": {
      "text/plain": [
       "location\n",
       "Australia             27.462500\n",
       "Austria               20.800000\n",
       "Belgium               38.550000\n",
       "Canada                19.716667\n",
       "China                 11.942857\n",
       "Denmark                8.133333\n",
       "Finland               18.200000\n",
       "France                13.450000\n",
       "Germany               44.025000\n",
       "Hong Kong             19.300000\n",
       "Ireland               22.800000\n",
       "Italy                  8.450000\n",
       "Japan                  7.700000\n",
       "Luxembourg            14.600000\n",
       "Netherlands           18.330769\n",
       "New Zealand           18.800000\n",
       "Norway                18.600000\n",
       "Russian Federation     7.300000\n",
       "Singapore             16.650000\n",
       "South Africa          11.700000\n",
       "South Korea           13.300000\n",
       "Spain                 16.850000\n",
       "Sweden                15.200000\n",
       "Switzerland           13.514286\n",
       "Taiwan                11.500000\n",
       "United Kingdom        13.661290\n",
       "United States         11.904839\n",
       "Name: stats_student_staff_ratio, dtype: float64"
      ]
     },
     "execution_count": 45,
     "metadata": {},
     "output_type": "execute_result"
    }
   ],
   "source": [
    "ratio_staff_location = times_dataframe_ratio_staff.groupby('location')['stats_student_staff_ratio'].mean()\n",
    "ratio_staff_location"
   ]
  },
  {
   "cell_type": "code",
   "execution_count": 46,
   "metadata": {},
   "outputs": [
    {
     "data": {
      "text/plain": [
       "<matplotlib.axes._subplots.AxesSubplot at 0x25a21ef8908>"
      ]
     },
     "execution_count": 46,
     "metadata": {},
     "output_type": "execute_result"
    },
    {
     "data": {
      "image/png": "[encoded data removed]",
      "text/plain": [
       "<matplotlib.figure.Figure at 0x25a21ee4dd8>"
      ]
     },
     "metadata": {},
     "output_type": "display_data"
    }
   ],
   "source": [
    "ratio_staff_location.sort_values().head(10).plot.bar()"
   ]
  },
  {
   "cell_type": "markdown",
   "metadata": {},
   "source": [
    "Ratio staff by region:"
   ]
  },
  {
   "cell_type": "code",
   "execution_count": 47,
   "metadata": {},
   "outputs": [
    {
     "data": {
      "text/plain": [
       "region\n",
       "Africa           0.180000\n",
       "Asia             0.165238\n",
       "Europe           0.244653\n",
       "North America    0.185588\n",
       "Oceania          0.305556\n",
       "Name: intl_students_ratio, dtype: float64"
      ]
     },
     "execution_count": 47,
     "metadata": {},
     "output_type": "execute_result"
    }
   ],
   "source": [
    "ratio_staff_region = times_dataframe_ratio_staff.groupby('region')['intl_students_ratio'].mean()\n",
    "ratio_staff_region"
   ]
  },
  {
   "cell_type": "code",
   "execution_count": 48,
   "metadata": {},
   "outputs": [
    {
     "data": {
      "text/plain": [
       "<matplotlib.axes._subplots.AxesSubplot at 0x25a22041eb8>"
      ]
     },
     "execution_count": 48,
     "metadata": {},
     "output_type": "execute_result"
    },
    {
     "data": {
      "image/png": "[encoded data removed]",
      "text/plain": [
       "<matplotlib.figure.Figure at 0x25a21ac8438>"
      ]
     },
     "metadata": {},
     "output_type": "display_data"
    }
   ],
   "source": [
    "ratio_staff_region.sort_values().head().plot.bar()"
   ]
  },
  {
   "cell_type": "markdown",
   "metadata": {},
   "source": [
    "Ratio international students by location:"
   ]
  },
  {
   "cell_type": "code",
   "execution_count": 49,
   "metadata": {},
   "outputs": [
    {
     "data": {
      "text/plain": [
       "location\n",
       "Australia             0.307500\n",
       "Austria               0.260000\n",
       "Belgium               0.197500\n",
       "Canada                0.225000\n",
       "China                 0.085714\n",
       "Denmark               0.166667\n",
       "Finland               0.130000\n",
       "France                0.208333\n",
       "Germany               0.152000\n",
       "Hong Kong             0.328000\n",
       "Ireland               0.270000\n",
       "Italy                 0.105000\n",
       "Japan                 0.090000\n",
       "Luxembourg            0.570000\n",
       "Netherlands           0.192308\n",
       "New Zealand           0.290000\n",
       "Norway                0.190000\n",
       "Russian Federation    0.220000\n",
       "Singapore             0.305000\n",
       "South Africa          0.180000\n",
       "South Korea           0.090000\n",
       "Spain                 0.140000\n",
       "Sweden                0.140000\n",
       "Switzerland           0.314286\n",
       "Taiwan                0.080000\n",
       "United Kingdom        0.365484\n",
       "United States         0.181774\n",
       "Name: intl_students_ratio, dtype: float64"
      ]
     },
     "execution_count": 49,
     "metadata": {},
     "output_type": "execute_result"
    }
   ],
   "source": [
    "intl_students_ratio_location = times_dataframe_intl_students_ratio.groupby('location')['intl_students_ratio'].mean()\n",
    "intl_students_ratio_location"
   ]
  },
  {
   "cell_type": "code",
   "execution_count": 50,
   "metadata": {},
   "outputs": [
    {
     "data": {
      "text/plain": [
       "<matplotlib.axes._subplots.AxesSubplot at 0x25a21d96d68>"
      ]
     },
     "execution_count": 50,
     "metadata": {},
     "output_type": "execute_result"
    },
    {
     "data": {
      "image/png": "[encoded data removed]",
      "text/plain": [
       "<matplotlib.figure.Figure at 0x25a21da7748>"
      ]
     },
     "metadata": {},
     "output_type": "display_data"
    }
   ],
   "source": [
    "intl_students_ratio_location.sort_values(ascending=False).head(10).plot.bar()"
   ]
  },
  {
   "cell_type": "markdown",
   "metadata": {},
   "source": [
    "Ratio international students by region:"
   ]
  },
  {
   "cell_type": "code",
   "execution_count": 51,
   "metadata": {},
   "outputs": [
    {
     "data": {
      "text/plain": [
       "region\n",
       "Africa           0.180000\n",
       "Asia             0.165238\n",
       "Europe           0.244653\n",
       "North America    0.185588\n",
       "Oceania          0.305556\n",
       "Name: intl_students_ratio, dtype: float64"
      ]
     },
     "execution_count": 51,
     "metadata": {},
     "output_type": "execute_result"
    }
   ],
   "source": [
    "intl_students_ratio_region = times_dataframe_intl_students_ratio.groupby('region')['intl_students_ratio'].mean()\n",
    "intl_students_ratio_region"
   ]
  },
  {
   "cell_type": "code",
   "execution_count": 52,
   "metadata": {},
   "outputs": [
    {
     "data": {
      "text/plain": [
       "<matplotlib.axes._subplots.AxesSubplot at 0x25a21aeb128>"
      ]
     },
     "execution_count": 52,
     "metadata": {},
     "output_type": "execute_result"
    },
    {
     "data": {
      "image/png": "[encoded data removed]",
      "text/plain": [
       "<matplotlib.figure.Figure at 0x25a21ee4cc0>"
      ]
     },
     "metadata": {},
     "output_type": "display_data"
    }
   ],
   "source": [
    "intl_students_ratio_region.sort_values(ascending=False).head().plot.bar()"
   ]
  },
  {
   "cell_type": "markdown",
   "metadata": {},
   "source": [
    "## Joining the two dataframes"
   ]
  },
  {
   "cell_type": "markdown",
   "metadata": {},
   "source": [
    "Now we would like to do a join of the two rankings by university names. So let's try the naive approach:"
   ]
  },
  {
   "cell_type": "code",
   "execution_count": 70,
   "metadata": {},
   "outputs": [
    {
     "data": {
      "text/html": [
       "<div>\n",
       "<style>\n",
       "    .dataframe thead tr:only-child th {\n",
       "        text-align: right;\n",
       "    }\n",
       "\n",
       "    .dataframe thead th {\n",
       "        text-align: left;\n",
       "    }\n",
       "\n",
       "    .dataframe tbody tr th {\n",
       "        vertical-align: top;\n",
       "    }\n",
       "</style>\n",
       "<table border=\"1\" class=\"dataframe\">\n",
       "  <thead>\n",
       "    <tr style=\"text-align: right;\">\n",
       "      <th></th>\n",
       "      <th>location_x</th>\n",
       "      <th>name</th>\n",
       "      <th>rank_x</th>\n",
       "      <th>students_total_x</th>\n",
       "      <th>intl_students_ratio_x</th>\n",
       "      <th>stats_student_staff_ratio</th>\n",
       "      <th>students_international_x</th>\n",
       "      <th>region_x</th>\n",
       "      <th>staff_total_x</th>\n",
       "      <th>staff_international_x</th>\n",
       "      <th>location_y</th>\n",
       "      <th>rank_y</th>\n",
       "      <th>region_y</th>\n",
       "      <th>staff_international_y</th>\n",
       "      <th>staff_total_y</th>\n",
       "      <th>students_international_y</th>\n",
       "      <th>students_total_y</th>\n",
       "      <th>staff_students_ratio</th>\n",
       "      <th>intl_students_ratio_y</th>\n",
       "    </tr>\n",
       "  </thead>\n",
       "  <tbody>\n",
       "    <tr>\n",
       "      <th>0</th>\n",
       "      <td>United Kingdom</td>\n",
       "      <td>University of Oxford</td>\n",
       "      <td>1</td>\n",
       "      <td>20409</td>\n",
       "      <td>0.38</td>\n",
       "      <td>11.2</td>\n",
       "      <td>7755</td>\n",
       "      <td>Europe</td>\n",
       "      <td>1822</td>\n",
       "      <td>692</td>\n",
       "      <td>United Kingdom</td>\n",
       "      <td>6</td>\n",
       "      <td>Europe</td>\n",
       "      <td>2964.0</td>\n",
       "      <td>6750.0</td>\n",
       "      <td>7353.0</td>\n",
       "      <td>19720.0</td>\n",
       "      <td>0.342292</td>\n",
       "      <td>0.372870</td>\n",
       "    </tr>\n",
       "    <tr>\n",
       "      <th>1</th>\n",
       "      <td>United Kingdom</td>\n",
       "      <td>University of Cambridge</td>\n",
       "      <td>2</td>\n",
       "      <td>18389</td>\n",
       "      <td>0.35</td>\n",
       "      <td>10.9</td>\n",
       "      <td>6436</td>\n",
       "      <td>Europe</td>\n",
       "      <td>1687</td>\n",
       "      <td>590</td>\n",
       "      <td>United Kingdom</td>\n",
       "      <td>5</td>\n",
       "      <td>Europe</td>\n",
       "      <td>2278.0</td>\n",
       "      <td>5490.0</td>\n",
       "      <td>6699.0</td>\n",
       "      <td>18770.0</td>\n",
       "      <td>0.292488</td>\n",
       "      <td>0.356899</td>\n",
       "    </tr>\n",
       "    <tr>\n",
       "      <th>2</th>\n",
       "      <td>United States</td>\n",
       "      <td>Stanford University</td>\n",
       "      <td>3</td>\n",
       "      <td>15845</td>\n",
       "      <td>0.22</td>\n",
       "      <td>7.5</td>\n",
       "      <td>3485</td>\n",
       "      <td>North America</td>\n",
       "      <td>2112</td>\n",
       "      <td>464</td>\n",
       "      <td>United States</td>\n",
       "      <td>2</td>\n",
       "      <td>North America</td>\n",
       "      <td>2042.0</td>\n",
       "      <td>4285.0</td>\n",
       "      <td>3611.0</td>\n",
       "      <td>15878.0</td>\n",
       "      <td>0.269870</td>\n",
       "      <td>0.227422</td>\n",
       "    </tr>\n",
       "    <tr>\n",
       "      <th>3</th>\n",
       "      <td>United States</td>\n",
       "      <td>Harvard University</td>\n",
       "      <td>6</td>\n",
       "      <td>20326</td>\n",
       "      <td>0.26</td>\n",
       "      <td>8.9</td>\n",
       "      <td>5284</td>\n",
       "      <td>North America</td>\n",
       "      <td>2283</td>\n",
       "      <td>593</td>\n",
       "      <td>United States</td>\n",
       "      <td>3</td>\n",
       "      <td>North America</td>\n",
       "      <td>1311.0</td>\n",
       "      <td>4350.0</td>\n",
       "      <td>5266.0</td>\n",
       "      <td>22429.0</td>\n",
       "      <td>0.193945</td>\n",
       "      <td>0.234785</td>\n",
       "    </tr>\n",
       "    <tr>\n",
       "      <th>4</th>\n",
       "      <td>United States</td>\n",
       "      <td>Princeton University</td>\n",
       "      <td>7</td>\n",
       "      <td>7955</td>\n",
       "      <td>0.24</td>\n",
       "      <td>8.3</td>\n",
       "      <td>1909</td>\n",
       "      <td>North America</td>\n",
       "      <td>958</td>\n",
       "      <td>229</td>\n",
       "      <td>United States</td>\n",
       "      <td>13</td>\n",
       "      <td>North America</td>\n",
       "      <td>246.0</td>\n",
       "      <td>1007.0</td>\n",
       "      <td>1793.0</td>\n",
       "      <td>8069.0</td>\n",
       "      <td>0.124799</td>\n",
       "      <td>0.222208</td>\n",
       "    </tr>\n",
       "  </tbody>\n",
       "</table>\n",
       "</div>"
      ],
      "text/plain": [
       "       location_x                     name  rank_x  students_total_x  \\\n",
       "0  United Kingdom     University of Oxford       1             20409   \n",
       "1  United Kingdom  University of Cambridge       2             18389   \n",
       "2   United States      Stanford University       3             15845   \n",
       "3   United States       Harvard University       6             20326   \n",
       "4   United States     Princeton University       7              7955   \n",
       "\n",
       "   intl_students_ratio_x  stats_student_staff_ratio  students_international_x  \\\n",
       "0                   0.38                       11.2                      7755   \n",
       "1                   0.35                       10.9                      6436   \n",
       "2                   0.22                        7.5                      3485   \n",
       "3                   0.26                        8.9                      5284   \n",
       "4                   0.24                        8.3                      1909   \n",
       "\n",
       "        region_x  staff_total_x  staff_international_x      location_y  \\\n",
       "0         Europe           1822                    692  United Kingdom   \n",
       "1         Europe           1687                    590  United Kingdom   \n",
       "2  North America           2112                    464   United States   \n",
       "3  North America           2283                    593   United States   \n",
       "4  North America            958                    229   United States   \n",
       "\n",
       "   rank_y       region_y  staff_international_y  staff_total_y  \\\n",
       "0       6         Europe                 2964.0         6750.0   \n",
       "1       5         Europe                 2278.0         5490.0   \n",
       "2       2  North America                 2042.0         4285.0   \n",
       "3       3  North America                 1311.0         4350.0   \n",
       "4      13  North America                  246.0         1007.0   \n",
       "\n",
       "   students_international_y  students_total_y  staff_students_ratio  \\\n",
       "0                    7353.0           19720.0              0.342292   \n",
       "1                    6699.0           18770.0              0.292488   \n",
       "2                    3611.0           15878.0              0.269870   \n",
       "3                    5266.0           22429.0              0.193945   \n",
       "4                    1793.0            8069.0              0.124799   \n",
       "\n",
       "   intl_students_ratio_y  \n",
       "0               0.372870  \n",
       "1               0.356899  \n",
       "2               0.227422  \n",
       "3               0.234785  \n",
       "4               0.222208  "
      ]
     },
     "execution_count": 70,
     "metadata": {},
     "output_type": "execute_result"
    }
   ],
   "source": [
    "times_dataframe.merge(qs_dataframe, on=\"name\").head(5)"
   ]
  },
  {
   "cell_type": "markdown",
   "metadata": {},
   "source": [
    "There are only 104 of them but there is a problem here. Some universities might not have the same name in both dataframes. Take for example MIT. In the QS ranking it is \"Massachusetts Institute of Technology (MIT)\" but in the Times ranking it is \"Massachusetts Institute of Technology\". So they do not match in the above frame. Thus we need a way to measure strings similarity between the names of the universities."
   ]
  },
  {
   "cell_type": "code",
   "execution_count": 54,
   "metadata": {},
   "outputs": [
    {
     "name": "stdout",
     "output_type": "stream",
     "text": [
      "Closest matches to Massachusetts Institute of Technology (MIT)  are ['Massachusetts Institute of Technology', 'Karlsruhe Institute of Technology', 'Georgia Institute of Technology']\n"
     ]
    }
   ],
   "source": [
    "from difflib import get_close_matches\n",
    "list_qs_names = qs_dataframe[\"name\"].tolist()\n",
    "list_times_names = times_dataframe[\"name\"].tolist()\n",
    "\n",
    "# print the matchings for inspection\n",
    "# you can print the whole list\n",
    "#for name in list_qs_names:\n",
    "#    closest_matches = get_close_matches(name, list_times_names)\n",
    "#    print(\"Closest matches to {} are {}\".format(name, closest_matches))\n",
    "\n",
    "# for this notebook we just show one sample\n",
    "name = list_qs_names[0]\n",
    "closest_matches = get_close_matches(name, list_times_names)\n",
    "print(\"Closest matches to {} are {}\".format(name, closest_matches))\n"
   ]
  },
  {
   "cell_type": "markdown",
   "metadata": {},
   "source": [
    "So here we have a list of closest matches from the Times ranking to the names in the QS ranking. However, there are some names for which none of the given matches correspond to the name (simply because the university is not present in both rankings). Let's take a look at the score for the highest match in each case:"
   ]
  },
  {
   "cell_type": "code",
   "execution_count": 55,
   "metadata": {},
   "outputs": [
    {
     "name": "stdout",
     "output_type": "stream",
     "text": [
      "Closest matches to Massachusetts Institute of Technology (MIT)  are ['Massachusetts Institute of Technology', 'Karlsruhe Institute of Technology', 'Georgia Institute of Technology']\n",
      "Score of best match is 0.9135802469135802\n",
      "Closest matches to Stanford University are ['Stanford University', 'Lund University', 'Harvard University']\n",
      "Score of best match is 1.0\n",
      "Closest matches to Harvard University are ['Harvard University', 'Cardiff University', 'Stanford University']\n",
      "Score of best match is 1.0\n",
      "Closest matches to California Institute of Technology (Caltech) are ['California Institute of Technology', 'Georgia Institute of Technology', 'Karlsruhe Institute of Technology']\n",
      "Score of best match is 0.8717948717948718\n",
      "Closest matches to University of Cambridge are ['University of Cambridge', 'University of Miami', 'University of Tübingen']\n",
      "Score of best match is 1.0\n"
     ]
    }
   ],
   "source": [
    "from difflib import get_close_matches, SequenceMatcher\n",
    "list_qs_names = qs_dataframe[\"name\"].tolist()\n",
    "list_times_names = times_dataframe[\"name\"].tolist()\n",
    "\n",
    "count = 5\n",
    "for name in list_qs_names:\n",
    "    closest_matches = get_close_matches(name, list_times_names)\n",
    "    print(\"Closest matches to {} are {}\".format(name, closest_matches))\n",
    "    if(len(closest_matches) > 0):\n",
    "        best_match = closest_matches[0]\n",
    "        score = SequenceMatcher(None, name, best_match).ratio()\n",
    "        print(\"Score of best match is {}\".format(score))\n",
    "        \n",
    "    count -= 1\n",
    "    if count == 0:\n",
    "        break"
   ]
  },
  {
   "cell_type": "markdown",
   "metadata": {},
   "source": [
    "So here we have to go through the list (there are 200 elements) and to estimate ourselves which is the right \"threshold\" where we want to keep the matching. Here we will say 0.86. When the score is below that we don't really know whether the two universities are the same or not. For example, there are many universities called \"University of California\" but sometimes the name is \"University of California, San Diego\", \"University of California, Los Angeles\", etc. In all those cases we have a matching score below 0.86 so let's construct the \"matching dictionary\":"
   ]
  },
  {
   "cell_type": "code",
   "execution_count": 56,
   "metadata": {
    "collapsed": true
   },
   "outputs": [],
   "source": [
    "from difflib import get_close_matches, SequenceMatcher\n",
    "list_qs_names = qs_dataframe[\"name\"].tolist()\n",
    "list_times_names = times_dataframe[\"name\"].tolist()\n",
    "\n",
    "matching_dict = {}\n",
    "for name in list_qs_names:\n",
    "    closest_matches = get_close_matches(name, list_times_names)\n",
    "    if(len(closest_matches) > 0):\n",
    "        best_match = closest_matches[0]\n",
    "        score = SequenceMatcher(None, name, best_match).ratio()\n",
    "        if score > 0.86:\n",
    "            matching_dict[name] = best_match"
   ]
  },
  {
   "cell_type": "code",
   "execution_count": 57,
   "metadata": {},
   "outputs": [
    {
     "name": "stdout",
     "output_type": "stream",
     "text": [
      "University of Glasgow  matches,  University of Glasgow\n",
      "University of Liverpool  matches,  University of Liverpool\n",
      "The University of Hong Kong  matches,  University of Hong Kong\n",
      "Princeton University  matches,  Princeton University\n",
      "Nanyang Technological University, Singapore (NTU)  matches,  Nanyang Technological University, Singapore\n"
     ]
    }
   ],
   "source": [
    "count = 5\n",
    "for key, value in matching_dict.items():\n",
    "    print(key, \" matches, \", value)\n",
    "    \n",
    "    count -= 1\n",
    "    if count == 0:\n",
    "        break"
   ]
  },
  {
   "cell_type": "markdown",
   "metadata": {},
   "source": [
    "Now there is just the \"University of York\" matching to \"University of Tokyo\" which is problematic so we will remove it:"
   ]
  },
  {
   "cell_type": "code",
   "execution_count": 58,
   "metadata": {
    "collapsed": true
   },
   "outputs": [],
   "source": [
    "del matching_dict[\"University of York\"]"
   ]
  },
  {
   "cell_type": "markdown",
   "metadata": {},
   "source": [
    "Also, there is one other university which is problematic. The 'City University of Hong Kong' is actually not the same as the 'University of Hong Kong' (Check QS ranking on ranks 26 and 49) so we will remove it too:"
   ]
  },
  {
   "cell_type": "code",
   "execution_count": 59,
   "metadata": {
    "collapsed": true
   },
   "outputs": [],
   "source": [
    "del matching_dict[\"City University of Hong Kong\"]"
   ]
  },
  {
   "cell_type": "code",
   "execution_count": 60,
   "metadata": {},
   "outputs": [
    {
     "name": "stdout",
     "output_type": "stream",
     "text": [
      "There are 147 joint universities with our strategy.\n"
     ]
    }
   ],
   "source": [
    "print(\"There are {} joint universities with our strategy.\".format(len(matching_dict)))"
   ]
  },
  {
   "cell_type": "code",
   "execution_count": 61,
   "metadata": {},
   "outputs": [
    {
     "data": {
      "text/html": [
       "<div>\n",
       "<style>\n",
       "    .dataframe thead tr:only-child th {\n",
       "        text-align: right;\n",
       "    }\n",
       "\n",
       "    .dataframe thead th {\n",
       "        text-align: left;\n",
       "    }\n",
       "\n",
       "    .dataframe tbody tr th {\n",
       "        vertical-align: top;\n",
       "    }\n",
       "</style>\n",
       "<table border=\"1\" class=\"dataframe\">\n",
       "  <thead>\n",
       "    <tr style=\"text-align: right;\">\n",
       "      <th></th>\n",
       "      <th>location_times</th>\n",
       "      <th>name</th>\n",
       "      <th>rank_times</th>\n",
       "      <th>students_total_times</th>\n",
       "      <th>intl_students_ratio_times</th>\n",
       "      <th>stats_student_staff_ratio</th>\n",
       "      <th>students_international_times</th>\n",
       "      <th>region_times</th>\n",
       "      <th>staff_total_times</th>\n",
       "      <th>staff_international_times</th>\n",
       "      <th>location_qs</th>\n",
       "      <th>rank_qs</th>\n",
       "      <th>region_qs</th>\n",
       "      <th>staff_international_qs</th>\n",
       "      <th>staff_total_qs</th>\n",
       "      <th>students_international_qs</th>\n",
       "      <th>students_total_qs</th>\n",
       "      <th>staff_students_ratio</th>\n",
       "      <th>intl_students_ratio_qs</th>\n",
       "    </tr>\n",
       "  </thead>\n",
       "  <tbody>\n",
       "    <tr>\n",
       "      <th>0</th>\n",
       "      <td>United Kingdom</td>\n",
       "      <td>University of Oxford</td>\n",
       "      <td>1</td>\n",
       "      <td>20409</td>\n",
       "      <td>0.38</td>\n",
       "      <td>11.2</td>\n",
       "      <td>7755</td>\n",
       "      <td>Europe</td>\n",
       "      <td>1822</td>\n",
       "      <td>692</td>\n",
       "      <td>United Kingdom</td>\n",
       "      <td>6</td>\n",
       "      <td>Europe</td>\n",
       "      <td>2964.0</td>\n",
       "      <td>6750.0</td>\n",
       "      <td>7353.0</td>\n",
       "      <td>19720.0</td>\n",
       "      <td>0.342292</td>\n",
       "      <td>0.372870</td>\n",
       "    </tr>\n",
       "    <tr>\n",
       "      <th>1</th>\n",
       "      <td>United Kingdom</td>\n",
       "      <td>University of Cambridge</td>\n",
       "      <td>2</td>\n",
       "      <td>18389</td>\n",
       "      <td>0.35</td>\n",
       "      <td>10.9</td>\n",
       "      <td>6436</td>\n",
       "      <td>Europe</td>\n",
       "      <td>1687</td>\n",
       "      <td>590</td>\n",
       "      <td>United Kingdom</td>\n",
       "      <td>5</td>\n",
       "      <td>Europe</td>\n",
       "      <td>2278.0</td>\n",
       "      <td>5490.0</td>\n",
       "      <td>6699.0</td>\n",
       "      <td>18770.0</td>\n",
       "      <td>0.292488</td>\n",
       "      <td>0.356899</td>\n",
       "    </tr>\n",
       "    <tr>\n",
       "      <th>2</th>\n",
       "      <td>United States</td>\n",
       "      <td>California Institute of Technology</td>\n",
       "      <td>3</td>\n",
       "      <td>2209</td>\n",
       "      <td>0.27</td>\n",
       "      <td>6.5</td>\n",
       "      <td>596</td>\n",
       "      <td>North America</td>\n",
       "      <td>339</td>\n",
       "      <td>91</td>\n",
       "      <td>United States</td>\n",
       "      <td>4</td>\n",
       "      <td>North America</td>\n",
       "      <td>350.0</td>\n",
       "      <td>953.0</td>\n",
       "      <td>647.0</td>\n",
       "      <td>2255.0</td>\n",
       "      <td>0.422616</td>\n",
       "      <td>0.286918</td>\n",
       "    </tr>\n",
       "    <tr>\n",
       "      <th>3</th>\n",
       "      <td>United States</td>\n",
       "      <td>Stanford University</td>\n",
       "      <td>3</td>\n",
       "      <td>15845</td>\n",
       "      <td>0.22</td>\n",
       "      <td>7.5</td>\n",
       "      <td>3485</td>\n",
       "      <td>North America</td>\n",
       "      <td>2112</td>\n",
       "      <td>464</td>\n",
       "      <td>United States</td>\n",
       "      <td>2</td>\n",
       "      <td>North America</td>\n",
       "      <td>2042.0</td>\n",
       "      <td>4285.0</td>\n",
       "      <td>3611.0</td>\n",
       "      <td>15878.0</td>\n",
       "      <td>0.269870</td>\n",
       "      <td>0.227422</td>\n",
       "    </tr>\n",
       "    <tr>\n",
       "      <th>4</th>\n",
       "      <td>United States</td>\n",
       "      <td>Massachusetts Institute of Technology</td>\n",
       "      <td>5</td>\n",
       "      <td>11177</td>\n",
       "      <td>0.34</td>\n",
       "      <td>8.7</td>\n",
       "      <td>3800</td>\n",
       "      <td>North America</td>\n",
       "      <td>1284</td>\n",
       "      <td>436</td>\n",
       "      <td>United States</td>\n",
       "      <td>1</td>\n",
       "      <td>North America</td>\n",
       "      <td>1679.0</td>\n",
       "      <td>2982.0</td>\n",
       "      <td>3717.0</td>\n",
       "      <td>11067.0</td>\n",
       "      <td>0.269450</td>\n",
       "      <td>0.335863</td>\n",
       "    </tr>\n",
       "  </tbody>\n",
       "</table>\n",
       "</div>"
      ],
      "text/plain": [
       "   location_times                                   name  rank_times  \\\n",
       "0  United Kingdom                   University of Oxford           1   \n",
       "1  United Kingdom                University of Cambridge           2   \n",
       "2   United States     California Institute of Technology           3   \n",
       "3   United States                    Stanford University           3   \n",
       "4   United States  Massachusetts Institute of Technology           5   \n",
       "\n",
       "   students_total_times  intl_students_ratio_times  stats_student_staff_ratio  \\\n",
       "0                 20409                       0.38                       11.2   \n",
       "1                 18389                       0.35                       10.9   \n",
       "2                  2209                       0.27                        6.5   \n",
       "3                 15845                       0.22                        7.5   \n",
       "4                 11177                       0.34                        8.7   \n",
       "\n",
       "   students_international_times   region_times  staff_total_times  \\\n",
       "0                          7755         Europe               1822   \n",
       "1                          6436         Europe               1687   \n",
       "2                           596  North America                339   \n",
       "3                          3485  North America               2112   \n",
       "4                          3800  North America               1284   \n",
       "\n",
       "   staff_international_times     location_qs  rank_qs      region_qs  \\\n",
       "0                        692  United Kingdom        6         Europe   \n",
       "1                        590  United Kingdom        5         Europe   \n",
       "2                         91   United States        4  North America   \n",
       "3                        464   United States        2  North America   \n",
       "4                        436   United States        1  North America   \n",
       "\n",
       "   staff_international_qs  staff_total_qs  students_international_qs  \\\n",
       "0                  2964.0          6750.0                     7353.0   \n",
       "1                  2278.0          5490.0                     6699.0   \n",
       "2                   350.0           953.0                      647.0   \n",
       "3                  2042.0          4285.0                     3611.0   \n",
       "4                  1679.0          2982.0                     3717.0   \n",
       "\n",
       "   students_total_qs  staff_students_ratio  intl_students_ratio_qs  \n",
       "0            19720.0              0.342292                0.372870  \n",
       "1            18770.0              0.292488                0.356899  \n",
       "2             2255.0              0.422616                0.286918  \n",
       "3            15878.0              0.269870                0.227422  \n",
       "4            11067.0              0.269450                0.335863  "
      ]
     },
     "execution_count": 61,
     "metadata": {},
     "output_type": "execute_result"
    }
   ],
   "source": [
    "qs_dataframe_rename = qs_dataframe.replace(to_replace={\"name\": dict((k, v) for k, v in matching_dict.items() if k != v)})\n",
    "joint_ranking = times_dataframe.merge(qs_dataframe_rename, on=\"name\", suffixes=(\"_times\",\"_qs\"))\n",
    "joint_ranking.head(5)"
   ]
  },
  {
   "cell_type": "markdown",
   "metadata": {},
   "source": [
    "## Exploratory data analysis:\n",
    "Here we want to see what information we can get by computing multiple correlations between the columns of our joint frame. First, let's see what we get if we try to compute the rank correlation:"
   ]
  },
  {
   "cell_type": "code",
   "execution_count": 62,
   "metadata": {},
   "outputs": [
    {
     "name": "stdout",
     "output_type": "stream",
     "text": [
      "The correlation between the two rankings is 0.6926775371685369\n"
     ]
    }
   ],
   "source": [
    "print(\"The correlation between the two rankings is {}\".format(joint_ranking[\"rank_times\"].corr(joint_ranking[\"rank_qs\"])))"
   ]
  },
  {
   "cell_type": "markdown",
   "metadata": {},
   "source": [
    "So it is almost 0.7. This number can be interpreted in multiple ways. We can say that it is far from 0, the two rankings have a lot of universities in common and the rankings \"look alike\" in a way. However, it is also far from 0.9 so we can conclude that the methods used for computing a university's rank are quite different. \n",
    "\n",
    "Now let's do the same comparison for the other columns:"
   ]
  },
  {
   "cell_type": "code",
   "execution_count": 63,
   "metadata": {},
   "outputs": [
    {
     "name": "stdout",
     "output_type": "stream",
     "text": [
      "Populating the interactive namespace from numpy and matplotlib\n"
     ]
    },
    {
     "name": "stderr",
     "output_type": "stream",
     "text": [
      "C:\\Users\\lhk\\Anaconda3\\lib\\site-packages\\IPython\\core\\magics\\pylab.py:160: UserWarning: pylab import has clobbered these variables: ['number']\n",
      "`%matplotlib` prevents importing * from pylab and numpy\n",
      "  \"\\n`%matplotlib` prevents importing * from pylab and numpy\"\n"
     ]
    },
    {
     "data": {
      "image/png": "[encoded data removed]",
      "text/plain": [
       "<matplotlib.figure.Figure at 0x25a21a5ae80>"
      ]
     },
     "metadata": {},
     "output_type": "display_data"
    }
   ],
   "source": [
    "%pylab inline\n",
    "pylab.rcParams['figure.figsize'] = (15, 6)\n",
    "\n",
    "import matplotlib.pyplot as plt\n",
    "import seaborn as sns\n",
    "\n",
    "corr_columns_names = [\"rank\", \"students_total\", \"staff_total\", \"students_international\", \"staff_international\"]\n",
    "corr_columns = [(name + \"_qs\", name + \"_times\") for name in corr_columns_names]\n",
    "#corr_columns = [(\"rank_x\", \"rank_y\"), (\"students_total_x\", \"students_total_y\"), (\"staff_total_x\", \"staff_total_y\"),\n",
    "#               (\"students_international_x\", \"students_international_y\"), (\"staff_international_x\", \"staff_international_y\")]\n",
    "col_names = []\n",
    "corrs = []\n",
    "for col1, col2 in corr_columns:\n",
    "    corr = joint_ranking[col1].corr(joint_ranking[col2])\n",
    "    if col1.startswith(\"rank\"):\n",
    "        col_name = \"rank\"\n",
    "    else:\n",
    "        col_name = col1.split(\"_\")[0] + \" \" + col1.split(\"_\")[1]\n",
    "    \n",
    "    col_names.append(col_name)\n",
    "    corrs.append(corr)\n",
    "\n",
    "fig, ax = plt.subplots(1, 1)\n",
    "sns.barplot(x=col_names, y=corrs, ax=ax)\n",
    "ax.set(xlabel=\"Column name\", ylabel=\"Correlation\")\n",
    "plt.show()"
   ]
  },
  {
   "cell_type": "code",
   "execution_count": 64,
   "metadata": {},
   "outputs": [
    {
     "data": {
      "text/plain": [
       "<matplotlib.axes._subplots.AxesSubplot at 0x25a21f73400>"
      ]
     },
     "execution_count": 64,
     "metadata": {},
     "output_type": "execute_result"
    },
    {
     "data": {
      "image/png": "[encoded data removed]",
      "text/plain": [
       "<matplotlib.figure.Figure at 0x25a21dfb710>"
      ]
     },
     "metadata": {},
     "output_type": "display_data"
    }
   ],
   "source": [
    "plt.figure(figsize=(10,10))\n",
    "sns.heatmap(joint_ranking.corr())"
   ]
  },
  {
   "cell_type": "markdown",
   "metadata": {},
   "source": [
    "Here we see that the correlations for the number of students are almost 1 (especially the total number of students). The correlation for the international number of students is a little above 0.9 so we can conclude that the method of determining which student is \"international\" can be different in both cases sometimes even if, overall, it is approximately the same thing since it is almost 1.\n",
    "\n",
    "However, the correlation numbers are quite low for the staff columns and especially for the international staff column. We see that for the total number of staff members it is a little above 0.75 so we can conclude that the two rankings did not choose that someone belongs to the staff category by the same criteria. Even worse, the international staff correlation is just a little above 0.55. We recall that this information was not present for the Times ranking so we created it using the ratio of international students and \"hoping\" it would give some precise results. Here we see it is not the case.\n",
    "\n",
    "Now let's compare the rank in a ranking with all the other stats about students and staff numbers:"
   ]
  },
  {
   "cell_type": "code",
   "execution_count": 65,
   "metadata": {},
   "outputs": [],
   "source": [
    "joint_ranking[\"staff_students_ratio_times\"] = joint_ranking[\"stats_student_staff_ratio\"].map(lambda number: 1 / number)\n",
    "joint_ranking[\"staff_students_ratio_qs\"] = joint_ranking[\"staff_total_qs\"] / joint_ranking[\"students_total_qs\"]\n",
    "joint_ranking[\"intl_staff_ratio_times\"] = joint_ranking[\"staff_international_times\"] / joint_ranking[\"staff_total_times\"]\n",
    "joint_ranking[\"intl_staff_ratio_qs\"] = joint_ranking[\"staff_international_qs\"] / joint_ranking[\"staff_total_qs\"]\n",
    "joint_ranking = joint_ranking[[\"name\", \"region_times\", \"location_times\", \"rank_times\", \"students_total_times\", \"students_international_times\", \"staff_total_times\", \"staff_international_times\", \"staff_students_ratio_times\", \"intl_students_ratio_times\", \"intl_staff_ratio_times\",\n",
    "                                       \"region_qs\", \"location_qs\", \"rank_qs\", \"students_total_qs\", \"students_international_qs\", \"staff_total_qs\", \"staff_international_qs\", \"staff_students_ratio_qs\", \"intl_students_ratio_qs\", \"intl_staff_ratio_qs\"]]\n",
    "joint_ranking[\"rank_times\"] = pd.to_numeric(joint_ranking[\"rank_times\"])\n",
    "joint_ranking[\"rank_qs\"] = pd.to_numeric(joint_ranking[\"rank_qs\"])"
   ]
  },
  {
   "cell_type": "markdown",
   "metadata": {},
   "source": [
    "Times ranking:"
   ]
  },
  {
   "cell_type": "code",
   "execution_count": 66,
   "metadata": {},
   "outputs": [
    {
     "name": "stdout",
     "output_type": "stream",
     "text": [
      "Populating the interactive namespace from numpy and matplotlib\n",
      "students_total_times : -0.16055101632458857\n",
      "students_international_times : -0.3010494996991297\n",
      "staff_total_times : -0.25163196292451223\n",
      "staff_international_times : -0.3943962014424919\n",
      "staff_students_ratio_times : -0.1426287473684651\n",
      "intl_students_ratio_times : -0.2061463777045013\n",
      "intl_staff_ratio_times : -0.20742184499670646\n"
     ]
    },
    {
     "data": {
      "image/png": "[encoded data removed]",
      "text/plain": [
       "<matplotlib.figure.Figure at 0x25a23c3cb38>"
      ]
     },
     "metadata": {},
     "output_type": "display_data"
    }
   ],
   "source": [
    "%pylab inline\n",
    "pylab.rcParams['figure.figsize'] = (15, 6)\n",
    "\n",
    "corr_cols = [\"students_total_times\", \"students_international_times\", \"staff_total_times\", \"staff_international_times\", \"staff_students_ratio_times\", \"intl_students_ratio_times\", \"intl_staff_ratio_times\"]\n",
    "corrs_qs_rank = []\n",
    "for col in corr_cols:\n",
    "    corr = joint_ranking[\"rank_times\"].corr(joint_ranking[col])\n",
    "    print(\"{} : {}\".format(col, corr))\n",
    "    corrs_qs_rank.append(corr)\n",
    "\n",
    "fig, ax = plt.subplots(1, 1)\n",
    "sns.barplot(x = corr_cols, y = corrs_qs_rank, ax=ax)\n",
    "ax.set(xlabel=\"Column\", ylabel=\"Correlation\")\n",
    "plt.show()"
   ]
  },
  {
   "cell_type": "markdown",
   "metadata": {},
   "source": [
    "QS Ranking:"
   ]
  },
  {
   "cell_type": "code",
   "execution_count": 67,
   "metadata": {},
   "outputs": [
    {
     "name": "stdout",
     "output_type": "stream",
     "text": [
      "Populating the interactive namespace from numpy and matplotlib\n",
      "students_total_qs : -0.04324109113777754\n",
      "students_international_qs : -0.25797834629866184\n",
      "staff_total_qs : -0.38301031588398343\n",
      "staff_international_qs : -0.5072337235517727\n",
      "staff_students_ratio_qs : -0.4300870294119145\n",
      "intl_students_ratio_qs : -0.29842916438079525\n",
      "intl_staff_ratio_qs : -0.29120815630072755\n"
     ]
    },
    {
     "data": {
      "image/png": "[encoded data removed]",
      "text/plain": [
       "<matplotlib.figure.Figure at 0x25a23c97860>"
      ]
     },
     "metadata": {},
     "output_type": "display_data"
    }
   ],
   "source": [
    "%pylab inline\n",
    "pylab.rcParams['figure.figsize'] = (15, 6)\n",
    "\n",
    "corr_cols = [\"students_total_qs\", \"students_international_qs\", \"staff_total_qs\", \"staff_international_qs\", \"staff_students_ratio_qs\", \"intl_students_ratio_qs\", \"intl_staff_ratio_qs\"]\n",
    "corrs_qs_rank = []\n",
    "for col in corr_cols:\n",
    "    corr = joint_ranking[\"rank_qs\"].corr(joint_ranking[col])\n",
    "    print(\"{} : {}\".format(col, corr))\n",
    "    corrs_qs_rank.append(corr)\n",
    "\n",
    "fig, ax = plt.subplots(1, 1)\n",
    "sns.barplot(x = corr_cols, y = corrs_qs_rank, ax=ax)\n",
    "ax.set(xlabel=\"Column\", ylabel=\"Correlation\")\n",
    "plt.show()"
   ]
  },
  {
   "cell_type": "markdown",
   "metadata": {},
   "source": [
    "### Discussion\n",
    "Here we see that all those correlations are negative for both rankings. The reason is simply because the ranking is in ascending order. The total number of students has a quite weak correlation with the ranking (even if there is some, we can say that the number of students is not an indicator of the ranking). However, the ratio of international students and staff members both show a stronger correlation than the number of students. This could mean that universities which are better in ranking attract more people from other countries. Now, the total number of staff members also shows a stronger correlation, which indicates that universities which are better in ranking have more people (probably more money also). Similar conclusions can be drawn for international staff members."
   ]
  },
  {
   "cell_type": "code",
   "execution_count": 68,
   "metadata": {},
   "outputs": [
    {
     "data": {
      "text/plain": [
       "0.978373688007668"
      ]
     },
     "execution_count": 68,
     "metadata": {},
     "output_type": "execute_result"
    }
   ],
   "source": [
    "joint_ranking.students_total_times.corr(joint_ranking.students_total_qs)"
   ]
  },
  {
   "cell_type": "markdown",
   "metadata": {},
   "source": [
    "# Question 5\n",
    "The idea for finding the best university is, if put in one word: consistency. The idea is the following: a university is good if it's good in both rankings.\n",
    "\n",
    "For example, if university A is first in QS but last in Times, and university B is second in both rankings, clearly we would choose university B as a better one !\n",
    "\n",
    "The method we chose to measure consistency is simply the mean of the rankings. A lower mean means that the ranking is low in both rankings."
   ]
  },
  {
   "cell_type": "code",
   "execution_count": 69,
   "metadata": {},
   "outputs": [
    {
     "data": {
      "text/html": [
       "<div>\n",
       "<style>\n",
       "    .dataframe thead tr:only-child th {\n",
       "        text-align: right;\n",
       "    }\n",
       "\n",
       "    .dataframe thead th {\n",
       "        text-align: left;\n",
       "    }\n",
       "\n",
       "    .dataframe tbody tr th {\n",
       "        vertical-align: top;\n",
       "    }\n",
       "</style>\n",
       "<table border=\"1\" class=\"dataframe\">\n",
       "  <thead>\n",
       "    <tr style=\"text-align: right;\">\n",
       "      <th></th>\n",
       "      <th>name</th>\n",
       "      <th>region_times</th>\n",
       "      <th>location_times</th>\n",
       "      <th>rank_times</th>\n",
       "      <th>students_total_times</th>\n",
       "      <th>students_international_times</th>\n",
       "      <th>staff_total_times</th>\n",
       "      <th>staff_international_times</th>\n",
       "      <th>staff_students_ratio_times</th>\n",
       "      <th>intl_students_ratio_times</th>\n",
       "      <th>...</th>\n",
       "      <th>location_qs</th>\n",
       "      <th>rank_qs</th>\n",
       "      <th>students_total_qs</th>\n",
       "      <th>students_international_qs</th>\n",
       "      <th>staff_total_qs</th>\n",
       "      <th>staff_international_qs</th>\n",
       "      <th>staff_students_ratio_qs</th>\n",
       "      <th>intl_students_ratio_qs</th>\n",
       "      <th>intl_staff_ratio_qs</th>\n",
       "      <th>rank_mean</th>\n",
       "    </tr>\n",
       "  </thead>\n",
       "  <tbody>\n",
       "    <tr>\n",
       "      <th>3</th>\n",
       "      <td>Stanford University</td>\n",
       "      <td>North America</td>\n",
       "      <td>United States</td>\n",
       "      <td>3</td>\n",
       "      <td>15845</td>\n",
       "      <td>3485</td>\n",
       "      <td>2112</td>\n",
       "      <td>464</td>\n",
       "      <td>0.133333</td>\n",
       "      <td>0.22</td>\n",
       "      <td>...</td>\n",
       "      <td>United States</td>\n",
       "      <td>2</td>\n",
       "      <td>15878.0</td>\n",
       "      <td>3611.0</td>\n",
       "      <td>4285.0</td>\n",
       "      <td>2042.0</td>\n",
       "      <td>0.269870</td>\n",
       "      <td>0.227422</td>\n",
       "      <td>0.476546</td>\n",
       "      <td>2.5</td>\n",
       "    </tr>\n",
       "    <tr>\n",
       "      <th>4</th>\n",
       "      <td>Massachusetts Institute of Technology</td>\n",
       "      <td>North America</td>\n",
       "      <td>United States</td>\n",
       "      <td>5</td>\n",
       "      <td>11177</td>\n",
       "      <td>3800</td>\n",
       "      <td>1284</td>\n",
       "      <td>436</td>\n",
       "      <td>0.114943</td>\n",
       "      <td>0.34</td>\n",
       "      <td>...</td>\n",
       "      <td>United States</td>\n",
       "      <td>1</td>\n",
       "      <td>11067.0</td>\n",
       "      <td>3717.0</td>\n",
       "      <td>2982.0</td>\n",
       "      <td>1679.0</td>\n",
       "      <td>0.269450</td>\n",
       "      <td>0.335863</td>\n",
       "      <td>0.563045</td>\n",
       "      <td>3.0</td>\n",
       "    </tr>\n",
       "    <tr>\n",
       "      <th>0</th>\n",
       "      <td>University of Oxford</td>\n",
       "      <td>Europe</td>\n",
       "      <td>United Kingdom</td>\n",
       "      <td>1</td>\n",
       "      <td>20409</td>\n",
       "      <td>7755</td>\n",
       "      <td>1822</td>\n",
       "      <td>692</td>\n",
       "      <td>0.089286</td>\n",
       "      <td>0.38</td>\n",
       "      <td>...</td>\n",
       "      <td>United Kingdom</td>\n",
       "      <td>6</td>\n",
       "      <td>19720.0</td>\n",
       "      <td>7353.0</td>\n",
       "      <td>6750.0</td>\n",
       "      <td>2964.0</td>\n",
       "      <td>0.342292</td>\n",
       "      <td>0.372870</td>\n",
       "      <td>0.439111</td>\n",
       "      <td>3.5</td>\n",
       "    </tr>\n",
       "    <tr>\n",
       "      <th>1</th>\n",
       "      <td>University of Cambridge</td>\n",
       "      <td>Europe</td>\n",
       "      <td>United Kingdom</td>\n",
       "      <td>2</td>\n",
       "      <td>18389</td>\n",
       "      <td>6436</td>\n",
       "      <td>1687</td>\n",
       "      <td>590</td>\n",
       "      <td>0.091743</td>\n",
       "      <td>0.35</td>\n",
       "      <td>...</td>\n",
       "      <td>United Kingdom</td>\n",
       "      <td>5</td>\n",
       "      <td>18770.0</td>\n",
       "      <td>6699.0</td>\n",
       "      <td>5490.0</td>\n",
       "      <td>2278.0</td>\n",
       "      <td>0.292488</td>\n",
       "      <td>0.356899</td>\n",
       "      <td>0.414936</td>\n",
       "      <td>3.5</td>\n",
       "    </tr>\n",
       "    <tr>\n",
       "      <th>2</th>\n",
       "      <td>California Institute of Technology</td>\n",
       "      <td>North America</td>\n",
       "      <td>United States</td>\n",
       "      <td>3</td>\n",
       "      <td>2209</td>\n",
       "      <td>596</td>\n",
       "      <td>339</td>\n",
       "      <td>91</td>\n",
       "      <td>0.153846</td>\n",
       "      <td>0.27</td>\n",
       "      <td>...</td>\n",
       "      <td>United States</td>\n",
       "      <td>4</td>\n",
       "      <td>2255.0</td>\n",
       "      <td>647.0</td>\n",
       "      <td>953.0</td>\n",
       "      <td>350.0</td>\n",
       "      <td>0.422616</td>\n",
       "      <td>0.286918</td>\n",
       "      <td>0.367261</td>\n",
       "      <td>3.5</td>\n",
       "    </tr>\n",
       "  </tbody>\n",
       "</table>\n",
       "<p>5 rows × 22 columns</p>\n",
       "</div>"
      ],
      "text/plain": [
       "                                    name   region_times  location_times  \\\n",
       "3                    Stanford University  North America   United States   \n",
       "4  Massachusetts Institute of Technology  North America   United States   \n",
       "0                   University of Oxford         Europe  United Kingdom   \n",
       "1                University of Cambridge         Europe  United Kingdom   \n",
       "2     California Institute of Technology  North America   United States   \n",
       "\n",
       "   rank_times  students_total_times  students_international_times  \\\n",
       "3           3                 15845                          3485   \n",
       "4           5                 11177                          3800   \n",
       "0           1                 20409                          7755   \n",
       "1           2                 18389                          6436   \n",
       "2           3                  2209                           596   \n",
       "\n",
       "   staff_total_times  staff_international_times  staff_students_ratio_times  \\\n",
       "3               2112                        464                    0.133333   \n",
       "4               1284                        436                    0.114943   \n",
       "0               1822                        692                    0.089286   \n",
       "1               1687                        590                    0.091743   \n",
       "2                339                         91                    0.153846   \n",
       "\n",
       "   intl_students_ratio_times    ...         location_qs rank_qs  \\\n",
       "3                       0.22    ...       United States       2   \n",
       "4                       0.34    ...       United States       1   \n",
       "0                       0.38    ...      United Kingdom       6   \n",
       "1                       0.35    ...      United Kingdom       5   \n",
       "2                       0.27    ...       United States       4   \n",
       "\n",
       "  students_total_qs  students_international_qs  staff_total_qs  \\\n",
       "3           15878.0                     3611.0          4285.0   \n",
       "4           11067.0                     3717.0          2982.0   \n",
       "0           19720.0                     7353.0          6750.0   \n",
       "1           18770.0                     6699.0          5490.0   \n",
       "2            2255.0                      647.0           953.0   \n",
       "\n",
       "   staff_international_qs  staff_students_ratio_qs  intl_students_ratio_qs  \\\n",
       "3                  2042.0                 0.269870                0.227422   \n",
       "4                  1679.0                 0.269450                0.335863   \n",
       "0                  2964.0                 0.342292                0.372870   \n",
       "1                  2278.0                 0.292488                0.356899   \n",
       "2                   350.0                 0.422616                0.286918   \n",
       "\n",
       "   intl_staff_ratio_qs  rank_mean  \n",
       "3             0.476546        2.5  \n",
       "4             0.563045        3.0  \n",
       "0             0.439111        3.5  \n",
       "1             0.414936        3.5  \n",
       "2             0.367261        3.5  \n",
       "\n",
       "[5 rows x 22 columns]"
      ]
     },
     "execution_count": 69,
     "metadata": {},
     "output_type": "execute_result"
    }
   ],
   "source": [
    "joint_ranking[\"rank_mean\"] = ((joint_ranking[\"rank_qs\"] + joint_ranking[\"rank_times\"]) / 2)\n",
    "joint_ranking.sort_values(\"rank_mean\").head()"
   ]
  },
  {
   "cell_type": "markdown",
   "metadata": {},
   "source": [
    "_Stanford_ is the best university !"
   ]
  },
  {
   "cell_type": "markdown",
   "metadata": {},
   "source": [
    "Note: if we had two universities with the same mean in the first place, a strategy to discriminate them would be to choose the one which has the best \"min ranking\"\n",
    "\n",
    "For example: if university A has rankings 1 and 3, and university B has rankings 2 and 2, we would choose A because it has one lower ranking with value 1"
   ]
  }
 ],
 "metadata": {
  "kernelspec": {
   "display_name": "Python [default]",
   "language": "python",
   "name": "python3"
  },
  "language_info": {
   "codemirror_mode": {
    "name": "ipython",
    "version": 3
   },
   "file_extension": ".py",
   "mimetype": "text/x-python",
   "name": "python",
   "nbconvert_exporter": "python",
   "pygments_lexer": "ipython3",
   "version": "3.5.4"
  }
 },
 "nbformat": 4,
 "nbformat_minor": 2
}
